{
 "cells": [
  {
   "cell_type": "code",
   "execution_count": 4,
   "metadata": {},
   "outputs": [],
   "source": [
    "from datasets import load_dataset\n",
    "from transformers import pipeline\n",
    "import transformers as trf\n",
    "\n",
    "import re  #preprocessing\n",
    "import pandas as pd  #data handling\n",
    "from time import time  #time-to-run\n",
    "from collections import defaultdict  #word frequency\n",
    "\n",
    "import spacy  #preprocessing/tokenization\n",
    "\n",
    "import logging  #gensim logging\n",
    "logging.basicConfig(format=\"%(levelname)s - %(asctime)s: %(message)s\", datefmt= '%H:%M:%S', level=logging.INFO)\n",
    "\n",
    "from tqdm import tqdm\n",
    "\n",
    "import matplotlib.pyplot as plt\n",
    "\n",
    "from sklearn.feature_extraction import text as sktext\n",
    "\n",
    "import scipy as sp\n",
    "import numpy as np\n",
    "\n",
    "import sklearn as sk\n",
    "from sklearn.feature_extraction.text import TfidfVectorizer, CountVectorizer\n",
    "\n",
    "import gensim\n",
    "from gensim.models import Word2Vec, Doc2Vec\n",
    "from joblib import dump, load"
   ]
  },
  {
   "cell_type": "code",
   "execution_count": 2,
   "metadata": {},
   "outputs": [
    {
     "name": "stderr",
     "output_type": "stream",
     "text": [
      "INFO - 15:46:08: loading Doc2Vec object from doc2vec.model\n",
      "INFO - 15:46:08: loading dv recursively from doc2vec.model.dv.* with mmap=None\n",
      "INFO - 15:46:08: loading vectors from doc2vec.model.dv.vectors.npy with mmap=None\n",
      "INFO - 15:46:08: loading wv recursively from doc2vec.model.wv.* with mmap=None\n",
      "INFO - 15:46:08: loading vectors from doc2vec.model.wv.vectors.npy with mmap=None\n",
      "INFO - 15:46:09: loading syn1neg from doc2vec.model.syn1neg.npy with mmap=None\n",
      "INFO - 15:46:09: setting ignored attribute cum_table to None\n",
      "INFO - 15:46:11: Doc2Vec lifecycle event {'fname': 'doc2vec.model', 'datetime': '2023-04-04T15:46:11.733902', 'gensim': '4.3.0', 'python': '3.8.15 | packaged by conda-forge | (default, Nov 22 2022, 08:42:03) [MSC v.1929 64 bit (AMD64)]', 'platform': 'Windows-10-10.0.19044-SP0', 'event': 'loaded'}\n"
     ]
    },
    {
     "name": "stdout",
     "output_type": "stream",
     "text": [
      "CPU times: total: 2.83 s\n",
      "Wall time: 3.28 s\n"
     ]
    }
   ],
   "source": [
    "%%time\n",
    "doc2vec_model = Doc2Vec.load('doc2vec.model')\n",
    "word2vec_model = Doc2Vec.load('word2vec2.model')"
   ]
  },
  {
   "cell_type": "code",
   "execution_count": 3,
   "metadata": {},
   "outputs": [
    {
     "name": "stderr",
     "output_type": "stream",
     "text": [
      "INFO - 15:46:18: loading Doc2Vec object from word2vec2.model\n",
      "INFO - 15:46:19: loading wv recursively from word2vec2.model.wv.* with mmap=None\n",
      "INFO - 15:46:19: loading vectors from word2vec2.model.wv.vectors.npy with mmap=None\n",
      "INFO - 15:46:19: loading syn1neg from word2vec2.model.syn1neg.npy with mmap=None\n",
      "INFO - 15:46:20: setting ignored attribute cum_table to None\n",
      "INFO - 15:46:20: Word2Vec lifecycle event {'fname': 'word2vec2.model', 'datetime': '2023-04-04T15:46:20.955268', 'gensim': '4.3.0', 'python': '3.8.15 | packaged by conda-forge | (default, Nov 22 2022, 08:42:03) [MSC v.1929 64 bit (AMD64)]', 'platform': 'Windows-10-10.0.19044-SP0', 'event': 'loaded'}\n"
     ]
    },
    {
     "name": "stdout",
     "output_type": "stream",
     "text": [
      "CPU times: total: 1.78 s\n",
      "Wall time: 2 s\n"
     ]
    }
   ],
   "source": [
    "%%time\n",
    "word2vec_model = Doc2Vec.load('word2vec2.model')"
   ]
  },
  {
   "cell_type": "code",
   "execution_count": 6,
   "metadata": {},
   "outputs": [],
   "source": [
    "%time\n",
    "\n",
    "bow1 = load('bow1.jbl')\n",
    "bow2 = load('bow2.jbl')\n",
    "tfidf1 = load('tfidf1.jbl')\n",
    "tfidf2 = load('tfidf2.jbl')"
   ]
  },
  {
   "cell_type": "code",
   "execution_count": null,
   "metadata": {},
   "outputs": [],
   "source": []
  }
 ],
 "metadata": {
  "kernelspec": {
   "display_name": "ds",
   "language": "python",
   "name": "python3"
  },
  "language_info": {
   "codemirror_mode": {
    "name": "ipython",
    "version": 3
   },
   "file_extension": ".py",
   "mimetype": "text/x-python",
   "name": "python",
   "nbconvert_exporter": "python",
   "pygments_lexer": "ipython3",
   "version": "3.8.15"
  },
  "orig_nbformat": 4
 },
 "nbformat": 4,
 "nbformat_minor": 2
}
