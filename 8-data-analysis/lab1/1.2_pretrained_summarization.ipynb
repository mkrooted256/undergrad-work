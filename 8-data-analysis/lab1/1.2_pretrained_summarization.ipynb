{
 "cells": [
  {
   "cell_type": "code",
   "execution_count": 2,
   "metadata": {},
   "outputs": [],
   "source": [
    "from datasets import load_dataset\n",
    "from transformers import pipeline\n",
    "import transformers as trf\n",
    "\n",
    "import re  #preprocessing\n",
    "import pandas as pd  #data handling\n",
    "from time import time  #time-to-run\n",
    "from collections import defaultdict  #word frequency\n",
    "\n",
    "import spacy  #preprocessing/tokenization\n",
    "\n",
    "import logging  #gensim logging\n",
    "logging.basicConfig(format=\"%(levelname)s - %(asctime)s: %(message)s\", datefmt= '%H:%M:%S', level=logging.INFO)\n",
    "\n",
    "from tqdm import tqdm\n",
    "\n",
    "import matplotlib.pyplot as plt\n",
    "\n",
    "from sklearn.feature_extraction import text as sktext\n",
    "\n",
    "import scipy as sp\n",
    "import numpy as np\n",
    "\n",
    "import sklearn as sk\n",
    "from sklearn.feature_extraction.text import TfidfVectorizer, CountVectorizer\n",
    "\n",
    "import gensim\n",
    "from gensim.models import Word2Vec, Doc2Vec\n",
    "from joblib import dump, load"
   ]
  },
  {
   "cell_type": "code",
   "execution_count": 3,
   "metadata": {},
   "outputs": [
    {
     "name": "stderr",
     "output_type": "stream",
     "text": [
      "WARNING - 13:27:19: Found cached dataset cnn_dailymail (C:/Users/mkrooted/.cache/huggingface/datasets/cnn_dailymail/3.0.0/3.0.0/1b3c71476f6d152c31c1730e83ccb08bcf23e348233f4fcc11e182248e6bf7de)\n"
     ]
    }
   ],
   "source": [
    "from datasets import load_dataset\n",
    "\n",
    "# dataset = load_dataset(\"cnn_dailymail\", \"3.0.0\", split='train')\n",
    "# dataset = dataset.shard(num_shards=10, index=0)\n",
    "# dataset = dataset.remove_columns(\"id\")\n",
    "test_dataset = load_dataset(\"cnn_dailymail\", \"3.0.0\", split='test')\n",
    "test_dataset = test_dataset.shard(num_shards=10, index=0)\n",
    "test_dataset = test_dataset.remove_columns(\"id\")"
   ]
  },
  {
   "cell_type": "code",
   "execution_count": 4,
   "metadata": {},
   "outputs": [],
   "source": [
    "from transformers import DataCollatorForSeq2Seq, AutoTokenizer, AutoModelForSeq2SeqLM, Seq2SeqTrainingArguments, Seq2SeqTrainer\n",
    "import evaluate\n",
    "\n",
    "rouge = evaluate.load(\"rouge\")"
   ]
  },
  {
   "cell_type": "code",
   "execution_count": 5,
   "metadata": {},
   "outputs": [],
   "source": [
    "MODEL_PATH = \"./t5-small/\""
   ]
  },
  {
   "cell_type": "code",
   "execution_count": 6,
   "metadata": {},
   "outputs": [],
   "source": [
    "tokenizer = AutoTokenizer.from_pretrained(MODEL_PATH)"
   ]
  },
  {
   "cell_type": "code",
   "execution_count": 7,
   "metadata": {},
   "outputs": [],
   "source": [
    "data_collator = DataCollatorForSeq2Seq(tokenizer=tokenizer, model=MODEL_PATH)"
   ]
  },
  {
   "attachments": {},
   "cell_type": "markdown",
   "metadata": {},
   "source": [
    "src: \n",
    "- https://huggingface.co/docs/transformers/tasks/summarization\n",
    "- https://huggingface.co/docs/transformers/v4.27.2/en/main_classes/data_collator"
   ]
  },
  {
   "cell_type": "code",
   "execution_count": 69,
   "metadata": {},
   "outputs": [],
   "source": [
    "prefix = \"summarize: \"\n",
    "\n",
    "def preprocess_function(examples):\n",
    "    inputs = [prefix + doc for doc in examples[\"article\"]]\n",
    "    model_inputs = tokenizer(inputs, max_length=2048, truncation=True)\n",
    "\n",
    "    labels = tokenizer(text_target=examples[\"highlights\"], max_length=256, truncation=True, return_tensors='pt')\n",
    "\n",
    "    model_inputs[\"labels\"] = labels[\"input_ids\"]\n",
    "    return model_inputs"
   ]
  },
  {
   "cell_type": "code",
   "execution_count": 8,
   "metadata": {},
   "outputs": [],
   "source": [
    "def compute_metrics(eval_pred):\n",
    "    predictions, labels = eval_pred\n",
    "    decoded_preds = tokenizer.batch_decode(predictions, skip_special_tokens=True)\n",
    "    labels = np.where(labels != -100, labels, tokenizer.pad_token_id)\n",
    "    decoded_labels = tokenizer.batch_decode(labels, skip_special_tokens=True)\n",
    "\n",
    "    result = rouge.compute(predictions=decoded_preds, references=decoded_labels, use_stemmer=True)\n",
    "\n",
    "    prediction_lens = [np.count_nonzero(pred != tokenizer.pad_token_id) for pred in predictions]\n",
    "    result[\"gen_len\"] = np.mean(prediction_lens)\n",
    "\n",
    "    return {k: round(v, 4) for k, v in result.items()}"
   ]
  },
  {
   "attachments": {},
   "cell_type": "markdown",
   "metadata": {},
   "source": [
    "src:\n",
    "- https://huggingface.co/docs/transformers/training#train-with-pytorch-trainer\n",
    "- https://github.com/huggingface/notebooks/blob/main/examples/summarization.ipynb"
   ]
  },
  {
   "cell_type": "code",
   "execution_count": 10,
   "metadata": {},
   "outputs": [
    {
     "name": "stderr",
     "output_type": "stream",
     "text": [
      "WARNING - 11:31:00: Loading cached processed dataset at C:\\Users\\mkrooted\\.cache\\huggingface\\datasets\\cnn_dailymail\\3.0.0\\3.0.0\\1b3c71476f6d152c31c1730e83ccb08bcf23e348233f4fcc11e182248e6bf7de\\cache-e045681e0c5dc435.arrow\n"
     ]
    }
   ],
   "source": [
    "tokenized_dataset = dataset.map(preprocess_function, batched=True)"
   ]
  },
  {
   "cell_type": "code",
   "execution_count": 61,
   "metadata": {},
   "outputs": [
    {
     "data": {
      "text/plain": [
       "Dataset({\n",
       "    features: ['article', 'highlights', 'input_ids', 'attention_mask', 'labels'],\n",
       "    num_rows: 1149\n",
       "})"
      ]
     },
     "execution_count": 61,
     "metadata": {},
     "output_type": "execute_result"
    }
   ],
   "source": [
    "test_tokenized_dataset"
   ]
  },
  {
   "cell_type": "code",
   "execution_count": 9,
   "metadata": {},
   "outputs": [],
   "source": [
    "model = AutoModelForSeq2SeqLM.from_pretrained(MODEL_PATH)"
   ]
  },
  {
   "attachments": {},
   "cell_type": "markdown",
   "metadata": {},
   "source": [
    "---"
   ]
  },
  {
   "cell_type": "code",
   "execution_count": 10,
   "metadata": {},
   "outputs": [
    {
     "data": {
      "text/plain": [
       "{'input_ids': [8774, 296, 1], 'attention_mask': [1, 1, 1]}"
      ]
     },
     "execution_count": 10,
     "metadata": {},
     "output_type": "execute_result"
    }
   ],
   "source": [
    "sample_tokens = tokenizer(\"Hello world\")\n",
    "sample_tokens"
   ]
  },
  {
   "cell_type": "code",
   "execution_count": 11,
   "metadata": {},
   "outputs": [
    {
     "data": {
      "text/plain": [
       "'Hello world</s>'"
      ]
     },
     "execution_count": 11,
     "metadata": {},
     "output_type": "execute_result"
    }
   ],
   "source": [
    "tokenizer.decode(sample_tokens.input_ids)"
   ]
  },
  {
   "attachments": {},
   "cell_type": "markdown",
   "metadata": {},
   "source": [
    "---"
   ]
  },
  {
   "cell_type": "code",
   "execution_count": 12,
   "metadata": {},
   "outputs": [],
   "source": [
    "def pretty(string, line_len = 120):\n",
    "    n = len(string)\n",
    "    print(\"\\n\".join([string[i:i+line_len] for i in range(0, n, line_len)]))"
   ]
  },
  {
   "cell_type": "code",
   "execution_count": 13,
   "metadata": {},
   "outputs": [],
   "source": [
    "def generate(str, max_len=120):\n",
    "    return tokenizer.batch_decode(model.generate(**tokenizer(\"summarize: \" + str, return_tensors='pt'), max_new_tokens=max_len), skip_special_tokens=True)[0]"
   ]
  },
  {
   "cell_type": "code",
   "execution_count": 14,
   "metadata": {},
   "outputs": [
    {
     "name": "stdout",
     "output_type": "stream",
     "text": [
      "London (CNN)A 19-year-old man was charged Wednesday with terror offenses after he was arrested as he returned to Britain\n",
      " from Turkey, London's Metropolitan Police said. Yahya Rashid, a UK national from northwest London, was detained at Luto\n",
      "n airport on Tuesday after he arrived on a flight from Istanbul, police said. He's been charged with engaging in conduct\n",
      " in preparation of acts of terrorism, and with engaging in conduct with the intention of assisting others to commit acts\n",
      " of terrorism. Both charges relate to the period between November 1 and March 31. Rashid is due to appear in Westminster\n",
      " Magistrates' Court on Wednesday, police said. CNN's Lindsay Isaac contributed to this report.\n",
      "\n",
      "19-year-old arrested at Luton airport on thursday. he was returning from turkey to uk.\n",
      "-\n",
      "London's Metropolitan Police say the man was arrested at Luton airport after landing on a flight from Istanbul .\n",
      "He's been charged with terror offenses allegedly committed since the start of November .\n"
     ]
    }
   ],
   "source": [
    "pretty(test_dataset[1]['article'])\n",
    "print()\n",
    "pretty(generate(test_dataset[1]['article']), 120)\n",
    "print(\"-\")\n",
    "print(test_dataset[1]['highlights'])"
   ]
  },
  {
   "cell_type": "code",
   "execution_count": 26,
   "metadata": {},
   "outputs": [
    {
     "name": "stderr",
     "output_type": "stream",
     "text": [
      "INFO - 23:20:19: Using default tokenizer.\n"
     ]
    },
    {
     "data": {
      "text/plain": [
       "{'rouge1': 0.326530612244898,\n",
       " 'rouge2': 0.12765957446808512,\n",
       " 'rougeL': 0.24489795918367344,\n",
       " 'rougeLsum': 0.2857142857142857}"
      ]
     },
     "execution_count": 26,
     "metadata": {},
     "output_type": "execute_result"
    }
   ],
   "source": [
    "rouge.compute(predictions=[generate(test_dataset[1]['article'])], references=[test_dataset[1]['highlights']])\n",
    "# rouge"
   ]
  },
  {
   "cell_type": "code",
   "execution_count": 21,
   "metadata": {},
   "outputs": [
    {
     "name": "stdout",
     "output_type": "stream",
     "text": [
      "Norfolk, Virginia (CNN)The second mate of the Houston Express probably couldn't believe what he was seeing. Hundreds of \n",
      "miles from land there was a small boat nearby. At first it looked abandoned. It was in bad shape, listing to one side. T\n",
      "he crew of the 1,000-foot long container ship thought it was a yacht that had wrecked. Incredibly, as they got closer, t\n",
      "hey saw there was a man on it, signaling for help. \"He was moving, walking around, waving to us and in surprisingly good\n",
      " condition,\" Capt. Thomas Grenz told CNN by phone Friday. That man, Louis Jordan, 37, had an amazing story. He'd been dr\n",
      "ifting on the 35-foot Pearson sailboat for more than two months since leaving Conway, South Carolina, to fish in the oce\n",
      "an. Just a few days into his trip, a storm capsized his boat and broke his mast. One of his shoulders was broken, too, s\n",
      "o he couldn't fix the boat right away. Eventually he was able to rig a makeshift mast and sail, but he could make little\n",
      " headway against the currents. \"It took so long,\" Jordan said.  \"It moved so slowly.\" The boat capsized two more times b\n",
      "efore he was rescued, according to Jordan. His father, Frank Jordan, told CNN's Jim Sciutto that he was expecting his so\n",
      "n to look different. \"He looked good. Hadn't lost too much weight. He wasn't badly sunburned like I thought he probably \n",
      "would be,\" he said. Lost at sea for 66 days . After his food and water ran out, it became an issue of survival. Collecti\n",
      "ng fresh water was a nightmare for Jordan.  The weather wouldn't cooperate. Records show there were more than a dozen st\n",
      "orms off the coast of the Carolinas during the time he was missing. The precipitation came at night during harsh conditi\n",
      "ons. \"I had tried to collect (rain)water ... but every time the waves would splash into the boat,\" Jordan said.  \"The wa\n",
      "ves would put saltwater into my freshwater and it tasted bad. \"Finally the conditions were right.  I filled up my water \n",
      "tank, which is 25 gallons.  I filled up a bucket.\" Then there was the issue of food. The fish weren't cooperating, but a\n",
      "fter a while Jordan learned they were attracted to his laundry, which he would put out to sea for a rinse. The fish woul\n",
      "d swim in and out of his clothes and he could easily scoop them up with a hand net, he said. Jordan came ashore Thursday\n",
      " evening. CNN affiliate WAVY in Norfolk, Virginia, reported that he was able to walk from the helicopter into Sentara No\n",
      "rfolk General Hospital about 7:30 p.m. Coast Guard officials have said they have found no reason to doubt Jordan's incre\n",
      "dible story. They noted that his father contacted them January 29 to report his son and his boat missing. Frank Jordan a\n",
      "ddressed the skepticism about his son's appearance, saying the boat stayed afloat and upright most of the time. His son \n",
      "spent most of his days in the cabin, out of the sun. Frank Jordan said it was obvious when the Jordans met at the hospit\n",
      "al Friday morning that his normally low-key and private son had been through an ordeal. \"I know he went through what he \n",
      "went through,\" Frank Jordan said. Jordan is an unemployed truck driver who lived on his boat at a marina in Conway. He h\n",
      "ad free rent and free food in the river, he said. But when it became difficult to catch dinner, he took off for the ocea\n",
      "n in hopes he would land some bigger fish. Frank Jordan told CNN's Wolf Blitzer on Thursday that he had worried about hi\n",
      "s son, who is an inexperienced sailor, but he held hope because his son had a good boat. And he had the strength to make\n",
      " it. \"He's got a very strong constitution and (is strong) not only physically, but spiritually,\" Frank Jordan said. \"And\n",
      " he told me on the phone that he was praying the whole time, so I believe that sustained him a great deal.\" Rescue swimm\n",
      "er Kyle McCollum was the first to care for Jordan on the flight back to land. \"You would expect sunburns, severe sunburn\n",
      ", blisters maybe ... a bunch of medical issues that could possibly be wrong with him,\" he said. \"But for him to be in hi\n",
      "s current state was pretty amazing.\" Grenz was also surprised by Jordan's condition, physically and mentally. The rescue\n",
      "d sailor knew almost exactly what day it was, remarkable for someone who had been on the water for more than 60 days. Jo\n",
      "rdan was dehydrated and said he was hungry. \"We took him to a rescue boat,\" the container ship captain said. \"He was giv\n",
      "en water and pea soup to gain some power again.\" Derriel Morris, a neighbor at the Bucksport Plantation Marina & RV Reso\n",
      "rt called Jordan a nice guy who loved his 47-year-old boat, named \"Angel.\" Morris said: \"It was immaculate, it was gorge\n",
      "ous, beautifully painted. I mean it looked like a brand new sailboat.\" Morris told CNN affiliate WPDE that one day in Ja\n",
      "nuary he was going to the store and Jordan asked him to bring back some coffee creamer. But when he returned to the mari\n",
      "na, Jordan had slipped away. \"There was no shore line, no hose; it was like he was never there,\" Morris told the station\n",
      ". After he disappeared others who also live there held a candlelight ceremony. The marina's manager, Jeff Weeks, told WP\n",
      "DE that Jordan is expected to be back at Buscksport next week. Tales of people who cheated death after days, weeks adrif\n",
      "t .\n",
      "\n",
      "a man on the boat was missing for more than two months. he was rescued from the water by a helicopter. he was rescued fr\n",
      "om the water.\n",
      "-\n",
      "Father: \"I know he went through what he went through\"\n",
      "Louis Jordan was found on his sailboat, which was listing and in bad shape, rescuer says .\n",
      "He appears to be in good shape, physically and mentally .\n"
     ]
    }
   ],
   "source": [
    "pretty(test_dataset[2]['article'])\n",
    "print()\n",
    "pretty(generate(test_dataset[2]['article']), 120)\n",
    "print(\"-\")\n",
    "print(test_dataset[2]['highlights'])"
   ]
  },
  {
   "cell_type": "code",
   "execution_count": 27,
   "metadata": {},
   "outputs": [
    {
     "name": "stderr",
     "output_type": "stream",
     "text": [
      "INFO - 23:20:39: Using default tokenizer.\n"
     ]
    },
    {
     "data": {
      "text/plain": [
       "{'rouge1': 0.15873015873015875,\n",
       " 'rouge2': 0.0,\n",
       " 'rougeL': 0.09523809523809525,\n",
       " 'rougeLsum': 0.12698412698412698}"
      ]
     },
     "execution_count": 27,
     "metadata": {},
     "output_type": "execute_result"
    }
   ],
   "source": [
    "rouge.compute(predictions=[generate(test_dataset[2]['article'])], references=[test_dataset[2]['highlights']])\n",
    "# rouge"
   ]
  },
  {
   "cell_type": "code",
   "execution_count": 28,
   "metadata": {},
   "outputs": [
    {
     "name": "stdout",
     "output_type": "stream",
     "text": [
      "A pro-Ukip businessman who forced Liam Fox to resign as Defence Secretary is behind an extraordinary bid to defeat a ‘go\n",
      "lden boy’ Tory candidate. Tycoon Harvey Boulter has already given £30,000 to the Ukip candidate fighting Fox in his Some\n",
      "rset seat in a continued vendetta against him. Boulter is also spending another £30,000 to try to defeat Tom Tugendhat, \n",
      "who is standing for the Tories in Tonbridge and West Malling, Kent. Scroll down for video . Pro-Ukip businessman Harvey \n",
      "Boulter (above), who forced Liam Fox to resign as Defence Secretary, is behind an extraordinary bid to defeat a ‘golden \n",
      "boy’ Tory candidate . Tugendhat’s father, Sir Michael Tugendhat, is the High Court judge who awarded Fox a six-figure su\n",
      "m in damages after he sued Boulter for libellous remarks made on Sky TV. Fox resigned from the Cabinet in 2011 after Bou\n",
      "lter revealed details of how Fox’s close friend, businessman Adam Werritty, accompanied him on overseas trips as Defence\n",
      " Secretary. Mr Boulter said: ‘This may look like naked revenge and in a sense it is. I was outraged with what happened i\n",
      "n the court case.’ A Tory Party spokesman last night declined to comment. Fox (above) resigned from the Cabinet in 2011 \n",
      "after Boulter revealed details of how Fox’s close friend, businessman Adam Werritty, accompanied him on overseas trips a\n",
      "s Defence Secretary .\n",
      "\n",
      "Harvey Boulter has already given £30,000 to the Ukip candidate fighting him. Boulter is also spending another £30,000 to\n",
      " try to defeat Tom Tugendhat. he sued Boulter for libellous remarks made on sky TV.\n",
      "-\n",
      "Harvey Boulter revealed former defence secretary took a friend abroad .\n",
      "He is now giving money to the opposition of Tom Tugendhat .\n"
     ]
    }
   ],
   "source": [
    "pretty(test_dataset[123]['article'])\n",
    "print()\n",
    "pretty(generate(test_dataset[123]['article']), 120)\n",
    "print(\"-\")\n",
    "print(test_dataset[123]['highlights'])"
   ]
  },
  {
   "cell_type": "code",
   "execution_count": 29,
   "metadata": {},
   "outputs": [
    {
     "name": "stderr",
     "output_type": "stream",
     "text": [
      "INFO - 23:22:27: Using default tokenizer.\n"
     ]
    },
    {
     "data": {
      "text/plain": [
       "{'rouge1': 0.2807017543859649,\n",
       " 'rouge2': 0.10909090909090909,\n",
       " 'rougeL': 0.2105263157894737,\n",
       " 'rougeLsum': 0.2105263157894737}"
      ]
     },
     "execution_count": 29,
     "metadata": {},
     "output_type": "execute_result"
    }
   ],
   "source": [
    "rouge.compute(predictions=[generate(test_dataset[123]['article'])], references=[test_dataset[123]['highlights']])\n",
    "# rouge"
   ]
  },
  {
   "attachments": {},
   "cell_type": "markdown",
   "metadata": {},
   "source": [
    "---"
   ]
  }
 ],
 "metadata": {
  "kernelspec": {
   "display_name": "ds",
   "language": "python",
   "name": "python3"
  },
  "language_info": {
   "codemirror_mode": {
    "name": "ipython",
    "version": 3
   },
   "file_extension": ".py",
   "mimetype": "text/x-python",
   "name": "python",
   "nbconvert_exporter": "python",
   "pygments_lexer": "ipython3",
   "version": "3.10.10"
  },
  "orig_nbformat": 4
 },
 "nbformat": 4,
 "nbformat_minor": 2
}
