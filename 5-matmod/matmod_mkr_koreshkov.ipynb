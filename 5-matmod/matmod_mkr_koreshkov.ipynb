{
  "nbformat": 4,
  "nbformat_minor": 0,
  "metadata": {
    "colab": {
      "name": "matmod-mkr-koreshkov",
      "provenance": [],
      "collapsed_sections": []
    },
    "kernelspec": {
      "name": "python3",
      "display_name": "Python 3"
    },
    "language_info": {
      "name": "python"
    }
  },
  "cells": [
    {
      "cell_type": "code",
      "execution_count": 1,
      "metadata": {
        "id": "olin0b3nNKS5"
      },
      "outputs": [],
      "source": [
        "import numpy as np"
      ]
    },
    {
      "cell_type": "code",
      "source": [
        ""
      ],
      "metadata": {
        "id": "PeeB-ej7NLZc"
      },
      "execution_count": null,
      "outputs": []
    },
    {
      "cell_type": "markdown",
      "source": [
        "Взуттєве підприємство щодня постачає на ринок 900 партій взуття. Фахівець зі збуту знає, що щодня підприємству повертають від 1 до 13 пар бракованого взуття. Оцінити, яку кількість пар бракованого взуття підприємство постачає на ринок протягом місяця в припущенні, що поява кожного з чисел рівноймовірна. Який ризик втрат фірми за 14 днів, оцінений кількістю бракованих пар взуття, постачених на ринок? Написати програму для обчислення ризику та завантажити її в класрум."
      ],
      "metadata": {
        "id": "t3S_pibmNNNT"
      }
    },
    {
      "cell_type": "code",
      "source": [
        "DAILY_SUPPLY = 900\n",
        "\n",
        "def today_fail():\n",
        "  return np.random.choice(np.arange(14)) + 1\n",
        "\n",
        "def month_fail():\n",
        "  fails = 0\n",
        "  for i in range(31):\n",
        "    for i in range(DAILY_SUPPLY):\n",
        "      fails += today_fail()\n",
        "  return fails\n",
        "\n",
        "  \n",
        "def day14_fail():\n",
        "  fails = 0\n",
        "  for i in range(14):\n",
        "    for i in range(DAILY_SUPPLY):\n",
        "      fails += today_fail()\n",
        "    fails += today_fail()\n",
        "  return fails\n",
        "\n",
        "  "
      ],
      "metadata": {
        "id": "w-aCEdYcNOUL"
      },
      "execution_count": 17,
      "outputs": []
    },
    {
      "cell_type": "code",
      "source": [
        "Ns = [10,100]\n",
        "for N in Ns:\n",
        "  for n in range(2):\n",
        "    total_fails = 0\n",
        "    for i in range(N):\n",
        "      total_fails += month_fail()\n",
        "    print(f\"кількість пар бракованого взуття підприємство постачає на ринок протягом місяця (N={N})\", int(total_fails / N))"
      ],
      "metadata": {
        "colab": {
          "base_uri": "https://localhost:8080/"
        },
        "id": "WkT0brJaOfHo",
        "outputId": "ad469379-7fa7-4776-c9d1-22055e5d41a0"
      },
      "execution_count": 21,
      "outputs": [
        {
          "output_type": "stream",
          "name": "stdout",
          "text": [
            "кількість пар бракованого взуття підприємство постачає на ринок протягом місяця (N=10) 209398\n",
            "кількість пар бракованого взуття підприємство постачає на ринок протягом місяця (N=10) 208847\n",
            "кількість пар бракованого взуття підприємство постачає на ринок протягом місяця (N=100) 209214\n",
            "кількість пар бракованого взуття підприємство постачає на ринок протягом місяця (N=100) 209350\n"
          ]
        }
      ]
    },
    {
      "cell_type": "code",
      "source": [
        "for N in [500]:\n",
        "    total_fails = 0\n",
        "    for i in range(N):\n",
        "      total_fails += month_fail()\n",
        "    print(f\"кількість пар бракованого взуття підприємство постачає на ринок протягом місяця (N={N})\", int(total_fails / N))"
      ],
      "metadata": {
        "colab": {
          "base_uri": "https://localhost:8080/"
        },
        "id": "ma5LdQurSQnq",
        "outputId": "ab89fa2d-75b7-4411-dcaa-28c3b697d21b"
      },
      "execution_count": 23,
      "outputs": [
        {
          "output_type": "stream",
          "name": "stdout",
          "text": [
            "кількість пар бракованого взуття підприємство постачає на ринок протягом місяця (N=500) 209298\n"
          ]
        }
      ]
    },
    {
      "cell_type": "code",
      "source": [
        "Ns = [10,100,500]\n",
        "for N in Ns:\n",
        "  for n in range(2):\n",
        "    total_fails = 0\n",
        "    for i in range(N):\n",
        "      total_fails += day14_fail()\n",
        "    print(f\"кількість пар бракованого взуття підприємство постачає на ринок протягом 14 днів (N={N})\", int(total_fails / N))"
      ],
      "metadata": {
        "colab": {
          "base_uri": "https://localhost:8080/"
        },
        "id": "ExAR4wCpONnp",
        "outputId": "bb9ef37e-fcc6-4a7b-e899-60bbb31f3862"
      },
      "execution_count": 24,
      "outputs": [
        {
          "output_type": "stream",
          "name": "stdout",
          "text": [
            "кількість пар бракованого взуття підприємство постачає на ринок протягом 14 днів (N=10) 94814\n",
            "кількість пар бракованого взуття підприємство постачає на ринок протягом 14 днів (N=10) 94536\n",
            "кількість пар бракованого взуття підприємство постачає на ринок протягом 14 днів (N=100) 94508\n",
            "кількість пар бракованого взуття підприємство постачає на ринок протягом 14 днів (N=100) 94596\n",
            "кількість пар бракованого взуття підприємство постачає на ринок протягом 14 днів (N=500) 94617\n",
            "кількість пар бракованого взуття підприємство постачає на ринок протягом 14 днів (N=500) 94596\n"
          ]
        }
      ]
    },
    {
      "cell_type": "code",
      "source": [
        "for N in [1000]:\n",
        "  total_fails = 0\n",
        "  for i in range(N):\n",
        "    total_fails += day14_fail()\n",
        "  print(f\"кількість пар бракованого взуття підприємство постачає на ринок протягом 14 днів (N={N})\", int(total_fails / N))"
      ],
      "metadata": {
        "colab": {
          "base_uri": "https://localhost:8080/"
        },
        "id": "IBwPvnvmO7oi",
        "outputId": "c2043d28-e0d0-47fd-a666-a26dcb1667e7"
      },
      "execution_count": 25,
      "outputs": [
        {
          "output_type": "stream",
          "name": "stdout",
          "text": [
            "кількість пар бракованого взуття підприємство постачає на ринок протягом 14 днів (N=1000) 94614\n"
          ]
        }
      ]
    },
    {
      "cell_type": "markdown",
      "source": [
        "Тобто:\n",
        "\n",
        "\n",
        "*   кількість пар бракованого взуття підприємство постачає на ринок протягом місяця $\\approx 209\\,300$\n",
        "*   кількість пар бракованого взуття підприємство постачає на ринок протягом 14 днів $\\approx 94\\,600$\n",
        "\n"
      ],
      "metadata": {
        "id": "1xS9q5QKS4EP"
      }
    }
  ]
}