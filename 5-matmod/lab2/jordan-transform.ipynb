{
 "cells": [
  {
   "cell_type": "code",
   "execution_count": 6,
   "source": [
    "import numpy as np\r\n",
    "import itertools as it\r\n",
    "import simplex1 as s"
   ],
   "outputs": [],
   "metadata": {}
  },
  {
   "cell_type": "code",
   "execution_count": 7,
   "source": [
    "A = np.array([\r\n",
    "    [1, 1, -3],\r\n",
    "    [3, -1, -5],\r\n",
    "    [0, -1, 4],\r\n",
    "    [-3, -2, 26],\r\n",
    "    [-1, 3, 5],\r\n",
    "    [-1, -3, 0]\r\n",
    "])\r\n",
    "A"
   ],
   "outputs": [
    {
     "output_type": "execute_result",
     "data": {
      "text/plain": [
       "array([[ 1,  1, -3],\n",
       "       [ 3, -1, -5],\n",
       "       [ 0, -1,  4],\n",
       "       [-3, -2, 26],\n",
       "       [-1,  3,  5],\n",
       "       [-1, -3,  0]])"
      ]
     },
     "metadata": {},
     "execution_count": 7
    }
   ],
   "metadata": {}
  },
  {
   "cell_type": "markdown",
   "source": [
    "# Simplex"
   ],
   "metadata": {}
  },
  {
   "cell_type": "code",
   "execution_count": 8,
   "source": [
    "A = np.array([\r\n",
    "    [1, 1, -3],\r\n",
    "    [3, -1, -5],\r\n",
    "    [0, -1, 4],\r\n",
    "    [-3, -2, 26],\r\n",
    "    [-1, 3, 5],\r\n",
    "    [1, -3, 0],\r\n",
    "])\r\n",
    "basis = ['x1', 'x2', '1']\r\n",
    "nonbasis = ['y1', 'y2', 'y3', 'y4', 'y5', 'F']"
   ],
   "outputs": [],
   "metadata": {}
  },
  {
   "cell_type": "code",
   "execution_count": 9,
   "source": [
    "s.jordan_swap(A, 0,0)"
   ],
   "outputs": [
    {
     "output_type": "execute_result",
     "data": {
      "text/plain": [
       "array([[ 1., -1.,  3.],\n",
       "       [ 3., -4.,  4.],\n",
       "       [ 0., -1.,  4.],\n",
       "       [-3.,  1., 17.],\n",
       "       [-1.,  4.,  2.],\n",
       "       [ 1., -4.,  3.]])"
      ]
     },
     "metadata": {},
     "execution_count": 9
    }
   ],
   "metadata": {}
  },
  {
   "cell_type": "code",
   "execution_count": 14,
   "source": [
    "A = np.array([\r\n",
    "    [1, -1, 3],\r\n",
    "    [3, -4, 4],\r\n",
    "    [0, -1, 4],\r\n",
    "    [-3, 1, 17],\r\n",
    "    [-1, 4, 2],\r\n",
    "    [1, -4, 3],\r\n",
    "])\r\n",
    "# A = np.hstack([A,A+0.5])\r\n",
    "\r\n",
    "print(A)\r\n",
    "\r\n"
   ],
   "outputs": [
    {
     "output_type": "stream",
     "name": "stdout",
     "text": [
      "[[ 1 -1  3]\n",
      " [ 3 -4  4]\n",
      " [ 0 -1  4]\n",
      " [-3  1 17]\n",
      " [-1  4  2]\n",
      " [ 1 -4  3]]\n"
     ]
    },
    {
     "output_type": "execute_result",
     "data": {
      "text/plain": [
       "(1, 1)"
      ]
     },
     "metadata": {},
     "execution_count": 14
    }
   ],
   "metadata": {}
  },
  {
   "cell_type": "code",
   "execution_count": 14,
   "source": [
    "g = np.array([-1,0,1])\r\n",
    "g > 10\r\n",
    "g>10"
   ],
   "outputs": [
    {
     "output_type": "execute_result",
     "data": {
      "text/plain": [
       "array([False, False, False])"
      ]
     },
     "metadata": {},
     "execution_count": 14
    }
   ],
   "metadata": {}
  }
 ],
 "metadata": {
  "orig_nbformat": 4,
  "language_info": {
   "name": "python",
   "version": "3.9.5",
   "mimetype": "text/x-python",
   "codemirror_mode": {
    "name": "ipython",
    "version": 3
   },
   "pygments_lexer": "ipython3",
   "nbconvert_exporter": "python",
   "file_extension": ".py"
  },
  "kernelspec": {
   "name": "python3",
   "display_name": "Python 3.9.5 64-bit ('sci': conda)"
  },
  "interpreter": {
   "hash": "3f7a9889b65ee3d6a00c9b687a9a8bff943d8bae5b6a5631d41cd057a4ec4502"
  }
 },
 "nbformat": 4,
 "nbformat_minor": 2
}