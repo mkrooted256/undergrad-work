{
 "cells": [
  {
   "cell_type": "markdown",
   "source": [
    "$$u(t,x)$$"
   ],
   "metadata": {}
  },
  {
   "cell_type": "markdown",
   "source": [
    "$$\\frac{\\partial u}{\\partial t} = \\alpha\\Delta u \\quad(1)$$"
   ],
   "metadata": {}
  },
  {
   "cell_type": "markdown",
   "source": [
    "$$u(t,x) = f(t) \\cdot g(x)$$"
   ],
   "metadata": {}
  },
  {
   "cell_type": "markdown",
   "source": [
    "$$f'(t) g(x) = \\alpha f(t) g''(x) \\quad (1')$$\r\n"
   ],
   "metadata": {}
  },
  {
   "cell_type": "markdown",
   "source": [
    "$$f'(t)/f(t) = g''(x) / g(x) = C = \\text{const}$$\r\n",
    "\r\n",
    "$$f'(t) = C \\cdot f(t) \\implies f(t) = A e^{\\alpha ct}$$"
   ],
   "metadata": {}
  },
  {
   "cell_type": "markdown",
   "source": [
    "$$g''(x) = a g(x) $$\r\n",
    "\r\n",
    "$$a > 0 \\implies g(x) = sh(\\sqrt(a) x) \\text{ or } g(x) = ch(\\sqrt(a) x)$$\r\n",
    "$$a < 0 \\implies g(x) = sin(\\sqrt(a) x) \\text{ or } g(x) = cos(\\sqrt(a) x)$$\r\n",
    "\r\n"
   ],
   "metadata": {}
  },
  {
   "cell_type": "markdown",
   "source": [
    "Dirichlet\r\n",
    "\r\n",
    "$$u(t, 0) = u(t, 1) = 0$$\r\n",
    "\r\n",
    "$$u(t,x) = f(t) \\cdot g(x) = A e^{-at} \\cdot sin(\\pi x)$$\r\n",
    "\r\n",
    "$$u0(x) = A ch(x) + B sh(x)$$\r\n",
    "$$u0(x) = 0$$"
   ],
   "metadata": {}
  },
  {
   "cell_type": "markdown",
   "source": [
    "----"
   ],
   "metadata": {}
  },
  {
   "cell_type": "markdown",
   "source": [
    "$$a_{11} u_{xx} + 2 a_{12} u_{xy} + a_{22} u_{yy}   +  b_{1} u_{x} + b_{2} u_{y} = 0$$ "
   ],
   "metadata": {}
  },
  {
   "cell_type": "markdown",
   "source": [
    "```\r\n",
    "f(x,y) \r\n",
    "g(x,y)\r\n",
    "\r\n",
    "x = x(f,g)\r\n",
    "y = y(f,g)\r\n",
    "\r\n",
    "u_x = du/dx = du/df df/dx + du/dg dg/dx\r\n",
    "u_y = du/dy = du/df df/dy + du/dg dg/dy\r\n",
    "\r\n",
    "\r\n",
    "d/dx = df/dx d/df + dg/dx d/dg\r\n",
    "\r\n",
    "u_xx = d/dx (du/df df/dx + du/dg dg/dx) =\r\n",
    "     = d/dx (u_f) df/dx + u_f d^2f/dx^2 + d/dx (u_g) dg/dx + u_g d^g/dx^2 =\r\n",
    "     = (df/dx d/df + dg/dx d/dg) (u_f) df/dx\r\n",
    "\r\n",
    "u_xy\r\n",
    "u_yy\r\n",
    "\r\n",
    "\r\n",
    "\r\n",
    "\r\n",
    "\r\n",
    "```"
   ],
   "metadata": {}
  },
  {
   "cell_type": "markdown",
   "source": [],
   "metadata": {}
  }
 ],
 "metadata": {
  "orig_nbformat": 4,
  "language_info": {
   "name": "python",
   "version": "3.9.5"
  },
  "kernelspec": {
   "name": "python3",
   "display_name": "Python 3.9.5 64-bit"
  },
  "interpreter": {
   "hash": "508d152d77c3e2abf99e09967f75f42e2e7f7a716c8d812741fdb8e80f780b0e"
  }
 },
 "nbformat": 4,
 "nbformat_minor": 2
}