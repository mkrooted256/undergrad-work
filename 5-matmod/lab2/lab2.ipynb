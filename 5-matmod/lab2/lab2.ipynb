{
 "cells": [
  {
   "cell_type": "code",
   "execution_count": 1,
   "source": [
    "import numpy as np\r\n",
    "import matplotlib as mpl\r\n",
    "import matplotlib.pyplot as plt"
   ],
   "outputs": [],
   "metadata": {}
  },
  {
   "cell_type": "markdown",
   "source": [
    "# Math model\r\n",
    "\r\n",
    "$$\\begin{cases}\r\n",
    "a_{11} x_1 + ... + a_{1n}x_n = (\\le) b_{1} \\\\\r\n",
    "...\\\\\r\n",
    "a_{m1} x_1 + ... + a_{mn}x_n = (\\le) b_{n} \\\\\r\n",
    "x_i \\ge 0\r\n",
    "\\end{cases}$$\r\n",
    "Problem: $$L(x) = c_1 x_1 + ... + c_n x_n \\to max$$"
   ],
   "metadata": {}
  },
  {
   "cell_type": "markdown",
   "source": [
    "In other words:\r\n",
    "$$A = (a_{ij})$$\r\n",
    "$$Ax = (\\le)\\; b$$\r\n",
    "$$L(x) = c^Tx \\to max$$"
   ],
   "metadata": {}
  },
  {
   "cell_type": "markdown",
   "source": [
    "Linear probramming problem is **in the canonical form** when\r\n",
    "$$\\exists m:\\; x_i + a_{i,m+1} x_{m+1} + ... + a_{i,n} x_n = b_i, \\quad b_i \\ge 0,\\quad i=\\overline{1,m}$$\r\n",
    "In other words, $A$ must be in the **reduced row echelon form**:\r\n",
    "$$A = \\left(\\begin{array}{cccc|ccc}\r\n",
    "1 & 0 & ... & 0 & a_{1,m+1} & ... & a_{1,n} \\\\\r\n",
    "0 & 1 & ... & 0 & a_{2,m+1} & ... & a_{2,n} \\\\\r\n",
    "\\vdots & \\vdots & \\ddots & \\vdots & \\vdots  & \\ddots & \\vdots \\\\\r\n",
    "0 & 0 & ... & 1 & a_{i,m+1} & ... & a_{i,n} \\\\\r\n",
    "\\end{array}\\right) = \\left(\\; I \\;|\\; A'\\; \\right)$$\r\n",
    "And\r\n",
    "$$L(x) = c^T x \\to \\textbf{min}$$"
   ],
   "metadata": {}
  },
  {
   "cell_type": "markdown",
   "source": [
    "We have the following functional elements:\r\n",
    "\r\n",
    "- Basic solution: $x^{(0)} = (a_{10}, ... , a_{m0}, 0, ..., 0)^T$ (indeed, $A x^{(0)} = b$)\r\n",
    "- Its basis: $B = \\begin{pmatrix} 1 & 0 & ... & 0 \\\\ 0 & 1 & ... & 0 \\\\ \\vdots & \\vdots & \\ddots & \\vdots \\\\ 0 & 0 & ... & 1 \\end{pmatrix} = (e_1^T ; e_2^T ; ... ; e_m^T)$\r\n",
    "- Basic variables: $x_1, x_2, ..., x_m$"
   ],
   "metadata": {}
  },
  {
   "cell_type": "markdown",
   "source": [
    "# Steps\r\n",
    "\r\n",
    "## 1. Optimality test\r\n",
    "If $c_i<0$ for some **nonbasic** variables, let $c_k$ is with largest absulute value.\r\n",
    "Try increasing $x_k$.  (while the values of the basic variables are adjusted to continue satisfying the system of equations)\r\n",
    "\r\n",
    "- If $L$ is decreasing, solution is not optimal. Continue working.\r\n",
    "- Otherwise, we found the solution\r\n",
    "\r\n",
    "## 2. Optimize\r\n",
    "Find $l$ using ratio test: $\\displaystyle l = \\argmin_{0<l<n} \\frac{b_l}{A_{lk}}$.\r\n",
    "That means we are trying to increase $x_k$ maintaining $Ax=(\\le)b$ until the first **basic** variable ($x_l$) drops to zero.\r\n",
    "\r\n",
    "- $x_l$ is called \"leaving basic variable\"\r\n",
    "- $x_k$ is called \"entering basic variable\".\r\n",
    "- New solution is $x = ($ 0 for each basic, x_i for i nonbasic $)$\r\n",
    "\r\n",
    "### How to find x_i?\r\n",
    "Let $B$ is $A$ with nonbasic columns removed. $B$ is m*m.\r\n",
    "$$X_B = (x_{B1}, ... X_{Bm}) = B^{-1} b$$\r\n",
    "\r\n",
    "## 3. Eliminate\r\n",
    "Perform Gauss-Jordan elimination on the augmented matrix (A|b).\r\n",
    "\r\n",
    "### Gaussian Elimination (row-echelon form)\r\n",
    "$$\\begin{pmatrix}\r\n",
    "1 & a_{12} & a_{13} & ... & a_{1n} \\\\\r\n",
    "0 & 1 & a_{2_3} & ... & a_{2n} \\\\\r\n",
    "\\vdots & \\vdots & \\vdots & \\ddots & \\vdots\\\\\r\n",
    "0 & 0 & 0 & ... & 1 \\\\\r\n",
    "\\end{pmatrix}$$\r\n",
    "\r\n",
    "### Gauss-Jordan Elimination (**reduced** row-echelon form)\r\n",
    "- Matrix is in row echelon form.\r\n",
    "- The leading entry in each nonzero row is a 1 (called a leading 1).\r\n",
    "- Each column containing a leading 1 has zeros in all its other entries.\r\n",
    "\r\n",
    "\r\n",
    "\r\n",
    "\r\n",
    "\r\n",
    "\r\n",
    "\r\n",
    "\r\n",
    "\r\n",
    "\r\n"
   ],
   "metadata": {}
  },
  {
   "cell_type": "code",
   "execution_count": 1,
   "source": [
    "import simplex2 as s\r\n",
    "import numpy as np\r\n",
    "from scipy.optimize import linprog"
   ],
   "outputs": [],
   "metadata": {}
  },
  {
   "cell_type": "code",
   "execution_count": 2,
   "source": [
    "c = np.array([1,1,1,0,0,0])\r\n",
    "A_eq = np.array([\r\n",
    "    [ 1, 0,  0, -1,  0, -2],\r\n",
    "    [ 0, 1,  0,  2, -3,  1],\r\n",
    "    [ 0, 0,  1,  2, -5,  6],\r\n",
    "])\r\n",
    "b_eq = np.array([5,3,5])"
   ],
   "outputs": [],
   "metadata": {}
  },
  {
   "cell_type": "code",
   "execution_count": 3,
   "source": [
    "sm = s.Simplex()\r\n",
    "result = sm.minimize(c, A_eq=A_eq, b_eq=b_eq, debug=False)\r\n",
    "print(\"x = (\", \", \".join([f\"{x_i:.3}\" for x_i in result['x']]), \")\")\r\n",
    "print(f\"f(x) = {result['val']:.3}\")\r\n",
    "print(\"table:\\n\", result['table'])"
   ],
   "outputs": [
    {
     "output_type": "stream",
     "name": "stdout",
     "text": [
      "x = ( 7.1, 0.0, 0.0, 1.3, 0.0, 0.4 )\n",
      "f(x) = 7.1\n",
      "table:\n",
      "        |x2     |x5     |x3     |1      |\n",
      "-------+-------+-------+-------+-------+\n",
      "x1     | -0.20 |  2.10 | -0.30 |  7.10 |\n",
      "x4     | -0.60 |  1.30 |  0.10 |  1.30 |\n",
      "x6     |  0.20 |  0.40 | -0.20 |  0.40 |\n",
      "C      |  0.80 |  2.10 |  0.70 |  7.10 |\n",
      "\n"
     ]
    }
   ],
   "metadata": {}
  },
  {
   "cell_type": "code",
   "execution_count": 4,
   "source": [
    "linprog(c, A_eq=A_eq, b_eq=b_eq, method='simplex')"
   ],
   "outputs": [
    {
     "output_type": "execute_result",
     "data": {
      "text/plain": [
       "     con: array([0., 0., 0.])\n",
       "     fun: 7.1000000000000005\n",
       " message: 'Optimization terminated successfully.'\n",
       "     nit: 3\n",
       "   slack: array([], dtype=float64)\n",
       "  status: 0\n",
       " success: True\n",
       "       x: array([7.1, 0. , 0. , 1.3, 0. , 0.4])"
      ]
     },
     "metadata": {},
     "execution_count": 4
    }
   ],
   "metadata": {}
  },
  {
   "cell_type": "code",
   "execution_count": 10,
   "source": [
    "A = np.array([\r\n",
    "    [1, 1],\r\n",
    "    [3, -1],\r\n",
    "    [0, -1],\r\n",
    "    [-3, -2],\r\n",
    "    [-1, 3]\r\n",
    "])\r\n",
    "b = np.array([\r\n",
    "    3, 5, -4, -26, -5\r\n",
    "])\r\n",
    "c = np.array([-1,3])\r\n",
    "linprog(c=c, A_ub=-A, b_ub=-b, method='simplex')"
   ],
   "outputs": [
    {
     "output_type": "execute_result",
     "data": {
      "text/plain": [
       "     con: array([], dtype=float64)\n",
       "     fun: -5.0\n",
       " message: 'Optimization terminated successfully.'\n",
       "     nit: 5\n",
       "   slack: array([ 6., 18.,  3.,  0.,  0.])\n",
       "  status: 0\n",
       " success: True\n",
       "       x: array([8., 1.])"
      ]
     },
     "metadata": {},
     "execution_count": 10
    }
   ],
   "metadata": {}
  },
  {
   "cell_type": "code",
   "execution_count": 6,
   "source": [
    "A = np.array([\r\n",
    "    [3, 2],\r\n",
    "    [6, 1],\r\n",
    "    [0, 1]\r\n",
    "])\r\n",
    "b = np.array([\r\n",
    "    6,6,1\r\n",
    "])\r\n",
    "c = np.array([15,33])\r\n",
    "# linprog(c=c, A_ub=-A, b_ub=-b, method='simplex')\r\n",
    "\r\n",
    "s.Simplex(debug=True).minimize(c, None, None, A, b)"
   ],
   "outputs": [
    {
     "output_type": "stream",
     "name": "stdout",
     "text": [
      "       |x1     |x2     |1      |\n",
      "-------+-------+-------+-------+\n",
      "ge1    |  3.00 |  2.00 | -6.00 |\n",
      "ge2    |  6.00 |  1.00 | -6.00 |\n",
      "ge3    |  0.00 |  1.00 | -1.00 |\n",
      "\n",
      "feasibles: ( (0, 0) -2.0 ) ( (0, 1) -3.0 ) ( (1, 1) -6.0 )        |x1     |x2     |1      |\n",
      "-------+-------+-------+-------+\n",
      "ge1    |  3.00 |  2.00 | -6.00 |\n",
      "ge2    |  6.00 | [1.00]| -6.00 |\n",
      "ge3    |  0.00 |  1.00 | -1.00 |\n",
      "C      | 15.00 | 33.00 |  0.00 |\n",
      "\n",
      "       |x1     |ge2    |1      |\n",
      "-------+-------+-------+-------+\n",
      "ge1    |[-9.00]|  2.00 |  6.00 |\n",
      "x2     | -6.00 |  1.00 |  6.00 |\n",
      "ge3    | -6.00 |  1.00 |  5.00 |\n",
      "C      |-183.00 | 33.00 |198.00 |\n",
      "\n",
      "       |ge1    |ge2    |1      |\n",
      "-------+-------+-------+-------+\n",
      "x1     | -0.11 |  0.22 |  0.67 |\n",
      "x2     |  0.67 | -0.33 |  2.00 |\n",
      "ge3    |  0.67 |[-0.33]|  1.00 |\n",
      "C      | 20.33 | -7.67 | 76.00 |\n",
      "\n",
      "       |ge1    |ge3    |1      |\n",
      "-------+-------+-------+-------+\n",
      "x1     |  0.33 | -0.67 |  1.33 |\n",
      "x2     | -0.00 |  1.00 |  1.00 |\n",
      "ge2    |  2.00 | -3.00 |  3.00 |\n",
      "C      |  5.00 | 23.00 | 53.00 |\n",
      "\n"
     ]
    },
    {
     "output_type": "execute_result",
     "data": {
      "text/plain": [
       "{'xs': array([1.33333333, 1.        ]),\n",
       " 'val': 52.99999999999999,\n",
       " 'table_xs': '       |x2     |1      |\\n-------+-------+-------+\\nx1     |  1.33 |  1.00 |\\n',\n",
       " 'table': '       |ge1    |ge3    |1      |\\n-------+-------+-------+-------+\\nx1     |  0.33 | -0.67 |  1.33 |\\nx2     | -0.00 |  1.00 |  1.00 |\\nge2    |  2.00 | -3.00 |  3.00 |\\nC      |  5.00 | 23.00 | 53.00 |\\n'}"
      ]
     },
     "metadata": {},
     "execution_count": 6
    }
   ],
   "metadata": {}
  },
  {
   "cell_type": "code",
   "execution_count": null,
   "source": [],
   "outputs": [],
   "metadata": {}
  }
 ],
 "metadata": {
  "kernelspec": {
   "name": "python3",
   "display_name": "Python 3.9.5 64-bit ('sci': conda)"
  },
  "language_info": {
   "codemirror_mode": {
    "name": "ipython",
    "version": 3
   },
   "file_extension": ".py",
   "mimetype": "text/x-python",
   "name": "python",
   "nbconvert_exporter": "python",
   "pygments_lexer": "ipython3",
   "version": "3.9.5"
  },
  "interpreter": {
   "hash": "3f7a9889b65ee3d6a00c9b687a9a8bff943d8bae5b6a5631d41cd057a4ec4502"
  }
 },
 "nbformat": 4,
 "nbformat_minor": 5
}