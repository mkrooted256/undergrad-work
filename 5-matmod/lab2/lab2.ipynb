{
 "cells": [
  {
   "cell_type": "code",
   "execution_count": 1,
   "metadata": {},
   "outputs": [],
   "source": [
    "import numpy as np\n",
    "import matplotlib as mpl\n",
    "import matplotlib.pyplot as plt"
   ]
  },
  {
   "cell_type": "markdown",
   "metadata": {},
   "source": [
    "# Math model\n",
    "\n",
    "$$\\begin{cases}\n",
    "a_{11} x_1 + ... + a_{1n}x_n = (\\le) b_{1} \\\\\n",
    "...\\\\\n",
    "a_{m1} x_1 + ... + a_{mn}x_n = (\\le) b_{n} \\\\\n",
    "x_i \\ge 0\n",
    "\\end{cases}$$\n",
    "Problem: $$L(x) = c_1 x_1 + ... + c_n x_n \\to max$$"
   ]
  },
  {
   "cell_type": "markdown",
   "metadata": {},
   "source": [
    "In other words:\n",
    "$$A = (a_{ij})$$\n",
    "$$Ax = (\\le)\\; b$$\n",
    "$$L(x) = c^Tx \\to max$$"
   ]
  },
  {
   "cell_type": "markdown",
   "metadata": {},
   "source": [
    "Linear probramming problem is **in the canonical form** when\n",
    "$$\\exists m:\\; x_i + a_{i,m+1} x_{m+1} + ... + a_{i,n} x_n = b_i, \\quad b_i \\ge 0,\\quad i=\\overline{1,m}$$\n",
    "In other words, $A$ must be in the **reduced row echelon form**:\n",
    "$$A = \\left(\\begin{array}{cccc|ccc}\n",
    "1 & 0 & ... & 0 & a_{1,m+1} & ... & a_{1,n} \\\\\n",
    "0 & 1 & ... & 0 & a_{2,m+1} & ... & a_{2,n} \\\\\n",
    "\\vdots & \\vdots & \\ddots & \\vdots & \\vdots  & \\ddots & \\vdots \\\\\n",
    "0 & 0 & ... & 1 & a_{i,m+1} & ... & a_{i,n} \\\\\n",
    "\\end{array}\\right) = \\left(\\; I \\;|\\; A'\\; \\right)$$\n",
    "And\n",
    "$$L(x) = c^T x \\to \\textbf{min}$$"
   ]
  },
  {
   "cell_type": "markdown",
   "metadata": {},
   "source": [
    "We have the following functional elements:\n",
    "\n",
    "- Basic solution: $x^{(0)} = (a_{10}, ... , a_{m0}, 0, ..., 0)^T$ (indeed, $A x^{(0)} = b$)\n",
    "- Its basis: $B = \\begin{pmatrix} 1 & 0 & ... & 0 \\\\ 0 & 1 & ... & 0 \\\\ \\vdots & \\vdots & \\ddots & \\vdots \\\\ 0 & 0 & ... & 1 \\end{pmatrix} = (e_1^T ; e_2^T ; ... ; e_m^T)$\n",
    "- Basic variables: $x_1, x_2, ..., x_m$"
   ]
  },
  {
   "cell_type": "markdown",
   "metadata": {},
   "source": [
    "# Steps\n",
    "\n",
    "## 1. Optimality test\n",
    "If $c_i<0$ for some **nonbasic** variables, let $c_k$ is with largest absulute value.\n",
    "Try increasing $x_k$.  (while the values of the basic variables are adjusted to continue satisfying the system of equations)\n",
    "\n",
    "- If $L$ is decreasing, solution is not optimal. Continue working.\n",
    "- Otherwise, we found the solution\n",
    "\n",
    "## 2. Optimize\n",
    "Find $l$ using ratio test: $\\displaystyle l = \\argmin_{0<l<n} \\frac{b_l}{A_{lk}}$.\n",
    "That means we are trying to increase $x_k$ maintaining $Ax=(\\le)b$ until the first **basic** variable ($x_l$) drops to zero.\n",
    "\n",
    "- $x_l$ is called \"leaving basic variable\"\n",
    "- $x_k$ is called \"entering basic variable\".\n",
    "- New solution is $x = ($ 0 for each basic, x_i for i nonbasic $)$\n",
    "\n",
    "### How to find x_i?\n",
    "Let $B$ is $A$ with nonbasic columns removed. $B$ is m*m.\n",
    "$$X_B = (x_{B1}, ... X_{Bm}) = B^{-1} b$$\n",
    "\n",
    "## 3. Eliminate\n",
    "Perform Gauss-Jordan elimination on the augmented matrix (A|b).\n",
    "\n",
    "### Gaussian Elimination (row-echelon form)\n",
    "$$\\begin{pmatrix}\n",
    "1 & a_{12} & a_{13} & ... & a_{1n} \\\\\n",
    "0 & 1 & a_{2_3} & ... & a_{2n} \\\\\n",
    "\\vdots & \\vdots & \\vdots & \\ddots & \\vdots\\\\\n",
    "0 & 0 & 0 & ... & 1 \\\\\n",
    "\\end{pmatrix}$$\n",
    "\n",
    "### Gauss-Jordan Elimination (**reduced** row-echelon form)\n",
    "- Matrix is in row echelon form.\n",
    "- The leading entry in each nonzero row is a 1 (called a leading 1).\n",
    "- Each column containing a leading 1 has zeros in all its other entries.\n",
    "\n",
    "\n",
    "\n",
    "\n",
    "\n",
    "\n",
    "\n",
    "\n",
    "\n",
    "\n"
   ]
  },
  {
   "cell_type": "code",
   "execution_count": 3,
   "metadata": {},
   "outputs": [],
   "source": [
    "import simplex2 as s\n",
    "import numpy as np\n",
    "from scipy.optimize import linprog"
   ]
  },
  {
   "cell_type": "code",
   "execution_count": 2,
   "metadata": {},
   "outputs": [],
   "source": [
    "c = np.array([1,1,1,0,0,0])\n",
    "A_eq = np.array([\n",
    "    [ 1, 0,  0, -1,  0, -2],\n",
    "    [ 0, 1,  0,  2, -3,  1],\n",
    "    [ 0, 0,  1,  2, -5,  6],\n",
    "])\n",
    "b_eq = np.array([5,3,5])"
   ]
  },
  {
   "cell_type": "code",
   "execution_count": 3,
   "metadata": {},
   "outputs": [
    {
     "name": "stdout",
     "output_type": "stream",
     "text": [
      "x = ( 7.1, 0.0, 0.0, 1.3, 0.0, 0.4 )\n",
      "f(x) = 7.1\n",
      "table:\n",
      "        |x2     |x5     |x3     |1      |\n",
      "-------+-------+-------+-------+-------+\n",
      "x1     | -0.20 |  2.10 | -0.30 |  7.10 |\n",
      "x4     | -0.60 |  1.30 |  0.10 |  1.30 |\n",
      "x6     |  0.20 |  0.40 | -0.20 |  0.40 |\n",
      "C      |  0.80 |  2.10 |  0.70 |  7.10 |\n",
      "\n"
     ]
    }
   ],
   "source": [
    "sm = s.Simplex()\n",
    "result = sm.minimize(c, A_eq=A_eq, b_eq=b_eq, debug=False)\n",
    "print(\"x = (\", \", \".join([f\"{x_i:.3}\" for x_i in result['x']]), \")\")\n",
    "print(f\"f(x) = {result['val']:.3}\")\n",
    "print(\"table:\\n\", result['table'])"
   ]
  },
  {
   "cell_type": "code",
   "execution_count": 4,
   "metadata": {},
   "outputs": [
    {
     "data": {
      "text/plain": [
       "     con: array([0., 0., 0.])\n",
       "     fun: 7.1000000000000005\n",
       " message: 'Optimization terminated successfully.'\n",
       "     nit: 3\n",
       "   slack: array([], dtype=float64)\n",
       "  status: 0\n",
       " success: True\n",
       "       x: array([7.1, 0. , 0. , 1.3, 0. , 0.4])"
      ]
     },
     "execution_count": 4,
     "metadata": {},
     "output_type": "execute_result"
    }
   ],
   "source": [
    "linprog(c, A_eq=A_eq, b_eq=b_eq, method='simplex')"
   ]
  },
  {
   "cell_type": "code",
   "execution_count": 10,
   "metadata": {},
   "outputs": [
    {
     "data": {
      "text/plain": [
       "     con: array([], dtype=float64)\n",
       "     fun: -5.0\n",
       " message: 'Optimization terminated successfully.'\n",
       "     nit: 5\n",
       "   slack: array([ 6., 18.,  3.,  0.,  0.])\n",
       "  status: 0\n",
       " success: True\n",
       "       x: array([8., 1.])"
      ]
     },
     "execution_count": 10,
     "metadata": {},
     "output_type": "execute_result"
    }
   ],
   "source": [
    "A = np.array([\n",
    "    [1, 1],\n",
    "    [3, -1],\n",
    "    [0, -1],\n",
    "    [-3, -2],\n",
    "    [-1, 3]\n",
    "])\n",
    "b = np.array([\n",
    "    3, 5, -4, -26, -5\n",
    "])\n",
    "c = np.array([-1,3])\n",
    "linprog(c=c, A_ub=-A, b_ub=-b, method='simplex')"
   ]
  },
  {
   "cell_type": "code",
   "execution_count": 9,
   "metadata": {},
   "outputs": [
    {
     "data": {
      "text/plain": [
       "     con: array([], dtype=float64)\n",
       "     fun: -36.0\n",
       " message: 'Optimization terminated successfully.'\n",
       "     nit: 5\n",
       "   slack: array([6., 6., 0., 0.])\n",
       "  status: 0\n",
       " success: True\n",
       "       x: array([8., 4.])"
      ]
     },
     "execution_count": 9,
     "metadata": {},
     "output_type": "execute_result"
    }
   ],
   "source": [
    "A = np.array([\n",
    "    [1, 2],\n",
    "    [1, -1],\n",
    "    [-1, -1],\n",
    "    [-3, 2]\n",
    "])\n",
    "b = np.array([\n",
    "    10, -2, -12, -16\n",
    "])\n",
    "c = np.array([-5,1])\n",
    "linprog(c=c, A_ub=-A, b_ub=-b, method='simplex')\n",
    "\n",
    "# s.Simplex(debug=True).minimize(c, None, None, A, b)\n"
   ]
  },
  {
   "cell_type": "code",
   "execution_count": null,
   "metadata": {},
   "outputs": [],
   "source": []
  }
 ],
 "metadata": {
  "interpreter": {
   "hash": "3f7a9889b65ee3d6a00c9b687a9a8bff943d8bae5b6a5631d41cd057a4ec4502"
  },
  "kernelspec": {
   "display_name": "Python 3.9.5 64-bit ('sci': conda)",
   "name": "python3"
  },
  "language_info": {
   "codemirror_mode": {
    "name": "ipython",
    "version": 3
   },
   "file_extension": ".py",
   "mimetype": "text/x-python",
   "name": "python",
   "nbconvert_exporter": "python",
   "pygments_lexer": "ipython3",
   "version": "3.9.5"
  }
 },
 "nbformat": 4,
 "nbformat_minor": 5
}
