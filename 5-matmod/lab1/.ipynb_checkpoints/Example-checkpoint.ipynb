{
 "cells": [
  {
   "cell_type": "code",
   "execution_count": 1,
   "id": "01cb8c88-e5ab-4e57-89f4-de4be4eb5352",
   "metadata": {},
   "outputs": [],
   "source": [
    "import numpy as np\n",
    "import numpy.linalg as la\n",
    "import matplotlib.pyplot as plt\n",
    "import matplotlib as mpl"
   ]
  },
  {
   "cell_type": "markdown",
   "id": "9e6284ad-891f-427c-a340-2865ac36f72f",
   "metadata": {
    "tags": []
   },
   "source": [
    "# MATHMOD:LAB1 | Example"
   ]
  },
  {
   "cell_type": "code",
   "execution_count": 2,
   "id": "1d691500-4eee-43d7-ae50-a45a0b000034",
   "metadata": {
    "tags": []
   },
   "outputs": [
    {
     "data": {
      "text/plain": [
       "array([[ 12.85,  12.32,  11.43,  10.59,  10.21,   9.65,   9.63,   9.22],\n",
       "       [154.77, 145.59, 108.37, 100.76,  98.32,  81.43,  80.97,  79.04]])"
      ]
     },
     "execution_count": 2,
     "metadata": {},
     "output_type": "execute_result"
    }
   ],
   "source": [
    "# observation data\n",
    "obs = np.array([\n",
    "    12.85, 154.77,\n",
    "    12.32, 145.59,\n",
    "    11.43, 108.37,\n",
    "    10.59, 100.76,\n",
    "    10.21, 98.32,\n",
    "    9.65, 81.43,\n",
    "    9.63, 80.97,\n",
    "    9.22, 79.04\n",
    "]).reshape(-1,2).T\n",
    "\n",
    "X = obs[0,:]\n",
    "Y = obs[1,:]\n",
    "obs"
   ]
  },
  {
   "cell_type": "markdown",
   "id": "fc8ce677-a861-4476-9bc4-83f4fc731057",
   "metadata": {},
   "source": [
    "### Utilities"
   ]
  },
  {
   "cell_type": "code",
   "execution_count": 3,
   "id": "1cdd69ac-7ef4-4a34-929d-52dd4a789f4f",
   "metadata": {},
   "outputs": [],
   "source": [
    "def corr2(A,B):\n",
    "    A = A-A.mean()\n",
    "    B = B-B.mean()\n",
    "    return (A*B).sum()**2 / ((A*A).sum() * (B*B).sum())\n",
    "\n",
    "DIGITS = 10"
   ]
  },
  {
   "cell_type": "code",
   "execution_count": 26,
   "id": "7b68846e-8cde-481f-a1b0-7ca2264f0048",
   "metadata": {},
   "outputs": [
    {
     "name": "stdout",
     "output_type": "stream",
     "text": [
      "0.9788057434897875\n",
      "Possible linear dependance indeed\n"
     ]
    }
   ],
   "source": [
    "r = np.sqrt(corr2(X, Y))\n",
    "print(r)\n",
    "if r>0.8: print(\"Possible linear dependance indeed\")"
   ]
  },
  {
   "cell_type": "markdown",
   "id": "9ac3aad5-2b9f-4ccf-a20e-b6e61f6f4301",
   "metadata": {},
   "source": [
    "Must be 0.978806. "
   ]
  },
  {
   "cell_type": "markdown",
   "id": "2c790697-02bb-4b93-beb6-a7f88181a60d",
   "metadata": {},
   "source": [
    "### Linear regression\n",
    "\n",
    "\n",
    "We want to find $a_1, a_2$ for $y(x) = a_1 + a_2 x$\n",
    "\n",
    "![Screenshot_2.png](Screenshot_2.png)\n",
    "\n",
    "\n",
    "Thus, we have a matrix equation:\n",
    "$$\n",
    "\\begin{pmatrix}\n",
    "   n & \\text{x.sum()} \\\\\n",
    "   \\text{x.sum()} & \\text{(x**2).sum()}\n",
    "\\end{pmatrix} \n",
    "\\begin{pmatrix} a_1 \\\\ a_2 \\end{pmatrix} = \\begin{pmatrix} \\text{y.sum()} \\\\ \\text{x*y} \\end{pmatrix}\n",
    "$$\n",
    "That is,\n",
    "$$\n",
    "\\begin{pmatrix} a_1 \\\\ a_2 \\end{pmatrix} = \\begin{pmatrix}\n",
    "   n & \\text{x.sum()} \\\\\n",
    "   \\text{x.sum()} & \\text{(x**2).sum()}\n",
    "\\end{pmatrix} ^{-1} \\begin{pmatrix} \\text{y.sum()} \\\\ \\text{x*y} \\end{pmatrix}\n",
    "$$\n"
   ]
  },
  {
   "cell_type": "code",
   "execution_count": 5,
   "id": "090b2581-975c-4a73-bfcd-a1c1a0a692db",
   "metadata": {},
   "outputs": [
    {
     "data": {
      "text/plain": [
       "array([[-124.38688702],\n",
       "       [  21.4708393 ]])"
      ]
     },
     "execution_count": 5,
     "metadata": {},
     "output_type": "execute_result"
    }
   ],
   "source": [
    "# matrix\n",
    "A = np.array([[X.shape[0], X.sum()], [X.sum(), (X*X).sum()]])\n",
    "# coefs / weights\n",
    "a = la.inv(A) * np.matrix([Y.sum(), (X*Y).sum()]).T\n",
    "a = np.round(a, DIGITS)\n",
    "a"
   ]
  },
  {
   "cell_type": "markdown",
   "id": "73438c4d-a0ab-460a-a34b-1e170efb4916",
   "metadata": {},
   "source": [
    "Must be \n",
    "$$\n",
    "a_1 = -124,4 \\\\\n",
    "a_2 = 21,5\n",
    "$$\n",
    "\n",
    "So,"
   ]
  },
  {
   "cell_type": "code",
   "execution_count": 6,
   "id": "f66886c8-c82b-48b4-b9cf-ab5a95b54a02",
   "metadata": {},
   "outputs": [],
   "source": [
    "def f1(x):\n",
    "    return a[0] + a[1]*x"
   ]
  },
  {
   "cell_type": "markdown",
   "id": "a0cd1e9c-bc1f-4cff-a390-3334c5cee175",
   "metadata": {},
   "source": [
    "### Analysis ($R^2$)"
   ]
  },
  {
   "cell_type": "code",
   "execution_count": 7,
   "id": "5f7330a9-27af-4a36-b4c4-25a6e8702618",
   "metadata": {},
   "outputs": [],
   "source": [
    "def R2(Y,Y1): \n",
    "    return 1 - ((Y-Y1)**2).sum() / ((Y-Y.mean())**2).sum()"
   ]
  },
  {
   "cell_type": "markdown",
   "id": "c1ae0e8d-6eca-43df-8b70-bf19eb09bb7b",
   "metadata": {},
   "source": [
    "**1. Our method**"
   ]
  },
  {
   "cell_type": "code",
   "execution_count": 8,
   "id": "f0b13c28-73bf-49d4-a7e6-a2539644b37e",
   "metadata": {},
   "outputs": [
    {
     "name": "stdout",
     "output_type": "stream",
     "text": [
      "[[ 12.85        12.32        11.43        10.59        10.21\n",
      "    9.65         9.63         9.22      ]\n",
      " [154.77       145.59       108.37       100.76        98.32\n",
      "   81.43        80.97        79.04      ]\n",
      " [151.51339803 140.1338532  121.02480622 102.9893012   94.83038227\n",
      "   82.80671226  82.37729547  73.57425136]]\n",
      "R2 = 0.9580606834885963\n"
     ]
    }
   ],
   "source": [
    "Y1 = f1(X)\n",
    "\n",
    "data = np.vstack([X,Y,Y1])\n",
    "print(data)\n",
    "r2 = R2(Y,Y1)\n",
    "print(\"R2 =\", r2)"
   ]
  },
  {
   "cell_type": "markdown",
   "id": "d8edb1f3-9c2d-4250-b32b-7b337fd631f8",
   "metadata": {},
   "source": [
    "**2. NumPy method** (rounded to 4 digits after decimal dot)"
   ]
  },
  {
   "cell_type": "code",
   "execution_count": 9,
   "id": "fe0131d8-c16c-4cbd-97e6-e32e9aa218dd",
   "metadata": {},
   "outputs": [
    {
     "data": {
      "text/plain": [
       "array([-124.38688702,   21.4708393 ])"
      ]
     },
     "execution_count": 9,
     "metadata": {},
     "output_type": "execute_result"
    }
   ],
   "source": [
    "f2 = np.polynomial.Polynomial(np.round(np.polynomial.Polynomial.fit(X,Y,1).convert().coef, DIGITS))\n",
    "f2.coef"
   ]
  },
  {
   "cell_type": "code",
   "execution_count": 11,
   "id": "5605d49a-0293-47b3-82d1-e6120c49e8ad",
   "metadata": {},
   "outputs": [
    {
     "name": "stdout",
     "output_type": "stream",
     "text": [
      "[[ 12.85        12.32        11.43        10.59        10.21\n",
      "    9.65         9.63         9.22      ]\n",
      " [154.77       145.59       108.37       100.76        98.32\n",
      "   81.43        80.97        79.04      ]\n",
      " [151.51339803 140.1338532  121.02480622 102.9893012   94.83038227\n",
      "   82.80671226  82.37729547  73.57425136]]\n",
      "R2 = 0.9580606834885963\n"
     ]
    }
   ],
   "source": [
    "Y2 = f2(X)\n",
    "\n",
    "data = np.vstack([X,Y,Y2])\n",
    "print(data)\n",
    "r2 = R2(Y,Y2)\n",
    "\n",
    "print(\"R2 =\", r2)"
   ]
  },
  {
   "cell_type": "markdown",
   "id": "f82c72b1-3acd-462a-8a9a-82fbdc43e0be",
   "metadata": {},
   "source": [
    "**3. Graph**"
   ]
  },
  {
   "cell_type": "code",
   "execution_count": 28,
   "id": "e5ac2068-452b-48db-8c90-a262571ac350",
   "metadata": {},
   "outputs": [
    {
     "data": {
      "text/plain": [
       "<matplotlib.legend.Legend at 0x145e9383eb0>"
      ]
     },
     "execution_count": 28,
     "metadata": {},
     "output_type": "execute_result"
    },
    {
     "data": {
      "image/png": "[encoded data removed]",
      "text/plain": [
       "<Figure size 432x288 with 1 Axes>"
      ]
     },
     "metadata": {
      "needs_background": "light"
     },
     "output_type": "display_data"
    }
   ],
   "source": [
    "plt.scatter(X, Y, label='Real data')\n",
    "l = np.linspace(X.min(), X.max(), 100)\n",
    "plt.plot(l, f1(l), c='r', label='Predictor')\n",
    "plt.scatter(X, Y1, c='r', label='Predicted data')\n",
    "plt.legend()"
   ]
  },
  {
   "cell_type": "markdown",
   "id": "9daaabfa-1090-4f2a-81de-41db87926087",
   "metadata": {},
   "source": [
    "### Results\n",
    "\n",
    "1. Both methods gave the same results (predictor coeffitients) up to the 10+ decimal digits\n",
    "2. R^2 = 0.958. That is, model is appliable"
   ]
  },
  {
   "cell_type": "code",
   "execution_count": null,
   "id": "49f24628-38c2-4446-96ae-7a1be495e775",
   "metadata": {},
   "outputs": [],
   "source": []
  }
 ],
 "metadata": {
  "kernelspec": {
   "display_name": "Python [conda env:sci]",
   "language": "python",
   "name": "conda-env-sci-py"
  },
  "language_info": {
   "codemirror_mode": {
    "name": "ipython",
    "version": 3
   },
   "file_extension": ".py",
   "mimetype": "text/x-python",
   "name": "python",
   "nbconvert_exporter": "python",
   "pygments_lexer": "ipython3",
   "version": "3.9.5"
  }
 },
 "nbformat": 4,
 "nbformat_minor": 5
}
