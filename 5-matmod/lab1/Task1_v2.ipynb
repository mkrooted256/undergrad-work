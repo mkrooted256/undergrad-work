{
 "cells": [
  {
   "cell_type": "code",
   "execution_count": 1,
   "source": [
    "import numpy as np\r\n",
    "import numpy.linalg as la\r\n",
    "import matplotlib.pyplot as plt\r\n",
    "import matplotlib as mpl"
   ],
   "outputs": [],
   "metadata": {}
  },
  {
   "cell_type": "markdown",
   "source": [
    "# MATHMOD:LAB1 | Task"
   ],
   "metadata": {
    "tags": []
   }
  },
  {
   "cell_type": "code",
   "execution_count": 2,
   "source": [
    "# observation data\r\n",
    "obs = np.array([\r\n",
    "    0.024, 11.7, \r\n",
    "    0.038, 12.7, \r\n",
    "    0.04, 15.5, \r\n",
    "    0.045, 16.8, \r\n",
    "    0.047, 16.7, \r\n",
    "    0.0578, 17.5, \r\n",
    "    0.0629, 18.5, \r\n",
    "    0.0629, 18.7, \r\n",
    "    0.063, 18.8, \r\n",
    "    0.064, 19.5, \r\n",
    "    0.0678, 20.8, \r\n",
    "    0.0691, 20.3, \r\n",
    "    0.071, 23.3, \r\n",
    "    0.0742, 23.2, \r\n",
    "    0.0752, 23.7, \r\n",
    "    0.077, 24.4, \r\n",
    "    0.0779, 28.9, \r\n",
    "    0.0781, 25.8, \r\n",
    "    0.0787, 29.5, \r\n",
    "    0.0789, 23.3, \r\n",
    "    0.0791, 22.5, \r\n",
    "    0.0862, 26.2, \r\n",
    "    0.0867, 29.7, \r\n",
    "    0.0877, 33.8, \r\n",
    "    0.089, 35, \r\n",
    "    0.0897, 32, \r\n",
    "    0.096, 40, \r\n",
    "    0.098, 41, \r\n",
    "    0.099, 43.8\r\n",
    "]).reshape(-1,2)\r\n",
    "\r\n",
    "X = obs[:,0]\r\n",
    "Y = obs[:,1]\r\n",
    "obs.shape, X.shape"
   ],
   "outputs": [
    {
     "output_type": "execute_result",
     "data": {
      "text/plain": [
       "((29, 2), (29,))"
      ]
     },
     "metadata": {},
     "execution_count": 2
    }
   ],
   "metadata": {
    "tags": []
   }
  },
  {
   "cell_type": "markdown",
   "source": [
    "### Utilities"
   ],
   "metadata": {}
  },
  {
   "cell_type": "code",
   "execution_count": 3,
   "source": [
    "# Functions:\r\n",
    "\r\n",
    "def corr2(A,B):\r\n",
    "    A = A-A.mean()\r\n",
    "    B = B-B.mean()\r\n",
    "    return (A*B).sum()**2 / ((A*A).sum() * (B*B).sum())\r\n",
    "\r\n",
    "def r2(X,Y,Ypred):\r\n",
    "    return 1 - ((Y-Ypred)**2).sum() / ((Y-Y.mean())**2).sum()\r\n",
    "\r\n",
    "# Predictors:\r\n",
    "\r\n",
    "def Mlin(w):\r\n",
    "    def f(x): return w[1] + w[0]*x\r\n",
    "    return f\r\n",
    "\r\n",
    "def Mpoly2(w):\r\n",
    "    def f(x): return w[2] + w[1]*x + w[0]*x*x\r\n",
    "    return f\r\n",
    "\r\n",
    "def Mlog(w):\r\n",
    "    def f(x): return w[1] + w[0]*np.log(x)\r\n",
    "    return f\r\n",
    "\r\n",
    "def Mexp(w):\r\n",
    "    def f(x): return w[1] * np.exp(w[0] * x)\r\n",
    "    return f\r\n",
    "\r\n",
    "DIGITS = 10"
   ],
   "outputs": [],
   "metadata": {}
  },
  {
   "cell_type": "markdown",
   "source": [
    "### Data at first glance (graph + descriptive statistics)"
   ],
   "metadata": {}
  },
  {
   "cell_type": "code",
   "execution_count": 4,
   "source": [
    "r = np.sqrt(corr2(X, Y))\r\n",
    "print(r)\r\n",
    "if r>0.8: print(\"Possible linear dependance\")"
   ],
   "outputs": [
    {
     "output_type": "stream",
     "name": "stdout",
     "text": [
      "0.9055795650478515\n",
      "Possible linear dependance\n"
     ]
    }
   ],
   "metadata": {}
  },
  {
   "cell_type": "code",
   "execution_count": 5,
   "source": [
    "plt.scatter(X,Y)"
   ],
   "outputs": [
    {
     "output_type": "execute_result",
     "data": {
      "text/plain": [
       "<matplotlib.collections.PathCollection at 0x1b09ae49a30>"
      ]
     },
     "metadata": {},
     "execution_count": 5
    },
    {
     "output_type": "display_data",
     "data": {
      "image/png": "[encoded data removed]",
      "text/plain": [
       "<Figure size 432x288 with 1 Axes>"
      ]
     },
     "metadata": {
      "needs_background": "light"
     }
    }
   ],
   "metadata": {}
  },
  {
   "cell_type": "markdown",
   "source": [
    "- Схожий на експоненту зріст\n",
    "- Може гарно підійти поліноміальна ф-ція"
   ],
   "metadata": {}
  },
  {
   "cell_type": "code",
   "execution_count": null,
   "source": [],
   "outputs": [],
   "metadata": {}
  },
  {
   "cell_type": "markdown",
   "source": [
    "## Linear, Polynomial and Log Regression\n",
    "\n",
    "Consider\n",
    "$$\n",
    "A_{lin} = \\begin{pmatrix} \n",
    "x_0 & 1 \\\\\n",
    "x_1 & 1 \\\\\n",
    "... \\\\\n",
    "x_n & 1\n",
    "\\end{pmatrix}\\quad\n",
    "A_{poly2} = \\begin{pmatrix} \n",
    "x_0^2 & x_0 & 1 \\\\\n",
    "x_1^2 & x_1 & 1 \\\\\n",
    "... \\\\\n",
    "x_n^2 & x_n & 1\n",
    "\\end{pmatrix}\\quad\n",
    "A_{log} = \\begin{pmatrix} \n",
    "\\log(x_0) & 1 \\\\\n",
    "\\log(x_1) & 1 \\\\\n",
    "... \\\\\n",
    "\\log(x_n) & 1\n",
    "\\end{pmatrix}\\quad\n",
    "$$\n",
    "and weights / coefs $w = \\begin{pmatrix} w_0 \\\\ w_1 \\end{pmatrix}$ or $w = \\begin{pmatrix} w_0 \\\\ w_1 \\\\ w_2 \\end{pmatrix}$ \n",
    "\n",
    "We want to find such $w$ so error $\\|\\operatorname A w - Y_{obs}\\|^2$ is minimal => $\\nabla = 0$"
   ],
   "metadata": {}
  },
  {
   "cell_type": "markdown",
   "source": [
    "## Exponential regression\r\n",
    "\r\n",
    "Model is $$f(x) = a \\cdot b ^ x  = \\omega_0 \\cdot \\exp (\\omega_1 \\cdot x)$$\r\n",
    "\r\n",
    "This is not a multilinear model. **But**, we can make it linear using log-scale:\r\n",
    "$$ \\log y = \\log f(x) = \\log (\\omega_0 \\cdot \\exp (\\omega_1 \\cdot x)) = \\log \\omega_0 + \\log (\\exp (\\omega_1 \\cdot x))$$\r\n",
    "$$ \\log y = \\log \\omega_0 + \\omega_1 \\cdot x $$\r\n",
    "$$ \\log y = \\omega_0' + \\omega_1 \\cdot x $$\r\n",
    "where $\\omega_0 = e^{\\omega_0'}$\r\n",
    "\r\n",
    "That is, we can write $A_{exp}$ and one more regression equation for this new problem:\r\n",
    "$$A_{exp} = \\begin{pmatrix}\r\n",
    "1 & x_0 \\\\\r\n",
    "1 & x_1 \\\\\r\n",
    "...\\\\\r\n",
    "1 & x_n\r\n",
    "\\end{pmatrix}$$\r\n",
    "And\r\n",
    "$$\r\n",
    "\\log y = z = A_{exp} \\cdot (\\omega_0' , \\omega_1)^T \r\n",
    "$$"
   ],
   "metadata": {}
  },
  {
   "cell_type": "markdown",
   "source": [
    "## General method\n",
    "We are doing a **multilinear regression** where $A_{ij}$ is a value of the j-th variable in the i-th observation "
   ],
   "metadata": {}
  },
  {
   "cell_type": "markdown",
   "source": [
    "There is a well known method of finding best weights for **ordinary least squares**:\n",
    "\n",
    "$$\n",
    "w = (A^T A)^{-1} A^T y\n",
    "$$\n",
    "\n",
    "All we need to do is evaluate this expression for every $A$, build corresponding model and grade \n",
    "\n",
    "#### Note for exponential regression:\n",
    "$$\n",
    "w_{exp} = (A_{exp}^T A_{exp})^{-1} A_{exp}^T \\log(y)\n",
    "$$"
   ],
   "metadata": {}
  },
  {
   "cell_type": "markdown",
   "source": [
    "### 0. Preparing 4 $A$ matrices"
   ],
   "metadata": {}
  },
  {
   "cell_type": "code",
   "execution_count": 6,
   "source": [
    "Alin = np.array([X, np.ones_like(X)]).T\r\n",
    "Apoly2 = np.array([X*X, X, np.ones_like(X)]).T\r\n",
    "Aexp = np.array([X, np.ones_like(X)]).T\r\n",
    "Alog = np.array([np.log(X), np.ones_like(X)]).T\r\n",
    "\r\n",
    "As = [Alin, Apoly2, Alog]\r\n",
    "for i in As: print(i.shape)\r\n",
    "print(Aexp.shape)"
   ],
   "outputs": [
    {
     "output_type": "stream",
     "name": "stdout",
     "text": [
      "(29, 2)\n",
      "(29, 3)\n",
      "(29, 2)\n",
      "(29, 2)\n"
     ]
    }
   ],
   "metadata": {}
  },
  {
   "cell_type": "markdown",
   "source": [
    "### 1. Calculating 4 weights vectors\n",
    "using $w = (A^T A)^{-1} A^T y$ for each $A$"
   ],
   "metadata": {}
  },
  {
   "cell_type": "code",
   "execution_count": 7,
   "source": [
    "Ws = [la.inv(A.T @ A) @ A.T @ Y for A in As]\r\n",
    "Wexp = la.inv(Aexp.T @ Aexp) @ Aexp.T @ np.log(Y)\r\n",
    "Wexp[1] = np.exp(Wexp[1])\r\n",
    "\r\n",
    "print(\"Lin fit: \",Ws[0][1],\"+\",Ws[0][0],\"x\")\r\n",
    "print(\"Poly2 fit: \",Ws[1][2],\"+\",Ws[1][1],\"x +\",Ws[1][0],\"x^2\")\r\n",
    "print(\"Exp fit: \",Wexp[1],\"* (\",np.exp(Wexp[0]),\") ^ x\")\r\n",
    "print(\"Lin fit: \",Ws[2][1],\"+\",Ws[2][0],\"log(x)\")"
   ],
   "outputs": [
    {
     "output_type": "stream",
     "name": "stdout",
     "text": [
      "Lin fit:  -3.940704950851397 + 401.1243003898881 x\n",
      "Poly2 fit:  22.061646556013976 + -481.8427892008863 x + 6815.430488195347 x^2\n",
      "Exp fit:  6.929284452557184 * ( 25448819.640675373 ) ^ x\n",
      "Lin fit:  81.69547774237877 + 21.25373940650688 log(x)\n"
     ]
    }
   ],
   "metadata": {}
  },
  {
   "cell_type": "markdown",
   "source": [
    "### 2. Model compilation and analysis"
   ],
   "metadata": {}
  },
  {
   "cell_type": "code",
   "execution_count": 8,
   "source": [
    "Ms = [Mlin(Ws[0]), Mpoly2(Ws[1]), Mexp(Wexp), Mlog(Ws[2])]\r\n",
    "label = [\"lin\", \"poly\", \"exp\", \"log\"]\r\n",
    "c = ['r','g','b','k']\r\n",
    "xspace = np.linspace(X.min(), X.max(), 100)\r\n",
    "\r\n",
    "plt.scatter(X,Y)\r\n",
    "for i in range(0,4):\r\n",
    "    plt.plot(xspace, Ms[i](xspace), label=label[i], c=c[i])\r\n",
    "    r = r2(X,Y,Ms[i](X))\r\n",
    "    print(label[i], \": r^2 =\", r, \" - success\" if r > 0.85 else \"\")\r\n",
    "plt.legend()"
   ],
   "outputs": [
    {
     "output_type": "stream",
     "name": "stdout",
     "text": [
      "lin : r^2 = 0.820074348632256 \n",
      "poly : r^2 = 0.9381488875142406  - success\n",
      "exp : r^2 = 0.9021138514235943  - success\n",
      "log : r^2 = 0.6822155002045898 \n"
     ]
    },
    {
     "output_type": "execute_result",
     "data": {
      "text/plain": [
       "<matplotlib.legend.Legend at 0x1b09b5fa370>"
      ]
     },
     "metadata": {},
     "execution_count": 8
    },
    {
     "output_type": "display_data",
     "data": {
      "image/png": "[encoded data removed]",
      "text/plain": [
       "<Figure size 432x288 with 1 Axes>"
      ]
     },
     "metadata": {
      "needs_background": "light"
     }
    }
   ],
   "metadata": {}
  },
  {
   "cell_type": "markdown",
   "source": [
    "### 3. Results\n",
    "\n",
    "- **2-nd degree polynomial** appears to be the best fit with **r^2 = 0.94**;\n",
    "- Exponent fit is applicable as r^2 = 0.9; but not as good as poly2; \n",
    "- Linear fit is kinda bad, but may be okay in some range of xs\n",
    "- Logarithm is the worst"
   ],
   "metadata": {}
  },
  {
   "cell_type": "code",
   "execution_count": null,
   "source": [],
   "outputs": [],
   "metadata": {}
  }
 ],
 "metadata": {
  "kernelspec": {
   "name": "python3",
   "display_name": "Python 3.9.5 64-bit ('sci': conda)"
  },
  "language_info": {
   "codemirror_mode": {
    "name": "ipython",
    "version": 3
   },
   "file_extension": ".py",
   "mimetype": "text/x-python",
   "name": "python",
   "nbconvert_exporter": "python",
   "pygments_lexer": "ipython3",
   "version": "3.9.5"
  },
  "interpreter": {
   "hash": "3f7a9889b65ee3d6a00c9b687a9a8bff943d8bae5b6a5631d41cd057a4ec4502"
  }
 },
 "nbformat": 4,
 "nbformat_minor": 5
}