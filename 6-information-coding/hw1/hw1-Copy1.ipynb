{
 "cells": [
  {
   "cell_type": "code",
   "execution_count": 1,
   "id": "dfeea481-555e-4d6a-849a-44e861d5e144",
   "metadata": {},
   "outputs": [],
   "source": [
    "import numpy as np"
   ]
  },
  {
   "cell_type": "markdown",
   "id": "010c5684-fdb4-42da-b769-d0ce052fe993",
   "metadata": {
    "tags": []
   },
   "source": [
    "# ТІК - Домашнє завдання 1\n",
    "**Михайло Корешков, ФІ-91**\n",
    "\n",
    "## Завдання 1. \n",
    "Розташувати в порядку зростання ентропії:\n",
    "\n",
    "1) 5w, 4b\n",
    "2) 5w, 5b\n",
    "3) 6w, 4b\n",
    "4) 6w, 6b\n",
    "\n",
    "Для оцінки ентропії застосовуватиму ентропію Шеннона\n",
    "$$H(p_w, p_b) = -(p_w \\log p_w + p_b \\log p_b)$$"
   ]
  },
  {
   "cell_type": "code",
   "execution_count": 44,
   "id": "16d953f5-a7aa-484f-a6d2-30e23e699937",
   "metadata": {},
   "outputs": [],
   "source": [
    "# Перелік чотирьох конфігурацій\n",
    "N=10\n",
    "configurations = [\n",
    "    (N,N),\n",
    "    (N,N-1),\n",
    "    (N-1,N-1),\n",
    "    (N-1,N-1,N-1),\n",
    "    (N-1,N-1,N)\n",
    "]"
   ]
  },
  {
   "cell_type": "code",
   "execution_count": 45,
   "id": "794445e8-2cd0-42c5-b7b9-3d4f798cce48",
   "metadata": {},
   "outputs": [],
   "source": [
    "# Функція, що обчислює ентропію конфігурації\n",
    "def H(conf):\n",
    "    conf = np.array(conf)\n",
    "    conf = conf / conf.sum()\n",
    "    return -(conf * np.log(conf)).sum()"
   ]
  },
  {
   "cell_type": "code",
   "execution_count": 46,
   "id": "d74f39cd-68da-4f32-bea8-82ca57d41c3d",
   "metadata": {},
   "outputs": [
    {
     "name": "stdout",
     "output_type": "stream",
     "text": [
      "Ентропії конфігурацій:\n",
      " H_1 = 0.6931 - entropy of [0.5 0.5]\n",
      " H_2 = 0.6918 - entropy of [0.52631579 0.47368421]\n",
      " H_3 = 0.6931 - entropy of [0.5 0.5]\n",
      " H_4 = 1.0986 - entropy of [0.33333333 0.33333333 0.33333333]\n",
      " H_5 = 1.0974 - entropy of [0.32142857 0.32142857 0.35714286]\n",
      "\n",
      "Конфігурації в порядку зростання ентропії:\n",
      "[(10, 9), (10, 10), (9, 9), (9, 9, 10), (9, 9, 9)]\n"
     ]
    }
   ],
   "source": [
    "print(\"Ентропії конфігурацій:\")\n",
    "Hs = dict()\n",
    "for k,v in enumerate(configurations):\n",
    "    Hs[k+1] = H(v)\n",
    "    print(f\" H_{k+1} = {H(v):.4f} - entropy of {v/(np.array(v).sum())}\")\n",
    "\n",
    "print(\"\\nКонфігурації в порядку зростання ентропії:\")\n",
    "print([configurations[k[0]-1] for k in sorted(Hs.items(), key = (lambda kv: kv[1]))])"
   ]
  },
  {
   "cell_type": "code",
   "execution_count": 47,
   "id": "a39f3717-27d9-43f3-96e6-4479b80ac99d",
   "metadata": {},
   "outputs": [
    {
     "data": {
      "text/plain": [
       "0.6931471805599453"
      ]
     },
     "execution_count": 47,
     "metadata": {},
     "output_type": "execute_result"
    }
   ],
   "source": [
    "H([0.5, 0.5])"
   ]
  },
  {
   "cell_type": "code",
   "execution_count": null,
   "id": "59a669cc-d049-4046-8b0a-992db13029b5",
   "metadata": {},
   "outputs": [],
   "source": []
  }
 ],
 "metadata": {
  "kernelspec": {
   "display_name": "Python 3 (ipykernel)",
   "language": "python",
   "name": "python3"
  },
  "language_info": {
   "codemirror_mode": {
    "name": "ipython",
    "version": 3
   },
   "file_extension": ".py",
   "mimetype": "text/x-python",
   "name": "python",
   "nbconvert_exporter": "python",
   "pygments_lexer": "ipython3",
   "version": "3.9.10"
  }
 },
 "nbformat": 4,
 "nbformat_minor": 5
}
