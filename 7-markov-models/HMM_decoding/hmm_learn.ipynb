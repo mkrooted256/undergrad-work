{
 "cells": [
  {
   "cell_type": "code",
   "execution_count": 24,
   "metadata": {},
   "outputs": [],
   "source": [
    "import numpy as np\n",
    "import scipy as sp"
   ]
  },
  {
   "cell_type": "code",
   "execution_count": 25,
   "metadata": {},
   "outputs": [],
   "source": [
    "from collections import namedtuple"
   ]
  },
  {
   "cell_type": "code",
   "execution_count": 2,
   "metadata": {},
   "outputs": [],
   "source": [
    "TEXTFILE = \"1251.full.peter-watts-starfish.txt\"\n",
    "N_OBSERVATIONS = 50000"
   ]
  },
  {
   "cell_type": "code",
   "execution_count": 60,
   "metadata": {},
   "outputs": [],
   "source": [
    "LETTERS = bytes(\" 'іґєїабвгдежзийклмнопрстуфхцчшщьюя\", '1251')\n",
    "\n",
    "def notalpha(c):\n",
    "    return c < 0xBF and c!=0x20 and c!=0xA5 and c!= 0xAA and c!=0x27 and c!=0xAf and c!=0xB2 and c!=0xB3 and c!=0xB4 and c!= 0xBA\n",
    "\n",
    "def tolower(c):\n",
    "    # if c < 0 or c > 255: return None\n",
    "    dict = (0x0, 0x1, 0x2, 0x3, 0x4, 0x5, 0x6, 0x7, 0x8, 0x9, 0xa, 0xb, 0xc, 0xd, 0xe, 0xf, 0x10, 0x11, 0x12, 0x13, 0x14, 0x15, 0x16, 0x17, 0x18, 0x19, 0x1a, 0x1b, 0x1c, 0x1d, 0x1e, 0x1f, 0x20, 0x21, 0x22, 0x23, 0x24, 0x25, 0x26, 0x27, 0x28, 0x29, 0x2a, 0x2b, 0x2c, 0x2d, 0x2e, 0x2f, 0x30, 0x31, 0x32, 0x33, 0x34, 0x35, 0x36, 0x37, 0x38, 0x39, 0x3a, 0x3b, 0x3c, 0x3d, 0x3e, 0x3f, 0x40, 0x61, 0x62, 0x63, 0x64, 0x65, 0x66, 0x67, 0x68, 0x69, 0x6a, 0x6b, 0x6c, 0x6d, 0x6e, 0x6f, 0x70, 0x71, 0x72, 0x73, 0x74, 0x75, 0x76, 0x77, 0x78, 0x79, 0x7a, 0x5b, 0x5c, 0x5d, 0x5e, 0x5f, 0x60, 0x61, 0x62, 0x63, 0x64, 0x65, 0x66, 0x67, 0x68, 0x69, 0x6a, 0x6b, 0x6c, 0x6d, 0x6e, 0x6f, 0x70, 0x71, 0x72, 0x73, 0x74, 0x75, 0x76, 0x77, 0x78, 0x79, 0x7a, 0x7b, 0x7c, 0x7d, 0x7e, 0x7f, 0x90, 0x83, 0x82, 0x83, 0x84, 0x85, 0x86, 0x87, 0x88, 0x89, 0x9a, 0x8b, 0x9c, 0x9d, 0x9e, 0x9f, 0x90, 0x91, 0x92, 0x93, 0x94, 0x95, 0x96, 0x97, 0x98, 0x99, 0x9a, 0x9b, 0x9c, 0x9d, 0x9e, 0x9f, 0xa0, 0xa2, 0xa2, 0xbc, 0xa4, 0xb4, 0xa6, 0xa7, 0xb8, 0xa9, 0xba, 0xab, 0xac, 0xad, 0xae, 0xbf, 0xb0, 0xb1, 0xb3, 0xb3, 0xb4, 0xb5, 0xb6, 0xb7, 0xb8, 0xb9, 0xba, 0xbb, 0xbc, 0xbe, 0xbe, 0xbf, 0xe0, 0xe1, 0xe2, 0xe3, 0xe4, 0xe5, 0xe6, 0xe7, 0xe8, 0xe9, 0xea, 0xeb, 0xec, 0xed, 0xee, 0xef, 0xf0, 0xf1, 0xf2, 0xf3, 0xf4, 0xf5, 0xf6, 0xf7, 0xf8, 0xf9, 0xfa, 0xfb, 0xfc, 0xfd, 0xfe, 0xff, 0xe0, 0xe1, 0xe2, 0xe3, 0xe4, 0xe5, 0xe6, 0xe7, 0xe8, 0xe9, 0xea, 0xeb, 0xec, 0xed, 0xee, 0xef, 0xf0, 0xf1, 0xf2, 0xf3, 0xf4, 0xf5, 0xf6, 0xf7, 0xf8, 0xf9, 0xfa, 0xfb, 0xfc, 0xfd, 0xfe, 0xff)\n",
    "    return dict[c]\n",
    "\n",
    "def read_textfile(file, char_limit=1000000):\n",
    "    data = bytearray()\n",
    "    with open(file, 'rb') as f:\n",
    "        checkpoint = 10000\n",
    "        n_res_bytes = 0\n",
    "        n_read_bytes = 0\n",
    "        counter = 0\n",
    "\n",
    "        c = 0x20\n",
    "        prev_c = ' '\n",
    "        prev_w = True\n",
    "        while True:\n",
    "            n_read_bytes += 1\n",
    "            d = f.read(1)\n",
    "            if len(d) == 0:\n",
    "                c = None\n",
    "                break\n",
    "            c = d[0]\n",
    "\n",
    "            if notalpha(c): \n",
    "                # print(f\"'{c}' is not alpha\")\n",
    "                c = 0x20\n",
    "            if c == 0x20:\n",
    "                # print(\"space\")\n",
    "                if prev_w: continue\n",
    "                prev_w = True\n",
    "            else:\n",
    "                prev_w = False\n",
    "            \n",
    "            c = tolower(c)\n",
    "            # print(f\"tolower {c}\")\n",
    "            data.append(c)\n",
    "            prev_c = c\n",
    "            counter += 1\n",
    "            n_res_bytes += 1\n",
    "            if counter == checkpoint:\n",
    "                counter = 0\n",
    "                print(f\"read checkpoint {n_res_bytes} ({n_read_bytes})\")\n",
    "            if n_res_bytes > char_limit: \n",
    "                break\n",
    "        print(\"read - end\")\n",
    "    return data\n"
   ]
  },
  {
   "cell_type": "code",
   "execution_count": 57,
   "metadata": {},
   "outputs": [
    {
     "data": {
      "text/plain": [
       "True"
      ]
     },
     "execution_count": 57,
     "metadata": {},
     "output_type": "execute_result"
    }
   ],
   "source": [
    "notalpha(0x0)"
   ]
  },
  {
   "cell_type": "code",
   "execution_count": 17,
   "metadata": {},
   "outputs": [],
   "source": [
    "def count_freqs(data):\n",
    "    freqs = dict()\n",
    "    for c in data:\n",
    "        n = freqs.setdefault(c, 0)\n",
    "        freqs[c] = n+1\n",
    "    return freqs"
   ]
  },
  {
   "attachments": {},
   "cell_type": "markdown",
   "metadata": {},
   "source": [
    "---"
   ]
  },
  {
   "cell_type": "code",
   "execution_count": 38,
   "metadata": {},
   "outputs": [],
   "source": [
    "BaumWelch_params = namedtuple('BaumWelch_params', 'max_iter, eps, n_hidden_states, n_observation_states, n_observations')"
   ]
  },
  {
   "cell_type": "code",
   "execution_count": 108,
   "metadata": {},
   "outputs": [],
   "source": [
    "# X, Y: T\n",
    "# mu: 1xN\n",
    "# A: NxN\n",
    "# B: NxM\n",
    "\n",
    "# P_lambda(Y0=y0,...,YT=yT) = alpha[T].sum()\n",
    "def calculate_alpha(Y, estMu, estA, estB, params):\n",
    "    N, M, T = params.n_hidden_states, params.n_observation_states, params.n_observations\n",
    "    alpha = np.empty((T, N))\n",
    "    C = np.empty(T)\n",
    "\n",
    "    alpha[0] = estMu * estB[:, Y[0]]\n",
    "    C[0] = 1/alpha[0].sum()\n",
    "    alpha[0] *= C[0]\n",
    "    \n",
    "    for t in range(1, T):\n",
    "        alpha[t] = alpha[t-1] @ estA @ estB[:, Y[t]]\n",
    "        C[t] = 1/alpha[t].sum()\n",
    "        alpha[t] *= C[t]\n",
    "    \n",
    "    if alpha.shape != (T, N): raise \"ShapeMismatch\"\n",
    "    return alpha, C\n",
    "\n",
    "# P_lambda(Y0=y0,...,YT=yT) = Mu * beta[0] @ B\n",
    "def calculate_beta(C, Y, estMu, estA, estB, params):\n",
    "    N, M, T = params.n_hidden_states, params.n_observation_states, params.n_observations\n",
    "    beta = np.empty((T, N))\n",
    "\n",
    "    beta[T-1] = C[T-1]\n",
    "\n",
    "    for t in range(T-2, -1, -1):\n",
    "        beta[t] = (beta[t+1] @ estA @ estB[:, Y[t+1]]) * C[t]\n",
    "\n",
    "    if beta.shape != (T, N): raise \"ShapeMismatch\"\n",
    "    return beta\n",
    "\n",
    "def calculate_gamma(alpha, beta, params):\n",
    "    N, M, T = params.n_hidden_states, params.n_observation_states, params.n_observations\n",
    "    gamma = np.empty((T, N))\n",
    "    gamma = alpha * beta\n",
    "    gamma = gamma / gamma.sum(axis=1, keepdims=True)\n",
    "    \n",
    "    if gamma.shape != (T, N): raise \"ShapeMismatch\"\n",
    "    return gamma\n",
    "        \n",
    "def calculate_xi(alpha, beta, Y, estMu, estA, estB, params):\n",
    "    N, M, T = params.n_hidden_states, params.n_observation_states, params.n_observations\n",
    "    xi = np.empty((T, N, N))\n",
    "    for t in range(0, T-1):\n",
    "        xi[t] = alpha[t] * estA * estB[:, Y[t+1]].reshape(-1,1) * beta[t+1].reshape(-1,1)\n",
    "        # unneeded because Nilsson says this sum is 1 anyway for scaled alpha and beta\n",
    "        # xi[t] /= xi[t].sum()  \n",
    "    # print(\"xi sum mean: \", xi.sum(axis=1).mean())\n",
    "    \n",
    "    if xi.shape != (T, N, N): raise \"ShapeMismatch\"\n",
    "    return xi\n",
    "\n",
    "def reestimate(alpha, beta, gamma, xi, Y, params):\n",
    "    N, M, T = params.n_hidden_states, params.n_observation_states, params.n_observations\n",
    "\n",
    "    estMu = gamma[0]\n",
    "    estA = xi.sum(axis=0) / gamma[:-1].sum(axis=0)\n",
    "    \n",
    "    estB = np.empty((N,M))\n",
    "    for t in range(0, T):\n",
    "        estB[:,Y[t]] += gamma[t]\n",
    "    estB = estB / gamma.sum(axis=0).reshape(-1,1)\n",
    "\n",
    "    return estMu, estA, estB\n",
    "\n",
    "def evaluate(C):\n",
    "    # мінус _потрібен_!\n",
    "    return -np.log(C).sum()\n",
    "\n",
    "def learn_iterate(Y, Mu, A, B, params, alpha=None, c=None):\n",
    "    if (alpha is None or c is None):\n",
    "        alpha, c = calculate_alpha(Y, Mu, A, B, params)\n",
    "    beta = calculate_beta(c, Y, Mu, A, B, params)\n",
    "    gamma = calculate_gamma(alpha, beta, params)\n",
    "    xi = calculate_xi(alpha, beta, Y, Mu, A, B, params)\n",
    "    return reestimate(alpha, beta, gamma, xi, Y, params)"
   ]
  },
  {
   "cell_type": "code",
   "execution_count": 88,
   "metadata": {},
   "outputs": [],
   "source": [
    "BaumWelch_init = namedtuple('BaumWelch_init', 'Mu, A, B')\n",
    "BaumWelch_result = namedtuple('BaumWelch_result', 'Mu, A, B, prob, iters')\n",
    "\n",
    "# X, Y: T\n",
    "# mu: 1xN\n",
    "# A: NxN\n",
    "# B: NxM\n",
    "def learn(Y:list[int], params:BaumWelch_params, init_vals=(None, None, None)):\n",
    "    N, M, T = params.n_hidden_states, params.n_observation_states, params.n_observations\n",
    "    \n",
    "    Mu, A, B = init_vals\n",
    "    if Mu is None: Mu = np.ones(N) / N\n",
    "    if A is None: A = np.ones((N,N)) / N\n",
    "    if B is None: B = np.ones((N,M)) / M\n",
    "\n",
    "    alpha, c = calculate_alpha(Y, Mu, A, B, params)\n",
    "    print(\"init c:\", c)\n",
    "    prob = evaluate(c)\n",
    "    print(f\"Starting Baum-Welch process. Initial probability = {prob}\")\n",
    "    counter = 0\n",
    "    while True:\n",
    "        newMu, newA, newB = learn_iterate(Y, Mu, A, B, params, alpha, c)\n",
    "        alpha, c = calculate_alpha(Y, newMu, newA, newB, params)\n",
    "        new_prob = evaluate(c)\n",
    "\n",
    "        if new_prob - prob < params.eps:\n",
    "            # intentionally no abs to handle new_prob < prob \n",
    "            print(\"Stopping on eps\")\n",
    "            break\n",
    "        Mu, A, B = newMu, newA, newB\n",
    "        prob = new_prob\n",
    "\n",
    "        if counter > params.max_iter:\n",
    "            print(\"Stopping on max_iter\")\n",
    "            break\n",
    "        counter += 1\n",
    "        print(f\"Iteration {counter}. p={prob}\")\n",
    "\n",
    "    return BaumWelch_result(Mu, A, B, prob, counter)\n"
   ]
  },
  {
   "attachments": {},
   "cell_type": "markdown",
   "metadata": {},
   "source": [
    "---"
   ]
  },
  {
   "cell_type": "code",
   "execution_count": 61,
   "metadata": {},
   "outputs": [
    {
     "name": "stdout",
     "output_type": "stream",
     "text": [
      "read checkpoint 10000 (11496)\n",
      "read checkpoint 20000 (22649)\n",
      "read checkpoint 30000 (33737)\n",
      "read checkpoint 40000 (45201)\n",
      "read checkpoint 50000 (56530)\n",
      "read - end\n",
      "Size read:  50001\n"
     ]
    }
   ],
   "source": [
    "data = read_textfile(TEXTFILE, N_OBSERVATIONS)\n",
    "print(\"Size read: \", len(data))\n",
    "    "
   ]
  },
  {
   "cell_type": "code",
   "execution_count": 62,
   "metadata": {},
   "outputs": [
    {
     "name": "stdout",
     "output_type": "stream",
     "text": [
      "{239: 1114, 179: 2117, 242: 2364, 229: 2060, 240: 1993, 32: 7794, 226: 1996, 238: 3754, 241: 1723, 236: 1270, 252: 869, 234: 1607, 224: 3691, 231: 1041, 235: 1689, 254: 471, 228: 1413, 255: 1025, 246: 335, 233: 460, 225: 743, 237: 2684, 243: 1439, 232: 2582, 248: 350, 245: 382, 186: 567, 244: 75, 230: 461, 180: 9, 227: 652, 247: 611, 249: 258, 191: 365, 39: 37}\n"
     ]
    }
   ],
   "source": [
    "letter_freqs = count_freqs(data)\n",
    "print(letter_freqs)"
   ]
  },
  {
   "cell_type": "code",
   "execution_count": 63,
   "metadata": {},
   "outputs": [
    {
     "data": {
      "text/plain": [
       "bytearray(b'\\xef\\xb3\\xf2\\xe5\\xf0 \\xe2\\xee\\xf2\\xf2\\xf1 \\xec\\xee\\xf0\\xf1\\xfc\\xea\\xe0 ')"
      ]
     },
     "execution_count": 63,
     "metadata": {},
     "output_type": "execute_result"
    }
   ],
   "source": [
    "data[:20]"
   ]
  },
  {
   "cell_type": "code",
   "execution_count": 110,
   "metadata": {},
   "outputs": [
    {
     "name": "stdout",
     "output_type": "stream",
     "text": [
      "[21  2 24 ... 14  8 11]\n",
      "init c: [35.  17.5 17.5 ... 17.5 17.5 17.5]\n",
      "Starting Baum-Welch process. Initial probability = -143110.73719365403\n",
      "Stopping on eps\n",
      "BaumWelch_result(Mu=array([0.5, 0.5]), A=array([[0.5, 0.5],\n",
      "       [0.5, 0.5]]), B=array([[0.02857143, 0.02857143, 0.02857143, 0.02857143, 0.02857143,\n",
      "        0.02857143, 0.02857143, 0.02857143, 0.02857143, 0.02857143,\n",
      "        0.02857143, 0.02857143, 0.02857143, 0.02857143, 0.02857143,\n",
      "        0.02857143, 0.02857143, 0.02857143, 0.02857143, 0.02857143,\n",
      "        0.02857143, 0.02857143, 0.02857143, 0.02857143, 0.02857143,\n",
      "        0.02857143, 0.02857143, 0.02857143, 0.02857143, 0.02857143,\n",
      "        0.02857143, 0.02857143, 0.02857143, 0.02857143, 0.02857143],\n",
      "       [0.02857143, 0.02857143, 0.02857143, 0.02857143, 0.02857143,\n",
      "        0.02857143, 0.02857143, 0.02857143, 0.02857143, 0.02857143,\n",
      "        0.02857143, 0.02857143, 0.02857143, 0.02857143, 0.02857143,\n",
      "        0.02857143, 0.02857143, 0.02857143, 0.02857143, 0.02857143,\n",
      "        0.02857143, 0.02857143, 0.02857143, 0.02857143, 0.02857143,\n",
      "        0.02857143, 0.02857143, 0.02857143, 0.02857143, 0.02857143,\n",
      "        0.02857143, 0.02857143, 0.02857143, 0.02857143, 0.02857143]]), prob=-143110.73719365403, iters=0)\n"
     ]
    }
   ],
   "source": [
    "Y = np.empty(N_OBSERVATIONS, np.uint8)\n",
    "for i,c in enumerate(data):\n",
    "    if i >= N_OBSERVATIONS: continue\n",
    "    Y[i] = LETTERS.find(c)\n",
    "    if Y[i] < 0:\n",
    "        print(f\"ERROR: invalid character {c} (somehow) at index {i}\")\n",
    "        break\n",
    "\n",
    "params = BaumWelch_params(\n",
    "    max_iter=8, eps=-100, \n",
    "    n_hidden_states=2, n_observation_states=len(LETTERS), n_observations=N_OBSERVATIONS\n",
    ")\n",
    "print(Y)\n",
    "res = learn(Y, params)\n",
    "print(res)\n"
   ]
  },
  {
   "cell_type": "code",
   "execution_count": null,
   "metadata": {},
   "outputs": [],
   "source": []
  }
 ],
 "metadata": {
  "kernelspec": {
   "display_name": "sci",
   "language": "python",
   "name": "python3"
  },
  "language_info": {
   "codemirror_mode": {
    "name": "ipython",
    "version": 3
   },
   "file_extension": ".py",
   "mimetype": "text/x-python",
   "name": "python",
   "nbconvert_exporter": "python",
   "pygments_lexer": "ipython3",
   "version": "3.9.10"
  },
  "orig_nbformat": 4,
  "vscode": {
   "interpreter": {
    "hash": "5cd1e8db9659fd8f5b04e40667f71b538615cc830b3028b720b65ceddbc7849b"
   }
  }
 },
 "nbformat": 4,
 "nbformat_minor": 2
}
