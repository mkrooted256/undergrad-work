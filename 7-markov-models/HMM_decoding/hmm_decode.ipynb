{
 "cells": [
  {
   "cell_type": "code",
   "execution_count": 1,
   "metadata": {},
   "outputs": [],
   "source": [
    "import numpy as np\n",
    "from collections import namedtuple\n",
    "import codecs\n",
    "from hmm_tools import *"
   ]
  },
  {
   "attachments": {},
   "cell_type": "markdown",
   "metadata": {},
   "source": [
    "# ПММ. Частина 3. Декодування."
   ]
  },
  {
   "attachments": {},
   "cell_type": "markdown",
   "metadata": {},
   "source": [
    "У цій частині практичного завдання я хочу змоделювати процес перехоплення та розшифровки ворожих радіопередач. \n",
    "Для цього би ідеально підійшов текст твору \"Криптономікон\" Ніла Стівенсона, але його ще не переклали українською. \n",
    "Тому продовжую використовувати текст з минулих частин роботи.\n",
    "\n",
    "### Передумови:  \n",
    "- Відомо, що шифр є простим шифром підстановки, який ставить у відповідність кожному символу алфавіту відкритого тексту символ алфавіту зашифрованого тексту\n",
    "- Алфавіти відкритого тексту та шифровки збігаються (з точки зору математики важливо лише, що вони одного розміру)\n",
    "- Є деякий об'єм попередньо перехоплених повідомлень і наступні повідомлення\n",
    "\n",
    "### Математична модель:  \n",
    "Розшифровувати будемо за допомогою ПММ із 33-ма прихованими станами та 33-ма можливими спостереженнями. \n",
    "Приховані стани відповідатимуть літерам відкритого тексту, спостереження - літерам шифротексту.\n",
    "- Матриця $A$ буде сталою та показуватиме частоти біграмів (ймовірності переходу від однієї літери до іншої).\n",
    "- Матриця $B$ буде відповідати власне за розшифровку і саме її ми будемо оптимізовувати.\n",
    "- Після оптимізації необхідно буде знайти оптимальну послідовність прихованих станів\n",
    "\n",
    "### План роботи:  \n",
    "\n",
    "1. Алгоритм Баума-Велша для навчання ПММ на шифрованих даних (власне, пошук оптимального $B$)\n",
    "2. Алгоритм Вітербі для пошуку відкритого тексту, що максимізує ймовірність отримання даного шифротексту за даними $\\mu, A, B$"
   ]
  },
  {
   "attachments": {},
   "cell_type": "markdown",
   "metadata": {},
   "source": [
    "## 3.1. Підготовка тренувальних та тестових тексту та шифротексту"
   ]
  },
  {
   "cell_type": "code",
   "execution_count": 2,
   "metadata": {},
   "outputs": [
    {
     "name": "stdout",
     "output_type": "stream",
     "text": [
      "Offset done. Starting reading actual data.\n",
      "read checkpoint 10000 (13488)\n",
      "read checkpoint 20000 (26687)\n",
      "read checkpoint 30000 (40061)\n",
      "read checkpoint 40000 (53637)\n",
      "read checkpoint 50000 (67100)\n",
      "read checkpoint 60000 (80630)\n",
      "read checkpoint 70000 (94363)\n",
      "read checkpoint 80000 (107347)\n",
      "read checkpoint 90000 (121016)\n",
      "read checkpoint 100000 (134458)\n",
      "read - end\n",
      "offset checkpoint 90000 (13488)\n",
      "offset checkpoint 80000 (26687)\n",
      "offset checkpoint 70000 (40061)\n",
      "offset checkpoint 60000 (53637)\n",
      "offset checkpoint 50000 (67100)\n",
      "offset checkpoint 40000 (80630)\n",
      "offset checkpoint 30000 (94363)\n",
      "offset checkpoint 20000 (107347)\n",
      "offset checkpoint 10000 (121016)\n",
      "offset checkpoint 0 (134458)\n",
      "Offset done. Starting reading actual data.\n",
      "read checkpoint 10000 (147577)\n",
      "read checkpoint 20000 (161070)\n",
      "read checkpoint 30000 (174559)\n",
      "read checkpoint 40000 (188116)\n",
      "read checkpoint 50000 (201811)\n",
      "read - end\n"
     ]
    }
   ],
   "source": [
    "N_TRAIN = 100000\n",
    "N_TEST = 50000\n",
    "\n",
    "FILE = \"1251.full.peter-watts-starfish.txt\"\n",
    "\n",
    "raw_train_data = read_textfile(FILE, N_TRAIN)\n",
    "raw_test_data = read_textfile(FILE, N_TEST, char_offset=N_TRAIN)"
   ]
  },
  {
   "cell_type": "code",
   "execution_count": 3,
   "metadata": {},
   "outputs": [
    {
     "name": "stdout",
     "output_type": "stream",
     "text": [
      "[19  0 22  9 20  6 18 22 22 21 16 18 20 21 30 14  4 11  0 20 14  4 19 20\n",
      "  9 15 31  8  0 32] 100001\n",
      "[ 6 17 12 26 22  6  4 18  8 17  4 11 17 12 25 11  8  4  6  4 15  4 21 32\n",
      " 16  4 13 10  9 17] 50001\n"
     ]
    }
   ],
   "source": [
    "train_data = text2states(raw_train_data, len(raw_train_data))\n",
    "test_data = text2states(raw_test_data, len(raw_test_data))\n",
    "print(train_data[:30], len(train_data))\n",
    "print(test_data[:30], len(test_data))"
   ]
  },
  {
   "cell_type": "code",
   "execution_count": 4,
   "metadata": {},
   "outputs": [
    {
     "name": "stdout",
     "output_type": "stream",
     "text": [
      "Freqs: [5059   25 1219  760 8697 1814 4927 1572 3377 5116 1009 2470 6095 1132\n",
      " 3903 4066 2989 6503 9035 2713 4473 4073 5459 3382  194  943  768 1390\n",
      "  869  617 1937 1099 2481]\n",
      "Bigrams: [[ 22   5  98 ...   5  37  90]\n",
      " [  6   5   5 ...   5   5   5]\n",
      " [ 18   5   5 ...   5  29  38]\n",
      " ...\n",
      " [ 47   6   7 ...   5   5  38]\n",
      " [ 12   5  69 ...   5  38  27]\n",
      " [ 26   5 101 ...   5  28  33]]\n"
     ]
    }
   ],
   "source": [
    "def freqs(data):\n",
    "    mu = np.zeros(33, np.uint32)\n",
    "    A = np.zeros((33,33), np.uint32)\n",
    "    prev_c = None\n",
    "    for c in data:\n",
    "        mu[c] = mu[c] + 1\n",
    "        if prev_c is not None:\n",
    "            A[prev_c, c] = A[prev_c, c] + 1\n",
    "        prev_c = c\n",
    "    return mu, A\n",
    "\n",
    "train_mu, train_A = freqs(train_data)\n",
    "train_mu += 5\n",
    "train_A += 5\n",
    "print(\"Freqs:\", train_mu)\n",
    "print(\"Bigrams:\", train_A)"
   ]
  },
  {
   "cell_type": "code",
   "execution_count": 5,
   "metadata": {},
   "outputs": [],
   "source": [
    "train_mu = train_mu.astype(np.double) / train_mu.sum()\n",
    "train_A = train_A.astype(np.double) / train_A.sum(axis=1, keepdims=True)"
   ]
  },
  {
   "attachments": {},
   "cell_type": "markdown",
   "metadata": {},
   "source": [
    "### Шифрування"
   ]
  },
  {
   "cell_type": "code",
   "execution_count": 6,
   "metadata": {},
   "outputs": [],
   "source": [
    "def encode(plaintext, rot):\n",
    "    return np.mod(plaintext + rot, 33)\n",
    "\n",
    "def decode(cyphertext, rot):\n",
    "    return encode(cyphertext, -rot)"
   ]
  },
  {
   "cell_type": "code",
   "execution_count": 7,
   "metadata": {},
   "outputs": [
    {
     "name": "stdout",
     "output_type": "stream",
     "text": [
      "[32 13  2 22  0 19 31  2  2  1 29 31  0  1 10 27 17 24 13  0 27 17 32  0\n",
      " 22 28 11 21 13 12]\n",
      "[19 30 25  6  2 19 17 31 21 30 17 24 30 25  5 24 21 17 19 17 28 17  1 12\n",
      " 29 17 26 23 22 30]\n"
     ]
    }
   ],
   "source": [
    "train_encoded = encode(train_data, 13)\n",
    "test_encoded = encode(test_data, 13)\n",
    "print(train_encoded[:30])\n",
    "print(test_encoded[:30])"
   ]
  },
  {
   "attachments": {},
   "cell_type": "markdown",
   "metadata": {},
   "source": [
    "### Алгоритм Вітербі"
   ]
  },
  {
   "cell_type": "code",
   "execution_count": 8,
   "metadata": {},
   "outputs": [],
   "source": [
    "Viterbi_res = namedtuple('Viterbi_res', 'X, prob')\n",
    "\n",
    "def Viterbi(Mu, A, B, Y, eps=1e-10):\n",
    "    N = Mu.shape[0]\n",
    "    M = B.shape[1]\n",
    "    T = Y.shape[0]\n",
    "\n",
    "    # Preprocessing\n",
    "    # logMu = np.empty_like(Mu)\n",
    "    # logMu[Mu <= eps] = -np.inf \n",
    "    # logMu[Mu > eps] = np.log(Mu[Mu>eps])\n",
    "    # logA = np.empty_like(A)\n",
    "    # logA[A <= eps] = -np.inf\n",
    "    # logA[A > eps] = np.log(A[A>eps])\n",
    "    # logB = np.empty_like(B)\n",
    "    # logB[B <= eps] = -np.inf\n",
    "    # logB[B > eps] = np.log(B[B>eps])\n",
    "\n",
    "    logMu = np.log(Mu)\n",
    "    logA = np.log(A)\n",
    "    logB = np.log(B)\n",
    "\n",
    "    print(\"Mu\", logMu)\n",
    "    print(\"A\", logA)\n",
    "    print(\"B\", logB)\n",
    "\n",
    "    # q = best states\n",
    "    q = np.full_like(Y, -1, np.int8)\n",
    "    # psi - for backtracking\n",
    "    psi = np.zeros((T, N), np.int8)\n",
    "\n",
    "    # d : 1xN\n",
    "    d = logMu + logB[:,Y[0]]\n",
    "    if d.shape != (N,): raise ValueError(f\"d shape is {d.shape}\")\n",
    "    psi[0] = -1\n",
    "\n",
    "    for t in range(1,T):\n",
    "        U = d.reshape(-1,1) + logA\n",
    "        psi[t] = np.argmax(U, axis=0)\n",
    "        d = logB[:, Y[t]] + np.max(U, axis=0)\n",
    "        if d.shape != (N,): raise ValueError(f\"d shape is {d.shape}\")\n",
    "\n",
    "    print(\"d:\", d)\n",
    "\n",
    "    q[T-1] = np.argmax(d)\n",
    "    res_p = d[q[T-1]]\n",
    "\n",
    "    for t in range(T-2, -1, -1):\n",
    "        q[t] = psi[t+1, q[t+1]]\n",
    "    \n",
    "    return Viterbi_res(q, res_p)\n"
   ]
  },
  {
   "attachments": {},
   "cell_type": "markdown",
   "metadata": {},
   "source": [
    "## 3.2. \n",
    "Беремо A з тренувального тексту. Запускаємо алгоритм Баума-Велша на перевірочному тексті."
   ]
  },
  {
   "cell_type": "code",
   "execution_count": 9,
   "metadata": {},
   "outputs": [
    {
     "name": "stdout",
     "output_type": "stream",
     "text": [
      "init c: [32.99904248 32.99980538 33.00099669 ... 33.0038407  33.00042341\n",
      " 32.99838617]\n",
      "Starting Baum-Welch process. Initial probability = -174825.11738376034\n",
      "Initial Mu: [0.03030152 0.03031898 0.03031236 0.03030832 0.0302949  0.0302949\n",
      " 0.03029193 0.03031642 0.03030839 0.03031163 0.0302908  0.03031957\n",
      " 0.0303154  0.03029661 0.03029568 0.03029573 0.03029939 0.03030608\n",
      " 0.03030326 0.030299   0.03030871 0.0302944  0.03029903 0.03030128\n",
      " 0.03030399 0.03031397 0.03029622 0.03030576 0.03030813 0.03029158\n",
      " 0.03030858 0.03029534 0.03029214]\n",
      "Initial A: [[0.00421537 0.00095804 0.01877754 ... 0.00095804 0.00708948 0.01724468]\n",
      " [0.03243243 0.02702703 0.02702703 ... 0.02702703 0.02702703 0.02702703]\n",
      " [0.01305294 0.00362582 0.00362582 ... 0.00362582 0.02102973 0.0275562 ]\n",
      " ...\n",
      " [0.02241297 0.00286123 0.0033381  ... 0.00238436 0.00238436 0.01812113]\n",
      " [0.00953137 0.00397141 0.0548054  ... 0.00397141 0.03018268 0.02144559]\n",
      " [0.00984476 0.00189322 0.03824309 ... 0.00189322 0.01060204 0.01249527]]\n",
      "Initial B: [[0.03031643 0.03031694 0.03031218 ... 0.03029849 0.03029619 0.03030412]\n",
      " [0.03029243 0.03031247 0.03029042 ... 0.030304   0.03030112 0.03028893]\n",
      " [0.03029164 0.03028932 0.03030765 ... 0.03030385 0.03030102 0.0302951 ]\n",
      " ...\n",
      " [0.03031605 0.03031524 0.030301   ... 0.03031083 0.03031687 0.03029726]\n",
      " [0.03031061 0.03029954 0.0303019  ... 0.03030595 0.03029242 0.0303174 ]\n",
      " [0.03029436 0.03031591 0.03030703 ... 0.03029127 0.03031428 0.0303163 ]]\n",
      "Iteration 1 finished. p=-160382.1415447766\n",
      "Iteration 2 finished. p=-160382.1409787402\n",
      "Iteration 3 finished. p=-160382.140147667\n",
      "Iteration 4 finished. p=-160382.1379863946\n",
      "Iteration 5 finished. p=-160382.12908329783\n",
      "Iteration 6 finished. p=-160382.0857204291\n",
      "Iteration 7 finished. p=-160381.86562227964\n",
      "Iteration 8 finished. p=-160380.73768883807\n",
      "Iteration 9 finished. p=-160374.94176151665\n",
      "Iteration 10 finished. p=-160345.1710763325\n",
      "Iteration 11 finished. p=-160194.33335186308\n",
      "Iteration 12 finished. p=-159490.13460670633\n",
      "Iteration 13 finished. p=-157064.02004531867\n",
      "Iteration 14 finished. p=-152560.8697507186\n",
      "Iteration 15 finished. p=-148516.26851620665\n",
      "Iteration 16 finished. p=-146519.13407305308\n",
      "Iteration 17 finished. p=-145611.7163702952\n",
      "Iteration 18 finished. p=-145019.09868559396\n",
      "Iteration 19 finished. p=-144474.0509812178\n",
      "Iteration 20 finished. p=-143837.579168954\n",
      "Iteration 21 finished. p=-143057.5922303072\n",
      "Iteration 22 finished. p=-142198.1994533449\n",
      "Iteration 23 finished. p=-141343.27283168663\n",
      "Iteration 24 finished. p=-140527.0624281541\n",
      "Iteration 25 finished. p=-139747.2341161771\n",
      "Iteration 26 finished. p=-138992.50896280736\n",
      "Iteration 27 finished. p=-138259.82101200736\n",
      "Iteration 28 finished. p=-137558.90983471437\n",
      "Iteration 29 finished. p=-136906.59964157757\n",
      "Iteration 30 finished. p=-136318.12057284327\n",
      "Iteration 31 finished. p=-135801.92652051128\n",
      "Iteration 32 finished. p=-135359.2708912032\n",
      "Iteration 33 finished. p=-134986.23637076071\n",
      "Iteration 34 finished. p=-134676.02961755102\n",
      "Iteration 35 finished. p=-134420.71538448645\n",
      "Iteration 36 finished. p=-134212.30417438096\n",
      "Iteration 37 finished. p=-134043.23896060121\n",
      "Iteration 38 finished. p=-133906.50008055306\n",
      "Iteration 39 finished. p=-133795.84858420253\n",
      "Iteration 40 finished. p=-133706.03861495393\n",
      "Iteration 41 finished. p=-133632.79888548807\n",
      "Iteration 42 finished. p=-133572.71298051323\n",
      "Iteration 43 finished. p=-133523.0811478992\n",
      "Iteration 44 finished. p=-133481.78371977276\n",
      "Iteration 45 finished. p=-133447.16000428243\n",
      "Iteration 46 finished. p=-133417.9091240155\n",
      "Iteration 47 finished. p=-133393.01166005916\n",
      "Iteration 48 finished. p=-133371.66832750652\n",
      "Iteration 49 finished. p=-133353.25171545433\n",
      "Iteration 50 finished. p=-133337.26777577188\n",
      "Iteration 51 finished. p=-133323.32475875408\n",
      "Iteration 52 finished. p=-133311.10831900995\n",
      "Iteration 53 finished. p=-133300.36217962674\n",
      "Iteration 54 finished. p=-133290.87386279955\n",
      "Iteration 55 finished. p=-133282.46472767915\n",
      "Iteration 56 finished. p=-133274.98326357795\n",
      "Iteration 57 finished. p=-133268.30053677532\n",
      "Iteration 58 finished. p=-133262.30689741968\n",
      "Iteration 59 finished. p=-133256.90936821926\n",
      "Iteration 60 finished. p=-133252.0294098679\n",
      "Iteration 61 finished. p=-133247.60092877448\n",
      "Iteration 62 finished. p=-133243.56847379782\n",
      "Iteration 63 finished. p=-133239.88559893324\n",
      "Iteration 64 finished. p=-133236.51337987266\n",
      "Iteration 65 finished. p=-133233.4190797977\n",
      "Iteration 66 finished. p=-133230.5749672113\n",
      "Iteration 67 finished. p=-133227.95729389272\n",
      "Iteration 68 finished. p=-133225.54544131443\n",
      "Iteration 69 finished. p=-133223.32123817358\n",
      "Iteration 70 finished. p=-133221.26844172715\n",
      "Iteration 71 finished. p=-133219.3723646787\n",
      "Iteration 72 finished. p=-133217.61962086143\n",
      "Iteration 73 finished. p=-133215.99795903816\n",
      "Iteration 74 finished. p=-133214.49615516406\n",
      "Iteration 75 finished. p=-133213.1039382695\n",
      "Iteration 76 finished. p=-133211.81193183849\n",
      "Iteration 77 finished. p=-133210.6115993919\n",
      "Iteration 78 finished. p=-133209.49518867244\n",
      "Iteration 79 finished. p=-133208.45567285595\n",
      "Iteration 80 finished. p=-133207.48668957013\n",
      "Iteration 81 finished. p=-133206.58247954666\n",
      "Iteration 82 finished. p=-133205.73782688065\n",
      "Iteration 83 finished. p=-133204.94800254403\n",
      "Iteration 84 finished. p=-133204.2087122726\n",
      "Iteration 85 finished. p=-133203.51604942125\n",
      "Iteration 86 finished. p=-133202.86645293844\n",
      "Iteration 87 finished. p=-133202.25667029212\n",
      "Iteration 88 finished. p=-133201.68372497876\n",
      "Iteration 89 finished. p=-133201.14488813918\n",
      "Iteration 90 finished. p=-133200.6376537737\n",
      "Iteration 91 finished. p=-133200.15971706656\n",
      "Iteration 92 finished. p=-133199.70895537044\n",
      "Iteration 93 finished. p=-133199.2834114697\n",
      "Iteration 94 finished. p=-133198.88127880025\n",
      "Iteration 95 finished. p=-133198.5008883765\n",
      "Iteration 96 finished. p=-133198.14069723178\n",
      "Iteration 97 finished. p=-133197.79927823227\n",
      "Iteration 98 finished. p=-133197.47531117054\n",
      "Iteration 99 finished. p=-133197.16757507384\n",
      "Iteration 100 finished. p=-133196.8749416793\n",
      "Iteration 101 finished. p=-133196.5963700335\n",
      "Iteration 102 finished. p=-133196.33090214775\n",
      "Iteration 103 finished. p=-133196.0776596051\n",
      "Iteration 104 finished. p=-133195.8358409513\n",
      "Iteration 105 finished. p=-133195.60471961385\n",
      "Iteration 106 finished. p=-133195.38364201196\n",
      "Iteration 107 finished. p=-133195.1720254327\n",
      "Iteration 108 finished. p=-133194.96935520376\n",
      "Iteration 109 finished. p=-133194.7751807028\n",
      "Iteration 110 finished. p=-133194.5891098442\n",
      "Iteration 111 finished. p=-133194.41080187386\n",
      "Iteration 112 finished. p=-133194.2399585676\n",
      "Iteration 113 finished. p=-133194.0763142506\n",
      "Iteration 114 finished. p=-133193.919625323\n",
      "Iteration 115 finished. p=-133193.76966017263\n",
      "Iteration 116 finished. p=-133193.62619037804\n",
      "Iteration 117 finished. p=-133193.48898395975\n",
      "Iteration 118 finished. p=-133193.35780114663\n",
      "Iteration 119 finished. p=-133193.23239275758\n",
      "Iteration 120 finished. p=-133193.11250093224\n",
      "Iteration 121 finished. p=-133192.99786167734\n",
      "Iteration 122 finished. p=-133192.88820854857\n",
      "Iteration 123 finished. p=-133192.78327678045\n",
      "Iteration 124 finished. p=-133192.68280728057\n",
      "Iteration 125 finished. p=-133192.58655007012\n",
      "Iteration 126 finished. p=-133192.49426692948\n",
      "Iteration 127 finished. p=-133192.40573317805\n",
      "Iteration 128 finished. p=-133192.3207386292\n",
      "Iteration 129 finished. p=-133192.23908784628\n",
      "Iteration 130 finished. p=-133192.16059985393\n",
      "Iteration 131 finished. p=-133192.0851074625\n",
      "Iteration 132 finished. p=-133192.01245635288\n",
      "Iteration 133 finished. p=-133191.942504035\n",
      "Iteration 134 finished. p=-133191.87511876872\n",
      "Iteration 135 finished. p=-133191.81017851064\n",
      "Iteration 136 finished. p=-133191.74756992247\n",
      "Iteration 137 finished. p=-133191.68718746403\n",
      "Iteration 138 finished. p=-133191.6289325804\n",
      "Iteration 139 finished. p=-133191.57271298193\n",
      "Iteration 140 finished. p=-133191.51844201345\n",
      "Iteration 141 finished. p=-133191.4660381058\n",
      "Iteration 142 finished. p=-133191.4154242972\n",
      "Iteration 143 finished. p=-133191.366527821\n",
      "Iteration 144 finished. p=-133191.3192797449\n",
      "Iteration 145 finished. p=-133191.27361465854\n",
      "Iteration 146 finished. p=-133191.22947040037\n",
      "Iteration 147 finished. p=-133191.18678781792\n",
      "Iteration 148 finished. p=-133191.14551055589\n",
      "Iteration 149 finished. p=-133191.10558486838\n",
      "Iteration 150 finished. p=-133191.0669594525\n",
      "Iteration 151 finished. p=-133191.0295852974\n",
      "Iteration 152 finished. p=-133190.99341554972\n",
      "Iteration 153 finished. p=-133190.95840539064\n",
      "Iteration 154 finished. p=-133190.92451192383\n",
      "Iteration 155 finished. p=-133190.891694073\n",
      "Iteration 156 finished. p=-133190.85991248774\n",
      "Iteration 157 finished. p=-133190.82912945648\n",
      "Iteration 158 finished. p=-133190.799308825\n",
      "Iteration 159 finished. p=-133190.7704159216\n",
      "Iteration 160 finished. p=-133190.7424174863\n",
      "Iteration 161 finished. p=-133190.71528160488\n",
      "Iteration 162 finished. p=-133190.68897764682\n",
      "Iteration 163 finished. p=-133190.66347620715\n",
      "Iteration 164 finished. p=-133190.63874905123\n",
      "Iteration 165 finished. p=-133190.61476906177\n",
      "Iteration 166 finished. p=-133190.5915101907\n",
      "Iteration 167 finished. p=-133190.56894741146\n",
      "Iteration 168 finished. p=-133190.54705667504\n",
      "Iteration 169 finished. p=-133190.5258148666\n",
      "Iteration 170 finished. p=-133190.50519976666\n",
      "Iteration 171 finished. p=-133190.48519001206\n",
      "Iteration 172 finished. p=-133190.46576505908\n",
      "Iteration 173 finished. p=-133190.44690514897\n",
      "Iteration 174 finished. p=-133190.4285912753\n",
      "Iteration 175 finished. p=-133190.41080515098\n",
      "Iteration 176 finished. p=-133190.39352917924\n",
      "Iteration 177 finished. p=-133190.37674642366\n",
      "Iteration 178 finished. p=-133190.3604405817\n",
      "Iteration 179 finished. p=-133190.34459595726\n",
      "Iteration 180 finished. p=-133190.3291974367\n",
      "Iteration 181 finished. p=-133190.3142304629\n",
      "Iteration 182 finished. p=-133190.29968101476\n",
      "Iteration 183 finished. p=-133190.28553558287\n",
      "Iteration 184 finished. p=-133190.2717811503\n",
      "Iteration 185 finished. p=-133190.25840517128\n",
      "Iteration 186 finished. p=-133190.24539555295\n",
      "Iteration 187 finished. p=-133190.23274063627\n",
      "Iteration 188 finished. p=-133190.22042917888\n",
      "Iteration 189 finished. p=-133190.2084503387\n",
      "Iteration 190 finished. p=-133190.19679365694\n",
      "Iteration 191 finished. p=-133190.1854490435\n",
      "Iteration 192 finished. p=-133190.1744067625\n",
      "Iteration 193 finished. p=-133190.1636574177\n",
      "Iteration 194 finished. p=-133190.15319193923\n",
      "Iteration 195 finished. p=-133190.14300157074\n",
      "Iteration 196 finished. p=-133190.1330778579\n",
      "Iteration 197 finished. p=-133190.12341263556\n",
      "Iteration 198 finished. p=-133190.11399801707\n",
      "Iteration 199 finished. p=-133190.10482638367\n",
      "Iteration 200 finished. p=-133190.095890374\n",
      "Stopping on max_iter\n",
      "BaumWelch_result(Mu=array([0.00000000e+000, 0.00000000e+000, 7.87238151e-287, 6.97018559e-284,\n",
      "       0.00000000e+000, 0.00000000e+000, 1.00000000e+000, 0.00000000e+000,\n",
      "       0.00000000e+000, 0.00000000e+000, 0.00000000e+000, 0.00000000e+000,\n",
      "       0.00000000e+000, 0.00000000e+000, 0.00000000e+000, 0.00000000e+000,\n",
      "       2.08233978e-276, 0.00000000e+000, 0.00000000e+000, 0.00000000e+000,\n",
      "       0.00000000e+000, 0.00000000e+000, 0.00000000e+000, 0.00000000e+000,\n",
      "       0.00000000e+000, 1.02923273e-199, 0.00000000e+000, 0.00000000e+000,\n",
      "       0.00000000e+000, 0.00000000e+000, 0.00000000e+000, 0.00000000e+000,\n",
      "       0.00000000e+000]), A=array([[0.00421537, 0.00095804, 0.01877754, ..., 0.00095804, 0.00708948,\n",
      "        0.01724468],\n",
      "       [0.03243243, 0.02702703, 0.02702703, ..., 0.02702703, 0.02702703,\n",
      "        0.02702703],\n",
      "       [0.01305294, 0.00362582, 0.00362582, ..., 0.00362582, 0.02102973,\n",
      "        0.0275562 ],\n",
      "       ...,\n",
      "       [0.02241297, 0.00286123, 0.0033381 , ..., 0.00238436, 0.00238436,\n",
      "        0.01812113],\n",
      "       [0.00953137, 0.00397141, 0.0548054 , ..., 0.00397141, 0.03018268,\n",
      "        0.02144559],\n",
      "       [0.00984476, 0.00189322, 0.03824309, ..., 0.00189322, 0.01060204,\n",
      "        0.01249527]]), B=array([[1.21967912e-159, 1.04575836e-099, 2.56224210e-057, ...,\n",
      "        3.77265412e-146, 4.06411487e-009, 5.65927339e-082],\n",
      "       [4.58968201e-033, 1.06906352e-026, 1.43725393e-014, ...,\n",
      "        1.65691348e-029, 6.38463562e-001, 1.11528656e-046],\n",
      "       [9.23653208e-033, 3.89044667e-007, 3.53745848e-034, ...,\n",
      "        1.73305670e-003, 2.37198887e-044, 4.19874072e-003],\n",
      "       ...,\n",
      "       [1.36284202e-124, 8.13696518e-059, 1.13074098e-044, ...,\n",
      "        2.65908333e-124, 3.42185823e-014, 1.13877938e-152],\n",
      "       [1.23539510e-029, 1.33524790e-023, 1.12987685e-003, ...,\n",
      "        1.68681580e-036, 5.20037173e-002, 4.51770306e-058],\n",
      "       [8.83581860e-110, 1.98418167e-081, 8.30652415e-026, ...,\n",
      "        1.27857229e-087, 2.62151962e-014, 1.23341939e-099]]), prob=-133190.08718287412, iters=201)\n"
     ]
    }
   ],
   "source": [
    "params = BaumWelch_params(\n",
    "    max_iter=200, eps=1e-7, \n",
    "    n_hidden_states=33, n_observation_states=33, n_observations=50000,\n",
    "    const_Mu=False, const_A=True, const_B=False\n",
    ")\n",
    "init_vals = BaumWelch_init(\n",
    "    Mu=None, \n",
    "    A=train_A, \n",
    "    B=None\n",
    ")\n",
    "bw_res = learn(test_encoded, params, init_vals)\n",
    "print(bw_res)\n"
   ]
  },
  {
   "cell_type": "code",
   "execution_count": 10,
   "metadata": {},
   "outputs": [
    {
     "name": "stdout",
     "output_type": "stream",
     "text": [
      "[0.00000000e+000 0.00000000e+000 7.87238151e-287 6.97018559e-284\n",
      " 0.00000000e+000 0.00000000e+000 1.00000000e+000 0.00000000e+000\n",
      " 0.00000000e+000 0.00000000e+000 0.00000000e+000 0.00000000e+000\n",
      " 0.00000000e+000 0.00000000e+000 0.00000000e+000 0.00000000e+000\n",
      " 2.08233978e-276 0.00000000e+000 0.00000000e+000 0.00000000e+000\n",
      " 0.00000000e+000 0.00000000e+000 0.00000000e+000 0.00000000e+000\n",
      " 0.00000000e+000 1.02923273e-199 0.00000000e+000 0.00000000e+000\n",
      " 0.00000000e+000 0.00000000e+000 0.00000000e+000 0.00000000e+000\n",
      " 0.00000000e+000]\n",
      "[[0.00421537 0.00095804 0.01877754 ... 0.00095804 0.00708948 0.01724468]\n",
      " [0.03243243 0.02702703 0.02702703 ... 0.02702703 0.02702703 0.02702703]\n",
      " [0.01305294 0.00362582 0.00362582 ... 0.00362582 0.02102973 0.0275562 ]\n",
      " ...\n",
      " [0.02241297 0.00286123 0.0033381  ... 0.00238436 0.00238436 0.01812113]\n",
      " [0.00953137 0.00397141 0.0548054  ... 0.00397141 0.03018268 0.02144559]\n",
      " [0.00984476 0.00189322 0.03824309 ... 0.00189322 0.01060204 0.01249527]]\n",
      "[[1.21967912e-159 1.04575836e-099 2.56224210e-057 ... 3.77265412e-146\n",
      "  4.06411487e-009 5.65927339e-082]\n",
      " [4.58968201e-033 1.06906352e-026 1.43725393e-014 ... 1.65691348e-029\n",
      "  6.38463562e-001 1.11528656e-046]\n",
      " [9.23653208e-033 3.89044667e-007 3.53745848e-034 ... 1.73305670e-003\n",
      "  2.37198887e-044 4.19874072e-003]\n",
      " ...\n",
      " [1.36284202e-124 8.13696518e-059 1.13074098e-044 ... 2.65908333e-124\n",
      "  3.42185823e-014 1.13877938e-152]\n",
      " [1.23539510e-029 1.33524790e-023 1.12987685e-003 ... 1.68681580e-036\n",
      "  5.20037173e-002 4.51770306e-058]\n",
      " [8.83581860e-110 1.98418167e-081 8.30652415e-026 ... 1.27857229e-087\n",
      "  2.62151962e-014 1.23341939e-099]]\n"
     ]
    }
   ],
   "source": [
    "print(bw_res.Mu)\n",
    "print(bw_res.A)\n",
    "print(bw_res.B)"
   ]
  },
  {
   "attachments": {},
   "cell_type": "markdown",
   "metadata": {},
   "source": [
    "## 3.3\n",
    "Тепер запускаємо алгоритм Вітербі щоб знайти оптимальний відкритий текст для даного закритого тексту та за знайденою раніше матрицею B"
   ]
  },
  {
   "cell_type": "code",
   "execution_count": 11,
   "metadata": {},
   "outputs": [
    {
     "name": "stdout",
     "output_type": "stream",
     "text": [
      "Mu [         -inf          -inf -658.77856107 -651.99252456          -inf\n",
      "          -inf    0.                  -inf          -inf          -inf\n",
      "          -inf          -inf          -inf          -inf          -inf\n",
      "          -inf -634.77999351          -inf          -inf          -inf\n",
      "          -inf          -inf          -inf          -inf          -inf\n",
      " -458.1856199           -inf          -inf          -inf          -inf\n",
      "          -inf          -inf          -inf]\n",
      "A [[-5.46901864 -6.95062318 -3.97509361 ... -6.95062318 -4.94914318\n",
      "  -4.06025142]\n",
      " [-3.42859636 -3.61091791 -3.61091791 ... -3.61091791 -3.61091791\n",
      "  -3.61091791]\n",
      " [-4.33874212 -5.61967597 -5.61967597 ... -5.61967597 -3.86181805\n",
      "  -3.59152772]\n",
      " ...\n",
      " [-3.79811543 -5.85650356 -5.70235288 ... -6.03882512 -6.03882512\n",
      "  -4.01067687]\n",
      " [-4.65316638 -5.52863512 -2.90396653 ... -5.52863512 -3.50048687\n",
      "  -3.84223617]\n",
      " [-4.62081637 -6.269475   -3.2637924  ... -6.269475   -4.5467084\n",
      "  -4.38240535]]\n",
      "B [[-365.91244198 -227.91118188 -130.30646761 ... -334.84964481\n",
      "   -19.32106986 -187.07868212]\n",
      " [ -74.46149733  -59.80042937  -31.873457   ...  -66.27001118\n",
      "    -0.44869067 -105.8098029 ]\n",
      " [ -73.76214157  -14.75957167  -77.02448463 ...   -6.35786855\n",
      "  -100.4500153    -5.47297063]\n",
      " ...\n",
      " [-285.21097929 -133.7561032  -101.19087094 ... -284.54257008\n",
      "   -31.00600756 -349.86297717]\n",
      " [ -66.56357686  -52.67034017   -6.78564663 ...  -82.37022074\n",
      "    -2.95644008 -132.0419317 ]\n",
      " [-251.10554647 -185.82418596  -57.75017117 ... -200.07915904\n",
      "   -31.27243715 -227.7461339 ]]\n"
     ]
    },
    {
     "name": "stderr",
     "output_type": "stream",
     "text": [
      "C:\\Users\\mkrooted\\AppData\\Local\\Temp\\ipykernel_19472\\4103319145.py:19: RuntimeWarning: divide by zero encountered in log\n",
      "  logMu = np.log(Mu)\n",
      "C:\\Users\\mkrooted\\AppData\\Local\\Temp\\ipykernel_19472\\4103319145.py:21: RuntimeWarning: divide by zero encountered in log\n",
      "  logB = np.log(B)\n"
     ]
    },
    {
     "name": "stdout",
     "output_type": "stream",
     "text": [
      "d: [-134978.95961646 -134889.86267786 -134918.08510254 -134867.55907175\n",
      " -134974.33032664 -134869.94758331 -134863.45075362 -134872.03448437\n",
      " -134860.30874125 -134973.4007275  -134853.59122623 -134847.86861639\n",
      " -135002.95521042 -134886.80694202 -134855.87038886 -134873.75218366\n",
      " -134860.03474371 -134864.21564488 -134957.31082478 -134882.24387625\n",
      " -134924.60466877 -134881.09096328 -134872.41714848 -134976.87985125\n",
      " -134883.13028589 -134856.6718376  -134906.74188312 -134879.30531866\n",
      " -134908.86739434 -134914.92695686 -135086.5006229  -134905.53388638\n",
      " -134946.52859532]\n",
      "best p =  -134847.8686163909\n",
      "========================================\n",
      "=== score is  0.996580068398632 ===\n",
      "========================================\n",
      "(50001,)\n"
     ]
    }
   ],
   "source": [
    "vb_res = Viterbi(bw_res.Mu, bw_res.A, bw_res.B, test_encoded, 1e-40)\n",
    "s = score(test_data, vb_res.X)\n",
    "print(\"best p = \", vb_res.prob)\n",
    "print(\"=\"*40)\n",
    "print(\"=== score is \", s, \"===\")\n",
    "print(\"=\"*40)\n",
    "print(vb_res.X.shape)"
   ]
  },
  {
   "attachments": {},
   "cell_type": "markdown",
   "metadata": {},
   "source": [
    "**Кількість розшифрованих символів - 99%!**"
   ]
  },
  {
   "cell_type": "code",
   "execution_count": 12,
   "metadata": {},
   "outputs": [
    {
     "name": "stdout",
     "output_type": "stream",
     "text": [
      "вництваодназнихздаваласямайженормальноютеревенячитажартуючивонаажзішкірипнуласянібинамагаючисьякоськомпенсуватитойфактщозовнівонаскидаласяназомбіджоелзабувїїімядругазавсюдорогуназронилаанісловаодинізт\n",
      "вництваодназнихздаваласямайженормальноютеревенячитажартуючивонаажзішкірипнуласянібинамагаючисьякоськомпенсуватитойфактщозовнівонаскидаласяназомбіджоелзабувїїімядругазавсюдорогуназронилаанісловаодинізт\n"
     ]
    }
   ],
   "source": [
    "text_out = \"\".join(list(np.array(list(\"іґєїабвгдежзийклмнопрстуфхцчшщьюя\"))[test_data[:200]]))\n",
    "print(text_out)\n",
    "\n",
    "decoded_out = \"\".join(list(np.array(list(\"іґєїабвгдежзийклмнопрстуфхцчшщьюя\"))[vb_res.X[:200]]))\n",
    "print(decoded_out)"
   ]
  },
  {
   "attachments": {},
   "cell_type": "markdown",
   "metadata": {},
   "source": [
    "### 3.4 На всякий випадок перевірю ці ж матриці на зовсім іншій частині книги"
   ]
  },
  {
   "cell_type": "code",
   "execution_count": 30,
   "metadata": {},
   "outputs": [
    {
     "name": "stdout",
     "output_type": "stream",
     "text": [
      "offset checkpoint 490000 (13488)\n",
      "offset checkpoint 480000 (26687)\n",
      "offset checkpoint 470000 (40061)\n",
      "offset checkpoint 460000 (53637)\n",
      "offset checkpoint 450000 (67100)\n",
      "offset checkpoint 440000 (80630)\n",
      "offset checkpoint 430000 (94363)\n",
      "offset checkpoint 420000 (107347)\n",
      "offset checkpoint 410000 (121016)\n",
      "offset checkpoint 400000 (134458)\n",
      "offset checkpoint 390000 (147577)\n",
      "offset checkpoint 380000 (161070)\n",
      "offset checkpoint 370000 (174559)\n",
      "offset checkpoint 360000 (188116)\n",
      "offset checkpoint 350000 (201811)\n",
      "offset checkpoint 340000 (215730)\n",
      "offset checkpoint 330000 (229493)\n",
      "offset checkpoint 320000 (243303)\n",
      "offset checkpoint 310000 (256893)\n",
      "offset checkpoint 300000 (270718)\n",
      "offset checkpoint 290000 (284592)\n",
      "offset checkpoint 280000 (298127)\n",
      "offset checkpoint 270000 (311809)\n",
      "offset checkpoint 260000 (325698)\n",
      "offset checkpoint 250000 (338821)\n",
      "offset checkpoint 240000 (351926)\n",
      "offset checkpoint 230000 (365414)\n",
      "offset checkpoint 220000 (378516)\n",
      "offset checkpoint 210000 (391954)\n",
      "offset checkpoint 200000 (405187)\n",
      "offset checkpoint 190000 (418718)\n",
      "offset checkpoint 180000 (432064)\n",
      "offset checkpoint 170000 (445229)\n",
      "offset checkpoint 160000 (458516)\n",
      "offset checkpoint 150000 (472238)\n",
      "offset checkpoint 140000 (485959)\n",
      "offset checkpoint 130000 (499387)\n",
      "offset checkpoint 120000 (513127)\n",
      "offset checkpoint 110000 (526897)\n",
      "offset checkpoint 100000 (540068)\n",
      "offset checkpoint 90000 (553875)\n",
      "offset checkpoint 80000 (567354)\n",
      "offset checkpoint 70000 (581063)\n",
      "offset checkpoint 60000 (594521)\n",
      "offset checkpoint 50000 (608442)\n",
      "offset checkpoint 40000 (621739)\n",
      "offset checkpoint 30000 (635361)\n",
      "offset checkpoint 20000 (649239)\n",
      "offset checkpoint 10000 (662315)\n",
      "offset checkpoint 0 (676044)\n",
      "Offset done. Starting reading actual data.\n",
      "read checkpoint 10000 (689048)\n",
      "read checkpoint 20000 (702486)\n",
      "read checkpoint 30000 (715789)\n",
      "read checkpoint 40000 (728810)\n",
      "read checkpoint 50000 (741950)\n",
      "read checkpoint 60000 (755082)\n",
      "read checkpoint 70000 (767820)\n",
      "read checkpoint 80000 (780809)\n",
      "read checkpoint 90000 (793567)\n",
      "read checkpoint 100000 (806632)\n",
      "read - end\n"
     ]
    }
   ],
   "source": [
    "raw_test_data2 = read_textfile(FILE, 100000, char_offset=500000)\n",
    "test_data2 = text2states(raw_test_data2, len(raw_test_data2))"
   ]
  },
  {
   "cell_type": "code",
   "execution_count": 31,
   "metadata": {},
   "outputs": [
    {
     "data": {
      "text/plain": [
       "(100001,)"
      ]
     },
     "execution_count": 31,
     "metadata": {},
     "output_type": "execute_result"
    }
   ],
   "source": [
    "test_data2_encoded = encode(test_data2, 13)\n",
    "test_data2_encoded.shape"
   ]
  },
  {
   "cell_type": "code",
   "execution_count": 32,
   "metadata": {},
   "outputs": [
    {
     "name": "stderr",
     "output_type": "stream",
     "text": [
      "C:\\Users\\mkrooted\\AppData\\Local\\Temp\\ipykernel_19472\\4103319145.py:19: RuntimeWarning: divide by zero encountered in log\n",
      "  logMu = np.log(Mu)\n",
      "C:\\Users\\mkrooted\\AppData\\Local\\Temp\\ipykernel_19472\\4103319145.py:21: RuntimeWarning: divide by zero encountered in log\n",
      "  logB = np.log(B)\n"
     ]
    },
    {
     "name": "stdout",
     "output_type": "stream",
     "text": [
      "Mu [         -inf          -inf -658.77856107 -651.99252456          -inf\n",
      "          -inf    0.                  -inf          -inf          -inf\n",
      "          -inf          -inf          -inf          -inf          -inf\n",
      "          -inf -634.77999351          -inf          -inf          -inf\n",
      "          -inf          -inf          -inf          -inf          -inf\n",
      " -458.1856199           -inf          -inf          -inf          -inf\n",
      "          -inf          -inf          -inf]\n",
      "A [[-5.46901864 -6.95062318 -3.97509361 ... -6.95062318 -4.94914318\n",
      "  -4.06025142]\n",
      " [-3.42859636 -3.61091791 -3.61091791 ... -3.61091791 -3.61091791\n",
      "  -3.61091791]\n",
      " [-4.33874212 -5.61967597 -5.61967597 ... -5.61967597 -3.86181805\n",
      "  -3.59152772]\n",
      " ...\n",
      " [-3.79811543 -5.85650356 -5.70235288 ... -6.03882512 -6.03882512\n",
      "  -4.01067687]\n",
      " [-4.65316638 -5.52863512 -2.90396653 ... -5.52863512 -3.50048687\n",
      "  -3.84223617]\n",
      " [-4.62081637 -6.269475   -3.2637924  ... -6.269475   -4.5467084\n",
      "  -4.38240535]]\n",
      "B [[-365.91244198 -227.91118188 -130.30646761 ... -334.84964481\n",
      "   -19.32106986 -187.07868212]\n",
      " [ -74.46149733  -59.80042937  -31.873457   ...  -66.27001118\n",
      "    -0.44869067 -105.8098029 ]\n",
      " [ -73.76214157  -14.75957167  -77.02448463 ...   -6.35786855\n",
      "  -100.4500153    -5.47297063]\n",
      " ...\n",
      " [-285.21097929 -133.7561032  -101.19087094 ... -284.54257008\n",
      "   -31.00600756 -349.86297717]\n",
      " [ -66.56357686  -52.67034017   -6.78564663 ...  -82.37022074\n",
      "    -2.95644008 -132.0419317 ]\n",
      " [-251.10554647 -185.82418596  -57.75017117 ... -200.07915904\n",
      "   -31.27243715 -227.7461339 ]]\n",
      "d: [-278217.290829   -277996.15460388 -277981.49461912 -277962.51667789\n",
      " -278082.829544   -277916.70851002 -277932.44851708 -277920.1790446\n",
      " -277920.08950136 -278225.23448541 -277959.75712674 -277952.70055447\n",
      " -278369.26535753 -277976.8913428  -277940.68404045 -277942.94247925\n",
      " -277926.79670634 -277959.90939735 -278207.43757561 -277918.0468961\n",
      " -277974.86794526 -277993.09670835 -277978.84531437 -278097.28988408\n",
      " -277973.3047983  -277927.89561523 -278023.24012638 -277943.11508215\n",
      " -277977.10162459 -277980.28294332 -278463.1652485  -277985.86861423\n",
      " -278185.413454  ]\n",
      "best p =  -277916.7085100219\n",
      "========================================\n",
      "=== score is  0.997690023099769 ===\n",
      "========================================\n",
      "(100001,)\n"
     ]
    }
   ],
   "source": [
    "vb_res = Viterbi(bw_res.Mu, bw_res.A, bw_res.B, test_data2_encoded, 1e-40)\n",
    "s = score(test_data2, vb_res.X)\n",
    "print(\"best p = \", vb_res.prob)\n",
    "print(\"=\"*40)\n",
    "print(\"=== score is \", s, \"===\")\n",
    "print(\"=\"*40)\n",
    "print(vb_res.X.shape)"
   ]
  },
  {
   "cell_type": "code",
   "execution_count": 33,
   "metadata": {},
   "outputs": [
    {
     "name": "stdout",
     "output_type": "stream",
     "text": [
      "надимаючисьдочеревногоілюмінатораскафапростопередочимаджоелакаламутнеокеанськесвітлоставалодедаліяскравішимблакитьзміниласязеленнюатодіжовтизноюатодібілиноюутихомуокеанірозверзласядіразїїцентрузійшлос\n",
      "вадимаючисьдочеревногоілюмінатораскафапростопередочимаджоелакаламутнеокеанськесвітлоставалодедаліяскравішимблакитьзміниласязеленнюатодіжовтизноюатодібілиноюутихомуокеанірозверзласядіразїїцентрузійшлос\n"
     ]
    }
   ],
   "source": [
    "text_out = \"\".join(list(np.array(list(\"іґєїабвгдежзийклмнопрстуфхцчшщьюя\"))[test_data2[:200]]))\n",
    "print(text_out)\n",
    "\n",
    "decoded_out = \"\".join(list(np.array(list(\"іґєїабвгдежзийклмнопрстуфхцчшщьюя\"))[vb_res.X[:200]]))\n",
    "print(decoded_out)"
   ]
  },
  {
   "attachments": {},
   "cell_type": "markdown",
   "metadata": {},
   "source": [
    "**І знову висока точність**\n",
    "\n",
    "Подивімось на елементи матриці B, більші за $0.001$"
   ]
  },
  {
   "cell_type": "code",
   "execution_count": 39,
   "metadata": {},
   "outputs": [
    {
     "name": "stdout",
     "output_type": "stream",
     "text": [
      "[[0 0 0 0 0 0 0 0 0 0 0 0 0 1 0 0 0 0 0 0 0 0 0 0 0 0 0 0 0 0 0 0 0]\n",
      " [0 0 0 0 0 0 0 0 0 0 0 0 0 1 0 0 0 0 0 0 0 0 0 0 0 0 0 0 0 0 0 1 0]\n",
      " [0 0 0 0 0 0 0 0 0 0 0 0 0 0 0 1 0 0 0 1 0 0 0 0 0 0 0 1 0 0 1 0 1]\n",
      " [0 0 0 0 0 0 0 0 0 0 0 0 0 0 0 0 1 0 0 1 0 0 0 0 0 0 0 0 0 1 0 0 0]\n",
      " [0 0 0 1 0 0 0 0 0 0 0 0 0 0 0 0 0 1 0 0 0 0 0 0 0 0 0 0 0 0 0 0 0]\n",
      " [1 0 0 0 0 0 0 0 0 0 0 0 0 0 0 0 0 0 1 0 0 1 0 0 0 0 0 0 0 0 0 0 0]\n",
      " [0 0 0 0 1 0 0 0 0 0 0 0 0 0 0 0 0 0 0 1 0 0 0 0 0 0 0 0 0 0 0 0 0]\n",
      " [0 0 0 0 0 0 0 0 0 0 0 0 0 0 0 0 0 0 1 0 1 0 0 0 0 0 1 1 0 0 0 0 0]\n",
      " [1 0 0 0 0 0 0 0 0 0 0 0 0 0 0 0 0 0 1 0 0 1 0 1 0 0 0 0 0 0 1 0 1]\n",
      " [0 0 0 0 0 0 0 0 0 0 0 0 0 0 0 0 0 0 0 0 0 0 1 0 0 0 0 0 0 0 0 0 0]\n",
      " [0 1 0 0 0 0 0 1 0 0 0 0 0 0 0 0 0 0 0 0 0 0 0 1 1 0 0 0 1 0 0 0 0]\n",
      " [1 0 0 0 0 0 0 0 0 0 0 0 0 0 0 0 0 1 0 0 0 0 0 0 1 0 0 0 0 0 0 0 0]\n",
      " [0 0 0 1 0 0 0 0 0 0 0 0 0 1 0 0 0 1 0 0 0 0 0 0 0 1 0 0 0 0 0 0 0]\n",
      " [0 0 0 0 0 0 0 0 0 0 0 0 0 0 0 0 0 0 0 0 0 0 0 0 0 0 1 0 0 0 1 0 0]\n",
      " [0 0 1 0 0 0 0 0 0 0 0 0 0 0 1 0 0 0 0 0 0 0 0 0 0 0 0 1 0 0 0 0 0]\n",
      " [0 1 0 0 0 0 0 0 0 0 0 0 0 0 0 0 0 0 0 0 0 0 0 0 0 0 0 0 1 0 0 0 1]\n",
      " [1 0 0 0 0 0 0 0 0 0 0 0 0 0 1 0 0 0 0 1 0 0 0 0 0 0 0 0 0 1 0 0 1]\n",
      " [0 0 0 0 0 0 0 0 0 0 0 0 0 0 0 0 0 0 0 0 0 1 0 0 0 0 0 0 0 0 1 0 0]\n",
      " [0 0 0 0 0 0 0 0 0 0 0 0 0 0 0 0 0 0 0 0 0 0 0 0 0 0 0 0 0 0 0 1 0]\n",
      " [0 0 0 0 0 0 0 0 0 0 0 0 0 0 0 0 0 0 1 0 0 0 0 0 0 0 0 1 0 0 0 0 1]\n",
      " [1 0 0 0 0 0 0 0 0 0 0 0 0 0 0 0 0 0 0 0 0 0 0 0 0 0 0 0 0 0 0 0 0]\n",
      " [0 1 0 0 0 0 0 0 0 0 0 0 0 0 0 0 0 0 0 0 0 0 0 0 0 0 0 0 0 0 0 0 0]\n",
      " [0 0 1 0 0 0 0 0 0 0 0 0 0 0 0 0 0 0 0 0 0 0 0 0 0 0 0 0 0 0 0 0 0]\n",
      " [0 0 0 1 0 0 0 0 0 0 0 0 0 0 0 0 0 1 0 0 0 0 0 0 0 0 0 0 0 0 0 0 0]\n",
      " [0 0 0 0 1 0 0 0 0 0 0 0 0 0 0 0 0 0 0 0 0 0 0 0 0 0 0 0 0 0 0 0 0]\n",
      " [0 0 0 0 0 1 0 0 0 0 0 0 0 0 0 0 0 0 0 1 0 0 0 0 0 0 1 0 0 0 0 0 0]\n",
      " [0 0 0 0 1 0 1 0 0 0 0 0 0 0 1 0 0 0 0 0 0 1 0 0 0 0 0 0 1 0 0 0 0]\n",
      " [0 0 0 0 0 0 0 1 0 1 0 0 0 0 0 0 0 0 0 0 0 0 0 0 0 0 0 0 0 0 0 0 0]\n",
      " [0 0 0 0 0 0 0 0 1 0 0 0 0 0 0 0 0 0 0 0 0 0 0 0 0 0 0 0 0 0 0 0 0]\n",
      " [0 0 0 0 0 0 0 0 0 1 0 0 0 0 0 0 0 0 0 0 0 1 0 0 0 0 1 0 0 0 0 0 0]\n",
      " [0 0 0 0 0 0 0 0 0 0 1 1 0 0 0 0 0 1 0 0 0 0 0 0 0 0 0 0 0 0 0 0 0]\n",
      " [0 0 1 0 0 0 0 0 0 0 0 1 0 0 0 0 0 0 0 0 0 0 0 0 0 0 0 0 0 0 0 1 0]\n",
      " [0 0 0 0 0 0 0 0 0 0 0 1 1 1 0 0 0 0 0 0 0 0 0 0 0 0 0 0 0 0 0 0 0]]\n"
     ]
    }
   ],
   "source": [
    "with np.printoptions(threshold=np.inf):\n",
    "    print((bw_res.B > 01e-3).astype(np.uint8))"
   ]
  },
  {
   "attachments": {},
   "cell_type": "markdown",
   "metadata": {},
   "source": [
    "Добре видно діагональ, що дійсно відповідає зсуву на 13 символів, що використовувався при кодуванні "
   ]
  }
 ],
 "metadata": {
  "kernelspec": {
   "display_name": "sci",
   "language": "python",
   "name": "python3"
  },
  "language_info": {
   "codemirror_mode": {
    "name": "ipython",
    "version": 3
   },
   "file_extension": ".py",
   "mimetype": "text/x-python",
   "name": "python",
   "nbconvert_exporter": "python",
   "pygments_lexer": "ipython3",
   "version": "3.9.10"
  },
  "orig_nbformat": 4,
  "vscode": {
   "interpreter": {
    "hash": "5cd1e8db9659fd8f5b04e40667f71b538615cc830b3028b720b65ceddbc7849b"
   }
  }
 },
 "nbformat": 4,
 "nbformat_minor": 2
}
