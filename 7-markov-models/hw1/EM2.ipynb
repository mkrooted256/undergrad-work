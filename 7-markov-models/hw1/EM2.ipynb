{
 "cells": [
  {
   "cell_type": "code",
   "execution_count": 127,
   "metadata": {},
   "outputs": [],
   "source": [
    "import numpy as np\n",
    "import scipy as sp\n",
    "import scipy.stats as stats\n",
    "import matplotlib.pyplot as plt"
   ]
  },
  {
   "cell_type": "markdown",
   "metadata": {},
   "source": [
    "1. функція, що генерує випадкову вибірку суміші нормальних розподілів"
   ]
  },
  {
   "cell_type": "code",
   "execution_count": 128,
   "metadata": {},
   "outputs": [],
   "source": [
    "def GenerateNormalMix(Ms, Ds, p, size=500):\n",
    "    if not (len(Ms) == len(Ds) == len(p)):\n",
    "        raise ValueError(\"not (len(Ms) == len(Ds) == len(p).\")\n",
    "\n",
    "    K = len(p)\n",
    "    x_vals = np.arange(K)\n",
    "\n",
    "    control_samples = stats.rv_discrete(name='custm', values=(x_vals, p)).rvs(size=size)\n",
    "    \n",
    "    normal_samples = np.zeros((K, size))\n",
    "    for i,(m,d) in enumerate(zip(Ms, Ds)):\n",
    "        normal_samples[i] = stats.norm.rvs(loc=m, scale=d, size=size)\n",
    "\n",
    "    result = normal_samples[ control_samples, range(size) ]\n",
    "\n",
    "    return result"
   ]
  },
  {
   "cell_type": "markdown",
   "metadata": {},
   "source": [
    "# Завдання 2"
   ]
  },
  {
   "cell_type": "code",
   "execution_count": 129,
   "metadata": {},
   "outputs": [],
   "source": [
    "def EM_Task2(data, p_start, m_start, d_start, n_iter = 4):\n",
    "    # known: distribution is a mix of 4 normal distributions\n",
    "    # unknown:\n",
    "    # - pk: (p1, p2, p3, p4)\n",
    "    # - mk: (m1, m2, m3, m4)\n",
    "    # - dk: (d1, d2, d3, d4)\n",
    "\n",
    "    n = data.shape[0]\n",
    "\n",
    "    # UTILITY FUNCTIONS\n",
    "\n",
    "    # normal probability density function\n",
    "    def pdf(yk, m, d):\n",
    "        m = m.reshape(-1,1) # to make a column vector\n",
    "        d = d.reshape(-1,1)\n",
    "        return np.exp(-np.square(yk-m)/(2*d)) / np.sqrt(d) # / (np.sqrt(2*np.pi*d))\n",
    "    \n",
    "    # mixed probability density function\n",
    "    # - p: [p1, p2, p3, p4]\n",
    "    # - pdf: pdf[i,j] = p(y_j | phi_i)\n",
    "    # result: \n",
    "    #   fk: fk[k] = f(y_k | theta)\n",
    "    def f(p, pdf_ij):\n",
    "        return p @ pdf_ij # це матричне множення\n",
    "\n",
    "    # - p: [p1, p2, p3, p4]\n",
    "    # - pdf: pdf[i,j] = p(y_j | phi_i)\n",
    "    # - fk: fk[k] = f(y_k | theta)\n",
    "    # result: \n",
    "    #   wij: wij[i,j] = w_i(y_j | theta)\n",
    "    def w(p, pdf_ij, fk):\n",
    "        return p.reshape(-1,1) * pdf_ij / fk # w_ij = p_i * p(y_j | phi_i) / f(y_j | theta)\n",
    "\n",
    "    # calculate new p_i\n",
    "    # - wij: wij[i,j] = w_i(y_j | theta)\n",
    "    # result:\n",
    "    #   p : p[i] = p_i\n",
    "    def calculate_p(wij):\n",
    "        return wij.mean(axis=1) # p_i = sum_j w_ij / n\n",
    "\n",
    "    # calculate new m_i\n",
    "    # - wij: wij[i,j] = w_i(y_j | theta)\n",
    "    # result:\n",
    "    #   m : m[i] = m_i\n",
    "    def calculate_m(yk, wij):\n",
    "        new_m = (yk * wij).sum(axis=1) / wij.sum(axis=1) # m_i = sum_k y_k w_ik / sum_j w_ij\n",
    "        return new_m\n",
    "\n",
    "    # calculate new d_i (variance)\n",
    "    # - wij: wij[i,j] = w_i(y_j | theta)\n",
    "    # result:\n",
    "    #   d : d[i] = d_i\n",
    "    def calculate_d(new_m, yk, wij):\n",
    "        new_m = new_m.reshape(-1,1) # to make a column vector\n",
    "        new_d = (np.square(yk - new_m) * wij).sum(axis=1) / wij.sum(axis=1) # d_i = sum_k ((y_k - m_i)^2 w_ik) / sum_j w_ij\n",
    "        return new_d\n",
    "\n",
    "    # BEGIN ALGORITHM\n",
    "\n",
    "    p = p_start\n",
    "    m = m_start\n",
    "    d = d_start\n",
    "\n",
    "    history = dict(p=[p], m=[m], d=[d])\n",
    "    for step in range(n_iter):\n",
    "        pdf_ij = pdf(data, m, d)\n",
    "        # print('pdf_ij : \\n', pdf_ij)\n",
    "        fk = f(p, pdf_ij)\n",
    "\n",
    "        # prevent 0/0 division while calculating w_ij\n",
    "        outliers = (fk < 1e-12) # indices of points with dangerously low probability\n",
    "        fk[outliers] = 1\n",
    "        pdf_ij[:, outliers] = 0\n",
    "\n",
    "        # print('fk : \\n', fk)\n",
    "        wij = w(p, pdf_ij, fk)\n",
    "        # print('wij : \\n', wij)\n",
    "        \n",
    "        p_new = calculate_p(wij)\n",
    "        # print('p_new : ', p_new)\n",
    "        m_new = calculate_m(data, wij)\n",
    "        # print('m_new : ', m_new)\n",
    "        d_new = calculate_d(m_new, data, wij)\n",
    "        # print('d_new : ', d_new)\n",
    "\n",
    "        # break\n",
    "\n",
    "        p, m, d = p_new, m_new, d_new\n",
    "        history['p'].append(p)\n",
    "        history['m'].append(m)\n",
    "        history['d'].append(d)\n",
    "    \n",
    "    return (p, m, d), history\n",
    "    "
   ]
  },
  {
   "cell_type": "markdown",
   "metadata": {},
   "source": [
    "## Генерація вибірки\n"
   ]
  },
  {
   "cell_type": "code",
   "execution_count": 130,
   "metadata": {},
   "outputs": [
    {
     "data": {
      "text/plain": [
       "<matplotlib.lines.Line2D at 0x25f1ec05720>"
      ]
     },
     "execution_count": 130,
     "metadata": {},
     "output_type": "execute_result"
    },
    {
     "data": {
      "image/png": "[encoded data removed]",
      "text/plain": [
       "<Figure size 432x288 with 1 Axes>"
      ]
     },
     "metadata": {
      "needs_background": "light"
     },
     "output_type": "display_data"
    }
   ],
   "source": [
    "# генеруємо вибірку та дивимося на неї\n",
    "data = GenerateNormalMix([-20, 0, 3, 10], [4, 25, 16, 9], [1/4, 1/4, 1/4, 1/4], 1000)\n",
    "plt.plot(data, '.')\n",
    "plt.title('Точки вибірки')\n",
    "plt.axhline(-20, alpha=0.2, c='r')\n",
    "plt.axhline(0, alpha=0.2, c='r')\n",
    "plt.axhline(3, alpha=0.2, c='r')\n",
    "plt.axhline(10, alpha=0.2, c='r')"
   ]
  },
  {
   "cell_type": "code",
   "execution_count": 131,
   "metadata": {},
   "outputs": [
    {
     "data": {
      "text/plain": [
       "<matplotlib.lines.Line2D at 0x25f1ecae3b0>"
      ]
     },
     "execution_count": 131,
     "metadata": {},
     "output_type": "execute_result"
    },
    {
     "data": {
      "image/png": "[encoded data removed]",
      "text/plain": [
       "<Figure size 432x288 with 1 Axes>"
      ]
     },
     "metadata": {
      "needs_background": "light"
     },
     "output_type": "display_data"
    }
   ],
   "source": [
    "plt.hist(data, 40)\n",
    "plt.title('Гістограма вибірки')\n",
    "plt.axvline(-20, alpha=0.4, c='r')\n",
    "plt.axvline(0, alpha=0.4, c='r')\n",
    "plt.axvline(3, alpha=0.4, c='r')\n",
    "plt.axvline(10, alpha=0.4, c='r')"
   ]
  },
  {
   "cell_type": "markdown",
   "metadata": {},
   "source": [
    "## Тестування\n",
    "Тут одразу виникли проблеми. Деякі точки згенерувались так далеко, що в обчисленнях виникло ділення на 0. \n",
    "Тому знадобилось додати перевірку на занадто малоймовірні точки та викидати їх з обчислень. З цією ж ціллю я викинув фактор $\\frac{1}{\\sqrt{2\\pi}}$ в обчисленнях, бо він все одно має скоротитися "
   ]
  },
  {
   "cell_type": "code",
   "execution_count": 132,
   "metadata": {},
   "outputs": [
    {
     "name": "stdout",
     "output_type": "stream",
     "text": [
      "p*: [0.40042802 0.12618136 0.10460239 0.36878822]\n",
      "m*: [-20.44936847  -3.4434135    4.68426357  16.00810295]\n",
      "d*: [ 77.27203635  14.78930085   4.62908678 115.01149373]\n"
     ]
    }
   ],
   "source": [
    "p_true = np.array([1/4, 1/4, 1/4, 1/4])\n",
    "m_true = np.array([-20, 0, 3, 10])\n",
    "d_true = np.array([4, 25, 16, 9])\n",
    "\n",
    "# запускаємо спочатку на правильному значенні p та правильних значеннях m.\n",
    "# перевіряємо, як алгоритм обчислить дисперсії\n",
    "\n",
    "d0 = np.array([1,1,1,1])\n",
    "res, history = EM_Task2(data, p_true, m_true, d0, n_iter=4)\n",
    "print('p*:', res[0])\n",
    "print('m*:', res[1])\n",
    "print('d*:', res[2])"
   ]
  },
  {
   "cell_type": "code",
   "execution_count": 133,
   "metadata": {},
   "outputs": [
    {
     "name": "stdout",
     "output_type": "stream",
     "text": [
      "p*: [0.45591145 0.04091447 0.09542729 0.40774678]\n",
      "m*: [-17.94784352  -0.60058038   6.28287243  13.19012898]\n",
      "d*: [111.40710884  12.66150878   8.59735081 166.13629103]\n"
     ]
    }
   ],
   "source": [
    "res, history = EM_Task2(data, p_true, m_true, d0, n_iter=16)\n",
    "print('p*:', res[0])\n",
    "print('m*:', res[1])\n",
    "print('d*:', res[2])"
   ]
  },
  {
   "cell_type": "code",
   "execution_count": 134,
   "metadata": {},
   "outputs": [
    {
     "name": "stdout",
     "output_type": "stream",
     "text": [
      "p*: [0.46171587 0.02375915 0.0968359  0.41768908]\n",
      "m*: [-17.4253523    1.04411898   6.86942535  12.27261587]\n",
      "d*: [120.53262209   9.17233536  12.08535535 183.6537681 ]\n"
     ]
    }
   ],
   "source": [
    "res, history = EM_Task2(data, p_true, m_true, d0, n_iter=32)\n",
    "print('p*:', res[0])\n",
    "print('m*:', res[1])\n",
    "print('d*:', res[2])"
   ]
  },
  {
   "cell_type": "markdown",
   "metadata": {},
   "source": [
    "Щось не дуже. Але неозброєним оком також не видно всі 4 розподіли.\n",
    "\n",
    "Тепер спробуємо взяти іншу початкову точку"
   ]
  },
  {
   "cell_type": "code",
   "execution_count": 135,
   "metadata": {},
   "outputs": [
    {
     "name": "stdout",
     "output_type": "stream",
     "text": [
      "Початкова точка:  [(-20.0, 4), (0.0, 4), (0.1, 4), (10.0, 4)]\n",
      "p*: [0.46212706 0.10940247 0.11134979 0.31712067]\n",
      "m*: [-17.17104821   9.91179666   7.3416026   11.99523009]\n",
      "d*: [123.72690047  50.74425084  33.97923987 240.62212308]\n"
     ]
    }
   ],
   "source": [
    "p0 = p_true\n",
    "m0 = np.array([-20, 0, 0.1, 10])\n",
    "d0 = np.array([4, 4, 4, 4])\n",
    "\n",
    "res, history = EM_Task2(data, p0, m0, d0, n_iter=32)\n",
    "print(\"Початкова точка: \", list(zip(m0,d0)))\n",
    "print('p*:', res[0])\n",
    "print('m*:', res[1])\n",
    "print('d*:', res[2])"
   ]
  },
  {
   "cell_type": "code",
   "execution_count": 136,
   "metadata": {},
   "outputs": [
    {
     "name": "stdout",
     "output_type": "stream",
     "text": [
      "Початкова точка:  [(-20, 4), (0, 4), (1, 4), (10, 4)]\n",
      "p*: [0.45859644 0.06040128 0.12868847 0.3523138 ]\n",
      "m*: [-17.3930072    9.75481773   6.8810379   12.12625683]\n",
      "d*: [121.31253635  78.22140829  23.65210386 214.78407969]\n"
     ]
    }
   ],
   "source": [
    "p0 = p_true\n",
    "m0 = np.array([-20, 0, 1, 10])\n",
    "d0 = np.array([4, 4, 4, 4])\n",
    "\n",
    "res, history = EM_Task2(data, p0, m0, d0, n_iter=32)\n",
    "print(\"Початкова точка: \", list(zip(m0,d0)))\n",
    "print('p*:', res[0])\n",
    "print('m*:', res[1])\n",
    "print('d*:', res[2])"
   ]
  },
  {
   "cell_type": "code",
   "execution_count": 137,
   "metadata": {},
   "outputs": [
    {
     "name": "stdout",
     "output_type": "stream",
     "text": [
      "Початкова точка:  [(-20, 4), (0, 25), (1, 16), (10, 9)]\n",
      "p*: [0.26779061 0.27192162 0.20649689 0.25379088]\n",
      "m*: [-19.72501723  -1.82559796   0.90987724  13.24435918]\n",
      "d*: [ 15.59541546 581.05893491  55.47952172  71.05063937]\n"
     ]
    }
   ],
   "source": [
    "p0 = p_true\n",
    "m0 = np.array([-20, 0, 1, 10])\n",
    "d0 = d_true\n",
    "\n",
    "res, history = EM_Task2(data, p0, m0, d0, n_iter=32)\n",
    "print(\"Початкова точка: \", list(zip(m0,d0)))\n",
    "print('p*:', res[0])\n",
    "print('m*:', res[1])\n",
    "print('d*:', res[2])"
   ]
  },
  {
   "cell_type": "code",
   "execution_count": 138,
   "metadata": {},
   "outputs": [
    {
     "name": "stdout",
     "output_type": "stream",
     "text": [
      "Початкова точка:  [(-25, 4), (-1, 25), (2, 16), (6, 9)]\n",
      "p*: [0.23862557 0.37421671 0.20374387 0.18341384]\n",
      "m*: [-19.82363403  -1.17950392   5.2166042   10.24761976]\n",
      "d*: [ 13.14681412 489.40759084 102.71957597  82.56262492]\n"
     ]
    }
   ],
   "source": [
    "p0 = p_true\n",
    "m0 = np.array([-25, -1, 2, 6])\n",
    "d0 = d_true\n",
    "\n",
    "res, history = EM_Task2(data, p0, m0, d0, n_iter=32)\n",
    "print(\"Початкова точка: \", list(zip(m0,d0)))\n",
    "print('p*:', res[0])\n",
    "print('m*:', res[1])\n",
    "print('d*:', res[2])"
   ]
  },
  {
   "cell_type": "markdown",
   "metadata": {},
   "source": [
    "Стійкість:"
   ]
  },
  {
   "cell_type": "code",
   "execution_count": 139,
   "metadata": {},
   "outputs": [
    {
     "name": "stdout",
     "output_type": "stream",
     "text": [
      "Початкова точка:  [(-20, 4), (0, 25), (3, 16), (10, 9)]\n",
      "p*: [0.27391032 0.22234747 0.34369183 0.16005037]\n",
      "m*: [-19.80731271  -2.36553435   3.20964974  16.36271146]\n",
      "d*: [ 16.13391825 650.49468198  78.67882437  64.08976356]\n"
     ]
    }
   ],
   "source": [
    "p0 = p_true\n",
    "m0 = m_true\n",
    "d0 = d_true\n",
    "\n",
    "res, history = EM_Task2(data, p0, m0, d0, n_iter=1000)\n",
    "print(\"Початкова точка: \", list(zip(m0,d0)))\n",
    "print('p*:', res[0])\n",
    "print('m*:', res[1])\n",
    "print('d*:', res[2])"
   ]
  },
  {
   "cell_type": "code",
   "execution_count": 140,
   "metadata": {},
   "outputs": [
    {
     "data": {
      "image/png": "[encoded data removed]",
      "text/plain": [
       "<Figure size 864x216 with 3 Axes>"
      ]
     },
     "metadata": {
      "needs_background": "light"
     },
     "output_type": "display_data"
    }
   ],
   "source": [
    "fig, axs = plt.subplots(1,3)\n",
    "axs[0].plot(history['m'])\n",
    "axs[0].set_title('m')\n",
    "axs[1].plot(history['d'])\n",
    "axs[1].set_title('d')\n",
    "axs[2].plot(history['p'])\n",
    "axs[2].set_title('p')\n",
    "fig.set_size_inches((12,3))"
   ]
  },
  {
   "cell_type": "markdown",
   "metadata": {},
   "source": [
    "Випробував різні початкові точки. найцікавіші спостереження наступні:\n",
    "- на цих вхідних даних алгоритм працює погано\n",
    "- алгоритм \"бачить\" лише $\\mathcal N(-20, 4)$ та $\\mathcal N(10,9)$ - так як і людина неозброєним оком\n",
    "- розподіли біля нуля зливаються в один\n",
    "- алгоритм схильний відправляти багато точок, що не вписуються в модель, в розподіл з матсподіванням 0, великою дисперсією та великим значенням змішуючої ймовірності \n",
    "- алгоритм нестійкий: якщо подати на вхід еталонні значення, то він з часом відходитиме від них\n",
    "    - звідси випливає, що іноді збільшення кількості ітерацій не допомагає, а навіть шкодить\n",
    "- алгоритм дуже залежить від вхідних даних: поведінка та графіки еволюції оцінок якісно відрізняються"
   ]
  },
  {
   "cell_type": "markdown",
   "metadata": {},
   "source": []
  }
 ],
 "metadata": {
  "kernelspec": {
   "display_name": "Python 3.10.4 64-bit ('sci')",
   "language": "python",
   "name": "python3"
  },
  "language_info": {
   "codemirror_mode": {
    "name": "ipython",
    "version": 3
   },
   "file_extension": ".py",
   "mimetype": "text/x-python",
   "name": "python",
   "nbconvert_exporter": "python",
   "pygments_lexer": "ipython3",
   "version": "3.10.4"
  },
  "orig_nbformat": 4,
  "vscode": {
   "interpreter": {
    "hash": "01dad04d8f17c99575339bd89795fcc69018ae137f040a12ef76771e6b6401aa"
   }
  }
 },
 "nbformat": 4,
 "nbformat_minor": 2
}
