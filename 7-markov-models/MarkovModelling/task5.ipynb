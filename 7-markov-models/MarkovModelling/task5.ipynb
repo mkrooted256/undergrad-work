{
 "cells": [
  {
   "cell_type": "code",
   "execution_count": 32,
   "metadata": {},
   "outputs": [],
   "source": [
    "import numpy as np\n",
    "import scipy as sp\n",
    "import scipy.stats\n",
    "import matplotlib.pyplot as plt\n",
    "import networkx as nx\n",
    "from collections import namedtuple"
   ]
  },
  {
   "attachments": {},
   "cell_type": "markdown",
   "metadata": {},
   "source": [
    "# Завдання 5\n",
    "Оцінити кількість розфарбовок графа"
   ]
  },
  {
   "cell_type": "code",
   "execution_count": 41,
   "metadata": {},
   "outputs": [],
   "source": [
    "def get_neighbours(A, from_node):\n",
    "    return np.arange(A.shape[0])[A[from_node] != 0]\n",
    "\n",
    "def get_available_colors(k, adjacent_colors):\n",
    "    all_colors = set(range(k))\n",
    "    unavailable = set(adjacent_colors)\n",
    "    return list(all_colors.difference(unavailable))\n",
    "\n",
    "def color(A, k, from_node, rng: np.random.Generator):\n",
    "    # BFS walk.\n",
    "    n = A.shape[0]\n",
    "    colors = np.ones(n) * -1\n",
    "    todo = [ from_node ]\n",
    "    while len(todo) > 0:\n",
    "        current = todo.pop()\n",
    "        neighbours = get_neighbours(A, current)\n",
    "        a_colors = get_available_colors(k, colors[neighbours])\n",
    "        if len(a_colors) == 0 and colors[current] == -1:\n",
    "            raise ValueError(\"Cannot proceed: no available colors.\")\n",
    "        colors[current] = rng.choice(a_colors)\n",
    "        for x in neighbours:\n",
    "            if colors[x] == -1:\n",
    "                todo.append(x)\n",
    "    return colors\n",
    "\n",
    "def random_graph(n, p=0.3):\n",
    "    A = (np.random.rand(n,n) < p)\n",
    "    A = (A | A.T) & ((1-np.eye(n)) > 0)\n",
    "    A = A.astype(np.uint8)\n",
    "    return A\n",
    "\n",
    "def draw(A,colors):\n",
    "    G=nx.to_networkx_graph(A)\n",
    "    nx.draw_networkx(G, node_color=colors)\n",
    "        \n",
    "\n",
    "# A - adjacency matrix\n",
    "# k - кількість кольорів у розфарбовці\n",
    "Task5Params = namedtuple('Task5Params', 'A,k')\n",
    "Task5Result = namedtuple('Task5Result', 'nsteps, history')\n",
    "def Task5(params: Task5Params, stat_offset=2000, n_steps=2000, seed=42, debug=False):\n",
    "    rng = np.random.default_rng(seed)\n",
    "    A,k = params\n",
    "    n = A.shape[0]\n",
    "    if A.shape[0] != A.shape[1]: raise ValueError(\"Not square adjacency matrix A\")\n",
    "    if (A != A.T).any(): raise ValueError(\"Not symmetric adjacency matrix A\")\n",
    "\n",
    "    # todo.\n",
    "        \n",
    "    return Task5Result(n_steps, history)\n"
   ]
  },
  {
   "cell_type": "code",
   "execution_count": 39,
   "metadata": {},
   "outputs": [],
   "source": []
  }
 ],
 "metadata": {
  "kernelspec": {
   "display_name": "sci",
   "language": "python",
   "name": "python3"
  },
  "language_info": {
   "codemirror_mode": {
    "name": "ipython",
    "version": 3
   },
   "file_extension": ".py",
   "mimetype": "text/x-python",
   "name": "python",
   "nbconvert_exporter": "python",
   "pygments_lexer": "ipython3",
   "version": "3.10.4"
  },
  "orig_nbformat": 4,
  "vscode": {
   "interpreter": {
    "hash": "01dad04d8f17c99575339bd89795fcc69018ae137f040a12ef76771e6b6401aa"
   }
  }
 },
 "nbformat": 4,
 "nbformat_minor": 2
}
