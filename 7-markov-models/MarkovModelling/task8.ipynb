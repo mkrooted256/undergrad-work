{
 "cells": [
  {
   "cell_type": "code",
   "execution_count": 2,
   "metadata": {},
   "outputs": [],
   "source": [
    "import numpy as np\n",
    "import scipy as sp\n",
    "import scipy.stats\n",
    "import matplotlib.pyplot as plt\n",
    "from collections import namedtuple"
   ]
  },
  {
   "attachments": {},
   "cell_type": "markdown",
   "metadata": {},
   "source": [
    "# Завдання 8\n"
   ]
  },
  {
   "cell_type": "code",
   "execution_count": 14,
   "metadata": {},
   "outputs": [],
   "source": [
    "Task8Params = namedtuple('Task8Params', 'A0')\n",
    "Task8Result = namedtuple('Task8Result', 'nsteps, history, histogram')\n",
    "def Task8_1(params: Task8Params, n_steps=2000, seed=42, debug=False):\n",
    "    rng = np.random.default_rng(seed)\n",
    "    A0, = params\n",
    "    n,m = A0.shape\n",
    "\n",
    "    X = A0\n",
    "    history = [X]\n",
    "    histogram = dict()\n",
    "    hash0 = tuple(X.ravel())\n",
    "    histogram[hash0] = 1\n",
    "    \n",
    "    # return 2 random numbers\n",
    "    def rand2(high): \n",
    "        return np.random.randint(0,high), np.random.randint(0,high)\n",
    "\n",
    "    steps = 0\n",
    "    while steps < n_steps:\n",
    "        i1,i2 = rand2(n)\n",
    "        j1,j2 = rand2(m)\n",
    "        a,b,c,d = X[i1,j1], X[i1,j2], X[i2,j1], X[i2,j2]\n",
    "        if a==d==1 and b==c==0:\n",
    "            # positive checkerboard.\n",
    "            X[i1,j1] = 0; X[i2,j2] = 0\n",
    "            X[i1,j2] = 1; X[i2,j1] = 1\n",
    "        elif a==d==0 and b==c==1:\n",
    "            # negative checkerboard.\n",
    "            X[i1,j1] = 1; X[i2,j2] = 1\n",
    "            X[i1,j2] = 0; X[i2,j1] = 0\n",
    "        else: \n",
    "            # not a checkerboard. skip.\n",
    "            continue\n",
    "        steps += 1\n",
    "        \n",
    "        history.append(X)\n",
    "        hash = tuple(X.ravel())\n",
    "        if hash in histogram:\n",
    "            histogram[hash] += 1\n",
    "        else:\n",
    "            histogram[hash] = 1\n",
    "\n",
    "    return Task8Result(n_steps, history, histogram)\n"
   ]
  },
  {
   "cell_type": "code",
   "execution_count": 24,
   "metadata": {},
   "outputs": [],
   "source": [
    "def calc_deg(A):\n",
    "    n,m = A.shape\n",
    "    counter = 0\n",
    "    for i1 in range(n):\n",
    "        for i2 in range(i1, n):\n",
    "            for j1 in range(m):\n",
    "                for j2 in range(j1,m):\n",
    "                    a,b,c,d = A[i1,j1], A[i1,j2], A[i2,j1], A[i2,j2]\n",
    "                    if a==d==1 and b==c==0:\n",
    "                        # positive checkerboard.\n",
    "                        counter+=1\n",
    "                    elif a==d==0 and b==c==1:\n",
    "                        # negative checkerboard.\n",
    "                        counter+=1\n",
    "    return counter\n",
    "\n",
    "def Task8_MCMC(params: Task8Params, n_steps=2000, seed=42, debug=False):\n",
    "    rng = np.random.default_rng(seed)\n",
    "    A0, = params\n",
    "    n,m = A0.shape\n",
    "\n",
    "    X = A0\n",
    "    history = [X]\n",
    "    histogram = dict()\n",
    "    hash0 = tuple(X.ravel())\n",
    "    histogram[hash0] = 1\n",
    "    \n",
    "    # return 2 random numbers\n",
    "    def rand2(high): \n",
    "        return np.random.randint(0,high), np.random.randint(0,high)\n",
    "\n",
    "    deg_cache = dict()\n",
    "    deg_cache[hash0] = calc_deg(X)\n",
    "\n",
    "    step = 0\n",
    "    while step < n_steps:\n",
    "        i1,i2 = rand2(n)\n",
    "        j1,j2 = rand2(m)\n",
    "        a,b,c,d = X[i1,j1], X[i1,j2], X[i2,j1], X[i2,j2]\n",
    "        check = 0\n",
    "        if a==d==1 and b==c==0:\n",
    "            # positive checkerboard.\n",
    "            check = 1\n",
    "        elif a==d==0 and b==c==1:\n",
    "            # negative checkerboard.\n",
    "            check = -1\n",
    "        else: \n",
    "            # not a checkerboard. skip.\n",
    "            continue\n",
    "        step += 1\n",
    "\n",
    "        Xnew = X.copy()\n",
    "        if check == 1:\n",
    "            Xnew[i1,j1] = 0; Xnew[i2,j2] = 0\n",
    "            Xnew[i1,j2] = 1; Xnew[i2,j1] = 1\n",
    "        elif check == -1:\n",
    "            Xnew[i1,j1] = 1; Xnew[i2,j2] = 1\n",
    "            Xnew[i1,j2] = 0; Xnew[i2,j1] = 0\n",
    "\n",
    "        hash0 = tuple(X.ravel())\n",
    "        hash = tuple(Xnew.ravel())\n",
    "\n",
    "        d0 = deg_cache[hash0]\n",
    "        d = None\n",
    "        if hash not in deg_cache:\n",
    "            d = calc_deg(Xnew)\n",
    "            deg_cache[hash] = d\n",
    "        else:\n",
    "            d = deg_cache[hash]\n",
    "\n",
    "        alpha = np.minimum(1, d0/d)\n",
    "        w = np.random.random()\n",
    "        if w <= alpha:\n",
    "            X = Xnew\n",
    "        else:\n",
    "            hash = hash0\n",
    "\n",
    "        history.append(X)\n",
    "        if hash in histogram:\n",
    "            histogram[hash] += 1\n",
    "        else:\n",
    "            histogram[hash] = 1\n",
    "\n",
    "    return Task8Result(n_steps, history, histogram)\n"
   ]
  },
  {
   "cell_type": "code",
   "execution_count": 12,
   "metadata": {},
   "outputs": [],
   "source": [
    "A0 = np.array([\n",
    "    [1,1,1,0],\n",
    "    [1,1,0,0],\n",
    "    [0,0,0,1]\n",
    "])\n",
    "params = Task8Params(A0)"
   ]
  },
  {
   "cell_type": "code",
   "execution_count": 26,
   "metadata": {},
   "outputs": [
    {
     "name": "stdout",
     "output_type": "stream",
     "text": [
      "Метод 1\n",
      "matrix count =  8\n"
     ]
    },
    {
     "data": {
      "text/plain": [
       "Text(0.5, 1.0, 'Method 1. histogram')"
      ]
     },
     "execution_count": 26,
     "metadata": {},
     "output_type": "execute_result"
    },
    {
     "data": {
      "image/png": "[encoded data removed]",
      "text/plain": [
       "<Figure size 640x480 with 1 Axes>"
      ]
     },
     "metadata": {},
     "output_type": "display_data"
    }
   ],
   "source": [
    "res1 = Task8_1(params, n_steps=10000)\n",
    "\n",
    "print(\"Метод 1\")\n",
    "N = len(res1.histogram.keys())\n",
    "print(\"matrix count = \", N)\n",
    "plt.bar(range(N), res1.histogram.values(), 0.3)\n",
    "plt.title('Method 1. histogram')"
   ]
  },
  {
   "cell_type": "code",
   "execution_count": 27,
   "metadata": {},
   "outputs": [
    {
     "name": "stdout",
     "output_type": "stream",
     "text": [
      "Метод 2\n",
      "matrix count =  8\n"
     ]
    },
    {
     "data": {
      "text/plain": [
       "Text(0.5, 1.0, 'Method 2. histogram')"
      ]
     },
     "execution_count": 27,
     "metadata": {},
     "output_type": "execute_result"
    },
    {
     "data": {
      "image/png": "[encoded data removed]",
      "text/plain": [
       "<Figure size 640x480 with 1 Axes>"
      ]
     },
     "metadata": {},
     "output_type": "display_data"
    }
   ],
   "source": [
    "res2 = Task8_MCMC(params, n_steps=10000)\n",
    "\n",
    "print(\"Метод 2\")\n",
    "N = len(res2.histogram.keys())\n",
    "print(\"matrix count = \", N)\n",
    "plt.bar(range(N), res2.histogram.values(), 0.3)\n",
    "plt.title('Method 2. histogram')"
   ]
  }
 ],
 "metadata": {
  "kernelspec": {
   "display_name": "sci2",
   "language": "python",
   "name": "python3"
  },
  "language_info": {
   "codemirror_mode": {
    "name": "ipython",
    "version": 3
   },
   "file_extension": ".py",
   "mimetype": "text/x-python",
   "name": "python",
   "nbconvert_exporter": "python",
   "pygments_lexer": "ipython3",
   "version": "3.11.0"
  },
  "orig_nbformat": 4,
  "vscode": {
   "interpreter": {
    "hash": "77b55d4590aaaa95eb11a9c10902ea41e364d73a1800eec0efaa09ac21e753e8"
   }
  }
 },
 "nbformat": 4,
 "nbformat_minor": 2
}
