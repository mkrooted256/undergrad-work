{
 "cells": [
  {
   "cell_type": "code",
   "execution_count": 1,
   "id": "66d08c7f-7d34-4c51-bd18-0518c56f4863",
   "metadata": {},
   "outputs": [],
   "source": [
    "import numpy as np\n",
    "import scipy as sp\n",
    "import scipy.stats"
   ]
  },
  {
   "cell_type": "code",
   "execution_count": 2,
   "id": "9884298f-2ac3-43ff-b284-9946e1e96714",
   "metadata": {},
   "outputs": [
    {
     "data": {
      "text/plain": [
       "(-1.959963984540054, 1.959963984540054)"
      ]
     },
     "execution_count": 2,
     "metadata": {},
     "output_type": "execute_result"
    }
   ],
   "source": [
    "gamma = 0.95\n",
    "g1 = sp.stats.norm.ppf((1-gamma)/2)\n",
    "g2 = sp.stats.norm.ppf((1+gamma)/2)\n",
    "g1, g2"
   ]
  },
  {
   "cell_type": "code",
   "execution_count": null,
   "id": "09c4c497-dff9-48aa-a111-4ec6b194a87b",
   "metadata": {},
   "outputs": [],
   "source": []
  }
 ],
 "metadata": {
  "kernelspec": {
   "display_name": "Python 3 (ipykernel)",
   "language": "python",
   "name": "python3"
  },
  "language_info": {
   "codemirror_mode": {
    "name": "ipython",
    "version": 3
   },
   "file_extension": ".py",
   "mimetype": "text/x-python",
   "name": "python",
   "nbconvert_exporter": "python",
   "pygments_lexer": "ipython3",
   "version": "3.10.4"
  }
 },
 "nbformat": 4,
 "nbformat_minor": 5
}
