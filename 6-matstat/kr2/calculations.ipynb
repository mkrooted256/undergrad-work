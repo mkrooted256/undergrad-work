{
 "cells": [
  {
   "cell_type": "code",
   "execution_count": 12,
   "id": "c160ebdd-abc0-45e4-8750-35ebb525cffc",
   "metadata": {},
   "outputs": [],
   "source": [
    "import numpy as np\n",
    "import scipy as sp\n",
    "import scipy.stats\n",
    "import matplotlib.pyplot as plt"
   ]
  },
  {
   "cell_type": "code",
   "execution_count": 9,
   "id": "22fdd268-82d5-4612-bbcf-c755d063de1a",
   "metadata": {},
   "outputs": [
    {
     "name": "stdout",
     "output_type": "stream",
     "text": [
      "(15,)\n"
     ]
    }
   ],
   "source": [
    "N = 15\n",
    "gamma = 0.95\n",
    "\n",
    "data = np.array([\n",
    "    2.0, 1.3, 6.0, 1.9, 5.1, 0.4, 1.0, 5.3, 15.7, 0.7, 4.8, 0.9, 12.2, 5.3, 0.6\n",
    "])\n",
    "print(data.shape)"
   ]
  },
  {
   "cell_type": "code",
   "execution_count": 10,
   "id": "eeb99797-da48-4713-82ee-101ee12ef0cf",
   "metadata": {},
   "outputs": [],
   "source": [
    "chi22n = scipy.stats.chi2(2*N)"
   ]
  },
  {
   "cell_type": "code",
   "execution_count": 13,
   "id": "e39416ca-00df-4e48-8f33-0f81f944cb88",
   "metadata": {},
   "outputs": [
    {
     "name": "stdout",
     "output_type": "stream",
     "text": [
      "g1 = 16.790772265566623\n",
      "g2 = 46.97924224367115\n"
     ]
    }
   ],
   "source": [
    "g1 = chi22n.ppf((1-gamma)/2)\n",
    "g2 = chi22n.ppf((1+gamma)/2)\n",
    "print(\"g1 =\", g1)\n",
    "print(\"g2 =\", g2)"
   ]
  },
  {
   "cell_type": "code",
   "execution_count": 17,
   "id": "27dabe5a-6a28-4615-9e6a-e62830d146d9",
   "metadata": {},
   "outputs": [
    {
     "name": "stdout",
     "output_type": "stream",
     "text": [
      "\\sum_i x_i = S = 63.199999999999996\n"
     ]
    }
   ],
   "source": [
    "S = data.sum()\n",
    "print(\"\\sum_i x_i = S =\", S)"
   ]
  },
  {
   "cell_type": "code",
   "execution_count": 19,
   "id": "165f263f-bdc9-4401-8997-db395f72b354",
   "metadata": {},
   "outputs": [
    {
     "name": "stdout",
     "output_type": "stream",
     "text": [
      "Довірчий інтервал: (2.690549995344552 ; 7.527944397126542)\n"
     ]
    }
   ],
   "source": [
    "T1 = 2 * S / g2\n",
    "T2 = 2 * S / g1\n",
    "print(f\"Довірчий інтервал: ({T1} ; {T2})\")"
   ]
  },
  {
   "cell_type": "code",
   "execution_count": null,
   "id": "22bf577f-4b95-4d50-8b5c-8c4f1a3908f4",
   "metadata": {},
   "outputs": [],
   "source": []
  }
 ],
 "metadata": {
  "kernelspec": {
   "display_name": "Python 3 (ipykernel)",
   "language": "python",
   "name": "python3"
  },
  "language_info": {
   "codemirror_mode": {
    "name": "ipython",
    "version": 3
   },
   "file_extension": ".py",
   "mimetype": "text/x-python",
   "name": "python",
   "nbconvert_exporter": "python",
   "pygments_lexer": "ipython3",
   "version": "3.10.4"
  }
 },
 "nbformat": 4,
 "nbformat_minor": 5
}
