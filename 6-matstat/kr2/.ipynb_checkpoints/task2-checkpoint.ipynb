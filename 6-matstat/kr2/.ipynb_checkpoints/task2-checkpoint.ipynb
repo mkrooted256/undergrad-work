{
 "cells": [
  {
   "cell_type": "code",
   "execution_count": 1,
   "id": "9606e8a9-1ae9-4b5a-aded-94e104e79641",
   "metadata": {},
   "outputs": [],
   "source": [
    "import numpy as np\n",
    "import scipy as sp\n",
    "import scipy.stats"
   ]
  },
  {
   "cell_type": "code",
   "execution_count": 9,
   "id": "649cd4e1-9aa2-4267-9e90-8ac5b755aeb4",
   "metadata": {},
   "outputs": [],
   "source": [
    "gamma = 0.95\n",
    "data = np.array([\n",
    "    25.2,21.3,22.8,17.0,29.8,21.0,25.0,16.0,\n",
    "    20.9,19.5,22.7,23.0,18.2,21.0,20.3,25.4,\n",
    "])\n",
    "n = data.shape[0]"
   ]
  },
  {
   "cell_type": "code",
   "execution_count": 8,
   "id": "83534a90-f8c9-461e-af2a-b2a49b5fd69a",
   "metadata": {},
   "outputs": [],
   "source": [
    "M = data.mean()\n",
    "S2 = ((data - M)*(data - M)).sum() / (n-1)"
   ]
  },
  {
   "cell_type": "code",
   "execution_count": 5,
   "id": "b8ffdd12-9735-4987-8dab-ddcc432c3c76",
   "metadata": {},
   "outputs": [
    {
     "name": "stdout",
     "output_type": "stream",
     "text": [
      "Confidence interval for mean:\n",
      "g1= -2.13; g2= 2.13\n",
      "Interval:\n",
      "P(mu \\in [19.97; 23.67]) = 0.95\n"
     ]
    }
   ],
   "source": [
    "t = sp.stats.t(n-1) \n",
    "g1 = t.ppf((1-gamma)/2)\n",
    "g2 = t.ppf((1+gamma)/2)\n",
    "\n",
    "a1 = M - np.sqrt(S2 / n) * g2\n",
    "a2 = M - np.sqrt(S2 / n) * g1\n",
    "\n",
    "print(\"Confidence interval for mean:\")\n",
    "print(f\"g1= {g1:.2f}; g2= {g2:.2f}\")\n",
    "print(f\"Interval:\")\n",
    "print(f\"P(mu \\in [{a1:.2f}; {a2:.2f}]) = {gamma}\")\n"
   ]
  },
  {
   "cell_type": "code",
   "execution_count": 7,
   "id": "03759b74-fe32-4556-bd21-5b71b5fca3cd",
   "metadata": {},
   "outputs": [
    {
     "name": "stdout",
     "output_type": "stream",
     "text": [
      "Confidence interval for variance:\n",
      "g1= 6.26; g2= 27.49\n",
      "Interval:\n",
      "P(sigma^2 \\in [6.60; 28.99]) = 0.95\n"
     ]
    }
   ],
   "source": [
    "chi2 = sp.stats.chi2(n-1)\n",
    "g1 = chi2.ppf((1-gamma)/2)\n",
    "g2 = chi2.ppf((1+gamma)/2)\n",
    "\n",
    "a1 = S2 * (n-1) / g2\n",
    "a2 = S2 * (n-1) / g1\n",
    "\n",
    "\n",
    "print(\"Confidence interval for variance:\")\n",
    "print(f\"g1= {g1:.2f}; g2= {g2:.2f}\")\n",
    "print(f\"Interval:\")\n",
    "print(f\"P(sigma^2 \\in [{a1:.2f}; {a2:.2f}]) = {gamma}\")\n"
   ]
  },
  {
   "cell_type": "code",
   "execution_count": null,
   "id": "a3875c65-137a-4e71-bb57-fb0be94959dc",
   "metadata": {},
   "outputs": [],
   "source": []
  }
 ],
 "metadata": {
  "kernelspec": {
   "display_name": "Python 3 (ipykernel)",
   "language": "python",
   "name": "python3"
  },
  "language_info": {
   "codemirror_mode": {
    "name": "ipython",
    "version": 3
   },
   "file_extension": ".py",
   "mimetype": "text/x-python",
   "name": "python",
   "nbconvert_exporter": "python",
   "pygments_lexer": "ipython3",
   "version": "3.10.4"
  }
 },
 "nbformat": 4,
 "nbformat_minor": 5
}
