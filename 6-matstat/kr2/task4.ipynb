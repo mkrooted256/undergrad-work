{
 "cells": [
  {
   "cell_type": "code",
   "execution_count": 1,
   "id": "54395407-aa95-4eb4-93f6-87322c5dcfe2",
   "metadata": {},
   "outputs": [],
   "source": [
    "import numpy as np\n",
    "import scipy as sp\n",
    "import scipy.stats"
   ]
  },
  {
   "cell_type": "code",
   "execution_count": 2,
   "id": "9f3d9212-d04b-4e8a-9289-84f7340755d3",
   "metadata": {},
   "outputs": [],
   "source": [
    "n = 10\n",
    "mu0 = 50000\n",
    "mu1 = 70000\n",
    "alpha = 0.05"
   ]
  },
  {
   "cell_type": "code",
   "execution_count": 3,
   "id": "a5493f88-fcd2-4cb9-a5b9-3f6474c0ffce",
   "metadata": {},
   "outputs": [],
   "source": [
    "chi2n = sp.stats.chi2(2*n)"
   ]
  },
  {
   "cell_type": "code",
   "execution_count": 4,
   "id": "20cae04e-037e-404b-bc44-3d584010fbe5",
   "metadata": {},
   "outputs": [
    {
     "data": {
      "text/plain": [
       "31.410432844230918"
      ]
     },
     "execution_count": 4,
     "metadata": {},
     "output_type": "execute_result"
    }
   ],
   "source": [
    "k1 = chi2n.ppf(1-alpha)\n",
    "k1"
   ]
  },
  {
   "cell_type": "code",
   "execution_count": 5,
   "id": "52183642-5e66-4cc0-8246-cfd05038c9e9",
   "metadata": {},
   "outputs": [
    {
     "data": {
      "text/plain": [
       "78526.08211057729"
      ]
     },
     "execution_count": 5,
     "metadata": {},
     "output_type": "execute_result"
    }
   ],
   "source": [
    "K = k1 * mu0 / (2*n)\n",
    "K"
   ]
  },
  {
   "cell_type": "code",
   "execution_count": 6,
   "id": "244fd4a0-e200-4d59-ac3c-f0a908752b3b",
   "metadata": {},
   "outputs": [
    {
     "data": {
      "text/plain": [
       "1.6448536269514722"
      ]
     },
     "execution_count": 6,
     "metadata": {},
     "output_type": "execute_result"
    }
   ],
   "source": [
    "sp.stats.norm.ppf(0.95)"
   ]
  },
  {
   "cell_type": "code",
   "execution_count": 11,
   "id": "d9d7f329-a412-404f-8470-da53b073165e",
   "metadata": {},
   "outputs": [
    {
     "data": {
      "text/plain": [
       "5.991464547107979"
      ]
     },
     "execution_count": 11,
     "metadata": {},
     "output_type": "execute_result"
    }
   ],
   "source": [
    "sp.stats.chi2(2).ppf(0.95)"
   ]
  },
  {
   "cell_type": "code",
   "execution_count": null,
   "id": "d7597d5d-27a0-4c0c-9abb-710636605a75",
   "metadata": {},
   "outputs": [],
   "source": []
  }
 ],
 "metadata": {
  "kernelspec": {
   "display_name": "Python 3 (ipykernel)",
   "language": "python",
   "name": "python3"
  },
  "language_info": {
   "codemirror_mode": {
    "name": "ipython",
    "version": 3
   },
   "file_extension": ".py",
   "mimetype": "text/x-python",
   "name": "python",
   "nbconvert_exporter": "python",
   "pygments_lexer": "ipython3",
   "version": "3.10.4"
  }
 },
 "nbformat": 4,
 "nbformat_minor": 5
}
