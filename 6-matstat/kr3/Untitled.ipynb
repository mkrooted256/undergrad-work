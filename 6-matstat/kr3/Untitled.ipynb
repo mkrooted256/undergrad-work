{
 "cells": [
  {
   "cell_type": "code",
   "execution_count": 1,
   "id": "03b567ca-ba4d-4bc1-9290-3528a1773346",
   "metadata": {},
   "outputs": [],
   "source": [
    "import numpy as np"
   ]
  },
  {
   "cell_type": "code",
   "execution_count": 3,
   "id": "33ca048d-4f46-4b6b-aeae-0a3c0ed751fb",
   "metadata": {},
   "outputs": [],
   "source": [
    "m = np.array([2,1,1])\n",
    "A = np.array([\n",
    "    [16, 1, -1],\n",
    "    [1, 4, -1],\n",
    "    [-1, -1,9],\n",
    "])\n",
    "B = np.array([\n",
    "    [3, 2, 0],\n",
    "    [2, 0, -2]\n",
    "])"
   ]
  },
  {
   "cell_type": "code",
   "execution_count": 4,
   "id": "3aeaee65-dcb5-4aee-83da-8d694f146ba2",
   "metadata": {},
   "outputs": [
    {
     "data": {
      "text/plain": [
       "array([8, 2])"
      ]
     },
     "execution_count": 4,
     "metadata": {},
     "output_type": "execute_result"
    }
   ],
   "source": [
    "m1 = B @ m\n",
    "m1"
   ]
  },
  {
   "cell_type": "code",
   "execution_count": 5,
   "id": "159cb60e-9007-489c-80ba-c5244defaba0",
   "metadata": {},
   "outputs": [
    {
     "data": {
      "text/plain": [
       "array([[172, 110],\n",
       "       [110, 108]])"
      ]
     },
     "execution_count": 5,
     "metadata": {},
     "output_type": "execute_result"
    }
   ],
   "source": [
    "A1 = B @ A @ B.T\n",
    "A1"
   ]
  },
  {
   "cell_type": "code",
   "execution_count": 9,
   "id": "7fd01f9b-ce42-4488-9dc8-9d433151a39c",
   "metadata": {},
   "outputs": [],
   "source": [
    "D = np.array([\n",
    "    [1, -2],\n",
    "    [-2, 9]\n",
    "])\n",
    "D1 = np.linalg.inv(D)"
   ]
  },
  {
   "cell_type": "code",
   "execution_count": 7,
   "id": "91e5a6d5-8b7c-41b9-a0f5-947710a69bd8",
   "metadata": {},
   "outputs": [
    {
     "data": {
      "text/plain": [
       "5.000000000000001"
      ]
     },
     "execution_count": 7,
     "metadata": {},
     "output_type": "execute_result"
    }
   ],
   "source": [
    "np.linalg.det(D)"
   ]
  },
  {
   "cell_type": "code",
   "execution_count": 10,
   "id": "571e3c94-6eae-4803-b441-819ca43902d2",
   "metadata": {},
   "outputs": [
    {
     "data": {
      "text/plain": [
       "array([-1.4, -0.2])"
      ]
     },
     "execution_count": 10,
     "metadata": {},
     "output_type": "execute_result"
    }
   ],
   "source": [
    "np.array([-1,1]) @ D1"
   ]
  },
  {
   "cell_type": "code",
   "execution_count": null,
   "id": "72f32618-ffbf-463a-80cb-b2acceab29f1",
   "metadata": {},
   "outputs": [],
   "source": []
  }
 ],
 "metadata": {
  "kernelspec": {
   "display_name": "Python 3 (ipykernel)",
   "language": "python",
   "name": "python3"
  },
  "language_info": {
   "codemirror_mode": {
    "name": "ipython",
    "version": 3
   },
   "file_extension": ".py",
   "mimetype": "text/x-python",
   "name": "python",
   "nbconvert_exporter": "python",
   "pygments_lexer": "ipython3",
   "version": "3.10.4"
  }
 },
 "nbformat": 4,
 "nbformat_minor": 5
}
