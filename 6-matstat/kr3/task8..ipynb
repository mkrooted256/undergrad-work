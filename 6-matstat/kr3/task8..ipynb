{
 "cells": [
  {
   "cell_type": "code",
   "execution_count": 1,
   "id": "bd1a87f7-d00b-43fb-9d11-509bbeb8f49b",
   "metadata": {},
   "outputs": [],
   "source": [
    "import numpy as np\n",
    "import matplotlib.pyplot as plt\n",
    "import scipy as sp\n",
    "import scipy.stats"
   ]
  },
  {
   "cell_type": "code",
   "execution_count": 2,
   "id": "8ed8e97d-12d0-4342-ac14-41b36f97d942",
   "metadata": {},
   "outputs": [],
   "source": [
    "X = np.array(\n",
    "    [3, 5, 7, 9, 10]\n",
    ")\n",
    "Y = np.array([\n",
    "    14.5, 35.7, 62.8, 100, 121\n",
    "])\n",
    "n = Y.shape[0]"
   ]
  },
  {
   "cell_type": "code",
   "execution_count": 3,
   "id": "0d1f4d90-25ac-4370-a59e-7476a4a58727",
   "metadata": {},
   "outputs": [],
   "source": [
    "Z = np.vstack([np.ones(n), X, X*X])\n",
    "A = Z @ Z.T\n",
    "B = np.linalg.inv(A)"
   ]
  },
  {
   "cell_type": "code",
   "execution_count": 4,
   "id": "cf89dc94-ec84-4776-96c9-c565d112e16b",
   "metadata": {},
   "outputs": [
    {
     "data": {
      "text/plain": [
       "array([-0.79666931,  2.16582078,  1.00130849])"
      ]
     },
     "execution_count": 4,
     "metadata": {},
     "output_type": "execute_result"
    }
   ],
   "source": [
    "w = B @ Z @ Y\n",
    "w"
   ]
  },
  {
   "cell_type": "code",
   "execution_count": 9,
   "id": "ed997653-2d4f-459d-9d6f-4e8d8857e407",
   "metadata": {
    "tags": []
   },
   "outputs": [
    {
     "data": {
      "text/plain": [
       "[<matplotlib.lines.Line2D at 0x2580d2f6ef0>]"
      ]
     },
     "execution_count": 9,
     "metadata": {},
     "output_type": "execute_result"
    },
    {
     "data": {
      "image/png": "[encoded data removed]",
      "text/plain": [
       "<Figure size 432x288 with 1 Axes>"
      ]
     },
     "metadata": {
      "needs_background": "light"
     },
     "output_type": "display_data"
    }
   ],
   "source": [
    "s = X.argsort()\n",
    "plt.scatter(X, Y)\n",
    "\n",
    "xs = np.linspace(3,10,20)\n",
    "ys = w[0] + w[1]*xs + w[2]*xs*xs\n",
    "plt.plot(xs,ys, c='r')"
   ]
  },
  {
   "cell_type": "code",
   "execution_count": null,
   "id": "83857bde-51e9-4f0e-97fa-630ed7683d70",
   "metadata": {},
   "outputs": [],
   "source": []
  },
  {
   "cell_type": "code",
   "execution_count": 10,
   "id": "695c0e43-09d7-47af-80e5-9cf46ece5767",
   "metadata": {},
   "outputs": [
    {
     "data": {
      "text/plain": [
       "0.8822283901665476"
      ]
     },
     "execution_count": 10,
     "metadata": {},
     "output_type": "execute_result"
    }
   ],
   "source": [
    "S = np.square(Y - w @ Z).sum()\n",
    "S"
   ]
  },
  {
   "cell_type": "code",
   "execution_count": 12,
   "id": "90fc34f5-8532-4068-b0ea-27e52f6a4e08",
   "metadata": {},
   "outputs": [
    {
     "data": {
      "text/plain": [
       "0.008128469468675568"
      ]
     },
     "execution_count": 12,
     "metadata": {},
     "output_type": "execute_result"
    }
   ],
   "source": [
    "Ainv_ii = np.linalg.inv(A)[2,2]\n",
    "Ainv_ii"
   ]
  },
  {
   "cell_type": "code",
   "execution_count": 13,
   "id": "1e5f70f7-dc2c-47fa-8836-71556a0d6866",
   "metadata": {},
   "outputs": [
    {
     "data": {
      "text/plain": [
       "4.302652729911275"
      ]
     },
     "execution_count": 13,
     "metadata": {},
     "output_type": "execute_result"
    }
   ],
   "source": [
    "t_crit = sp.stats.t(n-3).ppf(0.5 + 0.95/2)\n",
    "t_crit"
   ]
  },
  {
   "cell_type": "code",
   "execution_count": 14,
   "id": "7a9e2928-9784-4db4-b29e-7c6606174873",
   "metadata": {},
   "outputs": [
    {
     "data": {
      "text/plain": [
       "0.25764172693783616"
      ]
     },
     "execution_count": 14,
     "metadata": {},
     "output_type": "execute_result"
    }
   ],
   "source": [
    "d = np.sqrt( S * Ainv_ii / (n-3) ) * t_crit\n",
    "d"
   ]
  },
  {
   "cell_type": "code",
   "execution_count": 15,
   "id": "ab6ebda4-bfdb-4918-9b91-cecde9e88144",
   "metadata": {},
   "outputs": [
    {
     "data": {
      "text/plain": [
       "(0.7436667583913081, 1.2589502122669805)"
      ]
     },
     "execution_count": 15,
     "metadata": {},
     "output_type": "execute_result"
    }
   ],
   "source": [
    "w[2] - d, w[2] + d"
   ]
  },
  {
   "cell_type": "code",
   "execution_count": 16,
   "id": "7b90a1b6-eb64-45e3-aa65-4d9d225c8a7d",
   "metadata": {},
   "outputs": [
    {
     "data": {
      "text/plain": [
       "(0.11957945510833423, 17.423080045357487)"
      ]
     },
     "execution_count": 16,
     "metadata": {},
     "output_type": "execute_result"
    }
   ],
   "source": [
    "g1 = sp.stats.chi2(n-3).ppf(0.5-0.95/2)\n",
    "g2 = sp.stats.chi2(n-3).ppf(0.5+0.95/2)\n",
    "S/g2, S/g1"
   ]
  },
  {
   "cell_type": "code",
   "execution_count": null,
   "id": "6905e206-3ba6-46dc-a723-638a20ba4081",
   "metadata": {},
   "outputs": [],
   "source": []
  }
 ],
 "metadata": {
  "kernelspec": {
   "display_name": "Python 3 (ipykernel)",
   "language": "python",
   "name": "python3"
  },
  "language_info": {
   "codemirror_mode": {
    "name": "ipython",
    "version": 3
   },
   "file_extension": ".py",
   "mimetype": "text/x-python",
   "name": "python",
   "nbconvert_exporter": "python",
   "pygments_lexer": "ipython3",
   "version": "3.10.4"
  }
 },
 "nbformat": 4,
 "nbformat_minor": 5
}
