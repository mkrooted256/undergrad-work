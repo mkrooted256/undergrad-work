{
 "cells": [
  {
   "cell_type": "code",
   "execution_count": 2,
   "id": "bd1a87f7-d00b-43fb-9d11-509bbeb8f49b",
   "metadata": {},
   "outputs": [],
   "source": [
    "import numpy as np\n",
    "import matplotlib.pyplot as plt\n",
    "import scipy as sp\n",
    "import scipy.stats"
   ]
  },
  {
   "cell_type": "code",
   "execution_count": 3,
   "id": "8ed8e97d-12d0-4342-ac14-41b36f97d942",
   "metadata": {},
   "outputs": [],
   "source": [
    "X = np.array(\n",
    "    [20, 16, 10, 11, 14]\n",
    ")\n",
    "Y = np.array([\n",
    "    22, 41, 120, 89, 56\n",
    "])\n",
    "n = Y.shape[0]"
   ]
  },
  {
   "cell_type": "code",
   "execution_count": 5,
   "id": "0d1f4d90-25ac-4370-a59e-7476a4a58727",
   "metadata": {},
   "outputs": [],
   "source": [
    "Z = np.vstack([np.ones(n), X, X*X])\n",
    "A = Z @ Z.T\n",
    "B = np.linalg.inv(A)"
   ]
  },
  {
   "cell_type": "code",
   "execution_count": 6,
   "id": "cf89dc94-ec84-4776-96c9-c565d112e16b",
   "metadata": {},
   "outputs": [
    {
     "data": {
      "text/plain": [
       "array([384.39253883, -35.99751719,   0.89642221])"
      ]
     },
     "execution_count": 6,
     "metadata": {},
     "output_type": "execute_result"
    }
   ],
   "source": [
    "w = B @ Z @ Y\n",
    "w"
   ]
  },
  {
   "cell_type": "code",
   "execution_count": 8,
   "id": "ed997653-2d4f-459d-9d6f-4e8d8857e407",
   "metadata": {
    "tags": []
   },
   "outputs": [
    {
     "data": {
      "text/plain": [
       "[<matplotlib.lines.Line2D at 0x20b000bab60>]"
      ]
     },
     "execution_count": 8,
     "metadata": {},
     "output_type": "execute_result"
    },
    {
     "data": {
      "image/png": "[encoded data removed]",
      "text/plain": [
       "<Figure size 432x288 with 1 Axes>"
      ]
     },
     "metadata": {
      "needs_background": "light"
     },
     "output_type": "display_data"
    }
   ],
   "source": [
    "plt.scatter(X, Y)\n",
    "\n",
    "xs = np.linspace(10,20,20)\n",
    "ys = w[0] + w[1] * xs + w[2] * xs * xs\n",
    "plt.plot(xs, ys, c='r')"
   ]
  },
  {
   "cell_type": "code",
   "execution_count": 10,
   "id": "314ee606-0dc8-4a49-a6be-ae19ae06bc4b",
   "metadata": {},
   "outputs": [
    {
     "data": {
      "text/plain": [
       "910.9312541379503"
      ]
     },
     "execution_count": 10,
     "metadata": {},
     "output_type": "execute_result"
    }
   ],
   "source": [
    "w @ np.array([1, 0.14, 593])"
   ]
  },
  {
   "cell_type": "code",
   "execution_count": 11,
   "id": "695c0e43-09d7-47af-80e5-9cf46ece5767",
   "metadata": {},
   "outputs": [
    {
     "data": {
      "text/plain": [
       "10.394197564503546"
      ]
     },
     "execution_count": 11,
     "metadata": {},
     "output_type": "execute_result"
    }
   ],
   "source": [
    "S = np.linalg.norm(Y - w @ Z)\n",
    "S"
   ]
  },
  {
   "cell_type": "code",
   "execution_count": 14,
   "id": "90fc34f5-8532-4068-b0ea-27e52f6a4e08",
   "metadata": {},
   "outputs": [
    {
     "data": {
      "text/plain": [
       "0.0017188693659281181"
      ]
     },
     "execution_count": 14,
     "metadata": {},
     "output_type": "execute_result"
    }
   ],
   "source": [
    "Ainv_ii = np.linalg.inv(A)[2,2]\n",
    "Ainv_ii"
   ]
  },
  {
   "cell_type": "code",
   "execution_count": 19,
   "id": "1e5f70f7-dc2c-47fa-8836-71556a0d6866",
   "metadata": {},
   "outputs": [
    {
     "data": {
      "text/plain": [
       "0.07870170682462065"
      ]
     },
     "execution_count": 19,
     "metadata": {},
     "output_type": "execute_result"
    }
   ],
   "source": [
    "t_crit = sp.stats.t(n-3-1).ppf(1 - 0.95/2)\n",
    "t_crit"
   ]
  },
  {
   "cell_type": "code",
   "execution_count": 20,
   "id": "c75fa479-4f21-4663-8f63-daf35bfdb217",
   "metadata": {},
   "outputs": [
    {
     "data": {
      "text/plain": [
       "6.706496255942656"
      ]
     },
     "execution_count": 20,
     "metadata": {},
     "output_type": "execute_result"
    }
   ],
   "source": [
    "t_0 = np.sqrt(n-3-1) * w[2] / np.sqrt(Ainv_ii * S)\n",
    "t_0"
   ]
  },
  {
   "cell_type": "code",
   "execution_count": null,
   "id": "6905e206-3ba6-46dc-a723-638a20ba4081",
   "metadata": {},
   "outputs": [],
   "source": []
  }
 ],
 "metadata": {
  "kernelspec": {
   "display_name": "Python 3 (ipykernel)",
   "language": "python",
   "name": "python3"
  },
  "language_info": {
   "codemirror_mode": {
    "name": "ipython",
    "version": 3
   },
   "file_extension": ".py",
   "mimetype": "text/x-python",
   "name": "python",
   "nbconvert_exporter": "python",
   "pygments_lexer": "ipython3",
   "version": "3.10.4"
  }
 },
 "nbformat": 4,
 "nbformat_minor": 5
}
