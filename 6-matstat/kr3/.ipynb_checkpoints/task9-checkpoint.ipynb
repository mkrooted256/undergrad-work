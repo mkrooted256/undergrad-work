{
 "cells": [
  {
   "cell_type": "code",
   "execution_count": 1,
   "id": "bd1a87f7-d00b-43fb-9d11-509bbeb8f49b",
   "metadata": {},
   "outputs": [],
   "source": [
    "import numpy as np\n",
    "import matplotlib.pyplot as plt\n",
    "import scipy as sp\n",
    "import scipy.stats"
   ]
  },
  {
   "cell_type": "code",
   "execution_count": 33,
   "id": "8ed8e97d-12d0-4342-ac14-41b36f97d942",
   "metadata": {},
   "outputs": [],
   "source": [
    "X = np.array(\n",
    "    [3, 5, 7, 9, 10]\n",
    ")\n",
    "Y = np.array([\n",
    "    14.5, 35.7, 62.8, 100, 121\n",
    "])\n",
    "n = Y.shape[0]"
   ]
  },
  {
   "cell_type": "code",
   "execution_count": 34,
   "id": "0d1f4d90-25ac-4370-a59e-7476a4a58727",
   "metadata": {},
   "outputs": [],
   "source": [
    "Z = np.vstack([np.ones(n), X])\n",
    "A = Z @ Z.T\n",
    "B = np.linalg.inv(A)"
   ]
  },
  {
   "cell_type": "code",
   "execution_count": 35,
   "id": "cf89dc94-ec84-4776-96c9-c565d112e16b",
   "metadata": {},
   "outputs": [
    {
     "data": {
      "text/plain": [
       "array([-36.94146341,  15.25609756])"
      ]
     },
     "execution_count": 35,
     "metadata": {},
     "output_type": "execute_result"
    }
   ],
   "source": [
    "w = B @ Z @ Y\n",
    "w"
   ]
  },
  {
   "cell_type": "code",
   "execution_count": 36,
   "id": "ed997653-2d4f-459d-9d6f-4e8d8857e407",
   "metadata": {
    "tags": []
   },
   "outputs": [
    {
     "data": {
      "text/plain": [
       "[<matplotlib.lines.Line2D at 0x204e8500310>]"
      ]
     },
     "execution_count": 36,
     "metadata": {},
     "output_type": "execute_result"
    },
    {
     "data": {
      "image/png": "[encoded data removed]",
      "text/plain": [
       "<Figure size 432x288 with 1 Axes>"
      ]
     },
     "metadata": {
      "needs_background": "light"
     },
     "output_type": "display_data"
    }
   ],
   "source": [
    "s = X.argsort()\n",
    "xs = X\n",
    "ys = Y\n",
    "plt.scatter(xs, ys)\n",
    "plt.plot([xs[0], xs[-1]], [\n",
    "    w[0] + xs[0]*w[1],\n",
    "    w[0] + xs[-1]*w[1]\n",
    "], c='r')"
   ]
  },
  {
   "cell_type": "code",
   "execution_count": 26,
   "id": "314ee606-0dc8-4a49-a6be-ae19ae06bc4b",
   "metadata": {},
   "outputs": [
    {
     "data": {
      "text/plain": [
       "71.3688063063055"
      ]
     },
     "execution_count": 26,
     "metadata": {},
     "output_type": "execute_result"
    }
   ],
   "source": [
    "w @ np.array([1, 0.14, 593])"
   ]
  },
  {
   "cell_type": "code",
   "execution_count": 51,
   "id": "695c0e43-09d7-47af-80e5-9cf46ece5767",
   "metadata": {},
   "outputs": [
    {
     "data": {
      "text/plain": [
       "11.145796538956064"
      ]
     },
     "execution_count": 51,
     "metadata": {},
     "output_type": "execute_result"
    }
   ],
   "source": [
    "S = np.linalg.norm(Y - w @ Z)\n",
    "S"
   ]
  },
  {
   "cell_type": "code",
   "execution_count": 43,
   "id": "90fc34f5-8532-4068-b0ea-27e52f6a4e08",
   "metadata": {},
   "outputs": [
    {
     "data": {
      "text/plain": [
       "0.030487804878048773"
      ]
     },
     "execution_count": 43,
     "metadata": {},
     "output_type": "execute_result"
    }
   ],
   "source": [
    "Ainv_ii = np.linalg.inv(A)[1,1]\n",
    "Ainv_ii"
   ]
  },
  {
   "cell_type": "code",
   "execution_count": 44,
   "id": "1e5f70f7-dc2c-47fa-8836-71556a0d6866",
   "metadata": {},
   "outputs": [
    {
     "data": {
      "text/plain": [
       "4.302652729911275"
      ]
     },
     "execution_count": 44,
     "metadata": {},
     "output_type": "execute_result"
    }
   ],
   "source": [
    "t_crit = sp.stats.t(n-2-1).ppf(0.5 + 0.95/2)\n",
    "t_crit"
   ]
  },
  {
   "cell_type": "code",
   "execution_count": 45,
   "id": "7a9e2928-9784-4db4-b29e-7c6606174873",
   "metadata": {},
   "outputs": [
    {
     "data": {
      "text/plain": [
       "1.7735356842698422"
      ]
     },
     "execution_count": 45,
     "metadata": {},
     "output_type": "execute_result"
    }
   ],
   "source": [
    "d = np.sqrt( S * Ainv_ii / (n-2-1) ) * t_crit\n",
    "d"
   ]
  },
  {
   "cell_type": "code",
   "execution_count": 46,
   "id": "ab6ebda4-bfdb-4918-9b91-cecde9e88144",
   "metadata": {},
   "outputs": [
    {
     "data": {
      "text/plain": [
       "(13.48256187670577, 17.029633245245453)"
      ]
     },
     "execution_count": 46,
     "metadata": {},
     "output_type": "execute_result"
    }
   ],
   "source": [
    "w[1] - d, w[1] + d"
   ]
  },
  {
   "cell_type": "code",
   "execution_count": 49,
   "id": "7b90a1b6-eb64-45e3-aa65-4d9d225c8a7d",
   "metadata": {},
   "outputs": [
    {
     "data": {
      "text/plain": [
       "(1.1922673656917693, 51.64986186645091)"
      ]
     },
     "execution_count": 49,
     "metadata": {},
     "output_type": "execute_result"
    }
   ],
   "source": [
    "g1 = sp.stats.chi2(n-2).ppf(0.5-0.95/2)\n",
    "g2 = sp.stats.chi2(n-2).ppf(0.5+0.95/2)\n",
    "S/g2, S/g1"
   ]
  },
  {
   "cell_type": "code",
   "execution_count": null,
   "id": "6905e206-3ba6-46dc-a723-638a20ba4081",
   "metadata": {},
   "outputs": [],
   "source": []
  }
 ],
 "metadata": {
  "kernelspec": {
   "display_name": "Python 3 (ipykernel)",
   "language": "python",
   "name": "python3"
  },
  "language_info": {
   "codemirror_mode": {
    "name": "ipython",
    "version": 3
   },
   "file_extension": ".py",
   "mimetype": "text/x-python",
   "name": "python",
   "nbconvert_exporter": "python",
   "pygments_lexer": "ipython3",
   "version": "3.10.4"
  }
 },
 "nbformat": 4,
 "nbformat_minor": 5
}
