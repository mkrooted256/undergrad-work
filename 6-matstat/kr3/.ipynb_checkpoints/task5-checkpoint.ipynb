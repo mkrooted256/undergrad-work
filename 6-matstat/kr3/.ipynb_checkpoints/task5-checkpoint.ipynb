{
 "cells": [
  {
   "cell_type": "code",
   "execution_count": 16,
   "id": "9cd7da3a-4d72-4efe-b6b2-4feb557bee9e",
   "metadata": {},
   "outputs": [],
   "source": [
    "import numpy as np\n",
    "import matplotlib.pyplot as plt"
   ]
  },
  {
   "cell_type": "code",
   "execution_count": 9,
   "id": "867f3b11-6bfc-4b75-b05b-afe2bf9dffff",
   "metadata": {},
   "outputs": [],
   "source": [
    "X = np.array([\n",
    "    83, 62, 76, 77, 89, 74, 48, 78, 76, 51, 73, 89\n",
    "])\n",
    "Z = np.array([\n",
    "    [1,  1,  1,  1,  1,  1,  1,  1,  1,  1,  1,  1 ],\n",
    "    [71, 49, 80, 73, 93, 85, 58, 82, 64, 32, 87, 80]\n",
    "])\n",
    "n = X.shape[0]"
   ]
  },
  {
   "cell_type": "code",
   "execution_count": 14,
   "id": "22468262-fce0-4dd2-ae8b-d4501139ddef",
   "metadata": {},
   "outputs": [
    {
     "data": {
      "text/plain": [
       "array([[   12,   854],\n",
       "       [  854, 64222]])"
      ]
     },
     "execution_count": 14,
     "metadata": {},
     "output_type": "execute_result"
    }
   ],
   "source": [
    "A = Z @ Z.T\n",
    "A"
   ]
  },
  {
   "cell_type": "code",
   "execution_count": 15,
   "id": "e7649fff-f2aa-4305-8e58-271f59ac6752",
   "metadata": {},
   "outputs": [
    {
     "data": {
      "text/plain": [
       "array([31.60946116,  0.58160008])"
      ]
     },
     "execution_count": 15,
     "metadata": {},
     "output_type": "execute_result"
    }
   ],
   "source": [
    "w = np.linalg.inv(A) @ Z @ X\n",
    "w"
   ]
  },
  {
   "cell_type": "code",
   "execution_count": 23,
   "id": "55d6367e-cba5-417c-be1a-6e9527d8a56b",
   "metadata": {
    "tags": []
   },
   "outputs": [
    {
     "data": {
      "text/plain": [
       "[<matplotlib.lines.Line2D at 0x2aa90f660e0>]"
      ]
     },
     "execution_count": 23,
     "metadata": {},
     "output_type": "execute_result"
    },
    {
     "data": {
      "image/png": "[encoded data removed]",
      "text/plain": [
       "<Figure size 432x288 with 1 Axes>"
      ]
     },
     "metadata": {
      "needs_background": "light"
     },
     "output_type": "display_data"
    }
   ],
   "source": [
    "s = Z[1].argsort()\n",
    "xs = Z[1][s]\n",
    "ys = X[s]\n",
    "plt.scatter(xs, ys)\n",
    "plt.plot([xs[0], xs[-1]], [\n",
    "    w[0] + xs[0]*w[1],\n",
    "    w[0] + xs[-1]*w[1]\n",
    "], c='r')"
   ]
  },
  {
   "cell_type": "code",
   "execution_count": 24,
   "id": "7f0a434c-d563-454b-92b5-8e2ce04fd148",
   "metadata": {},
   "outputs": [
    {
     "data": {
      "text/plain": [
       "80.46386765986269"
      ]
     },
     "execution_count": 24,
     "metadata": {},
     "output_type": "execute_result"
    }
   ],
   "source": [
    "w[0] + w[1] * 84"
   ]
  },
  {
   "cell_type": "code",
   "execution_count": null,
   "id": "00ca230f-cde3-4783-a762-fea4c6b46cd2",
   "metadata": {},
   "outputs": [],
   "source": []
  }
 ],
 "metadata": {
  "kernelspec": {
   "display_name": "Python 3 (ipykernel)",
   "language": "python",
   "name": "python3"
  },
  "language_info": {
   "codemirror_mode": {
    "name": "ipython",
    "version": 3
   },
   "file_extension": ".py",
   "mimetype": "text/x-python",
   "name": "python",
   "nbconvert_exporter": "python",
   "pygments_lexer": "ipython3",
   "version": "3.10.4"
  }
 },
 "nbformat": 4,
 "nbformat_minor": 5
}
