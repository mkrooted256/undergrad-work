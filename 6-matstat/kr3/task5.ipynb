{
 "cells": [
  {
   "cell_type": "code",
   "execution_count": 1,
   "id": "9cd7da3a-4d72-4efe-b6b2-4feb557bee9e",
   "metadata": {},
   "outputs": [],
   "source": [
    "import numpy as np\n",
    "import matplotlib.pyplot as plt\n",
    "import scipy as sp\n",
    "import scipy.stats"
   ]
  },
  {
   "cell_type": "code",
   "execution_count": 2,
   "id": "867f3b11-6bfc-4b75-b05b-afe2bf9dffff",
   "metadata": {},
   "outputs": [],
   "source": [
    "X = np.array([\n",
    "    31, 58, 65, 73, 37, 44, 60, 91, 21, 84\n",
    "])\n",
    "Z = np.array([\n",
    "    [1,  1,  1,  1,  1,  1,  1,  1,  1,  1],\n",
    "    [4,  9, 10, 14,  4,  7, 12, 22,  1, 17]\n",
    "])\n",
    "n = X.shape[0]"
   ]
  },
  {
   "cell_type": "code",
   "execution_count": 3,
   "id": "22468262-fce0-4dd2-ae8b-d4501139ddef",
   "metadata": {},
   "outputs": [
    {
     "data": {
      "text/plain": [
       "array([[  10,  100],\n",
       "       [ 100, 1376]])"
      ]
     },
     "execution_count": 3,
     "metadata": {},
     "output_type": "execute_result"
    }
   ],
   "source": [
    "A = Z @ Z.T\n",
    "A"
   ]
  },
  {
   "cell_type": "code",
   "execution_count": 4,
   "id": "e7649fff-f2aa-4305-8e58-271f59ac6752",
   "metadata": {},
   "outputs": [
    {
     "data": {
      "text/plain": [
       "array([21.69255319,  3.47074468])"
      ]
     },
     "execution_count": 4,
     "metadata": {},
     "output_type": "execute_result"
    }
   ],
   "source": [
    "w = np.linalg.inv(A) @ Z @ X\n",
    "w"
   ]
  },
  {
   "cell_type": "code",
   "execution_count": 5,
   "id": "55d6367e-cba5-417c-be1a-6e9527d8a56b",
   "metadata": {
    "tags": []
   },
   "outputs": [
    {
     "data": {
      "text/plain": [
       "[<matplotlib.lines.Line2D at 0x290981c09d0>]"
      ]
     },
     "execution_count": 5,
     "metadata": {},
     "output_type": "execute_result"
    },
    {
     "data": {
      "image/png": "[encoded data removed]",
      "text/plain": [
       "<Figure size 432x288 with 1 Axes>"
      ]
     },
     "metadata": {
      "needs_background": "light"
     },
     "output_type": "display_data"
    }
   ],
   "source": [
    "s = Z[1].argsort()\n",
    "xs = Z[1][s]\n",
    "ys = X[s]\n",
    "plt.scatter(xs, ys)\n",
    "plt.plot([xs[0], xs[-1]], [\n",
    "    w[0] + xs[0]*w[1],\n",
    "    w[0] + xs[-1]*w[1]\n",
    "], c='r')"
   ]
  },
  {
   "cell_type": "code",
   "execution_count": 6,
   "id": "7f0a434c-d563-454b-92b5-8e2ce04fd148",
   "metadata": {},
   "outputs": [
    {
     "data": {
      "text/plain": [
       "56.39999999999998"
      ]
     },
     "execution_count": 6,
     "metadata": {},
     "output_type": "execute_result"
    }
   ],
   "source": [
    "w[0] + w[1] * 10"
   ]
  },
  {
   "cell_type": "code",
   "execution_count": 7,
   "id": "93f6b7af-5fd0-4274-a7c4-d3ffcfc5c47c",
   "metadata": {},
   "outputs": [
    {
     "data": {
      "text/plain": [
       "14.935802338319887"
      ]
     },
     "execution_count": 7,
     "metadata": {},
     "output_type": "execute_result"
    }
   ],
   "source": [
    "S = np.linalg.norm(X - w @ Z)\n",
    "S"
   ]
  },
  {
   "cell_type": "code",
   "execution_count": 8,
   "id": "46c70b47-585f-4624-8528-6161a54ae76b",
   "metadata": {},
   "outputs": [
    {
     "data": {
      "text/plain": [
       "4752.4"
      ]
     },
     "execution_count": 8,
     "metadata": {},
     "output_type": "execute_result"
    }
   ],
   "source": [
    "xbar = X.mean()\n",
    "Sxx = np.square(X - xbar).sum()\n",
    "Sxx"
   ]
  },
  {
   "cell_type": "code",
   "execution_count": 9,
   "id": "36451031-0a2d-4663-888b-6aeb43351eda",
   "metadata": {},
   "outputs": [
    {
     "data": {
      "text/plain": [
       "2.3060041350333704"
      ]
     },
     "execution_count": 9,
     "metadata": {},
     "output_type": "execute_result"
    }
   ],
   "source": [
    "c = scipy.stats.t(n-2).ppf(0.5+0.95/2)\n",
    "c"
   ]
  },
  {
   "cell_type": "code",
   "execution_count": 13,
   "id": "8bf0ccb1-e795-4a37-becc-def463c376c2",
   "metadata": {},
   "outputs": [
    {
     "data": {
      "text/plain": [
       "1.1375071239935959"
      ]
     },
     "execution_count": 13,
     "metadata": {},
     "output_type": "execute_result"
    }
   ],
   "source": [
    "d = np.sqrt(S/n + (10-xbar)**2/Sxx) * c / np.sqrt(n-2)\n",
    "d"
   ]
  },
  {
   "cell_type": "code",
   "execution_count": 15,
   "id": "6812dbdf-1cbb-4e25-8c32-6f713b47709e",
   "metadata": {},
   "outputs": [
    {
     "data": {
      "text/plain": [
       "(55.262492876006405, 57.53750712399359)"
      ]
     },
     "execution_count": 15,
     "metadata": {},
     "output_type": "execute_result"
    }
   ],
   "source": [
    "56.4 - d, 56.4 + d"
   ]
  },
  {
   "cell_type": "code",
   "execution_count": 19,
   "id": "b1b3e53f-e3aa-48e6-90bc-911935e9550d",
   "metadata": {},
   "outputs": [
    {
     "data": {
      "text/plain": [
       "0.002659574468085106"
      ]
     },
     "execution_count": 19,
     "metadata": {},
     "output_type": "execute_result"
    }
   ],
   "source": [
    "Ainv_ii = np.linalg.inv(A)[1,1]\n",
    "Ainv_ii"
   ]
  },
  {
   "cell_type": "code",
   "execution_count": null,
   "id": "435c932c-a12b-4732-9bc8-becab2337079",
   "metadata": {},
   "outputs": [],
   "source": []
  },
  {
   "cell_type": "code",
   "execution_count": 20,
   "id": "a3d496e2-b172-4058-89f6-941be93934ef",
   "metadata": {},
   "outputs": [
    {
     "data": {
      "text/plain": [
       "6.249051231628421"
      ]
     },
     "execution_count": 20,
     "metadata": {},
     "output_type": "execute_result"
    }
   ],
   "source": [
    "t_0 = np.sqrt(n-2-1) * (w[1] - 3)/np.sqrt(S * Ainv_ii)\n",
    "t_0"
   ]
  },
  {
   "cell_type": "code",
   "execution_count": 21,
   "id": "94197fb1-8c01-404b-a239-a66a0833799c",
   "metadata": {},
   "outputs": [
    {
     "data": {
      "text/plain": [
       "3.4994832973505026"
      ]
     },
     "execution_count": 21,
     "metadata": {},
     "output_type": "execute_result"
    }
   ],
   "source": [
    "t_crit = sp.stats.t(n-2-1).ppf(1-0.01/2)\n",
    "t_crit"
   ]
  },
  {
   "cell_type": "code",
   "execution_count": 32,
   "id": "880740d2-b23e-4d9d-8564-08435e6fd571",
   "metadata": {},
   "outputs": [
    {
     "data": {
      "text/plain": [
       "array([[ 1.83616536,  2.57458672],\n",
       "       [ 2.57458672, 37.00501997]])"
      ]
     },
     "execution_count": 32,
     "metadata": {},
     "output_type": "execute_result"
    }
   ],
   "source": [
    "Ainv"
   ]
  },
  {
   "cell_type": "code",
   "execution_count": null,
   "id": "8ec039b9-5db4-49b1-9c79-836a5e412d49",
   "metadata": {},
   "outputs": [],
   "source": []
  },
  {
   "cell_type": "code",
   "execution_count": 34,
   "id": "fc4066dd-1fa4-4ea7-9be3-a83bf529545f",
   "metadata": {},
   "outputs": [
    {
     "data": {
      "text/plain": [
       "0.17812852657385914"
      ]
     },
     "execution_count": 34,
     "metadata": {},
     "output_type": "execute_result"
    }
   ],
   "source": [
    "d = np.sqrt( S * Ainv_ii / (n-2-1) ) * sp.stats.t(n-2-1).ppf((1+0.95)/2)\n",
    "d"
   ]
  },
  {
   "cell_type": "code",
   "execution_count": 35,
   "id": "d406904e-821a-408f-b241-536dfcc6c602",
   "metadata": {},
   "outputs": [
    {
     "data": {
      "text/plain": [
       "(3.292616154277205, 3.6488732074249235)"
      ]
     },
     "execution_count": 35,
     "metadata": {},
     "output_type": "execute_result"
    }
   ],
   "source": [
    "w[1] - d, w[1] + d"
   ]
  },
  {
   "cell_type": "code",
   "execution_count": null,
   "id": "a08e6a82-4365-435a-8caf-d244ec76e72a",
   "metadata": {},
   "outputs": [],
   "source": []
  },
  {
   "cell_type": "code",
   "execution_count": null,
   "id": "1ca66104-8cde-499d-ae0c-5463d025ce63",
   "metadata": {},
   "outputs": [],
   "source": []
  }
 ],
 "metadata": {
  "kernelspec": {
   "display_name": "Python 3 (ipykernel)",
   "language": "python",
   "name": "python3"
  },
  "language_info": {
   "codemirror_mode": {
    "name": "ipython",
    "version": 3
   },
   "file_extension": ".py",
   "mimetype": "text/x-python",
   "name": "python",
   "nbconvert_exporter": "python",
   "pygments_lexer": "ipython3",
   "version": "3.10.4"
  }
 },
 "nbformat": 4,
 "nbformat_minor": 5
}
