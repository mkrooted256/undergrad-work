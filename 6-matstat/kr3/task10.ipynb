{
 "cells": [
  {
   "cell_type": "code",
   "execution_count": 2,
   "id": "bd1a87f7-d00b-43fb-9d11-509bbeb8f49b",
   "metadata": {},
   "outputs": [],
   "source": [
    "import numpy as np\n",
    "import matplotlib.pyplot as plt\n",
    "import scipy as sp\n",
    "import scipy.stats"
   ]
  },
  {
   "cell_type": "code",
   "execution_count": 3,
   "id": "8ed8e97d-12d0-4342-ac14-41b36f97d942",
   "metadata": {},
   "outputs": [],
   "source": [
    "X = np.array(\n",
    "    [8.2, 9.6, 7, 9.4, 10.9, 7.1, 9, 6.6, 8.4, 10.5]\n",
    ")\n",
    "Y = np.array([\n",
    "    8.7, 9.6, 6.9, 8.5, 11.3, 7.6, 9.2, 6.3, 8.4, 12.3\n",
    "])\n",
    "n = Y.shape[0]"
   ]
  },
  {
   "cell_type": "code",
   "execution_count": 8,
   "id": "6905e206-3ba6-46dc-a723-638a20ba4081",
   "metadata": {},
   "outputs": [
    {
     "data": {
      "text/plain": [
       "23.024000000000008"
      ]
     },
     "execution_count": 8,
     "metadata": {},
     "output_type": "execute_result"
    }
   ],
   "source": [
    "Xm = X.mean()\n",
    "Ym = Y.mean()\n",
    "\n",
    "cov = ((X-Xm)*(Y-Ym)).sum()\n",
    "cov"
   ]
  },
  {
   "cell_type": "code",
   "execution_count": 9,
   "id": "3e899535-21ea-4d23-8c1a-ffd53f053a0f",
   "metadata": {},
   "outputs": [
    {
     "data": {
      "text/plain": [
       "(19.661000000000005, 30.796000000000006, 23.024000000000004)"
      ]
     },
     "execution_count": 9,
     "metadata": {},
     "output_type": "execute_result"
    }
   ],
   "source": [
    "Sxx = np.square(X-Xm).sum()\n",
    "Syy = np.square(Y-Ym).sum()\n",
    "Sxy = (Y*(X-Xm)).sum()\n",
    "\n",
    "Sxx, Syy, Sxy"
   ]
  },
  {
   "cell_type": "code",
   "execution_count": 12,
   "id": "a63b4724-7c2c-4d54-8150-dabae4b2377b",
   "metadata": {},
   "outputs": [
    {
     "data": {
      "text/plain": [
       "0.93568748235903"
      ]
     },
     "execution_count": 12,
     "metadata": {},
     "output_type": "execute_result"
    }
   ],
   "source": [
    "r = Sxy / np.sqrt(Sxx * Syy)\n",
    "r"
   ]
  },
  {
   "cell_type": "code",
   "execution_count": 15,
   "id": "51d0934a-0187-42da-9650-75efc57c3caf",
   "metadata": {},
   "outputs": [
    {
     "data": {
      "text/plain": [
       "4.503681940533514"
      ]
     },
     "execution_count": 15,
     "metadata": {},
     "output_type": "execute_result"
    }
   ],
   "source": [
    "z = np.log((1+r)/(1-r)) * np.sqrt(n-3)/2\n",
    "z"
   ]
  },
  {
   "cell_type": "code",
   "execution_count": 16,
   "id": "3727973c-d85d-473d-b900-52e25c0fb9c6",
   "metadata": {},
   "outputs": [
    {
     "data": {
      "text/plain": [
       "2.5758293035489004"
      ]
     },
     "execution_count": 16,
     "metadata": {},
     "output_type": "execute_result"
    }
   ],
   "source": [
    "zcrit = sp.stats.norm.ppf(1-0.01/2)\n",
    "zcrit"
   ]
  },
  {
   "cell_type": "code",
   "execution_count": 17,
   "id": "2fae1b8d-f2d3-4dfb-80ca-769514673094",
   "metadata": {},
   "outputs": [
    {
     "data": {
      "text/plain": [
       "0.87551106464338"
      ]
     },
     "execution_count": 17,
     "metadata": {},
     "output_type": "execute_result"
    }
   ],
   "source": [
    "r2= r*r\n",
    "r2"
   ]
  },
  {
   "cell_type": "code",
   "execution_count": null,
   "id": "66856f56-3869-4b92-a511-b28026a098cd",
   "metadata": {},
   "outputs": [],
   "source": []
  }
 ],
 "metadata": {
  "kernelspec": {
   "display_name": "Python 3 (ipykernel)",
   "language": "python",
   "name": "python3"
  },
  "language_info": {
   "codemirror_mode": {
    "name": "ipython",
    "version": 3
   },
   "file_extension": ".py",
   "mimetype": "text/x-python",
   "name": "python",
   "nbconvert_exporter": "python",
   "pygments_lexer": "ipython3",
   "version": "3.10.4"
  }
 },
 "nbformat": 4,
 "nbformat_minor": 5
}
