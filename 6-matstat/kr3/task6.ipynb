{
 "cells": [
  {
   "cell_type": "code",
   "execution_count": 1,
   "id": "09607ac9-5078-48f1-9ec0-3dffeb4c346a",
   "metadata": {},
   "outputs": [],
   "source": [
    "import numpy as np\n",
    "import matplotlib.pyplot as plt\n",
    "import scipy as sp\n",
    "import scipy.stats"
   ]
  },
  {
   "cell_type": "code",
   "execution_count": 2,
   "id": "4a827160-e599-4514-b5f4-bdcd6bf3150e",
   "metadata": {},
   "outputs": [],
   "source": [
    "X = np.array([\n",
    "    50, 100, 250, 500, 1000\n",
    "])\n",
    "Y = np.array([\n",
    "    108, 53, 24, 9, 5\n",
    "])\n",
    "n = X.shape[0]"
   ]
  },
  {
   "cell_type": "code",
   "execution_count": 3,
   "id": "48f115c6-c138-49f4-9935-8cc47bfa7f92",
   "metadata": {},
   "outputs": [
    {
     "data": {
      "text/plain": [
       "array([3.91202301, 4.60517019, 5.52146092, 6.2146081 , 6.90775528])"
      ]
     },
     "execution_count": 3,
     "metadata": {},
     "output_type": "execute_result"
    }
   ],
   "source": [
    "X1 = np.log(X)\n",
    "X1"
   ]
  },
  {
   "cell_type": "code",
   "execution_count": 4,
   "id": "d0f7b242-443b-49db-86a2-b471fa483ea2",
   "metadata": {},
   "outputs": [
    {
     "data": {
      "text/plain": [
       "array([4.68213123, 3.97029191, 3.17805383, 2.19722458, 1.60943791])"
      ]
     },
     "execution_count": 4,
     "metadata": {},
     "output_type": "execute_result"
    }
   ],
   "source": [
    "Y1 = np.log(Y)\n",
    "Y1"
   ]
  },
  {
   "cell_type": "code",
   "execution_count": 5,
   "id": "3de29cee-b1f9-4f21-a771-9a023b8b9f43",
   "metadata": {},
   "outputs": [
    {
     "data": {
      "text/plain": [
       "array([[1.        , 1.        , 1.        , 1.        , 1.        ],\n",
       "       [3.91202301, 4.60517019, 5.52146092, 6.2146081 , 6.90775528]])"
      ]
     },
     "execution_count": 5,
     "metadata": {},
     "output_type": "execute_result"
    }
   ],
   "source": [
    "Z1 = np.vstack([np.ones_like(X1), X1])\n",
    "Z1"
   ]
  },
  {
   "cell_type": "code",
   "execution_count": 17,
   "id": "65c88bce-4a2d-49b4-8838-194afc052e61",
   "metadata": {},
   "outputs": [
    {
     "data": {
      "text/plain": [
       "(array([[  5.        ,  27.16101749],\n",
       "        [ 27.16101749, 153.33648392]]),\n",
       " array([[ 5.29448496, -0.93783029],\n",
       "        [-0.93783029,  0.1726427 ]]))"
      ]
     },
     "execution_count": 17,
     "metadata": {},
     "output_type": "execute_result"
    }
   ],
   "source": [
    "A1 = Z1 @ Z1.T\n",
    "B1 = np.linalg.inv(A1)\n",
    "A1, B1"
   ]
  },
  {
   "cell_type": "code",
   "execution_count": 19,
   "id": "19776e1d-560b-46aa-8b70-d7d03013b369",
   "metadata": {},
   "outputs": [
    {
     "data": {
      "text/plain": [
       "array([ 8.77659468, -1.0399402 ])"
      ]
     },
     "execution_count": 19,
     "metadata": {},
     "output_type": "execute_result"
    }
   ],
   "source": [
    "w1 = B1 @ Z1 @ Y1\n",
    "w1"
   ]
  },
  {
   "cell_type": "code",
   "execution_count": 21,
   "id": "baee44c7-e221-4a59-8f1f-1c18d37eff03",
   "metadata": {},
   "outputs": [
    {
     "data": {
      "text/plain": [
       "array([ 6.48077044e+03, -1.03994020e+00])"
      ]
     },
     "execution_count": 21,
     "metadata": {},
     "output_type": "execute_result"
    }
   ],
   "source": [
    "w = w1.copy()\n",
    "w[0] = np.exp(w[0])\n",
    "w"
   ]
  },
  {
   "cell_type": "code",
   "execution_count": 23,
   "id": "a03864cd-e351-428f-b4e7-bf3a44d6a0da",
   "metadata": {
    "jupyter": {
     "source_hidden": true
    },
    "tags": []
   },
   "outputs": [
    {
     "data": {
      "text/plain": [
       "[<matplotlib.lines.Line2D at 0x21292c9afe0>]"
      ]
     },
     "execution_count": 23,
     "metadata": {},
     "output_type": "execute_result"
    },
    {
     "data": {
      "image/png": "[encoded data removed]",
      "text/plain": [
       "<Figure size 432x288 with 1 Axes>"
      ]
     },
     "metadata": {
      "needs_background": "light"
     },
     "output_type": "display_data"
    }
   ],
   "source": [
    "s = X1.argsort()\n",
    "xs = X1[s]\n",
    "ys = Y1[s]\n",
    "plt.scatter(xs, ys)\n",
    "plt.plot([xs[0], xs[-1]], [\n",
    "    w1[0] + xs[0]*w1[1],\n",
    "    w1[0] + xs[-1]*w1[1]\n",
    "], c='r')"
   ]
  },
  {
   "cell_type": "code",
   "execution_count": 24,
   "id": "4d7542e7-f3c7-4a50-be2a-85961f725cab",
   "metadata": {
    "jupyter": {
     "source_hidden": true
    },
    "tags": []
   },
   "outputs": [
    {
     "data": {
      "text/plain": [
       "[<matplotlib.lines.Line2D at 0x21292d02bc0>]"
      ]
     },
     "execution_count": 24,
     "metadata": {},
     "output_type": "execute_result"
    },
    {
     "data": {
      "image/png": "[encoded data removed]",
      "text/plain": [
       "<Figure size 432x288 with 1 Axes>"
      ]
     },
     "metadata": {
      "needs_background": "light"
     },
     "output_type": "display_data"
    }
   ],
   "source": [
    "s = X.argsort()\n",
    "xs = X[s]\n",
    "ys = Y[s]\n",
    "plt.scatter(xs, ys)\n",
    "\n",
    "x1s = np.linspace(xs[0], xs[-1], 20)\n",
    "y1s = w[0] * (x1s**w[1])\n",
    "plt.plot(x1s, y1s, c='r')"
   ]
  },
  {
   "cell_type": "code",
   "execution_count": 25,
   "id": "a055c5e5-589f-4281-b4cc-1c9098a21d57",
   "metadata": {},
   "outputs": [
    {
     "data": {
      "text/plain": [
       "17.201593012188738"
      ]
     },
     "execution_count": 25,
     "metadata": {},
     "output_type": "execute_result"
    }
   ],
   "source": [
    "w[0] * 300**w[1]"
   ]
  },
  {
   "cell_type": "code",
   "execution_count": null,
   "id": "62b6c8d5-2a2d-47e9-bc07-d03ed0862bd8",
   "metadata": {},
   "outputs": [],
   "source": []
  }
 ],
 "metadata": {
  "kernelspec": {
   "display_name": "Python 3 (ipykernel)",
   "language": "python",
   "name": "python3"
  },
  "language_info": {
   "codemirror_mode": {
    "name": "ipython",
    "version": 3
   },
   "file_extension": ".py",
   "mimetype": "text/x-python",
   "name": "python",
   "nbconvert_exporter": "python",
   "pygments_lexer": "ipython3",
   "version": "3.10.4"
  }
 },
 "nbformat": 4,
 "nbformat_minor": 5
}
