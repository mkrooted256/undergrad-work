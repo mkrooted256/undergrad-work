{
 "cells": [
  {
   "attachments": {},
   "cell_type": "markdown",
   "metadata": {},
   "source": [
    "# 8-Blockchain. Lab1\n",
    "Варіант 8\n",
    "\n",
    "Михайло Корешков, ФІ-91"
   ]
  },
  {
   "attachments": {},
   "cell_type": "markdown",
   "metadata": {},
   "source": [
    "**Мета роботи:** Дослiдження особливостей атаки подвiйних витрат."
   ]
  },
  {
   "cell_type": "code",
   "execution_count": 1,
   "metadata": {},
   "outputs": [],
   "source": [
    "import numpy as np\n",
    "import scipy as sp\n",
    "import matplotlib.pyplot as plt"
   ]
  },
  {
   "attachments": {},
   "cell_type": "markdown",
   "metadata": {},
   "source": [
    "Варіант 8:\n",
    "\n",
    "```\n",
    "alpha_H = 7.5e-4\n",
    "alpha_M = 3.5e-4  \n",
    "alpha = alpha_H + alpha_M = 1.1e-3  \n",
    "D_H = 60s\n",
    "```"
   ]
  },
  {
   "attachments": {},
   "cell_type": "markdown",
   "metadata": {},
   "source": [
    "Тут ми розглядаємо протокол Proof of Work (надалі PoW). За умов цього протоколу, всі майнери будують наступний блок транзакцій одночасно, але сам цей процес займає багато часу (суттєво більше за час синхронизації). Також, оскільки процес створення нового блоку (надалі майнінг) значною мірою опирається на криптографічно стійку хеш-функцію, час генерації нового блоку - це все-таки випадкова величина. Ймовірність випуску блока майнером пропорційна об'єму його обчислювальних потужностей.\n",
    "\n",
    "Суть DS атаки полягає в наступному:\n",
    "1. Зловмисник публікує транзацію, в якій сплачує за товари чи послуги вендору\n",
    "2. Зловмисник починає створювати альтернативну гілку блокчейну, в якій цієї транзакції не відбулося\n",
    "3. Якщо після проходження часу підтверження і отримання товару чи послуги від вендора зловмисник встиг згенерувати більше блоків в альтернативній гілці, ніж в основній, то він публікує цю альтернативну гілку. За правилами, чесні майнери тепер мають вважати альтернативну гілку дійсною.\n",
    "4. В результаті зловмисник і отримав товар чи послугу від вендора, і відмінив транзакцію, якою за них сплатив -- а отже, може витратити криптовалюту ще раз (звідси і назва атаки)"
   ]
  },
  {
   "attachments": {},
   "cell_type": "markdown",
   "metadata": {},
   "source": [
    "Математична модель:\n",
    "\n",
    "- Час є неперервним\n",
    "- Створення нових блоків описується випадковими процесами Пуасона з відповідною інтенсивністю `alpha_H` для чесних (honest) майнерів та `alpha_M` для зловмисних (malicious) майнерів\n",
    "- Протокол вимагає від вендора чекати принаймні `z` наступних блоків перед тим, як вважати транзакцію дійсною\n",
    "- `alpha` - сумарна інтенсивність випуску нових блоків у блокчейні\n",
    "- `D_H` - типовий час синхронизації між нодами блокчейну в секундах\n"
   ]
  },
  {
   "attachments": {},
   "cell_type": "markdown",
   "metadata": {},
   "source": [
    "## Завдання 1\n",
    "> Обчислити порiг стiйкостi $p_{st}$ (мiнiмальну частку зловмисних майнерiв, яка гарантує, що\n",
    "ймовiрнiсть атаки подвiйної витрати буде дорiвнювати 1) для заданих значень iнтенсивностi\n",
    "створення блокiв чесними майнерами $\\alpha_H$ та зловмисними майнерами $\\alpha_M$.\n",
    "\n",
    "Згідно Теореми 1 з [1],\n",
    "$$1 - p_{st} = \\frac{e^{\\gamma \\cdot p_{st}}}{2}$$ \n",
    "\n",
    "де $\\gamma = \\gamma(\\alpha, \\Delta) = $\n",
    "\n",
    "---\n",
    "\n",
    "[1] Lyudmila Kovalchuk, Dmytro Kaidalov, Andrii Nastenko, Mariia Rodinko, Oleksiy Shevtsov,\n",
    "Roman Oliynykov Decreasing security threshold against double spend attack in networks with\n",
    "slow synchronization // Computer Communications, Volume 154, 2020, pp. 75-81, ISSN 0140-\n",
    "3664. doi: 10.1016/j.comcom.2020.01.079.а https://americanblockchainpac.org"
   ]
  },
  {
   "cell_type": "markdown",
   "metadata": {},
   "source": []
  },
  {
   "cell_type": "code",
   "execution_count": null,
   "metadata": {},
   "outputs": [],
   "source": []
  },
  {
   "cell_type": "code",
   "execution_count": null,
   "metadata": {},
   "outputs": [],
   "source": []
  },
  {
   "cell_type": "code",
   "execution_count": null,
   "metadata": {},
   "outputs": [],
   "source": []
  }
 ],
 "metadata": {
  "kernelspec": {
   "display_name": "sci",
   "language": "python",
   "name": "python3"
  },
  "language_info": {
   "codemirror_mode": {
    "name": "ipython",
    "version": 3
   },
   "file_extension": ".py",
   "mimetype": "text/x-python",
   "name": "python",
   "nbconvert_exporter": "python",
   "pygments_lexer": "ipython3",
   "version": "3.9.10"
  },
  "orig_nbformat": 4,
  "vscode": {
   "interpreter": {
    "hash": "5cd1e8db9659fd8f5b04e40667f71b538615cc830b3028b720b65ceddbc7849b"
   }
  }
 },
 "nbformat": 4,
 "nbformat_minor": 2
}
