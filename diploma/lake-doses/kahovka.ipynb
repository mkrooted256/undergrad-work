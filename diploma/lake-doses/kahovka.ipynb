{
 "cells": [
  {
   "cell_type": "code",
   "execution_count": 1,
   "metadata": {},
   "outputs": [],
   "source": [
    "import numpy as np\n",
    "import scipy as sp\n",
    "import pandas as pd\n",
    "import matplotlib.pyplot as plt\n"
   ]
  },
  {
   "cell_type": "code",
   "execution_count": 2,
   "metadata": {},
   "outputs": [
    {
     "data": {
      "text/plain": [
       "0       175\n",
       "1       176\n",
       "2       177\n",
       "3       178\n",
       "4       179\n",
       "       ... \n",
       "446    3133\n",
       "447    3134\n",
       "448    3164\n",
       "449    3165\n",
       "450    3196\n",
       "Name: cell_id, Length: 451, dtype: int64"
      ]
     },
     "execution_count": 2,
     "metadata": {},
     "output_type": "execute_result"
    }
   ],
   "source": [
    "kahovka_cells = pd.read_csv(\"C:/Users/mkrooted/Uni/diploma/data/kahovka.txt\", header=None, names=['cell_id'])\n",
    "kahovka_cells = kahovka_cells.cell_id\n",
    "kahovka_cells"
   ]
  },
  {
   "cell_type": "code",
   "execution_count": 41,
   "metadata": {},
   "outputs": [],
   "source": [
    "kahovka_cells_set = set(kahovka_cells)"
   ]
  },
  {
   "cell_type": "code",
   "execution_count": 92,
   "metadata": {},
   "outputs": [
    {
     "data": {
      "text/html": [
       "<div>\n",
       "<style scoped>\n",
       "    .dataframe tbody tr th:only-of-type {\n",
       "        vertical-align: middle;\n",
       "    }\n",
       "\n",
       "    .dataframe tbody tr th {\n",
       "        vertical-align: top;\n",
       "    }\n",
       "\n",
       "    .dataframe thead th {\n",
       "        text-align: right;\n",
       "    }\n",
       "</style>\n",
       "<table border=\"1\" class=\"dataframe\">\n",
       "  <thead>\n",
       "    <tr style=\"text-align: right;\">\n",
       "      <th></th>\n",
       "      <th>Area</th>\n",
       "    </tr>\n",
       "  </thead>\n",
       "  <tbody>\n",
       "    <tr>\n",
       "      <th>0</th>\n",
       "      <td>1000000.0</td>\n",
       "    </tr>\n",
       "    <tr>\n",
       "      <th>1</th>\n",
       "      <td>1000000.0</td>\n",
       "    </tr>\n",
       "    <tr>\n",
       "      <th>2</th>\n",
       "      <td>1000000.0</td>\n",
       "    </tr>\n",
       "    <tr>\n",
       "      <th>3</th>\n",
       "      <td>1000000.0</td>\n",
       "    </tr>\n",
       "    <tr>\n",
       "      <th>4</th>\n",
       "      <td>1000000.0</td>\n",
       "    </tr>\n",
       "    <tr>\n",
       "      <th>...</th>\n",
       "      <td>...</td>\n",
       "    </tr>\n",
       "    <tr>\n",
       "      <th>8051</th>\n",
       "      <td>256000000.0</td>\n",
       "    </tr>\n",
       "    <tr>\n",
       "      <th>8052</th>\n",
       "      <td>256000000.0</td>\n",
       "    </tr>\n",
       "    <tr>\n",
       "      <th>8053</th>\n",
       "      <td>256000000.0</td>\n",
       "    </tr>\n",
       "    <tr>\n",
       "      <th>8054</th>\n",
       "      <td>256000000.0</td>\n",
       "    </tr>\n",
       "    <tr>\n",
       "      <th>8055</th>\n",
       "      <td>256000000.0</td>\n",
       "    </tr>\n",
       "  </tbody>\n",
       "</table>\n",
       "<p>8056 rows × 1 columns</p>\n",
       "</div>"
      ],
      "text/plain": [
       "             Area\n",
       "0       1000000.0\n",
       "1       1000000.0\n",
       "2       1000000.0\n",
       "3       1000000.0\n",
       "4       1000000.0\n",
       "...           ...\n",
       "8051  256000000.0\n",
       "8052  256000000.0\n",
       "8053  256000000.0\n",
       "8054  256000000.0\n",
       "8055  256000000.0\n",
       "\n",
       "[8056 rows x 1 columns]"
      ]
     },
     "execution_count": 92,
     "metadata": {},
     "output_type": "execute_result"
    }
   ],
   "source": [
    "cells_area = pd.read_csv(\"C:/Users/mkrooted/Uni/diploma/data/coords-area.txt\", sep=\"\\s+\").drop(columns=['Cell', 'Longitude', 'Latitude'])\n",
    "cells_area"
   ]
  },
  {
   "attachments": {},
   "cell_type": "markdown",
   "metadata": {},
   "source": [
    "---"
   ]
  },
  {
   "cell_type": "code",
   "execution_count": 3,
   "metadata": {},
   "outputs": [],
   "source": [
    "data_dir_1 = \"C:\\\\Users\\\\mkrooted\\\\Uni\\\\diploma\\\\data\\\\results\\\\TDepCs137\"\n",
    "data_dir_2 = \"C:\\\\Users\\\\mkrooted\\\\Uni\\\\diploma\\\\data\\\\results2\\\\TDepCs137\""
   ]
  },
  {
   "cell_type": "code",
   "execution_count": 47,
   "metadata": {},
   "outputs": [],
   "source": [
    "import datetime, os\n",
    "\n",
    "def filename2datetime(fname: str):\n",
    "    if '.' in fname:\n",
    "        datestr = fname.split('.')[1]\n",
    "    else: \n",
    "        datestr = fname\n",
    "    y = int(datestr[0:4])\n",
    "    m = int(datestr[4:6])\n",
    "    d = int(datestr[6:8])\n",
    "    hour = int(datestr[8:10])\n",
    "    minute = int(datestr[10:12])\n",
    "    return datetime.datetime(y, m, d, hour, minute)\n",
    "\n",
    "def get_data_paths():\n",
    "    files1 = os.listdir(data_dir_1)\n",
    "    files2 = os.listdir(data_dir_2)\n",
    "    times = [ filename2datetime(f) for f in (files1 + files2) ]\n",
    "    data = [ pd.read_csv(f'{data_dir_1}\\\\{f}', header=None, sep='\\s+') for f in files1 ]\n",
    "    data = [ np.array(d[d.columns[-1]]) for d in data ]\n",
    "    data1 = [ pd.read_csv(f'{data_dir_2}\\\\{f}', header=None, sep='\\s+') for f in files2 ]\n",
    "    data += [ np.array(d[d.columns[-1]]) for d in data1 ]\n",
    "\n",
    "    return pd.DataFrame({'start_time': times, 'final_values': data})"
   ]
  },
  {
   "cell_type": "code",
   "execution_count": 39,
   "metadata": {},
   "outputs": [],
   "source": [
    "sample_data_path = \"C:\\\\Users\\\\mkrooted\\\\Uni\\\\diploma\\\\data\\\\results\\\\TDepCs137\\\\5cc329f7-ac13-b001-6f0c-a69253da3460.202207011914\""
   ]
  },
  {
   "cell_type": "code",
   "execution_count": 48,
   "metadata": {},
   "outputs": [],
   "source": [
    "df = get_data_paths()"
   ]
  },
  {
   "cell_type": "code",
   "execution_count": 50,
   "metadata": {},
   "outputs": [
    {
     "data": {
      "text/plain": [
       "(8056,)"
      ]
     },
     "execution_count": 50,
     "metadata": {},
     "output_type": "execute_result"
    }
   ],
   "source": [
    "df.final_values[0].shape"
   ]
  },
  {
   "attachments": {},
   "cell_type": "markdown",
   "metadata": {},
   "source": [
    "---"
   ]
  },
  {
   "cell_type": "code",
   "execution_count": 51,
   "metadata": {},
   "outputs": [],
   "source": [
    "TOTAL_CELL_NUMBER = 8056"
   ]
  },
  {
   "cell_type": "code",
   "execution_count": 97,
   "metadata": {},
   "outputs": [],
   "source": [
    "def calculate_kahovka_deposit(cell_values):\n",
    "    sum = 0\n",
    "    for i in range(TOTAL_CELL_NUMBER):\n",
    "        if i in kahovka_cells_set:\n",
    "            sum += cell_values[i] * cells_area.Area[i]\n",
    "    return sum"
   ]
  },
  {
   "cell_type": "code",
   "execution_count": 107,
   "metadata": {},
   "outputs": [
    {
     "name": "stderr",
     "output_type": "stream",
     "text": [
      "c:\\Users\\mkrooted\\.conda\\envs\\sci\\Lib\\site-packages\\pandas\\core\\arraylike.py:402: RuntimeWarning: divide by zero encountered in log10\n",
      "  result = getattr(ufunc, method)(*inputs, **kwargs)\n"
     ]
    }
   ],
   "source": [
    "kahovka_deposits = df.copy()\n",
    "kahovka_deposits.final_values = kahovka_deposits.final_values.apply(calculate_kahovka_deposit)\n",
    "kahovka_deposits['log_final_values'] = np.log10(kahovka_deposits.final_values)"
   ]
  },
  {
   "cell_type": "code",
   "execution_count": 108,
   "metadata": {},
   "outputs": [
    {
     "data": {
      "text/html": [
       "<div>\n",
       "<style scoped>\n",
       "    .dataframe tbody tr th:only-of-type {\n",
       "        vertical-align: middle;\n",
       "    }\n",
       "\n",
       "    .dataframe tbody tr th {\n",
       "        vertical-align: top;\n",
       "    }\n",
       "\n",
       "    .dataframe thead th {\n",
       "        text-align: right;\n",
       "    }\n",
       "</style>\n",
       "<table border=\"1\" class=\"dataframe\">\n",
       "  <thead>\n",
       "    <tr style=\"text-align: right;\">\n",
       "      <th></th>\n",
       "      <th>start_time</th>\n",
       "      <th>final_values</th>\n",
       "      <th>log_final_values</th>\n",
       "    </tr>\n",
       "  </thead>\n",
       "  <tbody>\n",
       "    <tr>\n",
       "      <th>0</th>\n",
       "      <td>2022-07-01 19:14:00</td>\n",
       "      <td>3.601087e+07</td>\n",
       "      <td>7.556434</td>\n",
       "    </tr>\n",
       "    <tr>\n",
       "      <th>1</th>\n",
       "      <td>2022-07-01 22:55:00</td>\n",
       "      <td>4.509690e+07</td>\n",
       "      <td>7.654147</td>\n",
       "    </tr>\n",
       "    <tr>\n",
       "      <th>2</th>\n",
       "      <td>2022-07-03 10:43:00</td>\n",
       "      <td>1.389949e+11</td>\n",
       "      <td>11.142999</td>\n",
       "    </tr>\n",
       "    <tr>\n",
       "      <th>3</th>\n",
       "      <td>2022-07-04 04:58:00</td>\n",
       "      <td>5.272397e+10</td>\n",
       "      <td>10.722008</td>\n",
       "    </tr>\n",
       "    <tr>\n",
       "      <th>4</th>\n",
       "      <td>2022-07-05 02:58:00</td>\n",
       "      <td>5.826374e+10</td>\n",
       "      <td>10.765398</td>\n",
       "    </tr>\n",
       "    <tr>\n",
       "      <th>...</th>\n",
       "      <td>...</td>\n",
       "      <td>...</td>\n",
       "      <td>...</td>\n",
       "    </tr>\n",
       "    <tr>\n",
       "      <th>215</th>\n",
       "      <td>2023-02-04 14:00:00</td>\n",
       "      <td>2.697720e+11</td>\n",
       "      <td>11.430997</td>\n",
       "    </tr>\n",
       "    <tr>\n",
       "      <th>216</th>\n",
       "      <td>2023-02-05 21:08:00</td>\n",
       "      <td>0.000000e+00</td>\n",
       "      <td>-inf</td>\n",
       "    </tr>\n",
       "    <tr>\n",
       "      <th>217</th>\n",
       "      <td>2023-02-06 19:09:00</td>\n",
       "      <td>0.000000e+00</td>\n",
       "      <td>-inf</td>\n",
       "    </tr>\n",
       "    <tr>\n",
       "      <th>218</th>\n",
       "      <td>2023-02-07 18:08:00</td>\n",
       "      <td>0.000000e+00</td>\n",
       "      <td>-inf</td>\n",
       "    </tr>\n",
       "    <tr>\n",
       "      <th>219</th>\n",
       "      <td>2023-02-08 18:44:00</td>\n",
       "      <td>0.000000e+00</td>\n",
       "      <td>-inf</td>\n",
       "    </tr>\n",
       "  </tbody>\n",
       "</table>\n",
       "<p>220 rows × 3 columns</p>\n",
       "</div>"
      ],
      "text/plain": [
       "             start_time  final_values  log_final_values\n",
       "0   2022-07-01 19:14:00  3.601087e+07          7.556434\n",
       "1   2022-07-01 22:55:00  4.509690e+07          7.654147\n",
       "2   2022-07-03 10:43:00  1.389949e+11         11.142999\n",
       "3   2022-07-04 04:58:00  5.272397e+10         10.722008\n",
       "4   2022-07-05 02:58:00  5.826374e+10         10.765398\n",
       "..                  ...           ...               ...\n",
       "215 2023-02-04 14:00:00  2.697720e+11         11.430997\n",
       "216 2023-02-05 21:08:00  0.000000e+00              -inf\n",
       "217 2023-02-06 19:09:00  0.000000e+00              -inf\n",
       "218 2023-02-07 18:08:00  0.000000e+00              -inf\n",
       "219 2023-02-08 18:44:00  0.000000e+00              -inf\n",
       "\n",
       "[220 rows x 3 columns]"
      ]
     },
     "execution_count": 108,
     "metadata": {},
     "output_type": "execute_result"
    }
   ],
   "source": [
    "kahovka_deposits"
   ]
  },
  {
   "cell_type": "code",
   "execution_count": 109,
   "metadata": {},
   "outputs": [
    {
     "data": {
      "text/plain": [
       "count    2.200000e+02\n",
       "mean     2.231020e+12\n",
       "std      3.539279e+12\n",
       "min      0.000000e+00\n",
       "25%      3.160910e+11\n",
       "50%      9.526012e+11\n",
       "75%      2.652061e+12\n",
       "max      2.505495e+13\n",
       "Name: final_values, dtype: float64"
      ]
     },
     "execution_count": 109,
     "metadata": {},
     "output_type": "execute_result"
    }
   ],
   "source": [
    "kah_dep_vals = kahovka_deposits.final_values\n",
    "log_kah_dep_vals = kahovka_deposits.log_final_values\n",
    "kah_dep_vals.describe()"
   ]
  },
  {
   "cell_type": "code",
   "execution_count": 111,
   "metadata": {},
   "outputs": [
    {
     "data": {
      "text/plain": [
       "Text(0.5, 1.0, 'log Bq kahovka histogram.')"
      ]
     },
     "execution_count": 111,
     "metadata": {},
     "output_type": "execute_result"
    },
    {
     "data": {
      "image/png": "[encoded data removed]",
      "text/plain": [
       "<Figure size 640x480 with 1 Axes>"
      ]
     },
     "metadata": {},
     "output_type": "display_data"
    }
   ],
   "source": [
    "log_kah_dep_vals = log_kah_dep_vals[~np.isinf(log_kah_dep_vals)]\n",
    "log_kah_dep_vals.hist(bins=20)\n",
    "plt.title('log Bq kahovka histogram.')"
   ]
  },
  {
   "cell_type": "code",
   "execution_count": 112,
   "metadata": {},
   "outputs": [],
   "source": [
    "kahovka_deposits.to_csv('kahovka_deposits_v1.csv')"
   ]
  },
  {
   "cell_type": "code",
   "execution_count": null,
   "metadata": {},
   "outputs": [],
   "source": []
  }
 ],
 "metadata": {
  "kernelspec": {
   "display_name": "sci",
   "language": "python",
   "name": "python3"
  },
  "language_info": {
   "codemirror_mode": {
    "name": "ipython",
    "version": 3
   },
   "file_extension": ".py",
   "mimetype": "text/x-python",
   "name": "python",
   "nbconvert_exporter": "python",
   "pygments_lexer": "ipython3",
   "version": "3.11.0"
  },
  "orig_nbformat": 4
 },
 "nbformat": 4,
 "nbformat_minor": 2
}
