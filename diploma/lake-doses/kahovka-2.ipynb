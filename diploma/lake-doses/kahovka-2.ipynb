{
 "cells": [
  {
   "cell_type": "code",
   "execution_count": 1,
   "metadata": {},
   "outputs": [],
   "source": [
    "import numpy as np\n",
    "import scipy as sp\n",
    "import pandas as pd\n",
    "import matplotlib.pyplot as plt\n"
   ]
  },
  {
   "cell_type": "code",
   "execution_count": 2,
   "metadata": {},
   "outputs": [
    {
     "data": {
      "text/plain": [
       "0       175\n",
       "1       176\n",
       "2       177\n",
       "3       178\n",
       "4       179\n",
       "       ... \n",
       "446    3133\n",
       "447    3134\n",
       "448    3164\n",
       "449    3165\n",
       "450    3196\n",
       "Name: cell_id, Length: 451, dtype: int64"
      ]
     },
     "execution_count": 2,
     "metadata": {},
     "output_type": "execute_result"
    }
   ],
   "source": [
    "kahovka_cells = pd.read_csv(\"C:/Users/mkrooted/Uni/diploma/data/kahovka.txt\", header=None, names=['cell_id'])\n",
    "kahovka_cells = kahovka_cells.cell_id\n",
    "kahovka_cells"
   ]
  },
  {
   "cell_type": "code",
   "execution_count": 3,
   "metadata": {},
   "outputs": [],
   "source": [
    "kahovka_cells_set = set(kahovka_cells)"
   ]
  },
  {
   "cell_type": "code",
   "execution_count": 4,
   "metadata": {},
   "outputs": [
    {
     "data": {
      "text/html": [
       "<div>\n",
       "<style scoped>\n",
       "    .dataframe tbody tr th:only-of-type {\n",
       "        vertical-align: middle;\n",
       "    }\n",
       "\n",
       "    .dataframe tbody tr th {\n",
       "        vertical-align: top;\n",
       "    }\n",
       "\n",
       "    .dataframe thead th {\n",
       "        text-align: right;\n",
       "    }\n",
       "</style>\n",
       "<table border=\"1\" class=\"dataframe\">\n",
       "  <thead>\n",
       "    <tr style=\"text-align: right;\">\n",
       "      <th></th>\n",
       "      <th>Area</th>\n",
       "    </tr>\n",
       "  </thead>\n",
       "  <tbody>\n",
       "    <tr>\n",
       "      <th>0</th>\n",
       "      <td>1000000.0</td>\n",
       "    </tr>\n",
       "    <tr>\n",
       "      <th>1</th>\n",
       "      <td>1000000.0</td>\n",
       "    </tr>\n",
       "    <tr>\n",
       "      <th>2</th>\n",
       "      <td>1000000.0</td>\n",
       "    </tr>\n",
       "    <tr>\n",
       "      <th>3</th>\n",
       "      <td>1000000.0</td>\n",
       "    </tr>\n",
       "    <tr>\n",
       "      <th>4</th>\n",
       "      <td>1000000.0</td>\n",
       "    </tr>\n",
       "    <tr>\n",
       "      <th>...</th>\n",
       "      <td>...</td>\n",
       "    </tr>\n",
       "    <tr>\n",
       "      <th>8051</th>\n",
       "      <td>256000000.0</td>\n",
       "    </tr>\n",
       "    <tr>\n",
       "      <th>8052</th>\n",
       "      <td>256000000.0</td>\n",
       "    </tr>\n",
       "    <tr>\n",
       "      <th>8053</th>\n",
       "      <td>256000000.0</td>\n",
       "    </tr>\n",
       "    <tr>\n",
       "      <th>8054</th>\n",
       "      <td>256000000.0</td>\n",
       "    </tr>\n",
       "    <tr>\n",
       "      <th>8055</th>\n",
       "      <td>256000000.0</td>\n",
       "    </tr>\n",
       "  </tbody>\n",
       "</table>\n",
       "<p>8056 rows × 1 columns</p>\n",
       "</div>"
      ],
      "text/plain": [
       "             Area\n",
       "0       1000000.0\n",
       "1       1000000.0\n",
       "2       1000000.0\n",
       "3       1000000.0\n",
       "4       1000000.0\n",
       "...           ...\n",
       "8051  256000000.0\n",
       "8052  256000000.0\n",
       "8053  256000000.0\n",
       "8054  256000000.0\n",
       "8055  256000000.0\n",
       "\n",
       "[8056 rows x 1 columns]"
      ]
     },
     "execution_count": 4,
     "metadata": {},
     "output_type": "execute_result"
    }
   ],
   "source": [
    "cells_area = pd.read_csv(\"C:/Users/mkrooted/Uni/diploma/data/coords-area.txt\", sep=\"\\s+\").drop(columns=['Cell', 'Longitude', 'Latitude'])\n",
    "cells_area"
   ]
  },
  {
   "attachments": {},
   "cell_type": "markdown",
   "metadata": {},
   "source": [
    "---"
   ]
  },
  {
   "cell_type": "code",
   "execution_count": 14,
   "metadata": {},
   "outputs": [],
   "source": [
    "tdep_data_dir = \"C:\\\\Users\\\\mkrooted\\\\Uni\\\\diploma\\\\data\\\\results-2\\\\TDepCs137\"\n",
    "rainfall_data_dir = \"C:\\\\Users\\\\mkrooted\\\\Uni\\\\diploma\\\\data\\\\results-2\\\\W_TotalRainfall\"\n",
    "wind_data_dir = \"C:\\\\Users\\\\mkrooted\\\\Uni\\\\diploma\\\\data\\\\results-2\\\\W_WindField10m\""
   ]
  },
  {
   "cell_type": "code",
   "execution_count": 28,
   "metadata": {},
   "outputs": [],
   "source": [
    "import datetime, os\n",
    "\n",
    "def filename2datetime(fname: str):\n",
    "    if '.' in fname:\n",
    "        datestr = fname.split('.')[1]\n",
    "    else: \n",
    "        datestr = fname\n",
    "    y = int(datestr[0:4])\n",
    "    m = int(datestr[4:6])\n",
    "    d = int(datestr[6:8])\n",
    "    hour = int(datestr[8:10])\n",
    "    minute = int(datestr[10:12])\n",
    "    return datetime.datetime(y, m, d, hour, minute)\n",
    "\n",
    "def get_data_tdep():\n",
    "    files = os.listdir(tdep_data_dir)\n",
    "    times = [ filename2datetime(f) for f in files ]\n",
    "    data = [ pd.read_csv(f'{tdep_data_dir}\\\\{f}', header=None, sep='\\s+') for f in files ]\n",
    "    # we need only last datapoint cause property is cumulative\n",
    "    data = [ np.array(d[d.columns[-1]]) for d in data ]\n",
    "    return pd.DataFrame({'start_time': times, 'tdep_final': data})\n",
    "\n",
    "def get_data_rainfall():\n",
    "    files = os.listdir(rainfall_data_dir)\n",
    "    times = [ filename2datetime(f) for f in files ]\n",
    "    data = [ pd.read_csv(f'{rainfall_data_dir}\\\\{f}', header=None, sep='\\s+') for f in files ]\n",
    "    # there should be only one field\n",
    "    data = [ np.array(d[d.columns[-1]]) for d in data ]\n",
    "    return pd.DataFrame({'start_time': times, 'rainfall_final': data})\n",
    "\n",
    "def get_data_wind():\n",
    "    files = os.listdir(wind_data_dir)\n",
    "    times = [ filename2datetime(f) for f in files ]\n",
    "    data_from_files = [ pd.read_csv(f'{wind_data_dir}\\\\{f}', header=None, sep='\\s+') for f in files ]\n",
    "    # first field is cell number. the following fields are pairs of x/y wind speeds.\n",
    "    num_fields = len(data_from_files[0].columns)\n",
    "    num_observ = (num_fields-1)//2\n",
    "    num_cells = len(data_from_files[0][0])\n",
    "    result = []\n",
    "    for d in data_from_files:\n",
    "        # cell_ids = d[0]\n",
    "        wind_history = np.zeros((num_cells, num_observ, 2))\n",
    "        for i in range(0, num_observ):\n",
    "            wind_history[:,i,0] = d[1+i*2]\n",
    "            wind_history[:,i,1] = d[1+i*2+1]\n",
    "        result.append(wind_history)\n",
    "    return pd.DataFrame({'start_time': times, 'wind_history': result})"
   ]
  },
  {
   "cell_type": "code",
   "execution_count": 8,
   "metadata": {},
   "outputs": [],
   "source": [
    "sample_data_path = \"C:\\\\Users\\\\mkrooted\\\\Uni\\\\diploma\\\\data\\\\results-2\\\\W_WindField10m\\\\0f7ffc9e-c0a8-0014-6f0c-a69241b6e124.202207011955\""
   ]
  },
  {
   "attachments": {},
   "cell_type": "markdown",
   "metadata": {},
   "source": [
    "---\n",
    "\n",
    "## Data loading"
   ]
  },
  {
   "attachments": {},
   "cell_type": "markdown",
   "metadata": {},
   "source": [
    "### Wind\n",
    "\n",
    "`wind_data[period number][cell number][0/1 for x/y]`"
   ]
  },
  {
   "cell_type": "code",
   "execution_count": 29,
   "metadata": {},
   "outputs": [
    {
     "data": {
      "text/html": [
       "<div>\n",
       "<style scoped>\n",
       "    .dataframe tbody tr th:only-of-type {\n",
       "        vertical-align: middle;\n",
       "    }\n",
       "\n",
       "    .dataframe tbody tr th {\n",
       "        vertical-align: top;\n",
       "    }\n",
       "\n",
       "    .dataframe thead th {\n",
       "        text-align: right;\n",
       "    }\n",
       "</style>\n",
       "<table border=\"1\" class=\"dataframe\">\n",
       "  <thead>\n",
       "    <tr style=\"text-align: right;\">\n",
       "      <th></th>\n",
       "      <th>start_time</th>\n",
       "      <th>wind_history</th>\n",
       "    </tr>\n",
       "  </thead>\n",
       "  <tbody>\n",
       "    <tr>\n",
       "      <th>0</th>\n",
       "      <td>2022-07-01 19:55:00</td>\n",
       "      <td>[[[0.69340545, -3.3388488], [0.21407717, -3.68...</td>\n",
       "    </tr>\n",
       "    <tr>\n",
       "      <th>1</th>\n",
       "      <td>2022-07-02 05:34:00</td>\n",
       "      <td>[[[-4.880126, -3.8366716], [-3.8513846, -3.697...</td>\n",
       "    </tr>\n",
       "    <tr>\n",
       "      <th>2</th>\n",
       "      <td>2022-07-02 22:46:00</td>\n",
       "      <td>[[[1.324215, -2.8304386], [-0.20824951, -2.483...</td>\n",
       "    </tr>\n",
       "    <tr>\n",
       "      <th>3</th>\n",
       "      <td>2022-07-04 14:19:00</td>\n",
       "      <td>[[[2.321182, -1.5820554], [2.1421092, -1.15840...</td>\n",
       "    </tr>\n",
       "    <tr>\n",
       "      <th>4</th>\n",
       "      <td>2022-07-05 18:47:00</td>\n",
       "      <td>[[[0.7748647, -0.8844176], [0.83207494, -0.200...</td>\n",
       "    </tr>\n",
       "    <tr>\n",
       "      <th>...</th>\n",
       "      <td>...</td>\n",
       "      <td>...</td>\n",
       "    </tr>\n",
       "    <tr>\n",
       "      <th>218</th>\n",
       "      <td>2023-02-04 13:36:00</td>\n",
       "      <td>[[[-0.54570574, -1.527094], [-1.4656001, -1.30...</td>\n",
       "    </tr>\n",
       "    <tr>\n",
       "      <th>219</th>\n",
       "      <td>2023-02-04 22:57:00</td>\n",
       "      <td>[[[-2.9870539, -3.3427148], [-0.91877455, -2.5...</td>\n",
       "    </tr>\n",
       "    <tr>\n",
       "      <th>220</th>\n",
       "      <td>2023-02-06 06:03:00</td>\n",
       "      <td>[[[-4.345418, -6.806369], [-4.327753, -7.28703...</td>\n",
       "    </tr>\n",
       "    <tr>\n",
       "      <th>221</th>\n",
       "      <td>2023-02-07 13:34:00</td>\n",
       "      <td>[[[-3.754423, -8.385823], [-4.2699423, -7.9443...</td>\n",
       "    </tr>\n",
       "    <tr>\n",
       "      <th>222</th>\n",
       "      <td>2023-02-08 12:32:00</td>\n",
       "      <td>[[[-4.6293097, -7.819339], [-4.149723, -7.6333...</td>\n",
       "    </tr>\n",
       "  </tbody>\n",
       "</table>\n",
       "<p>223 rows × 2 columns</p>\n",
       "</div>"
      ],
      "text/plain": [
       "             start_time                                       wind_history\n",
       "0   2022-07-01 19:55:00  [[[0.69340545, -3.3388488], [0.21407717, -3.68...\n",
       "1   2022-07-02 05:34:00  [[[-4.880126, -3.8366716], [-3.8513846, -3.697...\n",
       "2   2022-07-02 22:46:00  [[[1.324215, -2.8304386], [-0.20824951, -2.483...\n",
       "3   2022-07-04 14:19:00  [[[2.321182, -1.5820554], [2.1421092, -1.15840...\n",
       "4   2022-07-05 18:47:00  [[[0.7748647, -0.8844176], [0.83207494, -0.200...\n",
       "..                  ...                                                ...\n",
       "218 2023-02-04 13:36:00  [[[-0.54570574, -1.527094], [-1.4656001, -1.30...\n",
       "219 2023-02-04 22:57:00  [[[-2.9870539, -3.3427148], [-0.91877455, -2.5...\n",
       "220 2023-02-06 06:03:00  [[[-4.345418, -6.806369], [-4.327753, -7.28703...\n",
       "221 2023-02-07 13:34:00  [[[-3.754423, -8.385823], [-4.2699423, -7.9443...\n",
       "222 2023-02-08 12:32:00  [[[-4.6293097, -7.819339], [-4.149723, -7.6333...\n",
       "\n",
       "[223 rows x 2 columns]"
      ]
     },
     "execution_count": 29,
     "metadata": {},
     "output_type": "execute_result"
    }
   ],
   "source": [
    "wind_data = get_data_wind()\n",
    "wind_data"
   ]
  },
  {
   "cell_type": "code",
   "execution_count": 30,
   "metadata": {},
   "outputs": [
    {
     "data": {
      "text/plain": [
       "(array([[ 0.584725  , -6.1594467 ],\n",
       "        [-0.70692694, -7.012069  ],\n",
       "        [-1.3299156 , -6.0794277 ],\n",
       "        [-0.42836794, -5.083401  ],\n",
       "        [ 1.5576735 , -4.0975485 ],\n",
       "        [ 2.403324  , -4.2921977 ],\n",
       "        [ 2.5614264 , -5.060894  ],\n",
       "        [ 2.202534  , -6.1879253 ],\n",
       "        [ 2.090227  , -7.033813  ],\n",
       "        [ 2.1997182 , -7.591057  ],\n",
       "        [ 1.9414387 , -7.8988605 ],\n",
       "        [ 1.945366  , -8.348376  ],\n",
       "        [ 1.7265834 , -9.100201  ],\n",
       "        [ 1.8610477 , -9.273963  ],\n",
       "        [ 1.9633378 , -9.403254  ],\n",
       "        [ 1.8042305 , -9.982484  ],\n",
       "        [ 1.2504519 , -9.856281  ],\n",
       "        [ 0.97364384, -9.556622  ],\n",
       "        [ 1.1089665 , -8.680183  ],\n",
       "        [ 1.388065  , -7.7587347 ],\n",
       "        [ 0.91772664, -6.826965  ],\n",
       "        [ 1.1585257 , -5.4743047 ],\n",
       "        [ 0.7753302 , -4.8697314 ],\n",
       "        [ 0.30526322, -4.1477613 ]]),\n",
       " (24, 2))"
      ]
     },
     "execution_count": 30,
     "metadata": {},
     "output_type": "execute_result"
    }
   ],
   "source": [
    "wind_data.wind_history[0][8000], wind_data.wind_history[0][8000].shape"
   ]
  },
  {
   "cell_type": "code",
   "execution_count": 34,
   "metadata": {},
   "outputs": [],
   "source": [
    "wind_data.to_pickle('saved/wind_data.pkl')"
   ]
  },
  {
   "attachments": {},
   "cell_type": "markdown",
   "metadata": {},
   "source": [
    "### Rain\n",
    "\n",
    "`rain_data[period number][cell number]`"
   ]
  },
  {
   "cell_type": "code",
   "execution_count": 32,
   "metadata": {},
   "outputs": [
    {
     "data": {
      "text/html": [
       "<div>\n",
       "<style scoped>\n",
       "    .dataframe tbody tr th:only-of-type {\n",
       "        vertical-align: middle;\n",
       "    }\n",
       "\n",
       "    .dataframe tbody tr th {\n",
       "        vertical-align: top;\n",
       "    }\n",
       "\n",
       "    .dataframe thead th {\n",
       "        text-align: right;\n",
       "    }\n",
       "</style>\n",
       "<table border=\"1\" class=\"dataframe\">\n",
       "  <thead>\n",
       "    <tr style=\"text-align: right;\">\n",
       "      <th></th>\n",
       "      <th>start_time</th>\n",
       "      <th>rainfall_final</th>\n",
       "    </tr>\n",
       "  </thead>\n",
       "  <tbody>\n",
       "    <tr>\n",
       "      <th>0</th>\n",
       "      <td>2022-07-01 19:55:00</td>\n",
       "      <td>[0.0, 0.0, 0.0, 0.0, 0.0, 0.0, 0.0, 0.0, 0.0, ...</td>\n",
       "    </tr>\n",
       "    <tr>\n",
       "      <th>1</th>\n",
       "      <td>2022-07-02 05:34:00</td>\n",
       "      <td>[0.0, 0.0, 0.0, 0.0, 0.0, 0.0, 0.0, 0.0, 0.0, ...</td>\n",
       "    </tr>\n",
       "    <tr>\n",
       "      <th>2</th>\n",
       "      <td>2022-07-02 22:46:00</td>\n",
       "      <td>[0.0, 0.0, 0.0, 0.0, 0.0, 0.0, 0.0, 0.0, 0.0, ...</td>\n",
       "    </tr>\n",
       "    <tr>\n",
       "      <th>3</th>\n",
       "      <td>2022-07-04 14:19:00</td>\n",
       "      <td>[0.035863027, 0.15945688, 0.15945688, 0.159456...</td>\n",
       "    </tr>\n",
       "    <tr>\n",
       "      <th>4</th>\n",
       "      <td>2022-07-05 18:47:00</td>\n",
       "      <td>[4.6061316, 3.3568287, 3.3568285, 3.3568285, 3...</td>\n",
       "    </tr>\n",
       "    <tr>\n",
       "      <th>...</th>\n",
       "      <td>...</td>\n",
       "      <td>...</td>\n",
       "    </tr>\n",
       "    <tr>\n",
       "      <th>218</th>\n",
       "      <td>2023-02-04 13:36:00</td>\n",
       "      <td>[0.010891917, 0.011067579, 0.011067579, 0.0110...</td>\n",
       "    </tr>\n",
       "    <tr>\n",
       "      <th>219</th>\n",
       "      <td>2023-02-04 22:57:00</td>\n",
       "      <td>[0.012969203, 0.017166331, 0.017166331, 0.0171...</td>\n",
       "    </tr>\n",
       "    <tr>\n",
       "      <th>220</th>\n",
       "      <td>2023-02-06 06:03:00</td>\n",
       "      <td>[0.049493603, 0.043491147, 0.043491147, 0.0434...</td>\n",
       "    </tr>\n",
       "    <tr>\n",
       "      <th>221</th>\n",
       "      <td>2023-02-07 13:34:00</td>\n",
       "      <td>[0.0, 0.0, 0.0, 0.0, 0.0, 0.0, 0.0, 0.0, 0.0, ...</td>\n",
       "    </tr>\n",
       "    <tr>\n",
       "      <th>222</th>\n",
       "      <td>2023-02-08 12:32:00</td>\n",
       "      <td>[0.0015993641, 0.0003271072, 0.0003271072, 0.0...</td>\n",
       "    </tr>\n",
       "  </tbody>\n",
       "</table>\n",
       "<p>223 rows × 2 columns</p>\n",
       "</div>"
      ],
      "text/plain": [
       "             start_time                                     rainfall_final\n",
       "0   2022-07-01 19:55:00  [0.0, 0.0, 0.0, 0.0, 0.0, 0.0, 0.0, 0.0, 0.0, ...\n",
       "1   2022-07-02 05:34:00  [0.0, 0.0, 0.0, 0.0, 0.0, 0.0, 0.0, 0.0, 0.0, ...\n",
       "2   2022-07-02 22:46:00  [0.0, 0.0, 0.0, 0.0, 0.0, 0.0, 0.0, 0.0, 0.0, ...\n",
       "3   2022-07-04 14:19:00  [0.035863027, 0.15945688, 0.15945688, 0.159456...\n",
       "4   2022-07-05 18:47:00  [4.6061316, 3.3568287, 3.3568285, 3.3568285, 3...\n",
       "..                  ...                                                ...\n",
       "218 2023-02-04 13:36:00  [0.010891917, 0.011067579, 0.011067579, 0.0110...\n",
       "219 2023-02-04 22:57:00  [0.012969203, 0.017166331, 0.017166331, 0.0171...\n",
       "220 2023-02-06 06:03:00  [0.049493603, 0.043491147, 0.043491147, 0.0434...\n",
       "221 2023-02-07 13:34:00  [0.0, 0.0, 0.0, 0.0, 0.0, 0.0, 0.0, 0.0, 0.0, ...\n",
       "222 2023-02-08 12:32:00  [0.0015993641, 0.0003271072, 0.0003271072, 0.0...\n",
       "\n",
       "[223 rows x 2 columns]"
      ]
     },
     "execution_count": 32,
     "metadata": {},
     "output_type": "execute_result"
    }
   ],
   "source": [
    "rain_data = get_data_rainfall()\n",
    "rain_data"
   ]
  },
  {
   "cell_type": "code",
   "execution_count": 33,
   "metadata": {},
   "outputs": [],
   "source": [
    "rain_data.to_pickle('saved/rain_data.pkl')"
   ]
  },
  {
   "attachments": {},
   "cell_type": "markdown",
   "metadata": {},
   "source": [
    "### Radioactive deposit\n",
    "`dep_data[period number][cell number]`"
   ]
  },
  {
   "cell_type": "code",
   "execution_count": 35,
   "metadata": {},
   "outputs": [],
   "source": [
    "dep_data = get_data_tdep()"
   ]
  },
  {
   "cell_type": "code",
   "execution_count": 36,
   "metadata": {},
   "outputs": [
    {
     "data": {
      "text/html": [
       "<div>\n",
       "<style scoped>\n",
       "    .dataframe tbody tr th:only-of-type {\n",
       "        vertical-align: middle;\n",
       "    }\n",
       "\n",
       "    .dataframe tbody tr th {\n",
       "        vertical-align: top;\n",
       "    }\n",
       "\n",
       "    .dataframe thead th {\n",
       "        text-align: right;\n",
       "    }\n",
       "</style>\n",
       "<table border=\"1\" class=\"dataframe\">\n",
       "  <thead>\n",
       "    <tr style=\"text-align: right;\">\n",
       "      <th></th>\n",
       "      <th>start_time</th>\n",
       "      <th>tdep_final</th>\n",
       "    </tr>\n",
       "  </thead>\n",
       "  <tbody>\n",
       "    <tr>\n",
       "      <th>0</th>\n",
       "      <td>2022-07-01 19:55:00</td>\n",
       "      <td>[1354.9042, 1681.1763, 2091.0132, 1881.2877, 1...</td>\n",
       "    </tr>\n",
       "    <tr>\n",
       "      <th>1</th>\n",
       "      <td>2022-07-02 05:34:00</td>\n",
       "      <td>[1023.44543, 729.9161, 465.06067, 305.74167, 2...</td>\n",
       "    </tr>\n",
       "    <tr>\n",
       "      <th>2</th>\n",
       "      <td>2022-07-02 22:46:00</td>\n",
       "      <td>[0.0, 0.0, 0.0, 0.0, 0.02025737, 11.653584, 21...</td>\n",
       "    </tr>\n",
       "    <tr>\n",
       "      <th>3</th>\n",
       "      <td>2022-07-04 14:19:00</td>\n",
       "      <td>[0.0, 0.0, 0.0, 0.0, 0.0, 0.0, 0.0, 0.0, 63.13...</td>\n",
       "    </tr>\n",
       "    <tr>\n",
       "      <th>4</th>\n",
       "      <td>2022-07-05 18:47:00</td>\n",
       "      <td>[6925.5093, 5282.406, 6638.792, 9146.197, 8883...</td>\n",
       "    </tr>\n",
       "    <tr>\n",
       "      <th>...</th>\n",
       "      <td>...</td>\n",
       "      <td>...</td>\n",
       "    </tr>\n",
       "    <tr>\n",
       "      <th>218</th>\n",
       "      <td>2023-02-04 13:36:00</td>\n",
       "      <td>[11606.796, 12324.691, 12639.54, 10821.229, 58...</td>\n",
       "    </tr>\n",
       "    <tr>\n",
       "      <th>219</th>\n",
       "      <td>2023-02-04 22:57:00</td>\n",
       "      <td>[2668.4563, 5091.6455, 6743.5703, 7127.751, 76...</td>\n",
       "    </tr>\n",
       "    <tr>\n",
       "      <th>220</th>\n",
       "      <td>2023-02-06 06:03:00</td>\n",
       "      <td>[415.4246, 1301.7596, 3061.989, 5065.3784, 553...</td>\n",
       "    </tr>\n",
       "    <tr>\n",
       "      <th>221</th>\n",
       "      <td>2023-02-07 13:34:00</td>\n",
       "      <td>[857.5596, 1463.7555, 2022.8812, 2436.5554, 27...</td>\n",
       "    </tr>\n",
       "    <tr>\n",
       "      <th>222</th>\n",
       "      <td>2023-02-08 12:32:00</td>\n",
       "      <td>[660.19495, 1689.1395, 3157.4297, 4208.392, 39...</td>\n",
       "    </tr>\n",
       "  </tbody>\n",
       "</table>\n",
       "<p>223 rows × 2 columns</p>\n",
       "</div>"
      ],
      "text/plain": [
       "             start_time                                         tdep_final\n",
       "0   2022-07-01 19:55:00  [1354.9042, 1681.1763, 2091.0132, 1881.2877, 1...\n",
       "1   2022-07-02 05:34:00  [1023.44543, 729.9161, 465.06067, 305.74167, 2...\n",
       "2   2022-07-02 22:46:00  [0.0, 0.0, 0.0, 0.0, 0.02025737, 11.653584, 21...\n",
       "3   2022-07-04 14:19:00  [0.0, 0.0, 0.0, 0.0, 0.0, 0.0, 0.0, 0.0, 63.13...\n",
       "4   2022-07-05 18:47:00  [6925.5093, 5282.406, 6638.792, 9146.197, 8883...\n",
       "..                  ...                                                ...\n",
       "218 2023-02-04 13:36:00  [11606.796, 12324.691, 12639.54, 10821.229, 58...\n",
       "219 2023-02-04 22:57:00  [2668.4563, 5091.6455, 6743.5703, 7127.751, 76...\n",
       "220 2023-02-06 06:03:00  [415.4246, 1301.7596, 3061.989, 5065.3784, 553...\n",
       "221 2023-02-07 13:34:00  [857.5596, 1463.7555, 2022.8812, 2436.5554, 27...\n",
       "222 2023-02-08 12:32:00  [660.19495, 1689.1395, 3157.4297, 4208.392, 39...\n",
       "\n",
       "[223 rows x 2 columns]"
      ]
     },
     "execution_count": 36,
     "metadata": {},
     "output_type": "execute_result"
    }
   ],
   "source": [
    "dep_data"
   ]
  },
  {
   "cell_type": "code",
   "execution_count": 37,
   "metadata": {},
   "outputs": [],
   "source": [
    "dep_data.to_pickle('saved/dep_data.pkl')"
   ]
  },
  {
   "attachments": {},
   "cell_type": "markdown",
   "metadata": {},
   "source": [
    "---"
   ]
  },
  {
   "attachments": {},
   "cell_type": "markdown",
   "metadata": {},
   "source": [
    "## Kahovka deposit"
   ]
  },
  {
   "cell_type": "code",
   "execution_count": 38,
   "metadata": {},
   "outputs": [],
   "source": [
    "TOTAL_CELL_NUMBER = 8056"
   ]
  },
  {
   "cell_type": "code",
   "execution_count": 39,
   "metadata": {},
   "outputs": [],
   "source": [
    "def calculate_kahovka_deposit(cell_values):\n",
    "    sum = 0\n",
    "    for i in range(TOTAL_CELL_NUMBER):\n",
    "        if i in kahovka_cells_set:\n",
    "            sum += cell_values[i] * cells_area.Area[i]\n",
    "    return sum"
   ]
  },
  {
   "cell_type": "code",
   "execution_count": 41,
   "metadata": {},
   "outputs": [
    {
     "name": "stderr",
     "output_type": "stream",
     "text": [
      "c:\\Users\\mkrooted\\.conda\\envs\\sci\\Lib\\site-packages\\pandas\\core\\arraylike.py:402: RuntimeWarning: divide by zero encountered in log10\n",
      "  result = getattr(ufunc, method)(*inputs, **kwargs)\n"
     ]
    }
   ],
   "source": [
    "kahovka_deposits = dep_data.copy()\n",
    "kahovka_deposits.tdep_final = kahovka_deposits.tdep_final.apply(calculate_kahovka_deposit)\n",
    "kahovka_deposits['log_tdep_final'] = np.log10(kahovka_deposits.tdep_final)"
   ]
  },
  {
   "cell_type": "code",
   "execution_count": 42,
   "metadata": {},
   "outputs": [
    {
     "data": {
      "text/html": [
       "<div>\n",
       "<style scoped>\n",
       "    .dataframe tbody tr th:only-of-type {\n",
       "        vertical-align: middle;\n",
       "    }\n",
       "\n",
       "    .dataframe tbody tr th {\n",
       "        vertical-align: top;\n",
       "    }\n",
       "\n",
       "    .dataframe thead th {\n",
       "        text-align: right;\n",
       "    }\n",
       "</style>\n",
       "<table border=\"1\" class=\"dataframe\">\n",
       "  <thead>\n",
       "    <tr style=\"text-align: right;\">\n",
       "      <th></th>\n",
       "      <th>start_time</th>\n",
       "      <th>tdep_final</th>\n",
       "      <th>log_tdep_final</th>\n",
       "    </tr>\n",
       "  </thead>\n",
       "  <tbody>\n",
       "    <tr>\n",
       "      <th>0</th>\n",
       "      <td>2022-07-01 19:55:00</td>\n",
       "      <td>4.511234e+07</td>\n",
       "      <td>7.654295</td>\n",
       "    </tr>\n",
       "    <tr>\n",
       "      <th>1</th>\n",
       "      <td>2022-07-02 05:34:00</td>\n",
       "      <td>2.018999e+08</td>\n",
       "      <td>8.305136</td>\n",
       "    </tr>\n",
       "    <tr>\n",
       "      <th>2</th>\n",
       "      <td>2022-07-02 22:46:00</td>\n",
       "      <td>0.000000e+00</td>\n",
       "      <td>-inf</td>\n",
       "    </tr>\n",
       "    <tr>\n",
       "      <th>3</th>\n",
       "      <td>2022-07-04 14:19:00</td>\n",
       "      <td>3.289296e+11</td>\n",
       "      <td>11.517103</td>\n",
       "    </tr>\n",
       "    <tr>\n",
       "      <th>4</th>\n",
       "      <td>2022-07-05 18:47:00</td>\n",
       "      <td>5.906710e+11</td>\n",
       "      <td>11.771346</td>\n",
       "    </tr>\n",
       "    <tr>\n",
       "      <th>...</th>\n",
       "      <td>...</td>\n",
       "      <td>...</td>\n",
       "      <td>...</td>\n",
       "    </tr>\n",
       "    <tr>\n",
       "      <th>218</th>\n",
       "      <td>2023-02-04 13:36:00</td>\n",
       "      <td>1.116127e+11</td>\n",
       "      <td>11.047714</td>\n",
       "    </tr>\n",
       "    <tr>\n",
       "      <th>219</th>\n",
       "      <td>2023-02-04 22:57:00</td>\n",
       "      <td>0.000000e+00</td>\n",
       "      <td>-inf</td>\n",
       "    </tr>\n",
       "    <tr>\n",
       "      <th>220</th>\n",
       "      <td>2023-02-06 06:03:00</td>\n",
       "      <td>0.000000e+00</td>\n",
       "      <td>-inf</td>\n",
       "    </tr>\n",
       "    <tr>\n",
       "      <th>221</th>\n",
       "      <td>2023-02-07 13:34:00</td>\n",
       "      <td>0.000000e+00</td>\n",
       "      <td>-inf</td>\n",
       "    </tr>\n",
       "    <tr>\n",
       "      <th>222</th>\n",
       "      <td>2023-02-08 12:32:00</td>\n",
       "      <td>0.000000e+00</td>\n",
       "      <td>-inf</td>\n",
       "    </tr>\n",
       "  </tbody>\n",
       "</table>\n",
       "<p>223 rows × 3 columns</p>\n",
       "</div>"
      ],
      "text/plain": [
       "             start_time    tdep_final  log_tdep_final\n",
       "0   2022-07-01 19:55:00  4.511234e+07        7.654295\n",
       "1   2022-07-02 05:34:00  2.018999e+08        8.305136\n",
       "2   2022-07-02 22:46:00  0.000000e+00            -inf\n",
       "3   2022-07-04 14:19:00  3.289296e+11       11.517103\n",
       "4   2022-07-05 18:47:00  5.906710e+11       11.771346\n",
       "..                  ...           ...             ...\n",
       "218 2023-02-04 13:36:00  1.116127e+11       11.047714\n",
       "219 2023-02-04 22:57:00  0.000000e+00            -inf\n",
       "220 2023-02-06 06:03:00  0.000000e+00            -inf\n",
       "221 2023-02-07 13:34:00  0.000000e+00            -inf\n",
       "222 2023-02-08 12:32:00  0.000000e+00            -inf\n",
       "\n",
       "[223 rows x 3 columns]"
      ]
     },
     "execution_count": 42,
     "metadata": {},
     "output_type": "execute_result"
    }
   ],
   "source": [
    "kahovka_deposits"
   ]
  },
  {
   "cell_type": "code",
   "execution_count": 43,
   "metadata": {},
   "outputs": [
    {
     "data": {
      "text/plain": [
       "count    2.230000e+02\n",
       "mean     2.315736e+12\n",
       "std      4.654628e+12\n",
       "min      0.000000e+00\n",
       "25%      2.170987e+11\n",
       "50%      9.608241e+11\n",
       "75%      2.055023e+12\n",
       "max      3.929688e+13\n",
       "Name: tdep_final, dtype: float64"
      ]
     },
     "execution_count": 43,
     "metadata": {},
     "output_type": "execute_result"
    }
   ],
   "source": [
    "kah_dep_vals = kahovka_deposits.tdep_final\n",
    "log_kah_dep_vals = kahovka_deposits.log_tdep_final\n",
    "kah_dep_vals.describe()"
   ]
  },
  {
   "cell_type": "code",
   "execution_count": 44,
   "metadata": {},
   "outputs": [
    {
     "data": {
      "text/plain": [
       "Text(0.5, 1.0, 'log Bq kahovka histogram.')"
      ]
     },
     "execution_count": 44,
     "metadata": {},
     "output_type": "execute_result"
    },
    {
     "data": {
      "image/png": "[encoded data removed]",
      "text/plain": [
       "<Figure size 640x480 with 1 Axes>"
      ]
     },
     "metadata": {},
     "output_type": "display_data"
    }
   ],
   "source": [
    "log_kah_dep_vals = log_kah_dep_vals[~np.isinf(log_kah_dep_vals)]\n",
    "log_kah_dep_vals.hist(bins=20)\n",
    "plt.title('log Bq kahovka histogram.')"
   ]
  },
  {
   "cell_type": "code",
   "execution_count": 45,
   "metadata": {},
   "outputs": [],
   "source": [
    "kahovka_deposits.to_pickle('saved/kahovka_deposits.pkl')"
   ]
  },
  {
   "attachments": {},
   "cell_type": "markdown",
   "metadata": {},
   "source": [
    "---"
   ]
  },
  {
   "cell_type": "code",
   "execution_count": null,
   "metadata": {},
   "outputs": [],
   "source": []
  }
 ],
 "metadata": {
  "kernelspec": {
   "display_name": "sci",
   "language": "python",
   "name": "python3"
  },
  "language_info": {
   "codemirror_mode": {
    "name": "ipython",
    "version": 3
   },
   "file_extension": ".py",
   "mimetype": "text/x-python",
   "name": "python",
   "nbconvert_exporter": "python",
   "pygments_lexer": "ipython3",
   "version": "3.11.0"
  },
  "orig_nbformat": 4
 },
 "nbformat": 4,
 "nbformat_minor": 2
}
