{
 "cells": [
  {
   "cell_type": "code",
   "execution_count": 4,
   "id": "1a2fccb6-789d-4e32-ab35-3df377a72fa6",
   "metadata": {},
   "outputs": [],
   "source": [
    "import numpy as np\n",
    "import scipy as sp\n",
    "from numpy import array as arr"
   ]
  },
  {
   "cell_type": "markdown",
   "id": "d9108c48-a345-455e-8bb7-202f51885b6c",
   "metadata": {},
   "source": [
    "6-Decision\n",
    "\n",
    "FI91 - Koreshkov - variant 6"
   ]
  },
  {
   "cell_type": "code",
   "execution_count": 5,
   "id": "24856f3e-47e1-4328-aa93-58d6ac6ed09d",
   "metadata": {},
   "outputs": [],
   "source": [
    "factors = arr([0.4, 0.6])"
   ]
  },
  {
   "cell_type": "code",
   "execution_count": 9,
   "id": "f1d8c027-86fb-4fb1-a61f-8d6561e08ef2",
   "metadata": {},
   "outputs": [],
   "source": [
    "R1 = arr([\n",
    "    [1, 0.3, 0.8, 0.5, 1],\n",
    "    [0.6, 1, 0.3, 0.8, 0.7],\n",
    "    [0.8, 0.5, 1, 0.9, 0.6],\n",
    "    [0.7, 0.5, 0.6, 1, 0.4],\n",
    "    [0.2, 0.3, 0.1, 0.4, 1],\n",
    "])\n",
    "R2 = arr([\n",
    "    [1, 0, 1, 0, 0.6],\n",
    "    [1, 1, 0.9, 0.4, 1],\n",
    "    [0, 0.7, 1, 0, 0.7],\n",
    "    [0.5, 0.3, 0, 1, 0.7],\n",
    "    [1, 0.9, 0.8, 0.3, 1],\n",
    "])\n"
   ]
  },
  {
   "cell_type": "code",
   "execution_count": 10,
   "id": "d08b939f-b4da-4c9c-8697-457ce79a25e6",
   "metadata": {},
   "outputs": [],
   "source": [
    "def intersect(A, B):\n",
    "    return np.minimum(A, B)"
   ]
  },
  {
   "cell_type": "code",
   "execution_count": 11,
   "id": "a917357c-ad9b-4f82-9588-f43135b24b33",
   "metadata": {},
   "outputs": [],
   "source": [
    "def strongify(R):\n",
    "    return np.minimum(np.maximum(R  - R.T, 0), 1)"
   ]
  },
  {
   "cell_type": "code",
   "execution_count": 13,
   "id": "470b7798-e5fb-4a50-86f4-81e17ae8c962",
   "metadata": {},
   "outputs": [
    {
     "data": {
      "text/plain": [
       "array([[0.4 , 0.  , 0.32, 0.  , 0.36],\n",
       "       [0.24, 0.4 , 0.12, 0.24, 0.28],\n",
       "       [0.  , 0.2 , 0.4 , 0.  , 0.24],\n",
       "       [0.28, 0.18, 0.  , 0.4 , 0.16],\n",
       "       [0.08, 0.12, 0.04, 0.16, 0.4 ]])"
      ]
     },
     "execution_count": 13,
     "metadata": {},
     "output_type": "execute_result"
    }
   ],
   "source": [
    "Q1 = intersect(0.4*R1, 0.6*R2)\n",
    "Q1"
   ]
  },
  {
   "cell_type": "code",
   "execution_count": 14,
   "id": "56388101-4945-42db-b0a7-47336ad4f267",
   "metadata": {},
   "outputs": [
    {
     "data": {
      "text/plain": [
       "array([[0.  , 0.  , 0.32, 0.  , 0.28],\n",
       "       [0.24, 0.  , 0.  , 0.06, 0.16],\n",
       "       [0.  , 0.08, 0.  , 0.  , 0.2 ],\n",
       "       [0.28, 0.  , 0.  , 0.  , 0.  ],\n",
       "       [0.  , 0.  , 0.  , 0.  , 0.  ]])"
      ]
     },
     "execution_count": 14,
     "metadata": {},
     "output_type": "execute_result"
    }
   ],
   "source": [
    "Q1s = strongify(Q1)\n",
    "Q1s"
   ]
  },
  {
   "cell_type": "code",
   "execution_count": 26,
   "id": "6d827200-1bd6-40c1-88e9-c70cc2d1f573",
   "metadata": {},
   "outputs": [],
   "source": [
    "def nd(Q):\n",
    "    return 1 - Q.max(axis=1)"
   ]
  },
  {
   "cell_type": "code",
   "execution_count": 21,
   "id": "32edfd3b-3547-48b8-bcaa-6219f9e3bd2a",
   "metadata": {},
   "outputs": [
    {
     "data": {
      "text/plain": [
       "array([0.68, 0.76, 0.8 , 0.72, 1.  ])"
      ]
     },
     "execution_count": 21,
     "metadata": {},
     "output_type": "execute_result"
    }
   ],
   "source": [
    "Q1_nd = nd(Q1s)\n",
    "Q1_nd"
   ]
  },
  {
   "cell_type": "code",
   "execution_count": 22,
   "id": "7bbd854d-4e98-49b4-bb8b-761c5ace985c",
   "metadata": {},
   "outputs": [
    {
     "data": {
      "text/plain": [
       "array([[1.  , 0.12, 0.92, 0.2 , 0.76],\n",
       "       [0.84, 1.  , 0.66, 0.56, 0.88],\n",
       "       [0.32, 0.62, 1.  , 0.36, 0.66],\n",
       "       [0.58, 0.38, 0.24, 1.  , 0.58],\n",
       "       [0.68, 0.66, 0.52, 0.34, 1.  ]])"
      ]
     },
     "execution_count": 22,
     "metadata": {},
     "output_type": "execute_result"
    }
   ],
   "source": [
    "Q2 = 0.4 * R1 + 0.6 * R2\n",
    "Q2"
   ]
  },
  {
   "cell_type": "code",
   "execution_count": 23,
   "id": "9fc85b23-e6c4-4970-844d-38d8ad1dcc35",
   "metadata": {},
   "outputs": [
    {
     "data": {
      "text/plain": [
       "array([[0.  , 0.  , 0.6 , 0.  , 0.08],\n",
       "       [0.72, 0.  , 0.04, 0.18, 0.22],\n",
       "       [0.  , 0.  , 0.  , 0.12, 0.14],\n",
       "       [0.38, 0.  , 0.  , 0.  , 0.24],\n",
       "       [0.  , 0.  , 0.  , 0.  , 0.  ]])"
      ]
     },
     "execution_count": 23,
     "metadata": {},
     "output_type": "execute_result"
    }
   ],
   "source": [
    "Q2s = strongify(Q2)\n",
    "Q2s"
   ]
  },
  {
   "cell_type": "code",
   "execution_count": 24,
   "id": "26dec68d-606c-4f16-9fa8-7d12703cc71b",
   "metadata": {},
   "outputs": [
    {
     "data": {
      "text/plain": [
       "array([0.4 , 0.28, 0.86, 0.62, 1.  ])"
      ]
     },
     "execution_count": 24,
     "metadata": {},
     "output_type": "execute_result"
    }
   ],
   "source": [
    "Q2_nd = nd(Q2s)\n",
    "Q2_nd"
   ]
  },
  {
   "cell_type": "code",
   "execution_count": 27,
   "id": "a8f16c0a-3f0d-4701-9997-168332e0350f",
   "metadata": {},
   "outputs": [
    {
     "data": {
      "text/plain": [
       "array([0.4 , 0.28, 0.8 , 0.62, 1.  ])"
      ]
     },
     "execution_count": 27,
     "metadata": {},
     "output_type": "execute_result"
    }
   ],
   "source": [
    "mu = np.minimum(Q1_nd, Q2_nd)\n",
    "mu"
   ]
  },
  {
   "cell_type": "code",
   "execution_count": 28,
   "id": "143a818b-216d-4220-9e8f-d340f457d70e",
   "metadata": {},
   "outputs": [
    {
     "data": {
      "text/plain": [
       "4"
      ]
     },
     "execution_count": 28,
     "metadata": {},
     "output_type": "execute_result"
    }
   ],
   "source": [
    "mu.argmax()"
   ]
  },
  {
   "cell_type": "code",
   "execution_count": 32,
   "id": "b82d01d9-7bfe-4a4c-b162-27cc2466e7bf",
   "metadata": {},
   "outputs": [
    {
     "data": {
      "text/plain": [
       "array([4, 2, 3, 0, 1], dtype=int64)"
      ]
     },
     "execution_count": 32,
     "metadata": {},
     "output_type": "execute_result"
    }
   ],
   "source": [
    "np.flip(mu.argsort())"
   ]
  },
  {
   "cell_type": "code",
   "execution_count": null,
   "id": "734c887a-78ce-452b-a4b3-fa2a9217ac79",
   "metadata": {},
   "outputs": [],
   "source": []
  },
  {
   "cell_type": "markdown",
   "id": "7ed0423e-54f9-470e-8e0a-3cfa94e98e6f",
   "metadata": {},
   "source": [
    "**Отже, найкращим вибором буде $x_5$. Далі $x_3, x_4, x_1$ та $x_2$**"
   ]
  },
  {
   "cell_type": "code",
   "execution_count": null,
   "id": "678fdf20-894c-4541-b343-6175b66ce266",
   "metadata": {},
   "outputs": [],
   "source": []
  }
 ],
 "metadata": {
  "kernelspec": {
   "display_name": "Python 3 (ipykernel)",
   "language": "python",
   "name": "python3"
  },
  "language_info": {
   "codemirror_mode": {
    "name": "ipython",
    "version": 3
   },
   "file_extension": ".py",
   "mimetype": "text/x-python",
   "name": "python",
   "nbconvert_exporter": "python",
   "pygments_lexer": "ipython3",
   "version": "3.10.4"
  }
 },
 "nbformat": 4,
 "nbformat_minor": 5
}
