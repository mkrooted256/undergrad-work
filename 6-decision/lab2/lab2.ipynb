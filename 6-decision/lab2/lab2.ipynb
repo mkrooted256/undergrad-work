{
 "cells": [
  {
   "cell_type": "code",
   "execution_count": 1,
   "id": "important-longer",
   "metadata": {},
   "outputs": [],
   "source": [
    "import numpy as np\n",
    "import scipy as sp\n",
    "import sympy as sm\n",
    "import matplotlib.pyplot as plt\n",
    "\n",
    "from scipy.optimize import linprog\n",
    "from functools import partial"
   ]
  },
  {
   "cell_type": "code",
   "execution_count": 2,
   "id": "dramatic-beauty",
   "metadata": {},
   "outputs": [],
   "source": [
    "class dotdict(dict):\n",
    "    \"\"\"dot.notation access to dictionary attributes\"\"\"\n",
    "    __getattr__ = dict.get\n",
    "    __setattr__ = dict.__setitem__\n",
    "    __delattr__ = dict.__delitem__\n",
    "    \n",
    "    def __round__(self, d):\n",
    "        new = self.copy()\n",
    "        for i,v in new.items():\n",
    "            try:\n",
    "                new[i] = round(v,d)\n",
    "                continue\n",
    "            except:\n",
    "                pass\n",
    "            try:\n",
    "                new[i] = v.round(d)\n",
    "                continue\n",
    "            except:\n",
    "                pass\n",
    "        return new"
   ]
  },
  {
   "cell_type": "markdown",
   "id": "lucky-ecology",
   "metadata": {},
   "source": [
    "# 6-Decision. Lab2\n",
    "## Michael Koreshkov. FI-91\n",
    "> variant 6"
   ]
  },
  {
   "cell_type": "code",
   "execution_count": 3,
   "id": "marine-wells",
   "metadata": {},
   "outputs": [],
   "source": [
    "PROCESSES = T1, T2, T3, T4, T5 = 'T1', 'T2', 'T3', 'T4', 'T5'\n",
    "RESOURCES = R1, R2, R3, R4 = 'Raw(T)', 'KWh', 'Overhead(₴)', 'Salary(₴)'\n",
    "\n",
    "M = len(PROCESSES)\n",
    "N = len(RESOURCES)"
   ]
  },
  {
   "cell_type": "code",
   "execution_count": 4,
   "id": "integrated-martial",
   "metadata": {},
   "outputs": [],
   "source": [
    "# efficiency of processes\n",
    "EFF = np.array([300, 260, 320, 400, 450])\n",
    "\n",
    "# costs\n",
    "COST = np.array([\n",
    "    [15 , 20 , 15  , 14  , 18 ],\n",
    "    [0.2, 0.3, 0.15, 0.25, 0.3],\n",
    "    [4  , 5  , 6   , 3   , 2  ],\n",
    "    [6  , 3  , 4   , 6   , 3   ]\n",
    "])\n",
    "\n",
    "# limit on the resources\n",
    "LIM = np.array([2000, 300, 1000, 1600])\n",
    "\n",
    "# criterion weights\n",
    "CRITW = np.array([1,1])\n",
    "CRITW = CRITW / CRITW.sum()"
   ]
  },
  {
   "cell_type": "code",
   "execution_count": 5,
   "id": "private-jaguar",
   "metadata": {},
   "outputs": [],
   "source": [
    "RESULTS = dotdict()"
   ]
  },
  {
   "cell_type": "markdown",
   "id": "proof-suicide",
   "metadata": {},
   "source": [
    "## 1. Math model\n",
    "\n",
    "Нехай $X$ - вектор тривалостей роботи кожного процесу (в одиницях часу). Тоді\n",
    "\n",
    "$$\\begin{cases}\n",
    "f_1(X) = EFF \\cdot X \\to max, \\\\\n",
    "f_2(X) = COST_{2i} X_i \\to min, \\\\\n",
    "X \\ge 0, \\\\\n",
    "COST \\cdot X \\le LIM, \\\\\n",
    "\\end{cases}$$\n",
    "\n",
    "Де $COST_{2i}$ відповідає `COST[1,i]`, тобто витратам електроенергії"
   ]
  },
  {
   "cell_type": "markdown",
   "id": "fatal-guess",
   "metadata": {},
   "source": [
    "## 2. Метод згортки\n"
   ]
  },
  {
   "cell_type": "code",
   "execution_count": 6,
   "id": "designing-value",
   "metadata": {},
   "outputs": [
    {
     "name": "stdout",
     "output_type": "stream",
     "text": [
      "     con: array([], dtype=float64)\n",
      "     fun: -57142.85713243238\n",
      " message: 'Optimization terminated successfully.'\n",
      "     nit: 6\n",
      "   slack: array([3.57873887e-07, 2.64285714e+02, 5.71428572e+02, 7.42857143e+02])\n",
      "  status: 0\n",
      " success: True\n",
      "       x: array([3.93557950e-10, 2.08057674e-10, 6.47707401e-10, 1.42857143e+02,\n",
      "       2.19057949e-10])\n"
     ]
    }
   ],
   "source": [
    "# 1) Normalize f1\n",
    "f1 = dotdict()\n",
    "\n",
    "res = linprog(-EFF, COST, LIM)\n",
    "f1.max = -res.fun\n",
    "f1.min = 0 # trivial\n",
    "\n",
    "f1.A = -EFF / (f1.max - f1.min)\n",
    "f1.b = f1.max / (f1.max - f1.min)\n",
    "\n",
    "print(res)"
   ]
  },
  {
   "cell_type": "code",
   "execution_count": 7,
   "id": "cutting-amendment",
   "metadata": {},
   "outputs": [
    {
     "name": "stdout",
     "output_type": "stream",
     "text": [
      "     con: array([], dtype=float64)\n",
      "     fun: -799.9999701230996\n",
      " message: 'Optimization terminated successfully.'\n",
      "     nit: 6\n",
      "   slack: array([7.37914404e-05, 2.80000001e+02, 2.00000030e+02, 1.06666669e+03])\n",
      "  status: 0\n",
      " success: True\n",
      "       x: array([1.06418233e-07, 2.85089885e-09, 1.33333328e+02, 1.93148149e-08,\n",
      "       1.70608798e-08])\n"
     ]
    }
   ],
   "source": [
    "# 2) Normalize f2\n",
    "f2 = dotdict()\n",
    "\n",
    "res = linprog(-COST[2,:], COST, LIM)\n",
    "f2.max = -res.fun\n",
    "f2.min = 0 # trivial\n",
    "\n",
    "f2.A = COST[1,:] / (f2.max - f2.min)\n",
    "f2.b = f2.min / (f2.max - f2.min)\n",
    "\n",
    "print(res)"
   ]
  },
  {
   "cell_type": "code",
   "execution_count": 8,
   "id": "physical-antique",
   "metadata": {},
   "outputs": [],
   "source": [
    "# 3) Linear convolution criterion\n",
    "\n",
    "f = dotdict()\n",
    "f.A = CRITW @ np.array([f1.A, f2.A])\n",
    "f.b = CRITW @ np.array([f1.b, f2.b])"
   ]
  },
  {
   "cell_type": "code",
   "execution_count": 9,
   "id": "abstract-metro",
   "metadata": {},
   "outputs": [
    {
     "name": "stdout",
     "output_type": "stream",
     "text": [
      "Метод згортки з нормуванням. Результат\n"
     ]
    },
    {
     "data": {
      "text/plain": [
       "{'x': array([2.80908755e-09, 9.16858931e-09, 1.25236547e-08, 1.42857142e+02,\n",
       "        4.37095089e-07]),\n",
       " 'profit': 57142.85705417236,\n",
       " 'kwh': 35.71428566772286}"
      ]
     },
     "execution_count": 9,
     "metadata": {},
     "output_type": "execute_result"
    }
   ],
   "source": [
    "# 4) Optimization\n",
    "\n",
    "optres = linprog(f.A, COST, LIM)\n",
    "\n",
    "res = dotdict()\n",
    "res.x = optres.x\n",
    "res.profit = EFF @ optres.x\n",
    "res.kwh = COST[1,:] @ optres.x\n",
    "\n",
    "RESULTS.conv = res\n",
    "print(\"Метод згортки з нормуванням. Результат\")\n",
    "res"
   ]
  },
  {
   "cell_type": "markdown",
   "id": "integrated-writing",
   "metadata": {},
   "source": [
    "### А тепер без нормування"
   ]
  },
  {
   "cell_type": "code",
   "execution_count": 10,
   "id": "immediate-eugene",
   "metadata": {},
   "outputs": [
    {
     "name": "stdout",
     "output_type": "stream",
     "text": [
      "Метод згортки без нормування. Результат\n"
     ]
    },
    {
     "data": {
      "text/plain": [
       "{'x': array([3.97324607e-10, 2.09578141e-10, 6.55097202e-10, 1.42857143e+02,\n",
       "        2.20689869e-10]),\n",
       " 'profit': 57142.85713235626,\n",
       " 'kwh': 35.71428570772783}"
      ]
     },
     "execution_count": 10,
     "metadata": {},
     "output_type": "execute_result"
    }
   ],
   "source": [
    "optres = linprog(-EFF + COST[1,:], COST, LIM)\n",
    "\n",
    "res = dotdict()\n",
    "res.x = optres.x\n",
    "res.profit = EFF @ optres.x\n",
    "res.kwh = COST[1,:] @ optres.x\n",
    "\n",
    "RESULTS.conv_nonorm = res\n",
    "print(\"Метод згортки без нормування. Результат\")\n",
    "res"
   ]
  },
  {
   "cell_type": "code",
   "execution_count": 11,
   "id": "immune-composition",
   "metadata": {},
   "outputs": [
    {
     "data": {
      "text/plain": [
       "(array([ 2.41176294e-09,  8.95901117e-09,  1.18685575e-08, -7.04070487e-07,\n",
       "         4.36874399e-07]),\n",
       " 8.287348398877614e-07)"
      ]
     },
     "execution_count": 11,
     "metadata": {},
     "output_type": "execute_result"
    }
   ],
   "source": [
    "# різниця з випадком нормування\n",
    "RESULTS.conv.x - res.x, np.linalg.norm(RESULTS.conv.x - res.x)"
   ]
  },
  {
   "cell_type": "markdown",
   "id": "found-uncertainty",
   "metadata": {},
   "source": [
    "> Хочу звернути увагу, що різниця незначна "
   ]
  },
  {
   "cell_type": "markdown",
   "id": "material-color",
   "metadata": {},
   "source": [
    "## 3. Метод послідовної поступки"
   ]
  },
  {
   "cell_type": "code",
   "execution_count": 12,
   "id": "diverse-india",
   "metadata": {},
   "outputs": [],
   "source": [
    "# concessions\n",
    "CONCS = np.array([7000, 3])"
   ]
  },
  {
   "cell_type": "code",
   "execution_count": 13,
   "id": "radical-virtue",
   "metadata": {},
   "outputs": [
    {
     "name": "stdout",
     "output_type": "stream",
     "text": [
      "57142.85713243238\n",
      "28.11560189753127\n"
     ]
    }
   ],
   "source": [
    "# 1) f1\n",
    "optres = linprog(-EFF, COST, LIM)\n",
    "\n",
    "f1 = dotdict()\n",
    "f1.max = -optres.fun\n",
    "\n",
    "# 2) f2\n",
    "# a new condition: f1 >= f1.max - CONCS[0]\n",
    "A = np.vstack([COST, -EFF])\n",
    "b = np.append(LIM, - f1.max + CONCS[0])\n",
    "\n",
    "optres = linprog(COST[1,:], A, b)\n",
    "\n",
    "f2 = dotdict()\n",
    "f2.min = optres.fun\n",
    "\n",
    "# 3) final optimization\n",
    "# a new condition: f2 <= f1.min + CONCS[0]\n",
    "A = np.vstack([A, COST[1,:]])\n",
    "b = np.append(b, f2.min + CONCS[1])\n",
    "\n",
    "optres = linprog(-EFF, A, b)\n",
    "\n",
    "print(f1.max)\n",
    "print(f2.min)"
   ]
  },
  {
   "cell_type": "code",
   "execution_count": 14,
   "id": "foreign-borough",
   "metadata": {},
   "outputs": [
    {
     "name": "stdout",
     "output_type": "stream",
     "text": [
      "Метод послідовної поступки. Результат\n"
     ]
    },
    {
     "data": {
      "text/plain": [
       "{'x': array([1.83713595e-10, 5.60033432e-11, 3.90191354e+01, 1.01050926e+02,\n",
       "        1.09580540e-10]),\n",
       " 'profit': 52906.49386777832,\n",
       " 'kwh': 31.115601896700724}"
      ]
     },
     "execution_count": 14,
     "metadata": {},
     "output_type": "execute_result"
    }
   ],
   "source": [
    "res = dotdict()\n",
    "res.x = optres.x\n",
    "res.profit = -optres.fun\n",
    "res.kwh = COST[1,:] @ optres.x\n",
    "\n",
    "RESULTS.concession = res\n",
    "print(\"Метод послідовної поступки. Результат\")\n",
    "res"
   ]
  },
  {
   "cell_type": "markdown",
   "id": "acting-electron",
   "metadata": {},
   "source": [
    "## 4. Метод головного критерію"
   ]
  },
  {
   "cell_type": "code",
   "execution_count": 15,
   "id": "crucial-board",
   "metadata": {},
   "outputs": [
    {
     "name": "stdout",
     "output_type": "stream",
     "text": [
      "f1 max =  57142.85713243238\n"
     ]
    },
    {
     "data": {
      "text/plain": [
       "{'x': array([5.11111166e-11, 2.39382619e-11, 6.57894737e+01, 7.23684211e+01,\n",
       "        5.05877909e-10]),\n",
       " 'profit': 50000.00000007433,\n",
       " 'kwh': 27.960526315923374}"
      ]
     },
     "execution_count": 15,
     "metadata": {},
     "output_type": "execute_result"
    }
   ],
   "source": [
    "# нехай головний критерій - f2\n",
    "# знайдемо можливі значення f1\n",
    "\n",
    "f1 = dotdict()\n",
    "\n",
    "optres = linprog(-EFF, COST, LIM)\n",
    "f1.max = -optres.fun\n",
    "print(\"f1 max = \", f1.max)\n",
    "\n",
    "# замінюємо критерій f1 на умову f1 >= 50000 (-f1 <= -50000)\n",
    "A = np.vstack([COST, -EFF])\n",
    "b = np.append(LIM, -50000)\n",
    "\n",
    "optres = linprog(COST[1,:], A, b)\n",
    "\n",
    "res = dotdict()\n",
    "res.x = optres.x\n",
    "res.profit = EFF @ res.x\n",
    "res.kwh = optres.fun\n",
    "\n",
    "RESULTS.maincrit = res\n",
    "res"
   ]
  },
  {
   "cell_type": "markdown",
   "id": "pressed-fraction",
   "metadata": {},
   "source": [
    "Бачимо, що в даному випадку обмеження в 50000 профіту є вирішальним. Витрати електроенергії можна зменшувати до 0 і саме обмеження профіту визначає нижню межу КВг"
   ]
  },
  {
   "cell_type": "code",
   "execution_count": 16,
   "id": "engaging-senegal",
   "metadata": {},
   "outputs": [
    {
     "data": {
      "text/plain": [
       "{'x': array([1.32796099e-09, 1.29541457e-09, 9.37500000e+01, 3.95380697e-10,\n",
       "        7.13546763e-10]),\n",
       " 'profit': 30000.00001064343,\n",
       " 'kwh': 14.062500005386962}"
      ]
     },
     "execution_count": 16,
     "metadata": {},
     "output_type": "execute_result"
    }
   ],
   "source": [
    "# замінюємо критерій f1 на умову f1 >= 30000 (-f1 <= -30000)\n",
    "A = np.vstack([COST, -EFF])\n",
    "b = np.append(LIM, -30000)\n",
    "\n",
    "optres = linprog(COST[1,:], A, b)\n",
    "\n",
    "res = dotdict()\n",
    "res.x = optres.x\n",
    "res.profit = EFF @ res.x\n",
    "res.kwh = optres.fun\n",
    "\n",
    "res"
   ]
  },
  {
   "cell_type": "markdown",
   "id": "greater-cycling",
   "metadata": {},
   "source": [
    "## Результати методв"
   ]
  },
  {
   "cell_type": "code",
   "execution_count": 17,
   "id": "regulation-abuse",
   "metadata": {},
   "outputs": [],
   "source": [
    "R = dotdict()\n",
    "for i,v in RESULTS.items():\n",
    "    R[i] = round(v,3)\n",
    "    \n",
    "def rprint(res):\n",
    "    print(\"X:\", res['x'])\n",
    "    print(\"profit:\",res['profit'])\n",
    "    print(\"kwh:\",res['kwh'])"
   ]
  },
  {
   "cell_type": "code",
   "execution_count": 18,
   "id": "virtual-light",
   "metadata": {},
   "outputs": [
    {
     "name": "stdout",
     "output_type": "stream",
     "text": [
      "Згортка:\n",
      "X: [  0.      0.      0.    142.857   0.   ]\n",
      "profit: 57142.857\n",
      "kwh: 35.714\n",
      "\n",
      "Згортка без нормування:\n",
      "X: [  0.      0.      0.    142.857   0.   ]\n",
      "profit: 57142.857\n",
      "kwh: 35.714\n",
      "\n",
      "Послідовні поступки:\n",
      "X: [  0.      0.     39.019 101.051   0.   ]\n",
      "profit: 52906.494\n",
      "kwh: 31.116\n",
      "\n",
      "Головний критерій:\n",
      "X: [ 0.     0.    65.789 72.368  0.   ]\n",
      "profit: 50000.0\n",
      "kwh: 27.961\n"
     ]
    }
   ],
   "source": [
    "print(\"Згортка:\")\n",
    "rprint(R.conv)\n",
    "print(\"\\nЗгортка без нормування:\")\n",
    "rprint(R.conv_nonorm)\n",
    "print(\"\\nПослідовні поступки:\")\n",
    "rprint(R.concession)\n",
    "print(\"\\nГоловний критерій:\")\n",
    "rprint(R.maincrit)"
   ]
  }
 ],
 "metadata": {
  "kernelspec": {
   "display_name": "Python 3",
   "language": "python",
   "name": "python3"
  },
  "language_info": {
   "codemirror_mode": {
    "name": "ipython",
    "version": 3
   },
   "file_extension": ".py",
   "mimetype": "text/x-python",
   "name": "python",
   "nbconvert_exporter": "python",
   "pygments_lexer": "ipython3",
   "version": "3.8.6"
  }
 },
 "nbformat": 4,
 "nbformat_minor": 5
}
