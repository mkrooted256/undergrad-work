{
 "cells": [
  {
   "cell_type": "code",
   "execution_count": 1,
   "id": "c0f5cbd0-ea1e-4154-99db-493ce56cebdd",
   "metadata": {},
   "outputs": [],
   "source": [
    "import numpy as np\n",
    "import scipy as sp\n",
    "import scipy.stats"
   ]
  },
  {
   "cell_type": "code",
   "execution_count": 3,
   "id": "5600e8b8-bc1e-4c65-ad55-8039b3f96f33",
   "metadata": {},
   "outputs": [],
   "source": [
    "n = 5\n",
    "cost = np.array([\n",
    "    [34, 26, 29, 31],\n",
    "    [42, 33, 28, 35],\n",
    "    [36, 29, 32, 38]\n",
    "])\n",
    "\n",
    "b1 = np.array([200, 250, 350, 300]) # >=\n",
    "b2= np.array([500, 400, 400]) # <="
   ]
  },
  {
   "cell_type": "code",
   "execution_count": 4,
   "id": "8fd87c7c-1294-4269-8ce4-dd05be7e269c",
   "metadata": {},
   "outputs": [
    {
     "data": {
      "text/plain": [
       "array([34, 26, 29, 31, 42, 33, 28, 35, 36, 29, 32, 38])"
      ]
     },
     "execution_count": 4,
     "metadata": {},
     "output_type": "execute_result"
    }
   ],
   "source": [
    "obj = cost.flatten()\n",
    "obj"
   ]
  },
  {
   "cell_type": "code",
   "execution_count": 9,
   "id": "de74f929-501d-4c1e-8a22-e2872e01541e",
   "metadata": {},
   "outputs": [
    {
     "data": {
      "text/plain": [
       "(array([[1., 1., 1., 1., 0., 0., 0., 0., 0., 0., 0., 0.],\n",
       "        [0., 0., 0., 0., 1., 1., 1., 1., 0., 0., 0., 0.],\n",
       "        [0., 0., 0., 0., 0., 0., 0., 0., 1., 1., 1., 1.]]),\n",
       " array([500, 400, 400]))"
      ]
     },
     "execution_count": 9,
     "metadata": {},
     "output_type": "execute_result"
    }
   ],
   "source": [
    "Ale = np.zeros((3, 12))\n",
    "Ale[0,0] = Ale[0,1] = Ale[0,2] = Ale[0,3] = 1\n",
    "Ale[1,4+0] = Ale[1,4+1] = Ale[1,4+2] = Ale[1,4+3] = 1\n",
    "Ale[2,8+0] = Ale[2,8+1] = Ale[2,8+2] = Ale[2,8+3] = 1\n",
    "\n",
    "ble = np.array([500, 400, 400])\n",
    "\n",
    "Ale, ble"
   ]
  },
  {
   "cell_type": "code",
   "execution_count": 10,
   "id": "fc757f1a-1fce-48c7-ad64-e626e027b7d4",
   "metadata": {},
   "outputs": [
    {
     "data": {
      "text/plain": [
       "(array([[1., 0., 0., 0., 1., 0., 0., 0., 1., 0., 0., 0.],\n",
       "        [0., 1., 0., 0., 0., 1., 0., 0., 0., 1., 0., 0.],\n",
       "        [0., 0., 1., 0., 0., 0., 1., 0., 0., 0., 1., 0.],\n",
       "        [0., 0., 0., 1., 0., 0., 0., 1., 0., 0., 0., 1.]]),\n",
       " array([200, 250, 350, 300]))"
      ]
     },
     "execution_count": 10,
     "metadata": {},
     "output_type": "execute_result"
    }
   ],
   "source": [
    "Aq = np.zeros((4, 12))\n",
    "Aq[0,0] = Aq[0,4] = Aq[0,8] = 1\n",
    "Aq[1,1] = Aq[1,5] = Aq[1,9] = 1\n",
    "Aq[2,2] = Aq[2,6] = Aq[2,10] = 1\n",
    "Aq[3,3] = Aq[3,7] = Aq[3,11] = 1\n",
    "\n",
    "bq = np.array([200, 250, 350, 300])\n",
    "\n",
    "Aq, bq"
   ]
  },
  {
   "cell_type": "code",
   "execution_count": 11,
   "id": "e74b186b-1cc4-4eec-8119-33624bff2e90",
   "metadata": {},
   "outputs": [
    {
     "data": {
      "text/plain": [
       "     con: array([2.80079936e-06, 3.51163146e-06, 4.93335375e-06, 4.22253396e-06])\n",
       "     fun: 32949.99954394596\n",
       " message: 'Optimization terminated successfully.'\n",
       "     nit: 6\n",
       "   slack: array([7.40444045e-06, 5.00000030e+01, 1.50000005e+02])\n",
       "  status: 0\n",
       " success: True\n",
       "       x: array([8.15125298e-07, 1.99999998e+02, 4.73276846e-08, 2.99999994e+02,\n",
       "       2.39091658e-07, 2.09428092e-07, 3.49999995e+02, 1.63991594e-06,\n",
       "       1.99999996e+02, 4.99999985e+01, 1.05474611e-07, 1.90067388e-07])"
      ]
     },
     "execution_count": 11,
     "metadata": {},
     "output_type": "execute_result"
    }
   ],
   "source": [
    "ans = sp.optimize.linprog(obj, Ale, ble, Aq, bq)\n",
    "ans"
   ]
  },
  {
   "cell_type": "code",
   "execution_count": 14,
   "id": "14fe3e90-2ff2-42fe-a14c-7569306c6246",
   "metadata": {},
   "outputs": [
    {
     "data": {
      "text/plain": [
       "array([[  0., 200.,   0., 300.],\n",
       "       [  0.,   0., 350.,   0.],\n",
       "       [200.,  50.,   0.,   0.]])"
      ]
     },
     "execution_count": 14,
     "metadata": {},
     "output_type": "execute_result"
    }
   ],
   "source": [
    "X = np.round(ans.x, 4).reshape((3,4))\n",
    "X"
   ]
  },
  {
   "cell_type": "code",
   "execution_count": 15,
   "id": "9bef29a6-4482-4e88-bcef-8e47420eca53",
   "metadata": {},
   "outputs": [
    {
     "data": {
      "text/plain": [
       "array([500., 350., 250.])"
      ]
     },
     "execution_count": 15,
     "metadata": {},
     "output_type": "execute_result"
    }
   ],
   "source": [
    "X.sum(axis=1)"
   ]
  },
  {
   "cell_type": "code",
   "execution_count": null,
   "id": "afa30a6c-d905-4a20-82e4-d7ee20635a68",
   "metadata": {},
   "outputs": [],
   "source": []
  }
 ],
 "metadata": {
  "kernelspec": {
   "display_name": "Python 3 (ipykernel)",
   "language": "python",
   "name": "python3"
  },
  "language_info": {
   "codemirror_mode": {
    "name": "ipython",
    "version": 3
   },
   "file_extension": ".py",
   "mimetype": "text/x-python",
   "name": "python",
   "nbconvert_exporter": "python",
   "pygments_lexer": "ipython3",
   "version": "3.10.4"
  }
 },
 "nbformat": 4,
 "nbformat_minor": 5
}
