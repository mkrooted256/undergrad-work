{
 "cells": [
  {
   "cell_type": "code",
   "execution_count": 15,
   "id": "c0f5cbd0-ea1e-4154-99db-493ce56cebdd",
   "metadata": {},
   "outputs": [],
   "source": [
    "import numpy as np\n",
    "import scipy as sp\n",
    "import scipy.stats"
   ]
  },
  {
   "cell_type": "code",
   "execution_count": 56,
   "id": "5600e8b8-bc1e-4c65-ad55-8039b3f96f33",
   "metadata": {},
   "outputs": [],
   "source": [
    "n = 5\n",
    "interest = np.array([\n",
    "    0.140, 0.130, 0.120, 0.125, 0.1\n",
    "])\n",
    "\n",
    "bad = np.array([\n",
    "    0.1, 0.07, 0.03, 0.05, 0.02\n",
    "])\n",
    "total = 10"
   ]
  },
  {
   "cell_type": "code",
   "execution_count": 66,
   "id": "8fd87c7c-1294-4269-8ce4-dd05be7e269c",
   "metadata": {},
   "outputs": [],
   "source": [
    "A_le = np.array([\n",
    "    [0.,0, 0, -1, -1], # >= 0.3 * total\n",
    "    [0.4, 0.4, -0.6, 0, 0], # <= 0\n",
    "    [0.1, 0.07, 0.03, 0.05, 0.02], # <= 0.04\n",
    "    [1, 1, 1, 1, 1] # <= 10\n",
    "])\n",
    "A_le[0] += 0.3\n",
    "A_le[2] -= 0.04\n",
    "\n",
    "b_le = np.array([ 0, 0, 0, 10 ])"
   ]
  },
  {
   "cell_type": "code",
   "execution_count": 67,
   "id": "88eac7b7-4972-4b1a-8b9e-c903cd1c3481",
   "metadata": {},
   "outputs": [],
   "source": [
    "net = interest * (1-bad) - bad"
   ]
  },
  {
   "cell_type": "code",
   "execution_count": 68,
   "id": "de74f929-501d-4c1e-8a22-e2872e01541e",
   "metadata": {},
   "outputs": [
    {
     "data": {
      "text/plain": [
       "(array([[ 0.3 ,  0.3 ,  0.3 , -0.7 , -0.7 ],\n",
       "        [ 0.4 ,  0.4 , -0.6 ,  0.  ,  0.  ],\n",
       "        [ 0.06,  0.03, -0.01,  0.01, -0.02],\n",
       "        [ 1.  ,  1.  ,  1.  ,  1.  ,  1.  ]]),\n",
       " array([ 0,  0,  0, 10]))"
      ]
     },
     "execution_count": 68,
     "metadata": {},
     "output_type": "execute_result"
    }
   ],
   "source": [
    "A_le, b_le"
   ]
  },
  {
   "cell_type": "code",
   "execution_count": 61,
   "id": "e74b186b-1cc4-4eec-8119-33624bff2e90",
   "metadata": {},
   "outputs": [
    {
     "data": {
      "text/plain": [
       "     con: array([], dtype=float64)\n",
       "     fun: -0.8387999788630413\n",
       " message: 'Optimization terminated successfully.'\n",
       "     nit: 6\n",
       "   slack: array([2.66225444e-07, 4.19999955e+00, 1.29999988e-01, 8.58602576e-08])\n",
       "  status: 0\n",
       " success: True\n",
       "       x: array([1.05494514e-07, 1.48383943e-07, 6.99999942e+00, 6.40085543e-09,\n",
       "       3.00000023e+00])"
      ]
     },
     "execution_count": 61,
     "metadata": {},
     "output_type": "execute_result"
    }
   ],
   "source": [
    "ans = sp.optimize.linprog(-net, A_le, b_le)\n",
    "ans"
   ]
  },
  {
   "cell_type": "code",
   "execution_count": 62,
   "id": "14fe3e90-2ff2-42fe-a14c-7569306c6246",
   "metadata": {},
   "outputs": [
    {
     "data": {
      "text/plain": [
       "array([0., 0., 7., 0., 3.])"
      ]
     },
     "execution_count": 62,
     "metadata": {},
     "output_type": "execute_result"
    }
   ],
   "source": [
    "np.round(ans.x, 4)"
   ]
  },
  {
   "cell_type": "code",
   "execution_count": 23,
   "id": "9bef29a6-4482-4e88-bcef-8e47420eca53",
   "metadata": {},
   "outputs": [
    {
     "data": {
      "text/plain": [
       "array([0.026  , 0.0509 , 0.0864 , 0.06875, 0.078  ])"
      ]
     },
     "execution_count": 23,
     "metadata": {},
     "output_type": "execute_result"
    }
   ],
   "source": [
    "net"
   ]
  },
  {
   "cell_type": "code",
   "execution_count": 64,
   "id": "3f75c18e-e835-435d-b8eb-69a235e1d47e",
   "metadata": {},
   "outputs": [
    {
     "data": {
      "text/plain": [
       "0.05089999999999999"
      ]
     },
     "execution_count": 64,
     "metadata": {},
     "output_type": "execute_result"
    }
   ],
   "source": [
    "np.array([0,1,0,0,0]) @ net"
   ]
  },
  {
   "cell_type": "code",
   "execution_count": null,
   "id": "afa30a6c-d905-4a20-82e4-d7ee20635a68",
   "metadata": {},
   "outputs": [],
   "source": []
  }
 ],
 "metadata": {
  "kernelspec": {
   "display_name": "Python 3 (ipykernel)",
   "language": "python",
   "name": "python3"
  },
  "language_info": {
   "codemirror_mode": {
    "name": "ipython",
    "version": 3
   },
   "file_extension": ".py",
   "mimetype": "text/x-python",
   "name": "python",
   "nbconvert_exporter": "python",
   "pygments_lexer": "ipython3",
   "version": "3.10.4"
  }
 },
 "nbformat": 4,
 "nbformat_minor": 5
}
