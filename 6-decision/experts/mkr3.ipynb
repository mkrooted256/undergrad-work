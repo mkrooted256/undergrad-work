{
 "cells": [
  {
   "cell_type": "code",
   "execution_count": 1,
   "id": "b1218e07-0c95-4933-b144-02d270c99580",
   "metadata": {},
   "outputs": [],
   "source": [
    "import numpy as np"
   ]
  },
  {
   "cell_type": "code",
   "execution_count": null,
   "id": "d30972c7-b33d-4d4e-8eec-84bc9d6b2d5d",
   "metadata": {},
   "outputs": [],
   "source": []
  },
  {
   "cell_type": "code",
   "execution_count": 21,
   "id": "8b94b2aa-1993-4b2e-bdb4-e43e5e4f6cb6",
   "metadata": {},
   "outputs": [],
   "source": [
    "# fzzy_ge - uncertain weak advantage relation\n",
    "def decide(fuzzy_ge):\n",
    "    # let's find xs that are not dominated.\n",
    "    # of course, set of this xs will be fuzzy.\n",
    "    # mu(x) = 1 - sup_y( ge(y,x) - ge(x,y) )\n",
    "    fuzzy_gr = fuzzy_ge - fuzzy_ge.T\n",
    "    fuzzy_max = fuzzy_gr.max(axis=0)\n",
    "    return 1 - fuzzy_max"
   ]
  },
  {
   "cell_type": "code",
   "execution_count": 22,
   "id": "768a087f-0088-41a0-98b9-116378e4839c",
   "metadata": {},
   "outputs": [],
   "source": [
    "E = np.array([\n",
    "    [1, 0.4, 0.6, 0],\n",
    "    [1, 1, 0.8, 1],\n",
    "    [0.2, 1, 1, 1],\n",
    "    [0.8, 0, 0, 1]\n",
    "])\n",
    "\n",
    "A1 = np.array([\n",
    "    [1, 0.8, 1, 0],\n",
    "    [0, 1, 0.2, 1],\n",
    "    [0, 0.8, 1, 0],\n",
    "    [0, 0, 0, 1]\n",
    "])\n",
    "A2 = np.array([\n",
    "    [1, 0.4, 0.5, 0.3],\n",
    "    [0.8, 1, 0.8, 0.8],\n",
    "    [0.5, 1, 1,0 ],\n",
    "    [0.8, 0, 0, 1],\n",
    "])\n",
    "A3 = np.array([\n",
    "    [1, 0, 0.8, 0],\n",
    "    [0, 1, 0, 0],\n",
    "    [0.1, 0, 1, 0.4],\n",
    "    [1, 0, 1, 1]\n",
    "])\n",
    "A4 = np.array([\n",
    "    [1, 1, 0.9, 0],\n",
    "    [0, 1, 1, 1],\n",
    "    [0.4, 0, 1, 0],\n",
    "    [0, 0, 0, 1]\n",
    "])\n",
    "\n",
    "A = (A1, A2, A3, A4)"
   ]
  },
  {
   "cell_type": "code",
   "execution_count": 26,
   "id": "4f484f1f-7b10-4ff1-b18f-9ae8a9d2b2d0",
   "metadata": {},
   "outputs": [
    {
     "data": {
      "text/plain": [
       "array([[1. , 0.2, 0. , 0. ],\n",
       "       [0.5, 0.8, 1. , 0.2],\n",
       "       [0. , 1. , 0.3, 1. ],\n",
       "       [1. , 0. , 0. , 0. ]])"
      ]
     },
     "execution_count": 26,
     "metadata": {},
     "output_type": "execute_result"
    }
   ],
   "source": [
    "decisions = np.array([decide(a) for a in A])\n",
    "decisions\n",
    "# a_ij = i-th expert's decision about j-th alternative"
   ]
  },
  {
   "cell_type": "code",
   "execution_count": 32,
   "id": "727753aa-fe1a-46c8-bbd5-cd5a4dc0f6ba",
   "metadata": {},
   "outputs": [
    {
     "data": {
      "text/plain": [
       "array([0.125, 0.5  , 0.375, 0.   ])"
      ]
     },
     "execution_count": 32,
     "metadata": {},
     "output_type": "execute_result"
    }
   ],
   "source": [
    "expert_trust = decide(E)\n",
    "expert_trust /= expert_trust.sum()\n",
    "expert_trust\n",
    "# more - more trustworthy expert is"
   ]
  },
  {
   "cell_type": "code",
   "execution_count": 34,
   "id": "a4a3ad65-8a60-49f7-9652-78fe8fa9e8f8",
   "metadata": {},
   "outputs": [
    {
     "data": {
      "text/plain": [
       "array([0.375 , 0.8   , 0.6125, 0.475 ])"
      ]
     },
     "execution_count": 34,
     "metadata": {},
     "output_type": "execute_result"
    }
   ],
   "source": [
    "final_decision = expert_trust @ decisions\n",
    "final_decision"
   ]
  },
  {
   "cell_type": "code",
   "execution_count": null,
   "id": "2f2ad335-896c-47d5-9988-a4f4f7cfc754",
   "metadata": {},
   "outputs": [],
   "source": []
  },
  {
   "cell_type": "code",
   "execution_count": null,
   "id": "121447de-e24a-43cd-994d-b11f746b7dec",
   "metadata": {},
   "outputs": [],
   "source": []
  }
 ],
 "metadata": {
  "kernelspec": {
   "display_name": "Python 3 (ipykernel)",
   "language": "python",
   "name": "python3"
  },
  "language_info": {
   "codemirror_mode": {
    "name": "ipython",
    "version": 3
   },
   "file_extension": ".py",
   "mimetype": "text/x-python",
   "name": "python",
   "nbconvert_exporter": "python",
   "pygments_lexer": "ipython3",
   "version": "3.10.4"
  }
 },
 "nbformat": 4,
 "nbformat_minor": 5
}
