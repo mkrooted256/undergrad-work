{
 "cells": [
  {
   "cell_type": "markdown",
   "metadata": {},
   "source": [
    "# **8-applied-statistics. Lab 1.1**\n",
    "\n",
    "Михайло Корешков  \n",
    "Валентина Сириця  \n",
    "ФІ-91  \n"
   ]
  },
  {
   "cell_type": "code",
   "execution_count": 1,
   "metadata": {},
   "outputs": [],
   "source": [
    "import numpy as np\n",
    "import scipy as sp\n",
    "import scipy.stats\n",
    "import math\n",
    "\n",
    "import sympy\n",
    "\n",
    "import matplotlib.pyplot as plt\n",
    "import time"
   ]
  },
  {
   "attachments": {},
   "cell_type": "markdown",
   "metadata": {},
   "source": [
    "## Завдання 2.\n",
    "Обчислити  \n",
    "$\\displaystyle Q_m = P(\\eta > \\xi_1 + ... + \\xi_m)$\n",
    "\n",
    "$\\xi_i - i.i.d.$, $\\eta, \\xi_i$ - незалежні\n",
    "\n",
    "$P(\\eta < x) = G(x) = \\mathbb{1}(x \\ge 0) \\left(1 - \\frac{1}{1+x}\\right)$  \n",
    "$P(\\xi_i < x) = F(x) = \\mathbb{1}(x \\ge 0) \\left( 1-e^{-x} \\right)$\n",
    "\n",
    "Тобто $\\xi_i \\sim Exp(1)$.\n",
    "\n",
    "Let $\\zeta = \\xi_1 + ... + \\xi_m$.  \n",
    "$A_m(x) = P(\\zeta < x) = \\sum_{k=m}^\\infty \\frac{x^k}{k!}e^{-x} \\quad (x \\ge 0)$\n",
    "\n",
    "$\\zeta \\sim Erlang(m, 1)$\n",
    "\n",
    "$a_m(x) = \\frac{x^{m-1}}{(m-1)!}e^{-x}$\n",
    "\n",
    "---\n",
    "\n",
    "В результаті маємо \n",
    "\n",
    "$Q_m = P(\\eta > \\zeta) = \\int_{y=0}^\\infty \\int_{x=y}^\\infty \\rho_\\eta(x) f_\\zeta(y) dx dy = \\int_{x=0}^\\infty (1-G(x)) \\cdot \\frac{x^{m-1}}{(m-1)!}e^{-x} dx$\n",
    "\n",
    "$Q_m = \\int_{x=0}^\\infty \\frac{1}{1+x} \\cdot \\frac{x^{m-1}}{(m-1)!}e^{-x} dx$"
   ]
  },
  {
   "attachments": {},
   "cell_type": "markdown",
   "metadata": {},
   "source": [
    "### 0. Теоретичне значення інтеграла"
   ]
  },
  {
   "cell_type": "code",
   "execution_count": 2,
   "metadata": {},
   "outputs": [
    {
     "name": "stdout",
     "output_type": "stream",
     "text": [
      "The result of the integral (m=1) is: E*expint(1, 1) = 0.596347362323194\n",
      "The result of the integral (m=10) is: E*expint(10, 1) = 0.0989291326406462\n",
      "The result of the integral (m=100) is: E*expint(100, 1) = 0.00999899020908473\n",
      "The result of the integral (m=1000) is: E*expint(1000, 1) = 0.000999998999002009\n",
      "The result of the integral (m=10000) is: E*expint(10000, 1) = 0.0000999999989999000\n"
     ]
    }
   ],
   "source": [
    "def calculate_theor(m):\n",
    "    result = sympy.integrate((1/(1+u))*(u**(m-1)/(sympy.factorial(m-1)))*sympy.exp(-u), (u, 0, sympy.oo))\n",
    "    val = result.evalf()\n",
    "    print(f\"The result of the integral (m={m}) is: {result} = {val}\")\n",
    "    return val\n",
    "\n",
    "true_q = dict()\n",
    "m = 1\n",
    "u = sympy.Symbol('u')\n",
    "for i in range(5):\n",
    "    true_q[m] = calculate_theor(m)\n",
    "    m *= 10"
   ]
  },
  {
   "attachments": {},
   "cell_type": "markdown",
   "metadata": {},
   "source": [
    "Перевірка генерації випадкових значень"
   ]
  },
  {
   "cell_type": "code",
   "execution_count": 3,
   "metadata": {},
   "outputs": [
    {
     "data": {
      "image/png": "[encoded data removed]",
      "text/plain": [
       "<Figure size 1008x432 with 2 Axes>"
      ]
     },
     "metadata": {
      "needs_background": "light"
     },
     "output_type": "display_data"
    }
   ],
   "source": [
    "# m - кількість \\xi в кожному наборі, N - кількість наборів (\\eta, \\vec \\xi)\n",
    "# returns eta(N), xi(m,N)\n",
    "def generate(m, N):\n",
    "    eta = 1/np.random.rand(N) - 1\n",
    "    xi = -np.log(np.random.rand(m, N))\n",
    "    return eta, xi\n",
    "\n",
    "test_eta, test_xi = generate(1,10000)\n",
    "\n",
    "fig, axs = plt.subplots(1,2)\n",
    "bins_eta = 1/(1-np.linspace(0,0.999,1000)) - 1\n",
    "axs[0].hist(test_eta, bins=bins_eta, label='test eta cdf', color='r', alpha=0.5, density=True, cumulative=True)\n",
    "axs[0].plot(bins_eta, 1-1/(1+bins_eta), label='real eta cdf')\n",
    "axs[0].set_xlim((0, 200))\n",
    "axs[0].legend()\n",
    "axs[0].set_title(\"test eta distribution cdf\")\n",
    "\n",
    "bins_xi = -np.log(1-np.linspace(0,0.999,100))\n",
    "axs[1].hist(test_xi.T, bins=bins_xi, label='test xi pdf', color='r', alpha=0.5, density=True)\n",
    "axs[1].plot(bins_xi, np.exp(-bins_xi), label='real xi pdf')\n",
    "axs[1].set_title(\"test xi distribution pdf\")\n",
    "axs[1].legend()\n",
    "# fig.legend()\n",
    "fig.set_size_inches((14,6))"
   ]
  },
  {
   "attachments": {},
   "cell_type": "markdown",
   "metadata": {},
   "source": [
    "### Кількість реалізацій"
   ]
  },
  {
   "cell_type": "code",
   "execution_count": 4,
   "metadata": {},
   "outputs": [],
   "source": [
    "def enough_samples(q_rvs, z=2.575, eps=0.01):\n",
    "    n = q_rvs.shape[0]\n",
    "    crit = ((z*z) / (eps*eps)) * (q_rvs.var(ddof=0) / np.square(q_rvs.mean()))\n",
    "    return ( n > crit ), n, crit\n",
    "\n",
    "def enough_samples_iter(n, q_rvs_mean, q_var, z=2.575, eps=0.01):\n",
    "    crit = ((z*z) / (eps*eps)) * (q_var / (q_rvs_mean*q_rvs_mean))\n",
    "    return ( n > crit ), n, crit"
   ]
  },
  {
   "attachments": {},
   "cell_type": "markdown",
   "metadata": {},
   "source": [
    "### Довірчий інтервал"
   ]
  },
  {
   "cell_type": "code",
   "execution_count": 5,
   "metadata": {},
   "outputs": [],
   "source": [
    "def normal_confidence_interval(n, mean, var, gamma):\n",
    "    z = sp.stats.norm.ppf(1-(gamma/2))\n",
    "    semiinterval = np.sqrt(var) * z / np.sqrt(n)\n",
    "    a = mean - semiinterval\n",
    "    b = mean + semiinterval\n",
    "    return (a,b)"
   ]
  },
  {
   "attachments": {},
   "cell_type": "markdown",
   "metadata": {},
   "source": [
    "### Метод 1\n",
    "Звичайний Монте-Карло.\n",
    "\n",
    "Генеруємо багато вибірок виду $(\\eta^i, \\xi_1^i, ..., \\xi_m^i)$.  \n",
    "$Q_m = M \\mathbf 1 (\\eta > \\xi_1 + ... + \\xi_m) \\approx mean(\\mathbf 1 (\\eta^i > \\xi^i_1 + ... + \\xi^i_m)) $"
   ]
  },
  {
   "cell_type": "code",
   "execution_count": 6,
   "metadata": {},
   "outputs": [],
   "source": [
    "def mc1(m, N, n0=100):\n",
    "    print(f'monte-carlo-1 (m={m}, N={N}, n0={n0})')\n",
    "    if N < n0:\n",
    "        print(\"Error. N < n0.\")\n",
    "        return\n",
    "\n",
    "    # random outcomes\n",
    "    eta, xis = generate(m, N)\n",
    "\n",
    "    # which of outcomes are positive\n",
    "    q_rvs = eta > xis.sum(axis=0)\n",
    "\n",
    "    # estimate of Q\n",
    "    Q_est = q_rvs.mean()\n",
    "    Q_var = q_rvs.var(ddof=1)\n",
    "\n",
    "    conf = normal_confidence_interval(N, Q_est, Q_var, 0.05)\n",
    "    print(f'> Q estimate = {Q_est:.5f};  Variance of q = {Q_var:.5f}')\n",
    "    print(f'> Confidence interval ({conf[0]:.5f} ; {conf[1]:.5f})')\n",
    "    if m in true_q:\n",
    "        print(f'> True value of Q = {true_q[m]:.5f}; ', end='')\n",
    "        if conf[0] < true_q[m] < conf[1]:\n",
    "            print('OK - In confidence interval')\n",
    "        else:\n",
    "            print('NOT In confidence interval')\n",
    "\n",
    "    prec = enough_samples_iter(N, Q_est, Q_var)\n",
    "    if prec[0]:\n",
    "        print(f\"> Enough number of samples (n={prec[1]:.3f} > n*={prec[2]:.3f})\")\n",
    "    else:\n",
    "        print(f\"> NOT Enough number of samples  (n={prec[1]:.3f} < n*={prec[2]:.3f})\")\n",
    "    \n",
    "    error = (Q_est - true_q[m])\n",
    "    print(f'> error = {error:.5f} ({error/true_q[m]:.3f}%)')"
   ]
  },
  {
   "cell_type": "code",
   "execution_count": 7,
   "metadata": {},
   "outputs": [],
   "source": [
    "def mc1_iter(m, N, n0, batch_size=10_000):\n",
    "    print(f'monte-carlo-1 [batched] (m={m}, N={N}, n0={n0})')\n",
    "    if N < n0:\n",
    "        print(\"Error. N < n0.\")\n",
    "        return\n",
    "\n",
    "    n_epochs = int(N / batch_size)\n",
    "    N0 = n_epochs * batch_size\n",
    "    N_left = N\n",
    "\n",
    "    q_all = np.array([], np.float64)\n",
    "\n",
    "    epoch_counter = 1\n",
    "    t0 = time.time()\n",
    "    t1 = None\n",
    "    while N_left > 0:\n",
    "        t0_b = time.time()\n",
    "        N_local = min(batch_size, N_left)\n",
    "\n",
    "        eta, xis = generate(m, N_local)\n",
    "        q_all = np.append(q_all, eta > xis.sum(axis=0)) # \\hat q_i defined here\n",
    "        t1 = time.time()\n",
    "        \n",
    "        N_left -= N_local\n",
    "        print(f'batch {epoch_counter}/{n_epochs} : {N_left} left (took {(t1-t0_b)})')\n",
    "        epoch_counter += 1\n",
    "        \n",
    "    print(f\"total phase 1 time = {t1-t0}\")\n",
    "    print(f\"starting phase 2\")\n",
    "\n",
    "    t0 = time.time()\n",
    "\n",
    "    # estimate of Q\n",
    "    Q_est = q_all.mean()\n",
    "    Q_var = q_all.var(ddof=1)\n",
    "\n",
    "    conf = normal_confidence_interval(N, Q_est, Q_var, 0.05)\n",
    "    print(f'> Q estimate = {Q_est:.5f};  Variance of q = {Q_var:.5f}')\n",
    "    print(f'> Confidence interval ({conf[0]:.5f} ; {conf[1]:.5f})')\n",
    "    if m in true_q:\n",
    "        print(f'> True value of Q = {true_q[m]:.5f}; ', end='')\n",
    "        if conf[0] < true_q[m] < conf[1]:\n",
    "            print('OK - In confidence interval')\n",
    "        else:\n",
    "            print('NOT In confidence interval')\n",
    "\n",
    "    prec = enough_samples_iter(N, Q_est, Q_var)\n",
    "    if prec[0]:\n",
    "        print(f\"> Enough number of samples (n={prec[1]:.3f} > n*={prec[2]:.3f})\")\n",
    "    else:\n",
    "        print(f\"> NOT Enough number of samples  (n={prec[1]:.3f} < n*={prec[2]:.3f})\")\n",
    "    \n",
    "    error = (Q_est - true_q[m])\n",
    "    print(f'> error = {error:.5f} ({error/true_q[m]:.3f}%)')\n"
   ]
  },
  {
   "cell_type": "code",
   "execution_count": 8,
   "metadata": {},
   "outputs": [
    {
     "name": "stdout",
     "output_type": "stream",
     "text": [
      "monte-carlo-1 (m=1, N=50000, n0=0)\n",
      "> Q estimate = 0.59788;  Variance of q = 0.24042\n",
      "> Confidence interval (0.59358 ; 0.60218)\n",
      "> True value of Q = 0.59635; OK - In confidence interval\n",
      "> Enough number of samples (n=50000.000 > n*=44596.913)\n",
      "> error = 0.00153 (0.003%)\n"
     ]
    }
   ],
   "source": [
    "mc1(1, 50_000, n0=0)"
   ]
  },
  {
   "cell_type": "code",
   "execution_count": 9,
   "metadata": {},
   "outputs": [
    {
     "name": "stdout",
     "output_type": "stream",
     "text": [
      "monte-carlo-1 (m=10, N=700000, n0=100)\n",
      "> Q estimate = 0.09909;  Variance of q = 0.08927\n",
      "> Confidence interval (0.09839 ; 0.09979)\n",
      "> True value of Q = 0.09893; OK - In confidence interval\n",
      "> Enough number of samples (n=700000.000 > n*=602865.687)\n",
      "> error = 0.00016 (0.002%)\n"
     ]
    }
   ],
   "source": [
    "mc1(10, 700_000)"
   ]
  },
  {
   "cell_type": "code",
   "execution_count": 10,
   "metadata": {},
   "outputs": [
    {
     "name": "stdout",
     "output_type": "stream",
     "text": [
      "monte-carlo-1 [batched] (m=100, N=6000000, n0=1000)\n",
      "batch 1/6 : 5000000 left (took 1.9973549842834473)\n",
      "batch 2/6 : 4000000 left (took 2.0577406883239746)\n",
      "batch 3/6 : 3000000 left (took 1.8260447978973389)\n",
      "batch 4/6 : 2000000 left (took 1.8897273540496826)\n",
      "batch 5/6 : 1000000 left (took 1.9241936206817627)\n",
      "batch 6/6 : 0 left (took 1.8680498600006104)\n",
      "total phase 1 time = 11.563111305236816\n",
      "starting phase 2\n",
      "> Q estimate = 0.01002;  Variance of q = 0.00992\n",
      "> Confidence interval (0.00994 ; 0.01010)\n",
      "> True value of Q = 0.01000; OK - In confidence interval\n",
      "> NOT Enough number of samples  (n=6000000.000 < n*=6551305.208)\n",
      "> error = 0.00002 (0.002%)\n"
     ]
    }
   ],
   "source": [
    "mc1_iter(100, 6_000_000, n0=1000, batch_size=1_000_000)"
   ]
  },
  {
   "cell_type": "code",
   "execution_count": 11,
   "metadata": {},
   "outputs": [
    {
     "name": "stdout",
     "output_type": "stream",
     "text": [
      "monte-carlo-1 [batched] (m=100, N=7000000, n0=1000)\n",
      "batch 1/7 : 6000000 left (took 1.8173809051513672)\n",
      "batch 2/7 : 5000000 left (took 1.792524814605713)\n",
      "batch 3/7 : 4000000 left (took 1.8504531383514404)\n",
      "batch 4/7 : 3000000 left (took 1.8665757179260254)\n",
      "batch 5/7 : 2000000 left (took 1.8238964080810547)\n",
      "batch 6/7 : 1000000 left (took 1.8837153911590576)\n",
      "batch 7/7 : 0 left (took 1.8795034885406494)\n",
      "total phase 1 time = 12.915058135986328\n",
      "starting phase 2\n",
      "> Q estimate = 0.01001;  Variance of q = 0.00991\n",
      "> Confidence interval (0.00994 ; 0.01009)\n",
      "> True value of Q = 0.01000; OK - In confidence interval\n",
      "> Enough number of samples (n=7000000.000 > n*=6555333.177)\n",
      "> error = 0.00001 (0.001%)\n"
     ]
    }
   ],
   "source": [
    "mc1_iter(100, 7_000_000, n0=1000, batch_size=1_000_000)"
   ]
  },
  {
   "cell_type": "code",
   "execution_count": 12,
   "metadata": {},
   "outputs": [
    {
     "name": "stdout",
     "output_type": "stream",
     "text": [
      "monte-carlo-1 [batched] (m=1000, N=10000000, n0=0)\n",
      "batch 1/100 : 9900000 left (took 1.6591386795043945)\n",
      "batch 2/100 : 9800000 left (took 1.6829383373260498)\n",
      "batch 3/100 : 9700000 left (took 1.7560462951660156)\n",
      "batch 4/100 : 9600000 left (took 1.7463362216949463)\n",
      "batch 5/100 : 9500000 left (took 1.7614293098449707)\n",
      "batch 6/100 : 9400000 left (took 1.7400431632995605)\n",
      "batch 7/100 : 9300000 left (took 1.7161405086517334)\n",
      "batch 8/100 : 9200000 left (took 1.751671314239502)\n",
      "batch 9/100 : 9100000 left (took 1.7381083965301514)\n",
      "batch 10/100 : 9000000 left (took 1.7098050117492676)\n",
      "batch 11/100 : 8900000 left (took 1.7114267349243164)\n",
      "batch 12/100 : 8800000 left (took 1.7522144317626953)\n",
      "batch 13/100 : 8700000 left (took 1.7115509510040283)\n",
      "batch 14/100 : 8600000 left (took 1.7128126621246338)\n",
      "batch 15/100 : 8500000 left (took 1.7579867839813232)\n",
      "batch 16/100 : 8400000 left (took 1.7937829494476318)\n",
      "batch 17/100 : 8300000 left (took 1.713088035583496)\n",
      "batch 18/100 : 8200000 left (took 1.756944179534912)\n",
      "batch 19/100 : 8100000 left (took 1.7498908042907715)\n",
      "batch 20/100 : 8000000 left (took 1.7920429706573486)\n",
      "batch 21/100 : 7900000 left (took 1.725996494293213)\n",
      "batch 22/100 : 7800000 left (took 1.7028777599334717)\n",
      "batch 23/100 : 7700000 left (took 1.743957281112671)\n",
      "batch 24/100 : 7600000 left (took 1.7663805484771729)\n",
      "batch 25/100 : 7500000 left (took 1.7248618602752686)\n",
      "batch 26/100 : 7400000 left (took 1.7562742233276367)\n",
      "batch 27/100 : 7300000 left (took 1.777604579925537)\n",
      "batch 28/100 : 7200000 left (took 1.7912492752075195)\n",
      "batch 29/100 : 7100000 left (took 1.7253601551055908)\n",
      "batch 30/100 : 7000000 left (took 1.7210121154785156)\n",
      "batch 31/100 : 6900000 left (took 1.8046095371246338)\n",
      "batch 32/100 : 6800000 left (took 1.7854528427124023)\n",
      "batch 33/100 : 6700000 left (took 1.7001755237579346)\n",
      "batch 34/100 : 6600000 left (took 1.7497644424438477)\n",
      "batch 35/100 : 6500000 left (took 1.7340800762176514)\n",
      "batch 36/100 : 6400000 left (took 1.8073787689208984)\n",
      "batch 37/100 : 6300000 left (took 1.7225592136383057)\n",
      "batch 38/100 : 6200000 left (took 1.7582008838653564)\n",
      "batch 39/100 : 6100000 left (took 1.7861580848693848)\n",
      "batch 40/100 : 6000000 left (took 1.7546472549438477)\n",
      "batch 41/100 : 5900000 left (took 1.7447600364685059)\n",
      "batch 42/100 : 5800000 left (took 1.727501392364502)\n",
      "batch 43/100 : 5700000 left (took 1.792959451675415)\n",
      "batch 44/100 : 5600000 left (took 1.74532151222229)\n",
      "batch 45/100 : 5500000 left (took 1.7290101051330566)\n",
      "batch 46/100 : 5400000 left (took 1.7006542682647705)\n",
      "batch 47/100 : 5300000 left (took 1.7540888786315918)\n",
      "batch 48/100 : 5200000 left (took 1.7911417484283447)\n",
      "batch 49/100 : 5100000 left (took 1.7070558071136475)\n",
      "batch 50/100 : 5000000 left (took 1.744417667388916)\n",
      "batch 51/100 : 4900000 left (took 1.7488973140716553)\n",
      "batch 52/100 : 4800000 left (took 1.8434090614318848)\n",
      "batch 53/100 : 4700000 left (took 1.7389583587646484)\n",
      "batch 54/100 : 4600000 left (took 1.7275762557983398)\n",
      "batch 55/100 : 4500000 left (took 1.800504446029663)\n",
      "batch 56/100 : 4400000 left (took 1.785628318786621)\n",
      "batch 57/100 : 4300000 left (took 1.8247673511505127)\n",
      "batch 58/100 : 4200000 left (took 1.7005109786987305)\n",
      "batch 59/100 : 4100000 left (took 1.769228219985962)\n",
      "batch 60/100 : 4000000 left (took 1.761312484741211)\n",
      "batch 61/100 : 3900000 left (took 1.905688762664795)\n",
      "batch 62/100 : 3800000 left (took 1.7779111862182617)\n",
      "batch 63/100 : 3700000 left (took 1.7284698486328125)\n",
      "batch 64/100 : 3600000 left (took 1.749159336090088)\n",
      "batch 65/100 : 3500000 left (took 1.7621092796325684)\n",
      "batch 66/100 : 3400000 left (took 1.7568941116333008)\n",
      "batch 67/100 : 3300000 left (took 1.718993902206421)\n",
      "batch 68/100 : 3200000 left (took 1.7226464748382568)\n",
      "batch 69/100 : 3100000 left (took 1.7586944103240967)\n",
      "batch 70/100 : 3000000 left (took 1.805325984954834)\n",
      "batch 71/100 : 2900000 left (took 1.7249233722686768)\n",
      "batch 72/100 : 2800000 left (took 1.7226905822753906)\n",
      "batch 73/100 : 2700000 left (took 1.7640430927276611)\n",
      "batch 74/100 : 2600000 left (took 1.7813374996185303)\n",
      "batch 75/100 : 2500000 left (took 1.7437169551849365)\n",
      "batch 76/100 : 2400000 left (took 1.7371857166290283)\n",
      "batch 77/100 : 2300000 left (took 1.7496097087860107)\n",
      "batch 78/100 : 2200000 left (took 1.7317149639129639)\n",
      "batch 79/100 : 2100000 left (took 1.7352614402770996)\n",
      "batch 80/100 : 2000000 left (took 1.7359321117401123)\n",
      "batch 81/100 : 1900000 left (took 1.7836456298828125)\n",
      "batch 82/100 : 1800000 left (took 1.7721703052520752)\n",
      "batch 83/100 : 1700000 left (took 1.7479171752929688)\n",
      "batch 84/100 : 1600000 left (took 1.7356677055358887)\n",
      "batch 85/100 : 1500000 left (took 1.7482752799987793)\n",
      "batch 86/100 : 1400000 left (took 1.8938324451446533)\n",
      "batch 87/100 : 1300000 left (took 1.7396187782287598)\n",
      "batch 88/100 : 1200000 left (took 1.7386550903320312)\n",
      "batch 89/100 : 1100000 left (took 1.7586710453033447)\n",
      "batch 90/100 : 1000000 left (took 1.8144068717956543)\n",
      "batch 91/100 : 900000 left (took 1.7164397239685059)\n",
      "batch 92/100 : 800000 left (took 1.7268993854522705)\n",
      "batch 93/100 : 700000 left (took 1.7571349143981934)\n",
      "batch 94/100 : 600000 left (took 1.8724606037139893)\n",
      "batch 95/100 : 500000 left (took 1.7651360034942627)\n",
      "batch 96/100 : 400000 left (took 1.7909297943115234)\n",
      "batch 97/100 : 300000 left (took 1.762852668762207)\n",
      "batch 98/100 : 200000 left (took 1.8296337127685547)\n",
      "batch 99/100 : 100000 left (took 1.8207752704620361)\n",
      "batch 100/100 : 0 left (took 1.7395920753479004)\n",
      "total phase 1 time = 175.52872443199158\n",
      "starting phase 2\n",
      "> Q estimate = 0.00100;  Variance of q = 0.00100\n",
      "> Confidence interval (0.00098 ; 0.00102)\n",
      "> True value of Q = 0.00100; OK - In confidence interval\n",
      "> NOT Enough number of samples  (n=10000000.000 < n*=66008687.894)\n",
      "> error = 0.00000 (0.004%)\n"
     ]
    }
   ],
   "source": [
    "mc1_iter(1000, 10_000_000, n0=0, batch_size=100_000)"
   ]
  },
  {
   "attachments": {},
   "cell_type": "markdown",
   "metadata": {},
   "source": [
    "### Метод 2\n",
    "\n",
    "$\\hat q_i = \\frac{1}{1 + \\xi^{(i)}_1 + ... + \\xi^{(i)}_n}$\n"
   ]
  },
  {
   "cell_type": "code",
   "execution_count": 13,
   "metadata": {},
   "outputs": [],
   "source": [
    "def mc2_iter(m, N, n0=0, batch_size=10_000):\n",
    "    print(f'monte-carlo-2 [batched] (m={m}, N={N}, n0={n0})')\n",
    "    if N < n0:\n",
    "        print(\"Error. N < n0.\")\n",
    "        return\n",
    "\n",
    "    n_epochs = int(N / batch_size)\n",
    "    N0 = n_epochs * batch_size\n",
    "    N_left = N\n",
    "\n",
    "    q_all = np.array([], np.float64)\n",
    "\n",
    "    epoch_counter = 1\n",
    "    t0 = time.time()\n",
    "    t1 = None\n",
    "    while N_left > 0:\n",
    "        t0_b = time.time()\n",
    "        N_local = min(batch_size, N_left)\n",
    "\n",
    "        eta, xis = generate(m, N_local)\n",
    "        q_all = np.append(q_all, (1 / (1 + xis.sum(axis=0))) ) # \\hat q_i defined here\n",
    "        t1 = time.time()\n",
    "        \n",
    "        N_left -= N_local\n",
    "        print(f'batch {epoch_counter}/{n_epochs} : {N_left} left (took {(t1-t0_b)})')\n",
    "        epoch_counter += 1\n",
    "        \n",
    "    print(f\"total phase 1 time = {t1-t0}\")\n",
    "    print(f\"starting phase 2\")\n",
    "\n",
    "    t0 = time.time()\n",
    "\n",
    "    # estimate of Q\n",
    "    Q_est = q_all.mean()\n",
    "    Q_var = q_all.var(ddof=1)\n",
    "\n",
    "    conf = normal_confidence_interval(N, Q_est, Q_var, 0.05)\n",
    "    print(f'> Q estimate = {Q_est:.5f};  Variance of q = {Q_var:.5f}')\n",
    "    print(f'> Confidence interval ({conf[0]:.5f} ; {conf[1]:.5f})')\n",
    "    if m in true_q:\n",
    "        print(f'> True value of Q = {true_q[m]:.5f}; ', end='')\n",
    "        if conf[0] < true_q[m] < conf[1]:\n",
    "            print('OK - In confidence interval')\n",
    "        else:\n",
    "            print('NOT In confidence interval')\n",
    "\n",
    "    prec = enough_samples_iter(N, Q_est, Q_var)\n",
    "    if prec[0]:\n",
    "        print(f\"> Enough number of samples (n={prec[1]:.3f} > n*={prec[2]:.3f})\")\n",
    "    else:\n",
    "        print(f\"> NOT Enough number of samples  (n={prec[1]:.3f} < n*={prec[2]:.3f})\")\n",
    "    \n",
    "    error = (Q_est - true_q[m])\n",
    "    print(f'> error = {error:.5f} ({error/true_q[m]:.3f}%)')\n"
   ]
  },
  {
   "cell_type": "code",
   "execution_count": 14,
   "metadata": {},
   "outputs": [
    {
     "name": "stdout",
     "output_type": "stream",
     "text": [
      "monte-carlo-2 [batched] (m=1, N=10000, n0=0)\n",
      "batch 1/1 : 0 left (took 0.0)\n",
      "total phase 1 time = 0.0\n",
      "starting phase 2\n",
      "> Q estimate = 0.59629;  Variance of q = 0.04783\n",
      "> Confidence interval (0.59200 ; 0.60057)\n",
      "> True value of Q = 0.59635; OK - In confidence interval\n",
      "> Enough number of samples (n=10000.000 > n*=8920.364)\n",
      "> error = -0.00006 (-0.000%)\n"
     ]
    }
   ],
   "source": [
    "mc2_iter(m=1, N=10_000)"
   ]
  },
  {
   "cell_type": "code",
   "execution_count": 15,
   "metadata": {},
   "outputs": [
    {
     "name": "stdout",
     "output_type": "stream",
     "text": [
      "monte-carlo-2 [batched] (m=10, N=10000, n0=0)\n",
      "batch 1/1 : 0 left (took 0.0)\n",
      "total phase 1 time = 0.0\n",
      "starting phase 2\n",
      "> Q estimate = 0.09899;  Variance of q = 0.00090\n",
      "> Confidence interval (0.09840 ; 0.09957)\n",
      "> True value of Q = 0.09893; OK - In confidence interval\n",
      "> Enough number of samples (n=10000.000 > n*=6057.085)\n",
      "> error = 0.00006 (0.001%)\n"
     ]
    }
   ],
   "source": [
    "mc2_iter(m=10, N=10_000)"
   ]
  },
  {
   "cell_type": "code",
   "execution_count": 27,
   "metadata": {},
   "outputs": [
    {
     "name": "stdout",
     "output_type": "stream",
     "text": [
      "monte-carlo-2 [batched] (m=100, N=1000, n0=0)\n",
      "batch 1/0 : 0 left (took 0.0)\n",
      "total phase 1 time = 0.0\n",
      "starting phase 2\n",
      "> Q estimate = 0.00998;  Variance of q = 0.00000\n",
      "> Confidence interval (0.00992 ; 0.01005)\n",
      "> True value of Q = 0.01000; OK - In confidence interval\n",
      "> Enough number of samples (n=1000.000 > n*=666.509)\n",
      "> error = -0.00002 (-0.002%)\n"
     ]
    }
   ],
   "source": [
    "mc2_iter(m=100, N=1000)"
   ]
  },
  {
   "cell_type": "code",
   "execution_count": 26,
   "metadata": {},
   "outputs": [
    {
     "name": "stdout",
     "output_type": "stream",
     "text": [
      "monte-carlo-2 [batched] (m=1000, N=100, n0=0)\n",
      "batch 1/0 : 0 left (took 0.006180763244628906)\n",
      "total phase 1 time = 0.006180763244628906\n",
      "starting phase 2\n",
      "> Q estimate = 0.00100;  Variance of q = 0.00000\n",
      "> Confidence interval (0.00099 ; 0.00100)\n",
      "> True value of Q = 0.00100; OK - In confidence interval\n",
      "> Enough number of samples (n=100.000 > n*=64.269)\n",
      "> error = -0.00000 (-0.003%)\n"
     ]
    }
   ],
   "source": [
    "mc2_iter(m=1000, N=100)"
   ]
  },
  {
   "attachments": {},
   "cell_type": "markdown",
   "metadata": {},
   "source": [
    "### Метод 3\n",
    "\n",
    "$\\displaystyle \\hat q_i = \\frac{1}{m-1} \\cdot \\frac{n \\overline{\\xi^{(i)}}}{1 + n \\overline{\\xi^{(i)}}}$"
   ]
  },
  {
   "cell_type": "code",
   "execution_count": 18,
   "metadata": {},
   "outputs": [],
   "source": [
    "def mc3_iter(m, N, n0=0, batch_size=10_000):\n",
    "    print(f'monte-carlo-3 [batched] (m={m}, N={N}, n0={n0})')\n",
    "    if N < n0:\n",
    "        print(\"Error. N < n0.\")\n",
    "        return\n",
    "\n",
    "    n_epochs = int(N / batch_size)\n",
    "    N0 = n_epochs * batch_size\n",
    "    N_left = N\n",
    "\n",
    "    q_all = np.array([], np.float64)\n",
    "\n",
    "    epoch_counter = 1\n",
    "    t0 = time.time()\n",
    "    t1 = None\n",
    "    while N_left > 0:\n",
    "        t0_b = time.time()\n",
    "        N_local = min(batch_size, N_left)\n",
    "\n",
    "        eta, xis = generate( (m-1), N_local) # NB! (m-1) instead of m\n",
    "        xi_sum = xis.sum(axis=0)\n",
    "        q_all = np.append(q_all, xi_sum / ((m - 1) * (1 + xi_sum)) )  # \\hat q_i defined here\n",
    "        t1 = time.time()\n",
    "        \n",
    "        N_left -= N_local\n",
    "        print(f'batch {epoch_counter}/{n_epochs} : {N_left} left (took {(t1-t0_b)})')\n",
    "        epoch_counter += 1\n",
    "        \n",
    "    print(f\"total phase 1 time = {t1-t0}\")\n",
    "    print(f\"starting phase 2\")\n",
    "\n",
    "    t0 = time.time()\n",
    "\n",
    "    # estimate of Q\n",
    "    Q_est = q_all.mean()\n",
    "\n",
    "    if N == 1:\n",
    "        print('Single iteration result:')\n",
    "        print(f'> Q estimate = {Q_est:.5f};')\n",
    "        if m in true_q:\n",
    "            print(f'> True value of Q = {true_q[m]:.5f}; ', end='')\n",
    "            error = (Q_est - true_q[m])\n",
    "            print(f'> error = {error:.5f} ({error/true_q[m]:.3f}%)')\n",
    "        return\n",
    "        \n",
    "    Q_var = q_all.var(ddof=1)\n",
    "\n",
    "    conf = normal_confidence_interval(N, Q_est, Q_var, 0.05)\n",
    "    print(f'> Q estimate = {Q_est:.5f};  Variance of q = {Q_var:.5f}')\n",
    "    print(f'> Confidence interval ({conf[0]:.5f} ; {conf[1]:.5f})')\n",
    "    if m in true_q:\n",
    "        print(f'> True value of Q = {true_q[m]:.5f}; ', end='')\n",
    "        if conf[0] < true_q[m] < conf[1]:\n",
    "            print('OK - In confidence interval')\n",
    "        else:\n",
    "            print('NOT In confidence interval')\n",
    "\n",
    "    prec = enough_samples_iter(N, Q_est, Q_var)\n",
    "    if prec[0]:\n",
    "        print(f\"> Enough number of samples (n={prec[1]:.3f} > n*={prec[2]:.3f})\")\n",
    "    else:\n",
    "        print(f\"> NOT Enough number of samples  (n={prec[1]:.3f} < n*={prec[2]:.3f})\")\n",
    "    \n",
    "    error = (Q_est - true_q[m])\n",
    "    print(f'> error = {error:.5f} ({error/true_q[m]:.3f}%)')\n"
   ]
  },
  {
   "cell_type": "code",
   "execution_count": 19,
   "metadata": {},
   "outputs": [
    {
     "name": "stdout",
     "output_type": "stream",
     "text": [
      "monte-carlo-3 [batched] (m=10, N=100, n0=0)\n",
      "batch 1/0 : 0 left (took 0.0)\n",
      "total phase 1 time = 0.0\n",
      "starting phase 2\n",
      "> Q estimate = 0.09898;  Variance of q = 0.00001\n",
      "> Confidence interval (0.09829 ; 0.09966)\n",
      "> True value of Q = 0.09893; OK - In confidence interval\n",
      "> Enough number of samples (n=100.000 > n*=83.635)\n",
      "> error = 0.00005 (0.000%)\n"
     ]
    }
   ],
   "source": [
    "mc3_iter(m=10, N=100)"
   ]
  },
  {
   "cell_type": "code",
   "execution_count": 20,
   "metadata": {},
   "outputs": [
    {
     "name": "stdout",
     "output_type": "stream",
     "text": [
      "monte-carlo-3 [batched] (m=10, N=200, n0=0)\n",
      "batch 1/0 : 0 left (took 0.0)\n",
      "total phase 1 time = 0.0\n",
      "starting phase 2\n",
      "> Q estimate = 0.09916;  Variance of q = 0.00002\n",
      "> Confidence interval (0.09858 ; 0.09974)\n",
      "> True value of Q = 0.09893; OK - In confidence interval\n",
      "> Enough number of samples (n=200.000 > n*=117.441)\n",
      "> error = 0.00023 (0.002%)\n"
     ]
    }
   ],
   "source": [
    "mc3_iter(m=10, N=200)"
   ]
  },
  {
   "cell_type": "code",
   "execution_count": 21,
   "metadata": {},
   "outputs": [
    {
     "name": "stdout",
     "output_type": "stream",
     "text": [
      "monte-carlo-3 [batched] (m=100, N=1, n0=0)\n",
      "batch 1/0 : 0 left (took 0.0)\n",
      "total phase 1 time = 0.0\n",
      "starting phase 2\n",
      "Single iteration result:\n",
      "> Q estimate = 0.01001;\n",
      "> True value of Q = 0.01000; > error = 0.00001 (0.001%)\n"
     ]
    }
   ],
   "source": [
    "mc3_iter(m=100, N=1)"
   ]
  },
  {
   "cell_type": "code",
   "execution_count": 22,
   "metadata": {},
   "outputs": [
    {
     "name": "stdout",
     "output_type": "stream",
     "text": [
      "monte-carlo-3 [batched] (m=100, N=3, n0=0)\n",
      "batch 1/0 : 0 left (took 0.0)\n",
      "total phase 1 time = 0.0\n",
      "starting phase 2\n",
      "> Q estimate = 0.01000;  Variance of q = 0.00000\n",
      "> Confidence interval (0.01000 ; 0.01001)\n",
      "> True value of Q = 0.01000; OK - In confidence interval\n",
      "> Enough number of samples (n=3.000 > n*=0.028)\n",
      "> error = 0.00000 (0.000%)\n"
     ]
    }
   ],
   "source": [
    "mc3_iter(m=100, N=3)"
   ]
  },
  {
   "cell_type": "code",
   "execution_count": 23,
   "metadata": {},
   "outputs": [
    {
     "name": "stdout",
     "output_type": "stream",
     "text": [
      "monte-carlo-3 [batched] (m=1000, N=1, n0=0)\n",
      "batch 1/0 : 0 left (took 0.0)\n",
      "total phase 1 time = 0.0\n",
      "starting phase 2\n",
      "Single iteration result:\n",
      "> Q estimate = 0.00100;\n",
      "> True value of Q = 0.00100; > error = 0.00000 (0.000%)\n"
     ]
    }
   ],
   "source": [
    "mc3_iter(m=1000, N=1)"
   ]
  },
  {
   "cell_type": "code",
   "execution_count": 24,
   "metadata": {},
   "outputs": [
    {
     "name": "stdout",
     "output_type": "stream",
     "text": [
      "monte-carlo-3 [batched] (m=1000, N=3, n0=0)\n",
      "batch 1/0 : 0 left (took 0.0)\n",
      "total phase 1 time = 0.0\n",
      "starting phase 2\n",
      "> Q estimate = 0.00100;  Variance of q = 0.00000\n",
      "> Confidence interval (0.00100 ; 0.00100)\n",
      "> True value of Q = 0.00100; NOT In confidence interval\n",
      "> Enough number of samples (n=3.000 > n*=0.000)\n",
      "> error = -0.00000 (-0.000%)\n"
     ]
    }
   ],
   "source": [
    "mc3_iter(m=1000, N=3)"
   ]
  }
 ],
 "metadata": {
  "kernelspec": {
   "display_name": "sci",
   "language": "python",
   "name": "python3"
  },
  "language_info": {
   "codemirror_mode": {
    "name": "ipython",
    "version": 3
   },
   "file_extension": ".py",
   "mimetype": "text/x-python",
   "name": "python",
   "nbconvert_exporter": "python",
   "pygments_lexer": "ipython3",
   "version": "3.9.10"
  },
  "orig_nbformat": 4,
  "vscode": {
   "interpreter": {
    "hash": "5cd1e8db9659fd8f5b04e40667f71b538615cc830b3028b720b65ceddbc7849b"
   }
  }
 },
 "nbformat": 4,
 "nbformat_minor": 2
}
