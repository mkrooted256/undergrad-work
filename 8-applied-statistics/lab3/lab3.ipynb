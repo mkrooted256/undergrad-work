{
 "cells": [
  {
   "cell_type": "code",
   "execution_count": 16,
   "metadata": {},
   "outputs": [],
   "source": [
    "import numpy as np\n",
    "import scipy as sp\n",
    "import matplotlib.pyplot as plt\n",
    "\n",
    "from time import time"
   ]
  },
  {
   "attachments": {},
   "cell_type": "markdown",
   "metadata": {},
   "source": [
    "## 1. Гіпотеза однорідності. Критерій пустих блоків\n",
    "Перевірка рівності розподілів двох наборів спостережень. Не потрібно знати сам розподіл"
   ]
  },
  {
   "cell_type": "code",
   "execution_count": 3,
   "metadata": {},
   "outputs": [],
   "source": [
    "def fill_bins(X, Y):\n",
    "    sX = np.sort(X)\n",
    "    sY = np.sort(Y)\n",
    "    bins = np.zeros(sX.shape[0] + 1) # including bins (-inf; X_0) and (X_n; +inf)\n",
    "    \n",
    "    idy = 0\n",
    "    for idx, x in enumerate(sX):\n",
    "        while idy < sY.shape[0] and sY[idy] < x:\n",
    "            idy += 1\n",
    "            bins[idx] += 1\n",
    "    bins[bins.shape[0]-1] = sY.shape[0] - idy \n",
    "    return bins"
   ]
  },
  {
   "cell_type": "code",
   "execution_count": 4,
   "metadata": {},
   "outputs": [
    {
     "name": "stdout",
     "output_type": "stream",
     "text": [
      "[ 0.  2.  4.  6.  8. 10. 12. 14. 16. 18.]\n"
     ]
    }
   ],
   "source": [
    "X = np.arange(0,20,2).astype(np.float64)\n",
    "print(X)\n",
    "np.random.shuffle(X)"
   ]
  },
  {
   "cell_type": "code",
   "execution_count": 5,
   "metadata": {},
   "outputs": [
    {
     "name": "stdout",
     "output_type": "stream",
     "text": [
      "[-2.  -3.  -1.   1.   3.   5.   6.   9.  11.  11.1 11.2 11.3 13.  15.\n",
      " 17.  19.  20.  21. ]\n"
     ]
    }
   ],
   "source": [
    "Y = np.array([-2,-3, -1, 1, 3, 5, 6, 9, 11, 11.1, 11.2, 11.3, 13, 15, 17, 19, 20, 21], dtype=np.float64)\n",
    "print(Y)\n",
    "np.random.shuffle(Y)"
   ]
  },
  {
   "cell_type": "code",
   "execution_count": 6,
   "metadata": {},
   "outputs": [
    {
     "data": {
      "text/plain": [
       "array([3., 1., 1., 1., 1., 1., 4., 1., 1., 1., 3.])"
      ]
     },
     "execution_count": 6,
     "metadata": {},
     "output_type": "execute_result"
    }
   ],
   "source": [
    "fill_bins(X, Y)"
   ]
  },
  {
   "cell_type": "code",
   "execution_count": 7,
   "metadata": {},
   "outputs": [],
   "source": [
    "# r - number of boxes for X\n",
    "def emptybins_paired_test(X, Y, gamma=0.05):\n",
    "    n = X.shape[0]\n",
    "    m = Y.shape[0]\n",
    "    rho = float(m)/n\n",
    "    z = sp.stats.norm.ppf(1-gamma)\n",
    "    k_crit = float(n)/(1+rho) + np.sqrt(n) * rho * z * np.float_power(1+rho, -3/2)\n",
    "\n",
    "    bins = fill_bins(X, Y)\n",
    "    k = (bins == 0).sum()\n",
    "    \n",
    "    print(f'emptybins_paired_test(n={n}, m={m}, gamma={gamma})')\n",
    "    print(f'> empty bins number k = {k}')\n",
    "    print(f'> k_crit = {k_crit}')\n",
    "    \n",
    "    if k > k_crit:\n",
    "        print(\"> criteria failed. k > k_crit\")\n",
    "        return False\n",
    "        \n",
    "    print(\"> OK - criteria satisfied. k < k_crit\")\n",
    "    return True"
   ]
  },
  {
   "cell_type": "code",
   "execution_count": 8,
   "metadata": {},
   "outputs": [
    {
     "name": "stdout",
     "output_type": "stream",
     "text": [
      "lambda_x = lambda_y = 1\n",
      "emptybins_paired_test(n=500, m=1000, gamma=0.05)\n",
      "> empty bins number k = 154\n",
      "> k_crit = 180.8233126758487\n",
      "> OK - criteria satisfied. k < k_crit\n",
      "---\n",
      "lambda_x = 1; lambda_y = 1.3\n",
      "emptybins_paired_test(n=500, m=1000, gamma=0.05)\n",
      "> empty bins number k = 178\n",
      "> k_crit = 180.8233126758487\n",
      "> OK - criteria satisfied. k < k_crit\n",
      "---\n",
      "lambda_x = lambda_y = 1\n",
      "emptybins_paired_test(n=5000, m=10000, gamma=0.05)\n",
      "> empty bins number k = 1659\n",
      "> k_crit = 1711.433912084415\n",
      "> OK - criteria satisfied. k < k_crit\n",
      "---\n",
      "lambda_x = 1; lambda_y = 1.3\n",
      "emptybins_paired_test(n=5000, m=10000, gamma=0.05)\n",
      "> empty bins number k = 1721\n",
      "> k_crit = 1711.433912084415\n",
      "> criteria failed. k > k_crit\n",
      "---\n",
      "lambda_x = lambda_y = 1\n",
      "emptybins_paired_test(n=50000, m=100000, gamma=0.05)\n",
      "> empty bins number k = 16691\n",
      "> k_crit = 16808.23312675849\n",
      "> OK - criteria satisfied. k < k_crit\n",
      "---\n",
      "lambda_x = 1; lambda_y = 1.3\n",
      "emptybins_paired_test(n=50000, m=100000, gamma=0.05)\n",
      "> empty bins number k = 17181\n",
      "> k_crit = 16808.23312675849\n",
      "> criteria failed. k > k_crit\n",
      "---\n"
     ]
    }
   ],
   "source": [
    "Ns = [  500,   5000,  50_000 ]\n",
    "Ms = [ 1000, 10_000, 100_000 ]\n",
    "\n",
    "for n,m in zip(Ns,Ms):\n",
    "    print(\"lambda_x = lambda_y = 1\")\n",
    "    X = sp.stats.expon.rvs(scale = 1, size=n)\n",
    "    Y = sp.stats.expon.rvs(scale = 1, size=m)\n",
    "    emptybins_paired_test(X,Y)\n",
    "    print(\"---\")\n",
    "    print(\"lambda_x = 1; lambda_y = 1.3\")\n",
    "    X = sp.stats.expon.rvs(scale = 1, size=n)\n",
    "    Y = sp.stats.expon.rvs(scale = 1/1.3, size=m)\n",
    "    emptybins_paired_test(X,Y)\n",
    "    print(\"---\")\n"
   ]
  },
  {
   "attachments": {},
   "cell_type": "markdown",
   "metadata": {},
   "source": [
    "## 2. Гіпотеза незалежності.\n",
    "\n",
    "1. Критерій Спірмена\n",
    "2. Критерій Кендалла"
   ]
  },
  {
   "attachments": {},
   "cell_type": "markdown",
   "metadata": {},
   "source": [
    "### 2.1. Критерій Спірмена"
   ]
  },
  {
   "cell_type": "code",
   "execution_count": 9,
   "metadata": {},
   "outputs": [],
   "source": [
    "# len(X) == len(Y) !\n",
    "def spearman_ind_criteria(X, Y, gamma=0.05):\n",
    "    if X.shape != Y.shape: \n",
    "        raise ValueError(\"X and Y shapes should be equal\")\n",
    "    n = X.shape[0]\n",
    "    \n",
    "    rX = sp.stats.rankdata(X)\n",
    "    rY = sp.stats.rankdata(Y)\n",
    "\n",
    "    z = sp.stats.norm.ppf(1-(gamma/2))\n",
    "    R_crit = z/np.sqrt(n    )\n",
    "    R = 1 - (np.square(rX-rY).sum()) * 6 / (n*(n*n-1))\n",
    "    print(f\"spearman_ind_criteria(n={n}, gamma={gamma})\")\n",
    "    print(f\"> R = {R}\")\n",
    "    print(f\"> R_crit = {R_crit}\")\n",
    "\n",
    "    if np.abs(R) > R_crit:\n",
    "        print(\"> criteria failed. |R| > R_crit\")\n",
    "        return False\n",
    "        \n",
    "    print(\"> OK - criteria satisfied. |R| < R_crit\")\n",
    "    return True"
   ]
  },
  {
   "cell_type": "code",
   "execution_count": 11,
   "metadata": {},
   "outputs": [
    {
     "name": "stdout",
     "output_type": "stream",
     "text": [
      "'independant', (X,Y) = (xi, xi*eta)\n",
      "spearman_ind_criteria(n=500, gamma=0.05)\n",
      "> R = -0.06888046752187016\n",
      "> R_crit = 0.08765225405765815\n",
      "> OK - criteria satisfied. |R| < R_crit\n",
      "---\n",
      "dependant, (X,Y) = (xi, xi + eta)\n",
      "spearman_ind_criteria(n=500, gamma=0.05)\n",
      "> R = 0.3693541814167257\n",
      "> R_crit = 0.08765225405765815\n",
      "> criteria failed. |R| > R_crit\n",
      "---\n",
      "'independant', (X,Y) = (xi, xi*eta)\n",
      "spearman_ind_criteria(n=5000, gamma=0.05)\n",
      "> R = 0.002077805843112235\n",
      "> R_crit = 0.027718076486993554\n",
      "> OK - criteria satisfied. |R| < R_crit\n",
      "---\n",
      "dependant, (X,Y) = (xi, xi + eta)\n",
      "spearman_ind_criteria(n=5000, gamma=0.05)\n",
      "> R = 0.42862615944904636\n",
      "> R_crit = 0.027718076486993554\n",
      "> criteria failed. |R| > R_crit\n",
      "---\n",
      "'independant', (X,Y) = (xi, xi*eta)\n",
      "spearman_ind_criteria(n=50000, gamma=0.05)\n",
      "> R = -0.00822124623976861\n",
      "> R_crit = 0.008765225405765815\n",
      "> OK - criteria satisfied. |R| < R_crit\n",
      "---\n",
      "dependant, (X,Y) = (xi, xi + eta)\n",
      "spearman_ind_criteria(n=50000, gamma=0.05)\n",
      "> R = 0.4210388727078076\n",
      "> R_crit = 0.008765225405765815\n",
      "> criteria failed. |R| > R_crit\n",
      "---\n"
     ]
    }
   ],
   "source": [
    "Ns = [500, 5000, 50_000]\n",
    "\n",
    "for n in Ns:\n",
    "    xi = np.random.rand(n)\n",
    "    eta = np.random.rand(n)*2 - 1\n",
    "\n",
    "    print(\"'independant', (X,Y) = (xi, xi*eta)\")\n",
    "    X = xi\n",
    "    Y = xi * eta\n",
    "    spearman_ind_criteria(X,Y)\n",
    "    print(\"---\")\n",
    "    \n",
    "    print(\"dependant, (X,Y) = (xi, xi + eta)\")\n",
    "    X = xi\n",
    "    Y = xi + eta\n",
    "    spearman_ind_criteria(X,Y)\n",
    "    print(\"---\")"
   ]
  },
  {
   "attachments": {},
   "cell_type": "markdown",
   "metadata": {},
   "source": [
    "### 2.2. Критерій Кендалла"
   ]
  },
  {
   "cell_type": "code",
   "execution_count": 21,
   "metadata": {},
   "outputs": [],
   "source": [
    "# len(X) == len(Y) !\n",
    "def kendall_ind_criteria(X, Y, gamma=0.05):\n",
    "    if X.shape != Y.shape: \n",
    "        raise ValueError(\"X and Y shapes should be equal\")\n",
    "    n = X.shape[0]\n",
    "\n",
    "    print(f\"kendall_ind_criteria(n={n}, gamma={gamma})\")\n",
    "\n",
    "    T = None\n",
    "    t = time()\n",
    "    if (n < 10_000):\n",
    "        arX = np.argsort(X)\n",
    "        V = sp.stats.rankdata(Y)[arX]\n",
    "\n",
    "        # calculate number of pairs (i,j), i<j such that V_i < V_j\n",
    "        N = 0\n",
    "        for i, Vi in enumerate(V[:n-1]):\n",
    "            for Vj in V[i+1:]:\n",
    "                if Vi < Vj: \n",
    "                    N += 1\n",
    "        T = 4 * N / (n*(n-1)) - 1\n",
    "        print(f\"brute algo took {time() - t}s.\")\n",
    "\n",
    "    t = time()\n",
    "    T_quick = sp.stats.kendalltau(X, Y, variant='c').statistic\n",
    "    print(f\"quick algo took {time() - t}s.\")\n",
    "\n",
    "    if T is None: \n",
    "        T = T_quick\n",
    "        print(f\"T_quick = {T_quick:.5f}\")\n",
    "    else:\n",
    "        print(f\"T = {T:.5f}, T_quick = {T_quick:.5f}\")\n",
    "\n",
    "    z = sp.stats.norm.ppf(1-(gamma/2))\n",
    "    T_crit = 2*z/(3*np.sqrt(n))\n",
    "\n",
    "    print(f\"> T_crit = {T_crit}\")\n",
    "\n",
    "    if np.abs(T) > T_crit:\n",
    "        print(\"> criteria failed. |T| > T_crit\")\n",
    "        return False\n",
    "        \n",
    "    print(\"> OK - criteria satisfied. |T| < T_crit\")\n",
    "    return True"
   ]
  },
  {
   "cell_type": "code",
   "execution_count": 22,
   "metadata": {},
   "outputs": [
    {
     "name": "stdout",
     "output_type": "stream",
     "text": [
      "'independant', (X,Y) = (xi, xi*eta)\n",
      "kendall_ind_criteria(n=500, gamma=0.05)\n",
      "brute algo took 0.013999700546264648s.\n",
      "quick algo took 0.0009980201721191406s.\n",
      "T = -0.02317, T_quick = -0.02317\n",
      "> T_crit = 0.05843483603843876\n",
      "> OK - criteria satisfied. |T| < T_crit\n",
      "---\n",
      "dependant, (X,Y) = (xi, xi + eta)\n",
      "kendall_ind_criteria(n=500, gamma=0.05)\n",
      "brute algo took 0.01400446891784668s.\n",
      "quick algo took 0.001996278762817383s.\n",
      "T = 0.28838, T_quick = 0.28838\n",
      "> T_crit = 0.05843483603843876\n",
      "> criteria failed. |T| > T_crit\n",
      "---\n",
      "'independant', (X,Y) = (xi, xi*eta)\n",
      "kendall_ind_criteria(n=5000, gamma=0.05)\n",
      "brute algo took 1.3464395999908447s.\n",
      "quick algo took 0.0036134719848632812s.\n",
      "T = -0.01740, T_quick = -0.01740\n",
      "> T_crit = 0.018478717657995705\n",
      "> OK - criteria satisfied. |T| < T_crit\n",
      "---\n",
      "dependant, (X,Y) = (xi, xi + eta)\n",
      "kendall_ind_criteria(n=5000, gamma=0.05)\n",
      "brute algo took 1.0177149772644043s.\n",
      "quick algo took 0.004948616027832031s.\n",
      "T = 0.28045, T_quick = 0.28045\n",
      "> T_crit = 0.018478717657995705\n",
      "> criteria failed. |T| > T_crit\n",
      "---\n",
      "'independant', (X,Y) = (xi, xi*eta)\n",
      "kendall_ind_criteria(n=50000, gamma=0.05)\n",
      "quick algo took 0.02533864974975586s.\n",
      "T_quick = 0.00247\n",
      "> T_crit = 0.005843483603843878\n",
      "> OK - criteria satisfied. |T| < T_crit\n",
      "---\n",
      "dependant, (X,Y) = (xi, xi + eta)\n",
      "kendall_ind_criteria(n=50000, gamma=0.05)\n",
      "quick algo took 0.026105403900146484s.\n",
      "T_quick = 0.29223\n",
      "> T_crit = 0.005843483603843878\n",
      "> criteria failed. |T| > T_crit\n",
      "---\n"
     ]
    }
   ],
   "source": [
    "Ns = [500, 5000, 50_000]\n",
    "\n",
    "for n in Ns:\n",
    "    xi = np.random.rand(n)\n",
    "    eta = np.random.rand(n)*2 - 1\n",
    "\n",
    "    print(\"'independant', (X,Y) = (xi, xi*eta)\")\n",
    "    X = xi\n",
    "    Y = xi * eta\n",
    "    kendall_ind_criteria(X,Y)\n",
    "    print(\"---\")\n",
    "    \n",
    "    print(\"dependant, (X,Y) = (xi, xi + eta)\")\n",
    "    X = xi\n",
    "    Y = xi + eta\n",
    "    kendall_ind_criteria(X,Y)\n",
    "    print(\"---\")"
   ]
  },
  {
   "attachments": {},
   "cell_type": "markdown",
   "metadata": {},
   "source": [
    "## 3. Гіпотеза випадковості."
   ]
  },
  {
   "cell_type": "code",
   "execution_count": 73,
   "metadata": {},
   "outputs": [],
   "source": [
    "def generate_nonrandom_sequence(n):\n",
    "    xi = np.random.rand(n)*2 - 1\n",
    "    X = xi.cumsum() / np.arange(1, n+1)\n",
    "    return X\n",
    "\n",
    "def generate_random_sequence(n):\n",
    "    return np.random.rand(n)*2 - 1"
   ]
  },
  {
   "cell_type": "code",
   "execution_count": 74,
   "metadata": {},
   "outputs": [
    {
     "data": {
      "text/plain": [
       "Text(0.5, 1.0, 'random')"
      ]
     },
     "execution_count": 74,
     "metadata": {},
     "output_type": "execute_result"
    },
    {
     "data": {
      "image/png": "[encoded data removed]",
      "text/plain": [
       "<Figure size 640x480 with 1 Axes>"
      ]
     },
     "metadata": {},
     "output_type": "display_data"
    }
   ],
   "source": [
    "plt.plot(generate_random_sequence(1000))\n",
    "plt.title('random')"
   ]
  },
  {
   "cell_type": "code",
   "execution_count": 75,
   "metadata": {},
   "outputs": [
    {
     "data": {
      "text/plain": [
       "Text(0.5, 1.0, 'non-random')"
      ]
     },
     "execution_count": 75,
     "metadata": {},
     "output_type": "execute_result"
    },
    {
     "data": {
      "image/png": "[encoded data removed]",
      "text/plain": [
       "<Figure size 640x480 with 1 Axes>"
      ]
     },
     "metadata": {},
     "output_type": "display_data"
    }
   ],
   "source": [
    "plt.plot(generate_nonrandom_sequence(1000))\n",
    "plt.title('non-random')"
   ]
  },
  {
   "cell_type": "code",
   "execution_count": 47,
   "metadata": {},
   "outputs": [],
   "source": [
    "def count_inversions(X):\n",
    "    S = 0\n",
    "    t = time()\n",
    "    # calculate number of pairs (i,j), i<j such that X_i > X_j\n",
    "    for i, Xi in enumerate(X[:n-1]):\n",
    "        for Xj in X[i+1:]:\n",
    "            if Xi > Xj: \n",
    "                S += 1\n",
    "                \n",
    "    print(f\"brute count_inversions took {time() - t}s.\")\n",
    "    return S"
   ]
  },
  {
   "cell_type": "code",
   "execution_count": 31,
   "metadata": {},
   "outputs": [
    {
     "name": "stdout",
     "output_type": "stream",
     "text": [
      "brute count_inversions took 0.0s.\n"
     ]
    },
    {
     "data": {
      "text/plain": [
       "11"
      ]
     },
     "execution_count": 31,
     "metadata": {},
     "output_type": "execute_result"
    }
   ],
   "source": [
    "X = np.array([3,5,4,0,2,1])\n",
    "count_inversions(X)"
   ]
  },
  {
   "cell_type": "code",
   "execution_count": 49,
   "metadata": {},
   "outputs": [],
   "source": [
    "def randomness_test(X, gamma=0.05):\n",
    "    n = X.shape[0]\n",
    "    print(f\"randomness_test(n={n}, gamma={gamma})\")\n",
    "    \n",
    "    z = sp.stats.norm.ppf(1-(gamma/2))\n",
    "    S0 = int(n*(n-1)/4)\n",
    "    delta_S_crit = int(z * n * np.sqrt(n) / 6)\n",
    "    S = count_inversions(X)\n",
    "    print(f\"> S_0 = {S0};    delta_S_crit = {delta_S_crit}\")\n",
    "    print(f\"> S = {S};    delta_S = {np.abs(S - S0)}\")\n",
    "\n",
    "    if np.abs(S - S0) > delta_S_crit:\n",
    "        print(\"> criteria failed. |S - S0| > z\")\n",
    "        return False\n",
    "        \n",
    "    print(\"> OK - criteria satisfied. |S - S0| < z\")\n",
    "    return True"
   ]
  },
  {
   "cell_type": "code",
   "execution_count": 78,
   "metadata": {},
   "outputs": [
    {
     "name": "stdout",
     "output_type": "stream",
     "text": [
      "random.\n",
      "randomness_test(n=500, gamma=0.05)\n",
      "brute count_inversions took 0.012029886245727539s.\n",
      "> S_0 = 62375;    delta_S_crit = 3652\n",
      "> S = 63876;    delta_S = 1501\n",
      "> OK - criteria satisfied. |S - S0| < z\n",
      "---\n",
      "non-random.\n",
      "randomness_test(n=500, gamma=0.05)\n",
      "brute count_inversions took 0.00915980339050293s.\n",
      "> S_0 = 62375;    delta_S_crit = 3652\n",
      "> S = 47819;    delta_S = 14556\n",
      "> criteria failed. |S - S0| > z\n",
      "---\n",
      "random.\n",
      "randomness_test(n=5000, gamma=0.05)\n",
      "brute count_inversions took 0.9801998138427734s.\n",
      "> S_0 = 6248750;    delta_S_crit = 115491\n",
      "> S = 6305993;    delta_S = 57243\n",
      "> OK - criteria satisfied. |S - S0| < z\n",
      "---\n",
      "non-random.\n",
      "randomness_test(n=5000, gamma=0.05)\n",
      "brute count_inversions took 0.9973917007446289s.\n",
      "> S_0 = 6248750;    delta_S_crit = 115491\n",
      "> S = 8467335;    delta_S = 2218585\n",
      "> criteria failed. |S - S0| > z\n",
      "---\n",
      "random.\n",
      "randomness_test(n=50000, gamma=0.05)\n",
      "brute count_inversions took 93.29709100723267s.\n",
      "> S_0 = 624987500;    delta_S_crit = 3652177\n",
      "> S = 627775107;    delta_S = 2787607\n",
      "> OK - criteria satisfied. |S - S0| < z\n",
      "---\n",
      "non-random.\n",
      "randomness_test(n=50000, gamma=0.05)\n",
      "brute count_inversions took 101.14988780021667s.\n",
      "> S_0 = 624987500;    delta_S_crit = 3652177\n",
      "> S = 1091587367;    delta_S = 466599867\n",
      "> criteria failed. |S - S0| > z\n",
      "---\n"
     ]
    }
   ],
   "source": [
    "Ns = [ 500, 5000, 50_000 ]\n",
    "for n in Ns:\n",
    "    print(\"random.\")\n",
    "    X = generate_random_sequence(n)\n",
    "    randomness_test(X)\n",
    "    print(\"---\")\n",
    "    print(\"non-random.\")\n",
    "    X = generate_nonrandom_sequence(n)\n",
    "    randomness_test(X)\n",
    "    print(\"---\")"
   ]
  },
  {
   "cell_type": "code",
   "execution_count": null,
   "metadata": {},
   "outputs": [],
   "source": []
  }
 ],
 "metadata": {
  "kernelspec": {
   "display_name": "sci",
   "language": "python",
   "name": "python3"
  },
  "language_info": {
   "codemirror_mode": {
    "name": "ipython",
    "version": 3
   },
   "file_extension": ".py",
   "mimetype": "text/x-python",
   "name": "python",
   "nbconvert_exporter": "python",
   "pygments_lexer": "ipython3",
   "version": "3.11.0"
  },
  "orig_nbformat": 4
 },
 "nbformat": 4,
 "nbformat_minor": 2
}
