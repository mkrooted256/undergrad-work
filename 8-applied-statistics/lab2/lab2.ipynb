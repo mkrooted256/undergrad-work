{
 "cells": [
  {
   "cell_type": "code",
   "execution_count": 3,
   "metadata": {},
   "outputs": [],
   "source": [
    "import numpy as np\n",
    "import scipy as sp\n",
    "import matplotlib.pyplot as plt\n",
    "import math"
   ]
  },
  {
   "cell_type": "code",
   "execution_count": null,
   "metadata": {},
   "outputs": [],
   "source": []
  },
  {
   "cell_type": "code",
   "execution_count": 9,
   "metadata": {},
   "outputs": [],
   "source": [
    "# F should be numpy-compatible\n",
    "# todo: implement iterative version\n",
    "def crit_stat(F, sorted_X):\n",
    "    n = sorted_X.shape[0]\n",
    "    k = np.arange(1, n+1) / n\n",
    "    invn = 1/n\n",
    "    D = np.max([ F(sorted_X)-k-invn , k-F(sorted_X) ])\n",
    "    return D\n",
    "\n",
    "\n",
    "# F should be numpy-compatible\n",
    "def verify_kolmohorov(F, X, gamma=0.05):\n",
    "    # 'Limiting distribution of scaled Kolmogorov-Smirnov two-sided test statistic'\n",
    "    z = sp.stats.kstwobign().ppf(1-gamma)  \n",
    "    oX = X.sort()  # ordered X\n",
    "    D = crit_stat(F, X)\n",
    "    val = np.sqrt(X.shape[0]) * D\n",
    "    return (val < z, val, z)\n",
    "\n",
    "\n",
    "# F should be numpy-compatible\n",
    "def verify_chi2(F, X, r=None, gamma=0.05):\n",
    "    n = X.shape[0]\n",
    "    r = r if r is not None else 3 * n / 100\n",
    "    z = sp.stats.chi2.ppf(1-gamma, r-1)\n",
    "\n",
    "    Y = F(X) * r\n",
    "    v = np.zeros(r)\n",
    "    for y in Y: v[y] += 1\n",
    "\n",
    "    d = np.square(v)*r/n - n\n",
    "    return (d < z, d, z)\n",
    "\n",
    "def get_emptybox_crit_val(n,r,gamma=0.05):\n",
    "    def calc_q(k):\n",
    "        j = np.arange(0, r-k+1)\n",
    "        return math.comb(r,k) * np.sum((1-2*(j%2)) * sp.special.comb(r-k,j) * np.float_power(1 - (k+j)/r, n))\n",
    "    \n",
    "    left = r\n",
    "    right = 0\n",
    "    mid = int((left-right)/2)\n",
    "    qs = np.arange(r, -1, -1)\n",
    "    for i,q in enumerate(qs):\n",
    "        qs[i] = calc_q(qs[i])\n",
    "    qs = np.cumsum(qs)\n",
    "    \n",
    "    min_k = r\n",
    "    for v in qs:\n",
    "        if v > gamma: break\n",
    "        min_k -= 1\n",
    "    return min_k\n",
    "\n",
    "\n",
    "def verify_emptybox(F, X, r=None, gamma=0.05):\n",
    "    n = X.shape[0]\n",
    "    r = r if r is not None else 3 * n / 100\n",
    "    z = sp.stats.chi2.ppf(1-gamma, r-1)\n",
    "\n",
    "    Y = F(X) * r\n",
    "    v = np.zeros(r)\n",
    "    for y in Y: v[y] += 1\n",
    "\n",
    "    d = np.square(v)*r/n - n\n",
    "    return (d < z, d, z)\n"
   ]
  },
  {
   "cell_type": "code",
   "execution_count": 11,
   "metadata": {},
   "outputs": [
    {
     "data": {
      "text/plain": [
       "-1"
      ]
     },
     "execution_count": 11,
     "metadata": {},
     "output_type": "execute_result"
    }
   ],
   "source": [
    "get_emptybox_crit_val(100,50)"
   ]
  }
 ],
 "metadata": {
  "kernelspec": {
   "display_name": "sci",
   "language": "python",
   "name": "python3"
  },
  "language_info": {
   "codemirror_mode": {
    "name": "ipython",
    "version": 3
   },
   "file_extension": ".py",
   "mimetype": "text/x-python",
   "name": "python",
   "nbconvert_exporter": "python",
   "pygments_lexer": "ipython3",
   "version": "3.11.0"
  },
  "orig_nbformat": 4
 },
 "nbformat": 4,
 "nbformat_minor": 2
}
