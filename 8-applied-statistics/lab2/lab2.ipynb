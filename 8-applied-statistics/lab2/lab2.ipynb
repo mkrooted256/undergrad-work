{
 "cells": [
  {
   "attachments": {},
   "cell_type": "markdown",
   "metadata": {},
   "source": [
    "# **8-applied-statistics. Lab 2**\n",
    "\n",
    "Михайло Корешков  \n",
    "Валентина Сириця  \n",
    "ФІ-91  \n"
   ]
  },
  {
   "cell_type": "code",
   "execution_count": 1,
   "metadata": {},
   "outputs": [],
   "source": [
    "import numpy as np\n",
    "import scipy as sp\n",
    "import matplotlib.pyplot as plt\n",
    "import math"
   ]
  },
  {
   "cell_type": "code",
   "execution_count": 2,
   "metadata": {},
   "outputs": [],
   "source": [
    "# L for Lambda\n",
    "def generate(n, L):\n",
    "    z = np.random.rand(n)\n",
    "    return -np.log(z)/L\n",
    "\n",
    "# create a function\n",
    "def create_F_exp(L):\n",
    "    def F(u):\n",
    "        return 1 - np.exp(-L*u)\n",
    "    return F\n",
    "\n",
    "\n",
    "Ns = [ 1000, 10_000, 100_000 ]\n"
   ]
  },
  {
   "attachments": {},
   "cell_type": "markdown",
   "metadata": {},
   "source": [
    "## Завдання 1. Критерій Колмогорова\n",
    "\n",
    "a)"
   ]
  },
  {
   "cell_type": "code",
   "execution_count": 3,
   "metadata": {},
   "outputs": [],
   "source": [
    "# F should be numpy-compatible\n",
    "def kolmohorov_test(F, X, gamma=0.05):\n",
    "    def stat(F, sorted_X):\n",
    "        n = sorted_X.shape[0]\n",
    "        k = np.arange(1, n+1) / n\n",
    "        invn = 1/n\n",
    "        D = np.max([ F(sorted_X)-k-invn , k-F(sorted_X) ])\n",
    "        return D\n",
    "    \n",
    "    # 'Limiting distribution of scaled Kolmogorov-Smirnov two-sided test statistic'\n",
    "    z = sp.stats.kstwobign().ppf(1-gamma)  \n",
    "\n",
    "    oX = X.sort()  # ordered X\n",
    "    D = stat(F, X)\n",
    "    val = np.sqrt(X.shape[0]) * D\n",
    "    return (val < z, val, z)"
   ]
  },
  {
   "cell_type": "code",
   "execution_count": 9,
   "metadata": {},
   "outputs": [
    {
     "name": "stdout",
     "output_type": "stream",
     "text": [
      "1.a)\n",
      "H0: X ~ Exp(1);  Truth is X ~ Exp(1)\n",
      "Using Kolmohorov test\n",
      "> N=1000; result=True (val=0.6586907024383176, crit_val=1.3580986393225505)\n",
      "> N=10000; result=True (val=0.8697833752683893, crit_val=1.3580986393225505)\n",
      "> N=100000; result=True (val=1.2441612071627677, crit_val=1.3580986393225505)\n"
     ]
    }
   ],
   "source": [
    "print(\"1.a)\")\n",
    "print(\"H0: X ~ Exp(1);  Truth is X ~ Exp(1)\")\n",
    "print(\"Using Kolmohorov test\")\n",
    "for n in Ns:\n",
    "    X = generate(n, 1)\n",
    "    result, val, crit_val = kolmohorov_test(create_F_exp(1), X)\n",
    "    print(f\"> N={n}; result={result} (val={val}, crit_val={crit_val})\")"
   ]
  },
  {
   "cell_type": "code",
   "execution_count": 10,
   "metadata": {},
   "outputs": [
    {
     "name": "stdout",
     "output_type": "stream",
     "text": [
      "1.b)\n",
      "H0: X ~ Exp(1);  Truth is X ~ Exp(1.3)\n",
      "Using Kolmohorov test\n",
      "> N=1000; result=False (val=2.3460517408631056, crit_val=1.3580986393225505)\n",
      "> N=10000; result=False (val=10.934916917999804, crit_val=1.3580986393225505)\n",
      "> N=100000; result=False (val=30.79624416861786, crit_val=1.3580986393225505)\n"
     ]
    }
   ],
   "source": [
    "print(\"1.b)\")\n",
    "print(\"H0: X ~ Exp(1);  Truth is X ~ Exp(1.3)\")\n",
    "print(\"Using Kolmohorov test\")\n",
    "for n in Ns:\n",
    "    X = generate(n, 1.3)\n",
    "    result, val, crit_val = kolmohorov_test(create_F_exp(1), X)\n",
    "    print(f\"> N={n}; result={result} (val={val}, crit_val={crit_val})\")"
   ]
  },
  {
   "cell_type": "code",
   "execution_count": 4,
   "metadata": {},
   "outputs": [
    {
     "name": "stdout",
     "output_type": "stream",
     "text": [
      "> N=150; result=False (val=1.383286332330551, crit_val=1.3580986393225505)\n"
     ]
    }
   ],
   "source": [
    "X = generate(150, 1.3)\n",
    "result, val, crit_val = kolmohorov_test(create_F_exp(1), X)\n",
    "print(f\"> N={150}; result={result} (val={val}, crit_val={crit_val})\")"
   ]
  },
  {
   "attachments": {},
   "cell_type": "markdown",
   "metadata": {},
   "source": [
    "## Завдання 2. Критерій Хі-квадрат"
   ]
  },
  {
   "cell_type": "code",
   "execution_count": 6,
   "metadata": {},
   "outputs": [],
   "source": [
    "# F should be numpy-compatible\n",
    "def chi2_test(F, X, r=None, gamma=0.05):\n",
    "    n = X.shape[0]\n",
    "    r = r if r is not None else int(3*n/100)\n",
    "    z = sp.stats.chi2.ppf(1-gamma, r-1)\n",
    "\n",
    "    Y = F(X)  # uniform on [0;1] \n",
    "    v = np.zeros(r)\n",
    "    for y in Y: \n",
    "        v[int(y*r)] += 1\n",
    "    \n",
    "    d = (np.square(v)*r/n).sum() - n\n",
    "    return (d < z, d, z)"
   ]
  },
  {
   "cell_type": "code",
   "execution_count": 12,
   "metadata": {},
   "outputs": [
    {
     "name": "stdout",
     "output_type": "stream",
     "text": [
      "2.a)\n",
      "H0: X ~ Exp(1);  Truth is X ~ Exp(1)\n",
      "Using Chi2 test\n",
      "> N=1000; result=True (val=32.600000000000136, crit_val=42.55696780429269)\n",
      "> N=10000; result=True (val=326.1800000000003, crit_val=340.3278503488595)\n",
      "> N=100000; result=True (val=2967.140000000014, crit_val=3127.515431571307)\n"
     ]
    }
   ],
   "source": [
    "print(\"2.a)\")\n",
    "print(\"H0: X ~ Exp(1);  Truth is X ~ Exp(1)\")\n",
    "print(\"Using Chi2 test\")\n",
    "for n in Ns:\n",
    "    X = generate(n, 1)\n",
    "    r = int(30*n/1000)\n",
    "    result, val, crit_val = chi2_test(create_F_exp(1), X, r)\n",
    "    print(f\"> N={n}; result={result} (val={val}, crit_val={crit_val})\")"
   ]
  },
  {
   "cell_type": "code",
   "execution_count": 13,
   "metadata": {},
   "outputs": [
    {
     "name": "stdout",
     "output_type": "stream",
     "text": [
      "2.b)\n",
      "H0: X ~ Exp(1);  Truth is X ~ Exp(1.3)\n",
      "Using Chi2 test\n",
      "> N=1000; result=False (val=78.5, crit_val=42.55696780429269)\n",
      "> N=10000; result=False (val=939.8600000000006, crit_val=340.3278503488595)\n",
      "> N=100000; result=False (val=8784.259999999995, crit_val=3127.515431571307)\n"
     ]
    }
   ],
   "source": [
    "print(\"2.b)\")\n",
    "print(\"H0: X ~ Exp(1);  Truth is X ~ Exp(1.3)\")\n",
    "print(\"Using Chi2 test\")\n",
    "for n in Ns:\n",
    "    X = generate(n, 1.3)\n",
    "    r = int(30*n/1000)\n",
    "    result, val, crit_val = chi2_test(create_F_exp(1), X, r)\n",
    "    print(f\"> N={n}; result={result} (val={val}, crit_val={crit_val})\")"
   ]
  },
  {
   "cell_type": "code",
   "execution_count": 7,
   "metadata": {},
   "outputs": [
    {
     "name": "stdout",
     "output_type": "stream",
     "text": [
      "> N=200; result=False (val=30.880000000000024, crit_val=11.070497693516351)\n"
     ]
    }
   ],
   "source": [
    "n = 200\n",
    "X = generate(n, 1.3)\n",
    "r = int(30*n/1000)\n",
    "result, val, crit_val = chi2_test(create_F_exp(1), X, r)\n",
    "print(f\"> N={n}; result={result} (val={val}, crit_val={crit_val})\")"
   ]
  },
  {
   "attachments": {},
   "cell_type": "markdown",
   "metadata": {},
   "source": [
    "## Завдання 3. Критерій пустих ящиків"
   ]
  },
  {
   "cell_type": "code",
   "execution_count": 14,
   "metadata": {},
   "outputs": [],
   "source": [
    "# F should be numpy-compatible \n",
    "def emptybox_test(F, X, r=None, gamma=0.05):\n",
    "    n = X.shape[0]\n",
    "    r = r if r is not None else int(n/2)\n",
    "    \n",
    "    # n/r -> rho. That is, rho = 2\n",
    "    rho = 2\n",
    "    z = sp.stats.norm.ppf(1 - gamma)\n",
    "    k = r * np.exp(-rho) + z * np.sqrt(  r*np.exp(-rho) * ( 1 - (1+rho)*np.exp(-rho) )  )\n",
    "\n",
    "    Y = F(X) # uniform on [0;1]\n",
    "    v = np.zeros(r)\n",
    "    for y in Y: \n",
    "        v[int(y*r)] += 1\n",
    "    \n",
    "    n_empty = (v == 0).sum()\n",
    "\n",
    "    return (n_empty < k, n_empty, k)"
   ]
  },
  {
   "cell_type": "code",
   "execution_count": 15,
   "metadata": {},
   "outputs": [
    {
     "name": "stdout",
     "output_type": "stream",
     "text": [
      "3.a)\n",
      "H0: X ~ Exp(1);  Truth is X ~ Exp(1)\n",
      "Using Empty Boxes test\n",
      "> N=1000; result=True (val=65, crit_val=78.09582983486621)\n",
      "> N=10000; result=True (val=689, crit_val=709.653242816322)\n",
      "> N=100000; result=True (val=6763, crit_val=6871.0460439962335)\n"
     ]
    }
   ],
   "source": [
    "print(\"3.a)\")\n",
    "print(\"H0: X ~ Exp(1);  Truth is X ~ Exp(1)\")\n",
    "print(\"Using Empty Boxes test\")\n",
    "for n in Ns:\n",
    "    X = generate(n, 1)\n",
    "    r = int(n/2)\n",
    "    result, val, crit_val = emptybox_test(create_F_exp(1), X, r)\n",
    "    print(f\"> N={n}; result={result} (val={val}, crit_val={crit_val})\")"
   ]
  },
  {
   "cell_type": "code",
   "execution_count": 16,
   "metadata": {},
   "outputs": [
    {
     "name": "stdout",
     "output_type": "stream",
     "text": [
      "3.b)\n",
      "H0: X ~ Exp(1);  Truth is X ~ Exp(1.3)\n",
      "Using Empty Boxes test\n",
      "> N=1000; result=True (val=78, crit_val=78.09582983486621)\n",
      "> N=10000; result=False (val=784, crit_val=709.653242816322)\n",
      "> N=100000; result=False (val=7807, crit_val=6871.0460439962335)\n"
     ]
    }
   ],
   "source": [
    "print(\"3.b)\")\n",
    "print(\"H0: X ~ Exp(1);  Truth is X ~ Exp(1.3)\")\n",
    "print(\"Using Empty Boxes test\")\n",
    "for n in Ns:\n",
    "    X = generate(n, 1.3)\n",
    "    r = int(n/2)\n",
    "    result, val, crit_val = emptybox_test(create_F_exp(1), X, r)\n",
    "    print(f\"> N={n}; result={result} (val={val}, crit_val={crit_val})\")"
   ]
  },
  {
   "cell_type": "markdown",
   "metadata": {},
   "source": [
    "### Демонстрація складності прямого обчислення критичних значень для критерію пустих ящиків"
   ]
  },
  {
   "cell_type": "code",
   "execution_count": 17,
   "metadata": {},
   "outputs": [],
   "source": [
    "def get_emptybox_crit_val(n,r,gamma=0.05):\n",
    "    def calc_q(k, n, r):\n",
    "        res = 0\n",
    "        one = 1\n",
    "        comb = math.comb(r,k)\n",
    "        for j in range(0, r-k+1):\n",
    "            res += comb * math.comb(r-k, j) * np.float_power(1 - (k+j)/r, n) * one\n",
    "            one *= -1\n",
    "        return res\n",
    "    \n",
    "    print(f'start for get_emptybox_crit_val(n={n}, r={r}, gamma={gamma})')\n",
    "\n",
    "    q = np.zeros(r+1)\n",
    "    for k in range(0, r+1):\n",
    "        q[k] = calc_q(k, n, r)\n",
    "    \n",
    "    if r < 100:\n",
    "        print(\"q:\")\n",
    "        print(q)\n",
    "    \n",
    "    print('> phase 1')\n",
    "\n",
    "    q = np.flip(np.flip(q).cumsum())\n",
    "\n",
    "    if r < 100:\n",
    "        print(\"q.cumsum:\")\n",
    "        print(q)\n",
    "\n",
    "    print('> phase 2')\n",
    "    min_k = r\n",
    "    for k in range(0, r+1):\n",
    "        if q[k] < gamma and k < min_k:\n",
    "            min_k = k\n",
    "    \n",
    "    print(f'> answer: k={min_k} for sum={q[min_k]}')\n",
    "    return min_k"
   ]
  },
  {
   "cell_type": "code",
   "execution_count": 18,
   "metadata": {},
   "outputs": [
    {
     "name": "stdout",
     "output_type": "stream",
     "text": [
      "start for get_emptybox_crit_val(n=1000, r=500, gamma=0.05)\n",
      "> phase 1\n",
      "> phase 2\n",
      "> answer: k=0 for sum=-3.0656435897757865e+26\n",
      "start for get_emptybox_crit_val(n=10000, r=5000, gamma=0.05)\n"
     ]
    },
    {
     "ename": "OverflowError",
     "evalue": "int too large to convert to float",
     "output_type": "error",
     "traceback": [
      "\u001b[1;31m---------------------------------------------------------------------------\u001b[0m",
      "\u001b[1;31mOverflowError\u001b[0m                             Traceback (most recent call last)",
      "Cell \u001b[1;32mIn[18], line 4\u001b[0m\n\u001b[0;32m      2\u001b[0m \u001b[39mfor\u001b[39;00m n \u001b[39min\u001b[39;00m Ns:\n\u001b[0;32m      3\u001b[0m     r \u001b[39m=\u001b[39m \u001b[39mint\u001b[39m(n \u001b[39m/\u001b[39m \u001b[39m2\u001b[39m)\n\u001b[1;32m----> 4\u001b[0m     emptybox_crit_vals[n] \u001b[39m=\u001b[39m get_emptybox_crit_val(n, r)\n",
      "Cell \u001b[1;32mIn[17], line 15\u001b[0m, in \u001b[0;36mget_emptybox_crit_val\u001b[1;34m(n, r, gamma)\u001b[0m\n\u001b[0;32m     13\u001b[0m q \u001b[39m=\u001b[39m np\u001b[39m.\u001b[39mzeros(r\u001b[39m+\u001b[39m\u001b[39m1\u001b[39m)\n\u001b[0;32m     14\u001b[0m \u001b[39mfor\u001b[39;00m k \u001b[39min\u001b[39;00m \u001b[39mrange\u001b[39m(\u001b[39m0\u001b[39m, r\u001b[39m+\u001b[39m\u001b[39m1\u001b[39m):\n\u001b[1;32m---> 15\u001b[0m     q[k] \u001b[39m=\u001b[39m calc_q(k, n, r)\n\u001b[0;32m     17\u001b[0m \u001b[39mif\u001b[39;00m r \u001b[39m<\u001b[39m \u001b[39m100\u001b[39m:\n\u001b[0;32m     18\u001b[0m     \u001b[39mprint\u001b[39m(\u001b[39m\"\u001b[39m\u001b[39mq:\u001b[39m\u001b[39m\"\u001b[39m)\n",
      "Cell \u001b[1;32mIn[17], line 7\u001b[0m, in \u001b[0;36mget_emptybox_crit_val.<locals>.calc_q\u001b[1;34m(k, n, r)\u001b[0m\n\u001b[0;32m      5\u001b[0m comb \u001b[39m=\u001b[39m math\u001b[39m.\u001b[39mcomb(r,k)\n\u001b[0;32m      6\u001b[0m \u001b[39mfor\u001b[39;00m j \u001b[39min\u001b[39;00m \u001b[39mrange\u001b[39m(\u001b[39m0\u001b[39m, r\u001b[39m-\u001b[39mk\u001b[39m+\u001b[39m\u001b[39m1\u001b[39m):\n\u001b[1;32m----> 7\u001b[0m     res \u001b[39m+\u001b[39m\u001b[39m=\u001b[39m comb \u001b[39m*\u001b[39;49m math\u001b[39m.\u001b[39;49mcomb(r\u001b[39m-\u001b[39;49mk, j) \u001b[39m*\u001b[39;49m np\u001b[39m.\u001b[39;49mfloat_power(\u001b[39m1\u001b[39;49m \u001b[39m-\u001b[39;49m (k\u001b[39m+\u001b[39;49mj)\u001b[39m/\u001b[39;49mr, n) \u001b[39m*\u001b[39m one\n\u001b[0;32m      8\u001b[0m     one \u001b[39m*\u001b[39m\u001b[39m=\u001b[39m \u001b[39m-\u001b[39m\u001b[39m1\u001b[39m\n\u001b[0;32m      9\u001b[0m \u001b[39mreturn\u001b[39;00m res\n",
      "\u001b[1;31mOverflowError\u001b[0m: int too large to convert to float"
     ]
    }
   ],
   "source": [
    "emptybox_crit_vals = dict()\n",
    "for n in Ns:\n",
    "    r = int(n / 2)\n",
    "    emptybox_crit_vals[n] = get_emptybox_crit_val(n, r)\n"
   ]
  },
  {
   "attachments": {},
   "cell_type": "markdown",
   "metadata": {},
   "source": [
    "## Завдання 4. Критерій однорідності Смирнова"
   ]
  },
  {
   "cell_type": "code",
   "execution_count": null,
   "metadata": {},
   "outputs": [],
   "source": [
    "def smyrnov_test(X, Y, gamma):\n",
    "    n, m = X.shape[0], Y.shape[0]\n",
    "    X.sort()\n",
    "    Y.sort()\n",
    "    \n",
    "    # 'Limiting distribution of scaled Kolmogorov-Smirnov two-sided test statistic'\n",
    "    z = sp.stats.kstwobign().ppf(1-gamma)\n",
    "    z = z * np.sqrt(1/n + 1/m)\n",
    "\n",
    "    # ecdfx = empirical cumulative distribution function for X\n",
    "    def ecdfx(u): return np.searchsorted(X, u, 'right') / n\n",
    "\n",
    "    ecdfx_of_y = ecdfx(Y)\n",
    "    k = np.arange(1, m+1)\n",
    "    D_pos = np.max(k/m - ecdfx_of_y)\n",
    "    D_neg = np.max(ecdfx_of_y - (k-1)/m)\n",
    "    D = max(D_pos, D_neg)\n",
    "\n",
    "    return (D < z, D, z)"
   ]
  },
  {
   "cell_type": "code",
   "execution_count": null,
   "metadata": {},
   "outputs": [
    {
     "name": "stdout",
     "output_type": "stream",
     "text": [
      "4.a)\n",
      "H0: X ~ Exp(1) and Y ~ Exp(1);  Truth is X, Y ~ Exp(1)\n",
      "Using Smyrnov test\n",
      "> (X,Y): N=1000; result=True (val=0.05399999999999999, crit_val=0.07438612600740335)\n",
      "> (Y,X): N=1000; result=True (val=0.05399999999999999, crit_val=0.07438612600740335)\n",
      "> (X,Y): N=10000; result=True (val=0.010400000000000076, crit_val=0.02352295844996817)\n",
      "> (Y,X): N=10000; result=True (val=0.010400000000000076, crit_val=0.02352295844996817)\n",
      "> (X,Y): N=100000; result=True (val=0.0046700000000000075, crit_val=0.007438612600740335)\n",
      "> (Y,X): N=100000; result=True (val=0.0046700000000000075, crit_val=0.007438612600740335)\n"
     ]
    }
   ],
   "source": [
    "print(\"4.a)\")\n",
    "print(\"H0: X ~ Exp(1) and Y ~ Exp(1);  Truth is X, Y ~ Exp(1)\")\n",
    "print(\"Using Smyrnov test\")\n",
    "for n in Ns:\n",
    "    X = generate(n, 1)\n",
    "    Y = generate(int(n/2), 1)\n",
    "    result, val, crit_val = smyrnov_test(X, Y, 0.05)\n",
    "    print(f\"> (X,Y): N={n}; result={result} (val={val}, crit_val={crit_val})\")\n",
    "    result, val, crit_val = smyrnov_test(Y, X, 0.05)\n",
    "    print(f\"> (Y,X): N={n}; result={result} (val={val}, crit_val={crit_val})\")"
   ]
  },
  {
   "cell_type": "code",
   "execution_count": null,
   "metadata": {},
   "outputs": [
    {
     "name": "stdout",
     "output_type": "stream",
     "text": [
      "4.b)\n",
      "H0: X ~ Exp(1) and Y ~ Exp(1);  Truth is X ~ Exp(1), but Y ~ Exp(1.3)\n",
      "Using Smyrnov test\n",
      "> (X,Y): N=1000; result=False (val=0.13200000000000006, crit_val=0.07438612600740335)\n",
      "> (Y,X): N=1000; result=False (val=0.13200000000000006, crit_val=0.07438612600740335)\n",
      "> (X,Y): N=10000; result=False (val=0.08930000000000005, crit_val=0.02352295844996817)\n",
      "> (Y,X): N=10000; result=False (val=0.08930000000000005, crit_val=0.02352295844996817)\n",
      "> (X,Y): N=100000; result=False (val=0.09494000000000002, crit_val=0.007438612600740335)\n",
      "> (Y,X): N=100000; result=False (val=0.09494000000000002, crit_val=0.007438612600740335)\n"
     ]
    }
   ],
   "source": [
    "print(\"4.b)\")\n",
    "print(\"H0: X ~ Exp(1) and Y ~ Exp(1);  Truth is X ~ Exp(1), but Y ~ Exp(1.3)\")\n",
    "print(\"Using Smyrnov test\")\n",
    "for n in Ns:\n",
    "    X = generate(n, 1)\n",
    "    Y = generate(int(n/2), 1.3)\n",
    "    result, val, crit_val = smyrnov_test(X, Y, 0.05)\n",
    "    print(f\"> (X,Y): N={n}; result={result} (val={val}, crit_val={crit_val})\")\n",
    "    result, val, crit_val = smyrnov_test(Y, X, 0.05)\n",
    "    print(f\"> (Y,X): N={n}; result={result} (val={val}, crit_val={crit_val})\")"
   ]
  }
 ],
 "metadata": {
  "kernelspec": {
   "display_name": "sci",
   "language": "python",
   "name": "python3"
  },
  "language_info": {
   "codemirror_mode": {
    "name": "ipython",
    "version": 3
   },
   "file_extension": ".py",
   "mimetype": "text/x-python",
   "name": "python",
   "nbconvert_exporter": "python",
   "pygments_lexer": "ipython3",
   "version": "3.11.0"
  },
  "orig_nbformat": 4
 },
 "nbformat": 4,
 "nbformat_minor": 2
}
