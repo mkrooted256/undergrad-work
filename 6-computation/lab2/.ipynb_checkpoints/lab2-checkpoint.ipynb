{
 "cells": [
  {
   "cell_type": "code",
   "execution_count": 1,
   "metadata": {},
   "outputs": [],
   "source": [
    "import numpy as np\n",
    "import matplotlib.pyplot as plt"
   ]
  },
  {
   "cell_type": "code",
   "execution_count": 2,
   "metadata": {},
   "outputs": [],
   "source": [
    "LOG = True\n",
    "\n",
    "def log(*args, a=None, **kwargs):\n",
    "    if LOG and (a is None or a):\n",
    "        print(*args, **kwargs)"
   ]
  },
  {
   "cell_type": "markdown",
   "metadata": {},
   "source": [
    "# Зворотній хід"
   ]
  },
  {
   "cell_type": "code",
   "execution_count": 53,
   "metadata": {},
   "outputs": [],
   "source": [
    "def backstep_U(U, b):\n",
    "    n = U.shape[1]\n",
    "    x = np.zeros(n)\n",
    "    for i in range(n-1, -1, -1):\n",
    "        x[i] = (b[i] - U[i,i+1:] @ x[i+1:]) / U[i,i]\n",
    "#         log(\"x:\", x)\n",
    "    return x\n",
    "\n",
    "def backstep_L(L, b):\n",
    "    n = L.shape[1]\n",
    "    x = np.zeros(n)\n",
    "    for i in range(n):\n",
    "        x[i] = (b[i] - L[i,:i] @ x[:i]) / L[i,i]\n",
    "#         log(\"x:\", x)\n",
    "    return x"
   ]
  },
  {
   "cell_type": "code",
   "execution_count": 54,
   "metadata": {},
   "outputs": [
    {
     "data": {
      "text/plain": [
       "array([ 0.00000000e+00, -2.77555756e-17, -2.90566182e-17,  0.00000000e+00])"
      ]
     },
     "execution_count": 54,
     "metadata": {},
     "output_type": "execute_result"
    }
   ],
   "source": [
    "U = np.triu(np.random.rand(4,4))\n",
    "x0 = np.random.rand(4)\n",
    "b = U @ x0\n",
    "\n",
    "backstep_U(U,b) - x0"
   ]
  },
  {
   "cell_type": "markdown",
   "metadata": {},
   "source": [
    "# Метод 1: \"Квадратного кореня\"\n",
    "Використовується для симетричних матриць"
   ]
  },
  {
   "cell_type": "code",
   "execution_count": 13,
   "metadata": {},
   "outputs": [],
   "source": [
    "# 1. Факторизація симетричної додатньо визначеної A = LL'\n",
    "\n",
    "def LU_sym_factor(_A):\n",
    "    A = _A.astype(float)\n",
    "    n = A.shape[0]\n",
    "    L = np.zeros_like(A).astype(float)\n",
    "    for i in range(0, n):\n",
    "        for j in range(0,i):\n",
    "            L[i,j] = (A[i,j] - L[i,0:i] @ L[j,0:i]) / L[j,j]\n",
    "        L[i,i] = np.sqrt(A[i,i] - L[i,0:i] @ L[i,0:i])\n",
    "        log(L)\n",
    "    return L, L.T"
   ]
  },
  {
   "cell_type": "code",
   "execution_count": 28,
   "metadata": {},
   "outputs": [],
   "source": [
    "# 2. Зворотній хід. Розв'язує систему LL'x = n; (Ly=b, L'x=y)\n",
    "def solve_LL(L, b):\n",
    "    n = L.shape[0]\n",
    "    \n",
    "    y = backstep_L(L, b)\n",
    "    x = backstep_U(L.T, y)\n",
    "    \n",
    "    return x"
   ]
  },
  {
   "cell_type": "markdown",
   "metadata": {},
   "source": [
    "# Метод 2: Гауса з півотами"
   ]
  },
  {
   "cell_type": "code",
   "execution_count": 55,
   "metadata": {},
   "outputs": [],
   "source": [
    "def solve_gauss(_A, _b):\n",
    "    A = _A.copy().astype(float)\n",
    "    b = _b.copy().astype(float)\n",
    "    \n",
    "    n = A.shape[0]\n",
    "    # permutations\n",
    "    pi = np.arange(n)\n",
    "    pj = np.arange(n)\n",
    "    # offset\n",
    "    ki, kj = 0, 0\n",
    "    steps = 1\n",
    "    while ki < n-1 and kj < n-1:\n",
    "        # find the largest element of the Bottom Right (BR)\n",
    "        M, absM = 0, 0\n",
    "        Mi, Mj = ki, kj\n",
    "        for i in range(ki,n):\n",
    "            for j in range(kj,n):\n",
    "                a = np.abs(A[i,j])\n",
    "                if a > M: \n",
    "                    absM, M, Mi, Mj = a, A[i,j], i, j\n",
    "        \n",
    "        # swap rows and columns\n",
    "        pi[ki], pi[Mi] = pi[Mi], pi[ki]\n",
    "        pj[kj], pj[Mj] = pj[Mj], pj[kj]\n",
    "        \n",
    "        #rows and b\n",
    "        r1, r2 = A[ki], A[Mi]\n",
    "        A[ki], A[Mi] = r2.copy(), r1.copy()\n",
    "        \n",
    "        b1,b2 = b[Mi], b[ki]\n",
    "        b[ki], b[Mi] = b2,b1\n",
    "        \n",
    "        #cols and x\n",
    "        c1, c2 = A[:,kj], A[:,Mj]\n",
    "        A[:,kj], A[:,Mj] = c2.copy(), c1.copy()\n",
    "        \n",
    "        BR = A[ki:,kj:]\n",
    "        \n",
    "        BR[0] = BR[0] / M\n",
    "        b[ki] /= M\n",
    "        \n",
    "        BR[1:] -= BR[0] * BR[1:,0].reshape(-1,1)\n",
    "        b[ki+1:] -= b[0] * BR[1:,0]\n",
    "        \n",
    "        ki += 1\n",
    "        kj += 1\n",
    "        steps += 1\n",
    "    \n",
    "    # last step\n",
    "    b[-1] /= A[-1,-1]\n",
    "    A[-1,-1] = 1\n",
    "    \n",
    "    print(A)\n",
    "    print(b)\n",
    "\n",
    "    # зворотній хід\n",
    "    x = backstep_U(A, b)\n",
    "    \n",
    "    # inverse permutation\n",
    "    ipj = sorted(list(zip(pj, range(n))), key=lambda tup: tup[0])\n",
    "    ipj = [t[1] for t in ipj]\n",
    "    x = x[ipj]\n",
    "    \n",
    "    return x\n",
    "        "
   ]
  },
  {
   "cell_type": "code",
   "execution_count": 57,
   "metadata": {},
   "outputs": [
    {
     "name": "stdout",
     "output_type": "stream",
     "text": [
      "[[1.         0.15976881 0.84850842 0.61135868]\n",
      " [0.         1.         0.40427706 0.40234569]\n",
      " [0.         0.         1.         0.96590382]\n",
      " [0.         0.         0.         1.        ]]\n",
      "[1.02192833 1.66054518 2.34516909 2.07416694]\n",
      "[-0.64598566  0.34172332  0.68786215  2.07416694] [0.95715383 0.33626206 0.68979346 0.16113908]\n"
     ]
    }
   ],
   "source": [
    "A = np.random.rand(4,4)\n",
    "x0 = (np.random.rand(4))\n",
    "b = A @ x0\n",
    "\n",
    "x = solve_gauss(A, b)\n",
    "\n",
    "print(x, x0)"
   ]
  },
  {
   "cell_type": "code",
   "execution_count": null,
   "metadata": {},
   "outputs": [],
   "source": [
    "b[0]/L[0,0]"
   ]
  },
  {
   "cell_type": "code",
   "execution_count": null,
   "metadata": {},
   "outputs": [],
   "source": [
    "A = np.random.rand(4,4)*10 - 5\n",
    "print(A)\n",
    "np.unravel_index(np.abs(A).argmax(),A.shape)"
   ]
  },
  {
   "cell_type": "code",
   "execution_count": null,
   "metadata": {},
   "outputs": [],
   "source": []
  }
 ],
 "metadata": {
  "kernelspec": {
   "display_name": "Python 3",
   "language": "python",
   "name": "python3"
  },
  "language_info": {
   "codemirror_mode": {
    "name": "ipython",
    "version": 3
   },
   "file_extension": ".py",
   "mimetype": "text/x-python",
   "name": "python",
   "nbconvert_exporter": "python",
   "pygments_lexer": "ipython3",
   "version": "3.8.6"
  }
 },
 "nbformat": 4,
 "nbformat_minor": 4
}
