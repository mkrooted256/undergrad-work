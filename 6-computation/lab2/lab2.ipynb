{
 "cells": [
  {
   "cell_type": "code",
   "execution_count": 24,
   "metadata": {},
   "outputs": [],
   "source": [
    "import numpy as np\n",
    "import matplotlib.pyplot as plt"
   ]
  },
  {
   "cell_type": "code",
   "execution_count": 40,
   "metadata": {},
   "outputs": [],
   "source": [
    "LOG = True\n",
    "\n",
    "def log(*args, a=None, **kwargs):\n",
    "    if LOG and (a is None or a):\n",
    "        print(*args, **kwargs)"
   ]
  },
  {
   "cell_type": "markdown",
   "metadata": {},
   "source": [
    "# Метод 1: \"Квадратного кореня\"\n",
    "Використовується для симетричних матриць"
   ]
  },
  {
   "cell_type": "code",
   "execution_count": 41,
   "metadata": {},
   "outputs": [],
   "source": [
    "# 1. Факторизація симетричної додатньо визначеної A = LL'\n",
    "\n",
    "def LU_sym_factor(A):\n",
    "    n = A.shape[0]\n",
    "    L = np.zeros_like(A)\n",
    "    for i in range(0, n):\n",
    "        for j in range(0,i):\n",
    "            L[i,j] = (A[i,j] - L[i,0:i] @ L[j,0:i]) / L[j,j]\n",
    "        L[i,i] = np.sqrt(A[i,i] - L[i,0:i] @ L[i,0:i])\n",
    "        log(L)\n",
    "    return L, L.T"
   ]
  },
  {
   "cell_type": "code",
   "execution_count": 67,
   "metadata": {},
   "outputs": [],
   "source": [
    "# 2. Зворотній хід. Розв'язує систему LL'x = n; (Ly=b, L'x=y)\n",
    "def solve_L(L, b):\n",
    "    n = L.shape[0]\n",
    "    x = np.zeros(n)\n",
    "    y = np.zeros(n)\n",
    "    for i in range(0,n):\n",
    "        y[i] = (b[i] - L[i,0:i] @ y[0:i]) / L[i,i]\n",
    "        log(\"y:\", y)\n",
    "    \n",
    "    for i in range(n-1, -1, -1):\n",
    "        x[i] = (y[i] - L.T[i, i:n] @ x[i:n]) / L[i,i]\n",
    "        log(\"x:\", x)\n",
    "        \n",
    "    return x"
   ]
  },
  {
   "cell_type": "markdown",
   "metadata": {},
   "source": [
    "# Метод 2: Гауса з півотами"
   ]
  },
  {
   "cell_type": "code",
   "execution_count": null,
   "metadata": {},
   "outputs": [],
   "source": [
    "def solve_gauss(A, b):\n",
    "    n = A.shape[0]\n",
    "    x_permutation = np.arange(n)\n",
    "    \n",
    "    ki = 0\n",
    "    kj = 0\n",
    "    while ki < n:\n",
    "        # get the largest element of the Bottom Right (BR)\n",
    "        BR = A[ki:, kj:]\n",
    "        pivot = np.unravel_index(np.abs(BR).argmax(), BR.shape)\n",
    "        pivot = (pivot[0] + ki, pivot[1] + kj)\n",
    "        x_permutation[kj], x_permutation[pivot[1]] = pivot[1], kj\n",
    "        \n",
    "        \n",
    "        \n",
    "        \n",
    "        ki+=1\n",
    "        kj+=1"
   ]
  },
  {
   "cell_type": "code",
   "execution_count": null,
   "metadata": {},
   "outputs": [],
   "source": []
  },
  {
   "cell_type": "code",
   "execution_count": 66,
   "metadata": {},
   "outputs": [
    {
     "name": "stdout",
     "output_type": "stream",
     "text": [
      "[[38  0  0  0]\n",
      " [66 37  0  0]\n",
      " [45 10 68  0]\n",
      " [95 82 39 33]]\n",
      "y: [10826.     0.     0.     0.]\n",
      "y: [10826.  6264.     0.     0.]\n",
      "y: [10826.  6264.  2822.     0.]\n",
      "y: [10826.  6264.  2822.  1122.]\n",
      "x: [ 0.  0.  0. 34.]\n",
      "x: [ 0.  0. 22. 34.]\n",
      "x: [ 0. 88. 22. 34.]\n",
      "x: [21. 88. 22. 34.]\n",
      "[21. 88. 22. 34.]\n",
      "[21 88 22 34]\n",
      "[0. 0. 0. 0.]\n"
     ]
    }
   ],
   "source": [
    "L = (np.random.rand(4,4)*100).astype(int)\n",
    "for i in range(4):\n",
    "    L[i, i+1:] = 0\n",
    "print(L)\n",
    "\n",
    "x = (np.random.rand(4)*100).astype(int)\n",
    "b = L@L.T@x\n",
    "\n",
    "x1 = solve_L(L, b)\n",
    "print(x1)\n",
    "print(x)\n",
    "print(x-x1)"
   ]
  },
  {
   "cell_type": "code",
   "execution_count": 63,
   "metadata": {},
   "outputs": [
    {
     "data": {
      "text/plain": [
       "12200.0"
      ]
     },
     "execution_count": 63,
     "metadata": {},
     "output_type": "execute_result"
    }
   ],
   "source": [
    "b[0]/L[0,0]"
   ]
  },
  {
   "cell_type": "code",
   "execution_count": 76,
   "metadata": {},
   "outputs": [
    {
     "name": "stdout",
     "output_type": "stream",
     "text": [
      "[[ 1.57277173 -1.86313291 -4.26418127 -3.48229186]\n",
      " [-3.16225678  0.85413917  1.27784093 -1.64502252]\n",
      " [-3.54438924 -4.87123204 -0.0815651  -1.61994666]\n",
      " [ 4.08199563 -1.34305995 -3.90571449 -1.75513424]]\n"
     ]
    },
    {
     "ename": "TypeError",
     "evalue": "_argmax_dispatcher() got an unexpected keyword argument 'keepdims'",
     "output_type": "error",
     "traceback": [
      "\u001b[1;31m---------------------------------------------------------------------------\u001b[0m",
      "\u001b[1;31mTypeError\u001b[0m                                 Traceback (most recent call last)",
      "\u001b[1;32m<ipython-input-79-ee8c82011a72>\u001b[0m in \u001b[0;36m<module>\u001b[1;34m\u001b[0m\n\u001b[0;32m      1\u001b[0m \u001b[0mA\u001b[0m \u001b[1;33m=\u001b[0m \u001b[0mnp\u001b[0m\u001b[1;33m.\u001b[0m\u001b[0mrandom\u001b[0m\u001b[1;33m.\u001b[0m\u001b[0mrand\u001b[0m\u001b[1;33m(\u001b[0m\u001b[1;36m4\u001b[0m\u001b[1;33m,\u001b[0m\u001b[1;36m4\u001b[0m\u001b[1;33m)\u001b[0m\u001b[1;33m*\u001b[0m\u001b[1;36m10\u001b[0m \u001b[1;33m-\u001b[0m \u001b[1;36m5\u001b[0m\u001b[1;33m\u001b[0m\u001b[1;33m\u001b[0m\u001b[0m\n\u001b[0;32m      2\u001b[0m \u001b[0mprint\u001b[0m\u001b[1;33m(\u001b[0m\u001b[0mA\u001b[0m\u001b[1;33m)\u001b[0m\u001b[1;33m\u001b[0m\u001b[1;33m\u001b[0m\u001b[0m\n\u001b[1;32m----> 3\u001b[1;33m \u001b[0mnp\u001b[0m\u001b[1;33m.\u001b[0m\u001b[0margmax\u001b[0m\u001b[1;33m(\u001b[0m\u001b[0mnp\u001b[0m\u001b[1;33m.\u001b[0m\u001b[0mabs\u001b[0m\u001b[1;33m(\u001b[0m\u001b[0mA\u001b[0m\u001b[1;33m)\u001b[0m\u001b[1;33m,\u001b[0m\u001b[0mkeepdims\u001b[0m\u001b[1;33m=\u001b[0m\u001b[1;32mTrue\u001b[0m\u001b[1;33m)\u001b[0m\u001b[1;33m\u001b[0m\u001b[1;33m\u001b[0m\u001b[0m\n\u001b[0m",
      "\u001b[1;32m<__array_function__ internals>\u001b[0m in \u001b[0;36margmax\u001b[1;34m(*args, **kwargs)\u001b[0m\n",
      "\u001b[1;31mTypeError\u001b[0m: _argmax_dispatcher() got an unexpected keyword argument 'keepdims'"
     ]
    }
   ],
   "source": [
    "A = np.random.rand(4,4)*10 - 5\n",
    "print(A)\n",
    "np.unravel_index(np.abs(A).argmax(),A.shape)"
   ]
  },
  {
   "cell_type": "code",
   "execution_count": null,
   "metadata": {},
   "outputs": [],
   "source": []
  }
 ],
 "metadata": {
  "kernelspec": {
   "display_name": "Python 3",
   "language": "python",
   "name": "python3"
  },
  "language_info": {
   "codemirror_mode": {
    "name": "ipython",
    "version": 3
   },
   "file_extension": ".py",
   "mimetype": "text/x-python",
   "name": "python",
   "nbconvert_exporter": "python",
   "pygments_lexer": "ipython3",
   "version": "3.9.2"
  }
 },
 "nbformat": 4,
 "nbformat_minor": 4
}
