{
 "cells": [
  {
   "cell_type": "markdown",
   "metadata": {},
   "source": [
    "# 6 - Методи обчислень\n",
    "## Лабораторна робота 2\n",
    "> Михайло Корешков, ФІ-91"
   ]
  },
  {
   "cell_type": "code",
   "execution_count": 1,
   "metadata": {},
   "outputs": [],
   "source": [
    "import numpy as np\n",
    "import matplotlib.pyplot as plt"
   ]
  },
  {
   "cell_type": "code",
   "execution_count": 2,
   "metadata": {},
   "outputs": [],
   "source": [
    "LOG = True\n",
    "D = 6\n",
    "\n",
    "def log(*args, a=None, **kwargs):\n",
    "    if LOG and (a is None or a):\n",
    "        print(*args, **kwargs)"
   ]
  },
  {
   "cell_type": "markdown",
   "metadata": {},
   "source": [
    "# Зворотній хід"
   ]
  },
  {
   "cell_type": "code",
   "execution_count": 3,
   "metadata": {},
   "outputs": [],
   "source": [
    "def backstep_U(U, b):\n",
    "    n = U.shape[1]\n",
    "    x = np.zeros(n)\n",
    "    x[n-1] = round(b[n-1] / U[n-1,n-1], D)\n",
    "    for i in range(n-2, -1, -1):\n",
    "        x[i] = ((b[i] - U[i,i+1:] @ x[i+1:]) / U[i,i]).round(D)\n",
    "    return x\n",
    "\n",
    "def backstep_L(L, b):\n",
    "    n = L.shape[1]\n",
    "    x = np.zeros(n)\n",
    "    x[0] = round(b[0] / L[0,0], D)\n",
    "    for i in range(1,n):\n",
    "        x[i] = ((b[i] - L[i,:i] @ x[:i]) / L[i,i]).round(D)\n",
    "    return x"
   ]
  },
  {
   "cell_type": "code",
   "execution_count": 4,
   "metadata": {},
   "outputs": [
    {
     "name": "stdout",
     "output_type": "stream",
     "text": [
      "[ 5.01157922e-05 -1.08661339e-05  2.79179162e-07  4.69562815e-07]\n"
     ]
    }
   ],
   "source": [
    "LOG = True\n",
    "U = np.triu(np.random.rand(4,4))\n",
    "x0 = np.random.rand(4)\n",
    "b = U @ x0\n",
    "x = backstep_U(U,b)\n",
    "\n",
    "print(x - x0)"
   ]
  },
  {
   "cell_type": "code",
   "execution_count": 5,
   "metadata": {},
   "outputs": [
    {
     "name": "stdout",
     "output_type": "stream",
     "text": [
      "[ 4.58762347e-07 -4.79659628e-07  7.21006510e-07 -7.74765917e-06]\n"
     ]
    }
   ],
   "source": [
    "LOG = True\n",
    "L = np.tril(np.random.rand(4,4))\n",
    "x0 = np.random.rand(4)\n",
    "b = L @ x0\n",
    "x = backstep_L(L,b)\n",
    "\n",
    "print(x - x0)"
   ]
  },
  {
   "cell_type": "markdown",
   "metadata": {},
   "source": [
    "# Метод 1: \"Квадратного кореня\"\n",
    "Використовується для симетричних матриць"
   ]
  },
  {
   "cell_type": "code",
   "execution_count": 6,
   "metadata": {},
   "outputs": [],
   "source": [
    "# 1. Факторизація симетричної додатньо визначеної A = LL'\n",
    "\n",
    "def LU_sym_factor(_A):\n",
    "    A = _A.astype(float)\n",
    "    n = A.shape[0]\n",
    "    L = np.zeros_like(A).astype(float)\n",
    "    for i in range(0, n):\n",
    "        for j in range(0,i):\n",
    "            L[i,j] = ((A[i,j] - L[i,0:i] @ L[j,0:i]) / L[j,j]).round(D)\n",
    "        L[i,i] = np.sqrt(A[i,i] - L[i,0:i] @ L[i,0:i]).round(D)\n",
    "        log(L)\n",
    "    return L, L.T"
   ]
  },
  {
   "cell_type": "code",
   "execution_count": 7,
   "metadata": {},
   "outputs": [],
   "source": [
    "# 2. Зворотній хід. Розв'язує систему LL'x = n; (Ly=b, L'x=y)\n",
    "def solve_LL(L, b):\n",
    "    n = L.shape[0]\n",
    "    \n",
    "    y = backstep_L(L, b)\n",
    "    log(\"y:\", y)\n",
    "    \n",
    "    x = backstep_U(L.T, y)\n",
    "    \n",
    "    return x"
   ]
  },
  {
   "cell_type": "markdown",
   "metadata": {},
   "source": [
    "# Метод 2: Гауса з півотами"
   ]
  },
  {
   "cell_type": "code",
   "execution_count": 8,
   "metadata": {},
   "outputs": [],
   "source": [
    "def solve_gauss(_A, _b):\n",
    "    A = _A.copy().astype(float)\n",
    "    b = _b.copy().astype(float)\n",
    "    \n",
    "    n = A.shape[0]\n",
    "    # permutations\n",
    "    pi = np.arange(n)\n",
    "    pj = np.arange(n)\n",
    "    # offset\n",
    "    ki, kj = 0, 0\n",
    "    steps = 1\n",
    "    while ki < n-1 and kj < n-1:\n",
    "        # find the largest element of the Bottom Right (BR)\n",
    "        M, absM = 0, 0\n",
    "        Mi, Mj = ki, kj\n",
    "        for i in range(ki,n):\n",
    "            for j in range(kj,n):\n",
    "                a = np.abs(A[i,j])\n",
    "                if a > M: \n",
    "                    absM, M, Mi, Mj = a, A[i,j], i, j\n",
    "        \n",
    "        # save permutation\n",
    "        pi[ki], pi[Mi] = pi[Mi], pi[ki]\n",
    "        pj[kj], pj[Mj] = pj[Mj], pj[kj]\n",
    "        \n",
    "        # swap rows and b\n",
    "        r1, r2 = A[ki], A[Mi]\n",
    "        A[ki], A[Mi] = r2.copy(), r1.copy()\n",
    "        \n",
    "        b1,b2 = b[ki], b[Mi]\n",
    "        b[ki], b[Mi] = b2,b1\n",
    "        \n",
    "        # swap cols and x\n",
    "        c1, c2 = A[:,kj], A[:,Mj]\n",
    "        A[:,kj], A[:,Mj] = c2.copy(), c1.copy()\n",
    "        \n",
    "        log(\"swap rows and cols\")\n",
    "        log(np.hstack([A, b.reshape(-1,1)]))\n",
    "        \n",
    "        BR = A[ki:,kj:]\n",
    "        \n",
    "        b[ki] = round(b[ki] / M, D)\n",
    "        BR[0] = (BR[0] / M).round(D)\n",
    "        \n",
    "        log(\"normalize\")\n",
    "        log(np.hstack([A, b.reshape(-1,1)]))\n",
    "\n",
    "        \n",
    "        b[ki+1:] -= b[ki] * BR[1:,0]\n",
    "        BR[1:] -= BR[0] * BR[1:,0].reshape(-1,1)\n",
    "\n",
    "        log(\"subtract\")\n",
    "        log(np.hstack([A, b.reshape(-1,1)]))\n",
    "\n",
    "        \n",
    "        ki += 1\n",
    "        kj += 1\n",
    "        steps += 1\n",
    "    \n",
    "    # last step\n",
    "    b[-1] = round(b[-1] / A[-1,-1], D)\n",
    "    A[-1,-1] = 1\n",
    "\n",
    "    log(\"last step - normalize\")\n",
    "    log(np.hstack([A, b.reshape(-1,1)]))\n",
    "\n",
    "    # зворотній хід\n",
    "    x = backstep_U(A, b)\n",
    "    \n",
    "    # inverse permutation\n",
    "    ipj = sorted(list(zip(pj, range(n))), key=lambda tup: tup[0])\n",
    "    ipj = [t[1] for t in ipj]\n",
    "    x = x[ipj]\n",
    "    \n",
    "    return x\n",
    "        "
   ]
  },
  {
   "cell_type": "code",
   "execution_count": 9,
   "metadata": {},
   "outputs": [
    {
     "name": "stdout",
     "output_type": "stream",
     "text": [
      "[[ 1.          2.          3.          4.39458943]\n",
      " [ 4.          5.          6.         10.70141583]\n",
      " [ 7.          8.         10.         17.71421031]]\n",
      "[0.51593  0.880379 0.705967]\n",
      "[0.51592959 0.88037779 0.70596808]\n",
      "[ 4.10034144e-07  1.20649990e-06 -1.08338574e-06]\n"
     ]
    }
   ],
   "source": [
    "LOG = False\n",
    "\n",
    "A = np.array([[1,2,3],[4,5,6],[7,8,10]])\n",
    "x0 = np.random.rand(3)\n",
    "# b = np.array([120,120,120])\n",
    "b = A @ x0\n",
    "\n",
    "print(np.hstack([A,b.reshape(-1,1)]))\n",
    "x = solve_gauss(A, b)\n",
    "\n",
    "print(x)\n",
    "print(x0)\n",
    "print(x - x0)"
   ]
  },
  {
   "cell_type": "markdown",
   "metadata": {},
   "source": [
    "# Завдання\n",
    "> Варіант 6 "
   ]
  },
  {
   "cell_type": "code",
   "execution_count": 10,
   "metadata": {},
   "outputs": [],
   "source": [
    "LOG = True\n",
    "D = 7\n",
    "\n",
    "A = np.array([\n",
    "    [5.5, 7., 6., 5.5],\n",
    "    [7., 10.5, 8., 7.,],\n",
    "    [6.0, 8.0, 10.5, 9.],\n",
    "    [5.5, 7., 9., 10.5]\n",
    "])\n",
    "b = np.array([23, 32, 33, 31])"
   ]
  },
  {
   "cell_type": "code",
   "execution_count": 11,
   "metadata": {},
   "outputs": [
    {
     "name": "stdout",
     "output_type": "stream",
     "text": [
      "[[2.3452079 0.        0.        0.       ]\n",
      " [0.        0.        0.        0.       ]\n",
      " [0.        0.        0.        0.       ]\n",
      " [0.        0.        0.        0.       ]]\n",
      "[[2.3452079 0.        0.        0.       ]\n",
      " [2.98481   1.2613125 0.        0.       ]\n",
      " [0.        0.        0.        0.       ]\n",
      " [0.        0.        0.        0.       ]]\n",
      "[[2.3452079 0.        0.        0.       ]\n",
      " [2.98481   1.2613125 0.        0.       ]\n",
      " [2.5584086 0.2883    1.9675946 0.       ]\n",
      " [0.        0.        0.        0.       ]]\n",
      "[[2.3452079 0.        0.        0.       ]\n",
      " [2.98481   1.2613125 0.        0.       ]\n",
      " [2.5584086 0.2883    1.9675946 0.       ]\n",
      " [2.3452079 0.        1.5247043 1.6356273]]\n",
      "y: [9.8072329 2.1622502 3.7028534 1.439352 ]\n",
      "\n",
      "x =  [0.1599997 1.4400002 1.2       0.88     ]\n",
      "Нев'язка:  [-2.50000003e-07  0.00000000e+00 -2.00000002e-07 -2.49999999e-07]\n"
     ]
    }
   ],
   "source": [
    "# square root method\n",
    "L, U = LU_sym_factor(A)\n",
    "x1 = solve_LL(L, b)\n",
    "r1 = A @ x1 - b\n",
    "print()\n",
    "print(\"x = \", x1)\n",
    "print(\"Нев'язка: \", r1)"
   ]
  },
  {
   "cell_type": "code",
   "execution_count": 12,
   "metadata": {},
   "outputs": [
    {
     "name": "stdout",
     "output_type": "stream",
     "text": [
      "swap rows and cols\n",
      "[[10.5  7.   8.   7.  32. ]\n",
      " [ 7.   5.5  6.   5.5 23. ]\n",
      " [ 8.   6.  10.5  9.  33. ]\n",
      " [ 7.   5.5  9.  10.5 31. ]]\n",
      "normalize\n",
      "[[ 1.         0.6666667  0.7619048  0.6666667  3.047619 ]\n",
      " [ 7.         5.5        6.         5.5       23.       ]\n",
      " [ 8.         6.        10.5        9.        33.       ]\n",
      " [ 7.         5.5        9.        10.5       31.       ]]\n",
      "subtract\n",
      "[[1.        0.6666667 0.7619048 0.6666667 3.047619 ]\n",
      " [0.        0.8333331 0.6666664 0.8333331 1.666667 ]\n",
      " [0.        0.6666664 4.4047616 3.6666664 8.619048 ]\n",
      " [0.        0.8333331 3.6666664 5.8333331 9.666667 ]]\n",
      "swap rows and cols\n",
      "[[1.        0.6666667 0.7619048 0.6666667 3.047619 ]\n",
      " [0.        5.8333331 3.6666664 0.8333331 9.666667 ]\n",
      " [0.        3.6666664 4.4047616 0.6666664 8.619048 ]\n",
      " [0.        0.8333331 0.6666664 0.8333331 1.666667 ]]\n",
      "normalize\n",
      "[[1.        0.6666667 0.7619048 0.6666667 3.047619 ]\n",
      " [0.        1.        0.6285714 0.1428571 1.657143 ]\n",
      " [0.        3.6666664 4.4047616 0.6666664 8.619048 ]\n",
      " [0.        0.8333331 0.6666664 0.8333331 1.666667 ]]\n",
      "subtract\n",
      "[[1.         0.6666667  0.7619048  0.6666667  3.047619  ]\n",
      " [0.         1.         0.6285714  0.1428571  1.657143  ]\n",
      " [0.         0.         2.09999997 0.14285707 2.54285744]\n",
      " [0.         0.         0.14285705 0.71428555 0.28571489]]\n",
      "swap rows and cols\n",
      "[[1.         0.6666667  0.7619048  0.6666667  3.047619  ]\n",
      " [0.         1.         0.6285714  0.1428571  1.657143  ]\n",
      " [0.         0.         2.09999997 0.14285707 2.54285744]\n",
      " [0.         0.         0.14285705 0.71428555 0.28571489]]\n",
      "normalize\n",
      "[[1.         0.6666667  0.7619048  0.6666667  3.047619  ]\n",
      " [0.         1.         0.6285714  0.1428571  1.657143  ]\n",
      " [0.         0.         1.         0.0680272  1.2108845 ]\n",
      " [0.         0.         0.14285705 0.71428555 0.28571489]]\n",
      "subtract\n",
      "[[1.         0.6666667  0.7619048  0.6666667  3.047619  ]\n",
      " [0.         1.         0.6285714  0.1428571  1.657143  ]\n",
      " [0.         0.         1.         0.0680272  1.2108845 ]\n",
      " [0.         0.         0.         0.70456739 0.1127315 ]]\n",
      "last step - normalize\n",
      "[[1.        0.6666667 0.7619048 0.6666667 3.047619 ]\n",
      " [0.        1.        0.6285714 0.1428571 1.657143 ]\n",
      " [0.        0.        1.        0.0680272 1.2108845]\n",
      " [0.        0.        0.        1.        0.160001 ]]\n",
      "\n",
      "x =  [0.160001  1.4399991 1.2000001 0.88     ]\n",
      "Нев'язка:  [-1.99999999e-07 -1.65000000e-06 -1.49999998e-07  1.00000001e-07]\n"
     ]
    }
   ],
   "source": [
    "# gauss method\n",
    "x2 = solve_gauss(A, b)\n",
    "r2 = A @ x2 - b\n",
    "print()\n",
    "print(\"x = \", x2)\n",
    "print(\"Нев'язка: \", r2)"
   ]
  }
 ],
 "metadata": {
  "kernelspec": {
   "display_name": "Python 3",
   "language": "python",
   "name": "python3"
  },
  "language_info": {
   "codemirror_mode": {
    "name": "ipython",
    "version": 3
   },
   "file_extension": ".py",
   "mimetype": "text/x-python",
   "name": "python",
   "nbconvert_exporter": "python",
   "pygments_lexer": "ipython3",
   "version": "3.8.6"
  }
 },
 "nbformat": 4,
 "nbformat_minor": 4
}
