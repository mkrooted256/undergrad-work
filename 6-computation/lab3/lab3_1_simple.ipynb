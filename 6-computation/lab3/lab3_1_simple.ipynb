{
 "cells": [
  {
   "cell_type": "markdown",
   "id": "circular-salmon",
   "metadata": {},
   "source": [
    "# Лабораторна робота 3\n",
    "## Частина 1. Метод простої ітерації\n",
    "ФІ-91, Михайло Корешков\n",
    "> Варіант 6"
   ]
  },
  {
   "cell_type": "code",
   "execution_count": 1,
   "id": "proof-belarus",
   "metadata": {},
   "outputs": [],
   "source": [
    "%matplotlib inline\n",
    "\n",
    "import numpy as np\n",
    "import matplotlib.pyplot as plt"
   ]
  },
  {
   "cell_type": "code",
   "execution_count": 2,
   "id": "subsequent-berkeley",
   "metadata": {},
   "outputs": [
    {
     "name": "stdout",
     "output_type": "stream",
     "text": [
      "[[ 5.5  7.   6.   5.5 23. ]\n",
      " [ 7.  10.5  8.   7.  32. ]\n",
      " [ 6.   8.  10.5  9.  33. ]\n",
      " [ 5.5  7.   9.  10.5 31. ]]\n"
     ]
    }
   ],
   "source": [
    "EPS = 1e-3\n",
    "PREC = 4\n",
    "\n",
    "A = np.array([\n",
    "    [5.5, 7., 6., 5.5],\n",
    "    [7., 10.5, 8., 7.],\n",
    "    [6.0, 8.0, 10.5, 9.],\n",
    "    [5.5, 7., 9., 10.5]\n",
    "])\n",
    "b = np.array([23, 32, 33, 31])\n",
    "\n",
    "# доповнена матриця системи\n",
    "Ab = np.hstack([A, b.reshape(-1,1)])\n",
    "print(Ab)"
   ]
  },
  {
   "cell_type": "markdown",
   "id": "inside-nickname",
   "metadata": {},
   "source": [
    "### Перетворюємо систему до вигляду з домінуючою діагоналлю\n"
   ]
  },
  {
   "cell_type": "code",
   "execution_count": 3,
   "id": "failing-digit",
   "metadata": {},
   "outputs": [
    {
     "name": "stdout",
     "output_type": "stream",
     "text": [
      "[[ 5.5         7.          6.          5.5        23.        ]\n",
      " [ 0.          1.59090909  0.36363636  0.          2.72727273]\n",
      " [ 0.          0.36363636  3.95454545  3.          7.90909091]\n",
      " [ 0.          0.          3.          5.          8.        ]]\n"
     ]
    }
   ],
   "source": [
    "# Row 2 = Row 2 - Row 1 * A_2,1 / A_1,1\n",
    "# Row 3 = Row 3 - Row 1 * A_3,1 / A_1,1\n",
    "# Row 4 = Row 4 - Row 1 * A_4,1 / A_1,1\n",
    "Ab1 = Ab - Ab[0] * Ab[:,0].reshape(-1,1) / Ab[0,0]\n",
    "Ab1[0] = Ab[0]\n",
    "print(Ab1)"
   ]
  },
  {
   "cell_type": "code",
   "execution_count": 4,
   "id": "accomplished-briefs",
   "metadata": {},
   "outputs": [
    {
     "name": "stdout",
     "output_type": "stream",
     "text": [
      "[[ 5.5         0.          4.4         5.5        11.        ]\n",
      " [ 0.          1.59090909  0.36363636  0.          2.72727273]\n",
      " [ 0.          0.36363636  3.95454545  3.          7.90909091]\n",
      " [ 0.          0.          3.          5.          8.        ]]\n"
     ]
    }
   ],
   "source": [
    "# Row 1 = Row 1 - Row 2 * A_1,2 / A_2,2\n",
    "Ab2 = Ab1.copy()\n",
    "Ab2[0] = Ab1[0] - Ab1[1] * Ab1[0,1] / Ab1[1,1]\n",
    "print(Ab2)"
   ]
  },
  {
   "cell_type": "code",
   "execution_count": 5,
   "id": "roman-stream",
   "metadata": {},
   "outputs": [
    {
     "name": "stdout",
     "output_type": "stream",
     "text": [
      "[[ 5.5        -0.66666667 -2.85        0.         -3.5       ]\n",
      " [ 0.          1.59090909  0.36363636  0.          2.72727273]\n",
      " [ 0.          0.36363636  3.95454545  3.          7.90909091]\n",
      " [ 0.          0.          3.          5.          8.        ]]\n"
     ]
    }
   ],
   "source": [
    "# Row 1 = Row 1 - Row 3 * A_1,4 / A_3,4\n",
    "Ab3 = Ab2.copy()\n",
    "Ab3[0] = Ab2[0] - Ab2[2] * Ab2[0,3] / Ab2[2,3]\n",
    "print(Ab3)"
   ]
  },
  {
   "cell_type": "code",
   "execution_count": 6,
   "id": "artistic-hindu",
   "metadata": {},
   "outputs": [],
   "source": [
    "def HasDominantDiagonal(A):\n",
    "    B = np.abs(A)\n",
    "    d = np.diag(B)\n",
    "    s = B.sum(axis=1)\n",
    "    return (s-d < d).all()\n",
    "\n",
    "def QConvergenceCodition(A):\n",
    "    B = np.abs(A)\n",
    "    rows_max = B.sum(axis=1).max()\n",
    "    cols_max = B.sum(axis=0).max()\n",
    "    return min(cols_max, rows_max)"
   ]
  },
  {
   "cell_type": "code",
   "execution_count": 7,
   "id": "particular-advertising",
   "metadata": {},
   "outputs": [
    {
     "name": "stdout",
     "output_type": "stream",
     "text": [
      "A:\n",
      " [[ 5.5     -0.66667 -2.85     0.     ]\n",
      " [ 0.       1.59091  0.36364  0.     ]\n",
      " [ 0.       0.36364  3.95455  3.     ]\n",
      " [ 0.       0.       3.       5.     ]] \n",
      "b:\n",
      " [-3.5      2.72727  7.90909  8.     ]\n",
      "Has dominant diagonal?  True\n"
     ]
    }
   ],
   "source": [
    "A = Ab3[:,0:4].round(PREC+1)\n",
    "b = Ab3[:,4].round(PREC+1)\n",
    "print(\"A:\\n\",A,\"\\nb:\\n\", b)\n",
    "print(\"Has dominant diagonal? \", HasDominantDiagonal(A))"
   ]
  },
  {
   "cell_type": "markdown",
   "id": "worth-geometry",
   "metadata": {},
   "source": [
    "## Метод простої ітерації\n",
    "$$Ax = b, \\quad A = D + Z$$, де $D$ - діагональна, а $Z_{ii} = 0$\n",
    "$$(D+Z)x = b \\implies Dx = - Zx + b$$\n",
    "$$x = -D^{-1} Z x + D^{-1} b$$\n",
    "Отже, $$C = -D^{-1} Z, \\quad d = D^{-1} b$$"
   ]
  },
  {
   "cell_type": "code",
   "execution_count": 8,
   "id": "civic-graphics",
   "metadata": {},
   "outputs": [],
   "source": [
    "def Simple_GetMatrices(A, b):\n",
    "    diag = A.diagonal()\n",
    "    Z = A.copy()\n",
    "    np.fill_diagonal(Z, 0)\n",
    "    \n",
    "    C = -Z / diag.reshape(-1,1)\n",
    "    d = b / diag\n",
    "    return C.round(PREC), d.round(PREC)\n",
    "\n",
    "def Simple_StopCriterium(dx, q, eps):\n",
    "    return (q/(1-q)) * np.abs(dx).max() < eps\n"
   ]
  },
  {
   "cell_type": "code",
   "execution_count": 9,
   "id": "about-airport",
   "metadata": {},
   "outputs": [],
   "source": [
    "def Simple_Run(A, b, eps, timeout=40):\n",
    "    if not HasDominantDiagonal(A):\n",
    "        print(\"Warning: No dominant diagonal! Method may diverge.\")\n",
    "    \n",
    "    C, d = Simple_GetMatrices(A, b)\n",
    "    print(\"C:\\n\", C)\n",
    "    print(\"d:\\n\", d)\n",
    "    \n",
    "    q = QConvergenceCodition(C)\n",
    "    if q > 1:\n",
    "        print(\"Error: Convergence criterium failed!\")\n",
    "    \n",
    "    print(\"q = \", q)\n",
    "        \n",
    "    print()\n",
    "    \n",
    "    n = b.shape[0]\n",
    "    x0 = np.zeros(n)\n",
    "    step = 0\n",
    "    \n",
    "    while step < timeout:\n",
    "        nvzk = (b-A@x0).round(PREC)\n",
    "        print(f\"i{step}: x={x0}, нев'язка={nvzk} ({np.linalg.norm(nvzk).round(PREC)})\")\n",
    "        x1 = (C @ x0).round(PREC) + d\n",
    "        if Simple_StopCriterium(x1-x0, q, eps):\n",
    "            print(\"stopped by stop criterium\")\n",
    "            break\n",
    "        x0 = x1\n",
    "        step += 1\n",
    "    \n",
    "    nvzk = (b-A@x0).round(PREC)\n",
    "    print(f\"Result: x={x0}, нев'язка={nvzk} ({np.linalg.norm(nvzk).round(PREC)})\")\n",
    "    \n",
    "    return x0"
   ]
  },
  {
   "cell_type": "code",
   "execution_count": 10,
   "id": "ecological-organic",
   "metadata": {},
   "outputs": [
    {
     "name": "stdout",
     "output_type": "stream",
     "text": [
      "C:\n",
      " [[-0.      0.1212  0.5182 -0.    ]\n",
      " [-0.     -0.     -0.2286 -0.    ]\n",
      " [-0.     -0.092  -0.     -0.7586]\n",
      " [-0.     -0.     -0.6    -0.    ]]\n",
      "d:\n",
      " [-0.6364  1.7143  2.      1.6   ]\n",
      "q =  0.8506\n",
      "\n",
      "i0: x=[0. 0. 0. 0.], нев'язка=[-3.5     2.7273  7.9091  8.    ] (12.0931)\n",
      "i1: x=[-0.6364  1.7143  2.      1.6   ], нев'язка=[ 6.8431 -0.7273 -5.4234 -6.    ] (10.6193)\n",
      "i2: x=[0.6078 1.2571 0.6285 0.4   ], нев'язка=[-4.2136  0.4988  3.7665  4.1145] (7.0085)\n",
      "i3: x=[-0.1584  1.5706  1.5809  1.2229], нев'язка=[ 2.9238 -0.3463 -2.5825 -2.8572] (4.8478)\n",
      "i4: x=[0.3732 1.3529 0.9278 0.6515], нев'язка=[-2.0064  0.2375  1.7936  1.9591] (3.3372)\n",
      "i5: x=[0.0084 1.5022 1.3813 1.0433], нев'язка=[ 1.392  -0.1649 -1.2295 -1.3604] (2.3081)\n",
      "i6: x=[0.2615 1.3985 1.0704 0.7712], нев'язка=[-0.9553  0.1131  0.854   0.9328] (1.589)\n",
      "i7: x=[0.0878 1.4696 1.2863 0.9578], нев'язка=[ 0.6628 -0.0785 -0.5855 -0.6479] (1.0991)\n",
      "i8: x=[0.2083 1.4203 1.1382 0.8282], нев'язка=[-0.4549  0.0538  0.4069  0.4444] (0.7569)\n",
      "i9: x=[0.1256 1.4541 1.2411 0.9171], нев'язка=[ 0.3157 -0.0374 -0.279  -0.3088] (0.5237)\n",
      "i10: x=[0.183  1.4306 1.1705 0.8553], нев'язка=[-0.2168  0.0257  0.1942  0.212 ] (0.361)\n",
      "i11: x=[0.1435 1.4467 1.2196 0.8977], нев'язка=[ 0.1511 -0.0178 -0.1331 -0.1473] (0.2501)\n",
      "i12: x=[0.1709 1.4355 1.1859 0.8682], нев'язка=[-0.1031  0.0123  0.0928  0.1013] (0.1722)\n",
      "i13: x=[0.1521 1.4432 1.2093 0.8885], нев'язка=[ 0.0721 -0.0085 -0.0635 -0.0704] (0.1194)\n",
      "i14: x=[0.1652 1.4379 1.1932 0.8744], нев'язка=[-0.0494  0.0058  0.0444  0.0484] (0.0824)\n",
      "i15: x=[0.1562 1.4415 1.2044 0.8841], нев'язка=[ 0.0344 -0.004  -0.0303 -0.0337] (0.057)\n",
      "i16: x=[0.1624 1.439  1.1967 0.8774], нев'язка=[-0.0233  0.0028  0.0212  0.0229] (0.039)\n",
      "i17: x=[0.1581 1.4407 1.202  0.882 ], нев'язка=[ 0.0166 -0.0018 -0.0142 -0.016 ] (0.0271)\n",
      "i18: x=[0.1611 1.4395 1.1984 0.8788], нев'язка=[-0.0109  0.0014  0.0101  0.0108] (0.0184)\n",
      "i19: x=[0.1591 1.4403 1.2009 0.881 ], нев'язка=[ 0.0077 -0.0008 -0.0067 -0.0077] (0.0128)\n",
      "i20: x=[0.1605 1.4398 1.1992 0.8795], нев'язка=[-0.0052  0.0006  0.0047  0.0049] (0.0086)\n",
      "i21: x=[0.1595 1.4402 1.2003 0.8805], нев'язка=[ 0.0037 -0.0004 -0.0028 -0.0034] (0.0058)\n",
      "i22: x=[0.1601 1.4399 1.1996 0.8798], нев'язка=[-0.0018  0.0003  0.0022  0.0022] (0.0036)\n",
      "i23: x=[0.1597 1.4401 1.2001 0.8802], нев'язка=[ 0.002  -0.0002 -0.001  -0.0013] (0.0026)\n",
      "i24: x=[0.16   1.44   1.1998 0.8799], нев'язка=[-0.0006  0.0001  0.0011  0.0011] (0.0017)\n",
      "i25: x=[0.1599 1.44   1.2    0.8801], нев'язка=[ 0.0006 -0.     -0.0003 -0.0005] (0.0008)\n",
      "stopped by stop criterium\n",
      "Result: x=[0.1599 1.44   1.2    0.8801], нев'язка=[ 0.0006 -0.     -0.0003 -0.0005] (0.0008)\n"
     ]
    },
    {
     "data": {
      "text/plain": [
       "array([0.1599, 1.44  , 1.2   , 0.8801])"
      ]
     },
     "execution_count": 10,
     "metadata": {},
     "output_type": "execute_result"
    }
   ],
   "source": [
    "Simple_Run(A, b, EPS)"
   ]
  },
  {
   "cell_type": "code",
   "execution_count": 11,
   "id": "canadian-money",
   "metadata": {},
   "outputs": [
    {
     "name": "stdout",
     "output_type": "stream",
     "text": [
      "Істинний корінь x* = [0.15999794 1.43999579 1.19999533 0.8800028 ]\n"
     ]
    }
   ],
   "source": [
    "print(\"Істинний корінь x* =\", np.linalg.solve(A,b))"
   ]
  },
  {
   "cell_type": "code",
   "execution_count": null,
   "id": "bottom-relief",
   "metadata": {},
   "outputs": [],
   "source": []
  }
 ],
 "metadata": {
  "kernelspec": {
   "display_name": "Python 3",
   "language": "python",
   "name": "python3"
  },
  "language_info": {
   "codemirror_mode": {
    "name": "ipython",
    "version": 3
   },
   "file_extension": ".py",
   "mimetype": "text/x-python",
   "name": "python",
   "nbconvert_exporter": "python",
   "pygments_lexer": "ipython3",
   "version": "3.8.6"
  }
 },
 "nbformat": 4,
 "nbformat_minor": 5
}
