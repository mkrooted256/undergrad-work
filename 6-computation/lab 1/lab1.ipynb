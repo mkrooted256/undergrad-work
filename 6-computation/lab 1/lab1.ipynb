{
 "cells": [
  {
   "cell_type": "code",
   "execution_count": 1,
   "id": "7ff452ad-ee64-4fed-83f4-d48299262771",
   "metadata": {},
   "outputs": [],
   "source": [
    "import numpy as np\n",
    "import matplotlib.pyplot as plt\n",
    "import scipy as sp\n",
    "from numpy.polynomial.polynomial import polydiv, polyder, polymul, polyadd, polyval"
   ]
  },
  {
   "cell_type": "markdown",
   "id": "837c2ff7-6c80-435b-8326-89e220296438",
   "metadata": {},
   "source": [
    "# Lab 1\n",
    "**Михайло Корешков, ФІ-91**  \n",
    "(*Варіант 6*)\n",
    "\n",
    "$P(x) = 2 - x -4x^2 + 2x^3$"
   ]
  },
  {
   "cell_type": "code",
   "execution_count": 2,
   "id": "1acc9c76-5ec5-4d01-9fbd-639d7f78d417",
   "metadata": {},
   "outputs": [],
   "source": [
    "P = np.array([2.0,-1.0,-4.0,2.0])\n",
    "n = 3"
   ]
  },
  {
   "cell_type": "markdown",
   "id": "bd48150e-2289-49cd-add4-783b4c7f194e",
   "metadata": {
    "tags": []
   },
   "source": [
    "## 1. Передпрограмний етап"
   ]
  },
  {
   "cell_type": "markdown",
   "id": "b53d2f69-3710-43e6-8254-71412151369d",
   "metadata": {},
   "source": [
    "### 1.1. Верхня межа додатніх коренів"
   ]
  },
  {
   "cell_type": "code",
   "execution_count": 3,
   "id": "2eb27b7e-c0d9-4f1e-9f54-c20b0b160a06",
   "metadata": {},
   "outputs": [
    {
     "name": "stdout",
     "output_type": "stream",
     "text": [
      "(max a_i : a_i < 0) = 2\n",
      "(max |a_i| : a_i < 0) = 4.0\n",
      "Верхня межа коренів:  3.0\n"
     ]
    }
   ],
   "source": [
    "B = -np.inf\n",
    "m = -np.inf\n",
    "for i,v in enumerate(P):\n",
    "    if np.abs(v) > B and v < 0:\n",
    "        B, B_i = np.abs(v), i\n",
    "    if i > m and v < 0:\n",
    "        m = i\n",
    "max_bound = 1 + np.power(B / P[n], 1/(n-m))\n",
    "print(f\"(max a_i : a_i < 0) = {m}\")\n",
    "print(f\"(max |a_i| : a_i < 0) = {B}\")\n",
    "print(\"Верхня межа коренів: \", max_bound) "
   ]
  },
  {
   "cell_type": "code",
   "execution_count": null,
   "id": "2184f656-432b-41fe-a6ae-36ed134d28b5",
   "metadata": {},
   "outputs": [],
   "source": []
  },
  {
   "cell_type": "markdown",
   "id": "3951019b-338d-45d3-9269-40d024c62a54",
   "metadata": {
    "tags": []
   },
   "source": [
    "### 1.2. Нижня межа додатніх коренів"
   ]
  },
  {
   "cell_type": "code",
   "execution_count": 4,
   "id": "dcb7b225-3e66-437b-ae4d-0bbcb564d96a",
   "metadata": {},
   "outputs": [
    {
     "name": "stdout",
     "output_type": "stream",
     "text": [
      "P:  [ 2. -4. -1.  2.]\n",
      "(max a_i : a_i < 0) = 2\n",
      "(max |a_i| : a_i < 0) = 4.0\n",
      "Нижня межа додатніх коренів:  0.3333333333333333\n"
     ]
    }
   ],
   "source": [
    "m = +np.inf\n",
    "for i,v in enumerate(P):\n",
    "    if v < 0:\n",
    "        m = i\n",
    "        break\n",
    "m = n-m\n",
    "min_positive_bound = 1/(1 + np.power(B / P[0], 1/(n-m)))\n",
    "print(\"P: \", np.flip(P))\n",
    "print(f\"(max a_i : a_i < 0) = {m}\")\n",
    "print(f\"(max |a_i| : a_i < 0) = {B}\")\n",
    "print(\"Нижня межа додатніх коренів: \", min_positive_bound)"
   ]
  },
  {
   "cell_type": "code",
   "execution_count": null,
   "id": "6a2327a5-9f7f-4448-a06a-3d10501db888",
   "metadata": {},
   "outputs": [],
   "source": []
  },
  {
   "cell_type": "markdown",
   "id": "c0c4a78c-05e4-41ac-8a1b-e94f92bd7e2b",
   "metadata": {},
   "source": [
    "### 1.3. Нижня межа від'ємних коренів"
   ]
  },
  {
   "cell_type": "code",
   "execution_count": 5,
   "id": "a3bcff31-ccb7-4848-aa99-15b57b32c5de",
   "metadata": {},
   "outputs": [
    {
     "name": "stdout",
     "output_type": "stream",
     "text": [
      "Поліном після заміни x на -x:  [ 2.  1. -4. -2.]\n",
      "(max a_i : a_i < 0) = 2\n",
      "(max |a_i| : a_i < 0) = 4.0\n",
      "Нижня межа коренів:  -1.0\n"
     ]
    }
   ],
   "source": [
    "P_neg = P * (2 * (np.arange(1,n+2) % 2) - 1)\n",
    "print(\"Поліном після заміни x на -x: \", P_neg)\n",
    "B = -np.inf\n",
    "for i,v in enumerate(P_neg):\n",
    "    if np.abs(v) > B and v < 0:\n",
    "        B, m = np.abs(v), i\n",
    "min_bound = 1 + np.power(B / P_neg[n], 1/(n-m))\n",
    "print(f\"(max a_i : a_i < 0) = {m}\")\n",
    "print(f\"(max |a_i| : a_i < 0) = {B}\")\n",
    "print(\"Нижня межа коренів: \", min_bound) "
   ]
  },
  {
   "cell_type": "code",
   "execution_count": null,
   "id": "ece6835f-fe5a-4cc5-b855-6b0bc5f06ecc",
   "metadata": {},
   "outputs": [],
   "source": []
  },
  {
   "cell_type": "markdown",
   "id": "db7aa1d1-329e-4873-b950-16fbfe5dae86",
   "metadata": {
    "tags": []
   },
   "source": [
    "## 1.4. Верхня межа від'ємних коренів"
   ]
  },
  {
   "cell_type": "code",
   "execution_count": 6,
   "id": "d8073189-24e5-45bd-b2ee-44bd167b5e17",
   "metadata": {},
   "outputs": [
    {
     "name": "stdout",
     "output_type": "stream",
     "text": [
      "P:  [-2. -4.  1.  2.]\n",
      "(max a_i : a_i < 0) = 1\n",
      "(max |a_i| : a_i < 0) = 4.0\n",
      "Верхня межа додатніх коренів:  -0.4142135623730951\n"
     ]
    }
   ],
   "source": [
    "m = +np.inf\n",
    "for i,v in enumerate(P_neg):\n",
    "    if v < 0:\n",
    "        m = i\n",
    "        break\n",
    "m = n-m\n",
    "max_negative_bound = -1/(1 + np.power(B / P[0], 1/(n-m)))\n",
    "print(\"P: \", np.flip(P_neg))\n",
    "print(f\"(max a_i : a_i < 0) = {m}\")\n",
    "print(f\"(max |a_i| : a_i < 0) = {B}\")\n",
    "print(\"Верхня межа додатніх коренів: \", max_negative_bound)"
   ]
  },
  {
   "cell_type": "code",
   "execution_count": null,
   "id": "f4fa8761-f6ab-4ea8-a3bc-7b63188deb5a",
   "metadata": {},
   "outputs": [],
   "source": []
  },
  {
   "cell_type": "markdown",
   "id": "141fb597-6f9c-4ec9-a19c-89c6c27fd5f7",
   "metadata": {},
   "source": [
    "## 1.5. Метод Штурма"
   ]
  },
  {
   "cell_type": "code",
   "execution_count": 7,
   "id": "5af1f97d-91d0-42f2-96da-8a18af1cd0a5",
   "metadata": {},
   "outputs": [
    {
     "data": {
      "text/plain": [
       "array([ 2., -1., -4.,  2.])"
      ]
     },
     "execution_count": 7,
     "metadata": {},
     "output_type": "execute_result"
    }
   ],
   "source": [
    "P0 = P; P0"
   ]
  },
  {
   "cell_type": "code",
   "execution_count": 8,
   "id": "be6e1e49-c084-4807-b969-93b70f6f5e1b",
   "metadata": {},
   "outputs": [
    {
     "data": {
      "text/plain": [
       "array([-1., -8.,  6.])"
      ]
     },
     "execution_count": 8,
     "metadata": {},
     "output_type": "execute_result"
    }
   ],
   "source": [
    "P1 = polyder(P); P1"
   ]
  },
  {
   "cell_type": "code",
   "execution_count": 9,
   "id": "c3246891-84d6-48ef-8348-67198cb9a131",
   "metadata": {},
   "outputs": [
    {
     "data": {
      "text/plain": [
       "array([-1.77777778,  2.44444444])"
      ]
     },
     "execution_count": 9,
     "metadata": {},
     "output_type": "execute_result"
    }
   ],
   "source": [
    "# polydiv(f, g) = q, r\n",
    "P2 = -polydiv(P0,P1)[1]; P2"
   ]
  },
  {
   "cell_type": "code",
   "execution_count": 10,
   "id": "2436a60b-dee7-43b1-8b37-1048ca94a936",
   "metadata": {},
   "outputs": [
    {
     "data": {
      "text/plain": [
       "array([3.6446281])"
      ]
     },
     "execution_count": 10,
     "metadata": {},
     "output_type": "execute_result"
    }
   ],
   "source": [
    "P3 = -polydiv(P1,P2)[1]; P3"
   ]
  },
  {
   "cell_type": "code",
   "execution_count": 11,
   "id": "0576c655-2181-42c1-9709-2367a2037985",
   "metadata": {},
   "outputs": [
    {
     "data": {
      "text/plain": [
       "array([0.])"
      ]
     },
     "execution_count": 11,
     "metadata": {},
     "output_type": "execute_result"
    }
   ],
   "source": [
    "P4 = -polydiv(P2,P3)[1]; P4"
   ]
  },
  {
   "cell_type": "code",
   "execution_count": 12,
   "id": "c5fb7299-d81c-4c33-920d-e433695f593f",
   "metadata": {},
   "outputs": [],
   "source": [
    "def sturm(x):\n",
    "    return polyval(x, P0),  polyval(x, P1), polyval(x, P2), polyval(x, P3)"
   ]
  },
  {
   "cell_type": "code",
   "execution_count": 13,
   "id": "517dfbdf-08c6-4e3e-884c-8fae82abb1a4",
   "metadata": {},
   "outputs": [
    {
     "data": {
      "text/plain": [
       "(-3.0, 13.0, -4.222222222222222, 3.644628099173554)"
      ]
     },
     "execution_count": 13,
     "metadata": {},
     "output_type": "execute_result"
    }
   ],
   "source": [
    "sturm(min_bound) # (1)"
   ]
  },
  {
   "cell_type": "code",
   "execution_count": 14,
   "id": "e9ae1edb-ed1f-487f-891b-b8e9002a2139",
   "metadata": {},
   "outputs": [
    {
     "data": {
      "text/plain": [
       "(17.0, 29.0, 5.555555555555556, 3.644628099173554)"
      ]
     },
     "execution_count": 14,
     "metadata": {},
     "output_type": "execute_result"
    }
   ],
   "source": [
    "sturm(max_bound) # (2)"
   ]
  },
  {
   "cell_type": "markdown",
   "id": "e9285fea-298e-4e15-b375-d7f46ce47716",
   "metadata": {},
   "source": [
    "Маємо 3 зміни знаку в (1) та 0 змін знаку в (2).  \n",
    "Отже, між нижньою та верхньою межами коренів - **3 дійсних кореня**.  \n",
    "\n",
    "Степінь полінома - також 3, отже маємо **0 комплексних коренів**"
   ]
  },
  {
   "cell_type": "code",
   "execution_count": 15,
   "id": "16931b11-007b-4e4d-a7a5-fd54b5669392",
   "metadata": {},
   "outputs": [
    {
     "data": {
      "text/plain": [
       "(2.0, -1.0, -1.7777777777777777, 3.644628099173554)"
      ]
     },
     "execution_count": 15,
     "metadata": {},
     "output_type": "execute_result"
    }
   ],
   "source": [
    "sturm(0) # (3)"
   ]
  },
  {
   "cell_type": "markdown",
   "id": "dcb1b3ca-d81b-447c-ab29-12e8477008fd",
   "metadata": {},
   "source": [
    "2 зміни знаку.  \n",
    "Отже **між нижньою межею та 0 маємо 1 корінь**"
   ]
  },
  {
   "cell_type": "code",
   "execution_count": 16,
   "id": "5731eeba-5468-4f16-9fa6-efc76a834c5b",
   "metadata": {},
   "outputs": [
    {
     "data": {
      "text/plain": [
       "(-1.0, -3.0, 0.666666666666667, 3.644628099173554)"
      ]
     },
     "execution_count": 16,
     "metadata": {},
     "output_type": "execute_result"
    }
   ],
   "source": [
    "sturm(1) # (4)"
   ]
  },
  {
   "cell_type": "markdown",
   "id": "aed0e47e-8571-4512-8080-78ebf39672b4",
   "metadata": {},
   "source": [
    "1 зміна знаку  \n",
    "Отже **між 0 та 1 маємо 1 корінь**"
   ]
  },
  {
   "cell_type": "code",
   "execution_count": 17,
   "id": "f647dc3a-bf1e-4688-b491-e5e591f250df",
   "metadata": {},
   "outputs": [
    {
     "name": "stdout",
     "output_type": "stream",
     "text": [
      "Початкові межі між коренями:  [-1.0, 0, 1, 3.0]\n"
     ]
    }
   ],
   "source": [
    "init_borders = [min_bound, 0, 1, max_bound]; \n",
    "print(\"Початкові межі між коренями: \", init_borders)"
   ]
  },
  {
   "cell_type": "markdown",
   "id": "629c1c65-6ac0-4009-b551-c6381a306b51",
   "metadata": {},
   "source": [
    "### 1.6. Графік"
   ]
  },
  {
   "cell_type": "code",
   "execution_count": 18,
   "id": "c5f7b54b-75a4-408a-9ba2-65afedd193a1",
   "metadata": {},
   "outputs": [
    {
     "data": {
      "image/png": "[encoded data removed]",
      "text/plain": [
       "<Figure size 432x288 with 1 Axes>"
      ]
     },
     "metadata": {
      "needs_background": "light"
     },
     "output_type": "display_data"
    }
   ],
   "source": [
    "X = np.linspace(min_bound, max_bound, 20)\n",
    "plt.scatter(X, polyval(X, P))\n",
    "plt.gca().axhline(0, c='k', lw=1)\n",
    "for b in init_borders:\n",
    "    plt.gca().axvline(b, c='r', lw=0.5)"
   ]
  },
  {
   "cell_type": "markdown",
   "id": "58aa55f8-99ad-4b3c-a370-c010df6df318",
   "metadata": {},
   "source": [
    "## 1.7. Метод Лагранжа\n",
    "\n",
    "$$P(x) = 2 - x -4x^2 + 2x^3$$\n",
    "$$F(x) = 2x^3 - 4x^2 - x$$\n",
    "$$\\Phi(x) = 2$$\n"
   ]
  },
  {
   "cell_type": "code",
   "execution_count": 19,
   "id": "56c62509-a4c0-4dc4-b900-ce8cef2bb48c",
   "metadata": {},
   "outputs": [
    {
     "data": {
      "text/plain": [
       "Text(0.5, 1.0, 'Метод Лагранжа (додатні корені), $F(x)$')"
      ]
     },
     "execution_count": 19,
     "metadata": {},
     "output_type": "execute_result"
    },
    {
     "data": {
      "image/png": "[encoded data removed]",
      "text/plain": [
       "<Figure size 432x288 with 1 Axes>"
      ]
     },
     "metadata": {
      "needs_background": "light"
     },
     "output_type": "display_data"
    }
   ],
   "source": [
    "def F(x):\n",
    "    return 2*x**3 - 4*x**2 - x\n",
    "\n",
    "X1 = np.linspace(-5, 5, 25) \n",
    "plt.scatter(X1, F(X1), s=10)\n",
    "plt.gca().axhline(0, c='k', lw=1)\n",
    "plt.gca().axvline(2.5, c='k', lw=1)\n",
    "plt.gca().set_title(\"Метод Лагранжа (додатні корені), $F(x)$\") "
   ]
  },
  {
   "cell_type": "markdown",
   "id": "5eaeebb0-e98f-4548-a081-60d5573a8895",
   "metadata": {},
   "source": [
    "Бачимо, що $F(x)$ більше нуля після $2.5$. Можемо взяти це число як верхню границю додатніх коренів\n",
    "\n",
    "**від'ємні корені**  \n",
    "$$P(x) = -2 + x +4x^2 - 2x^3$$\n",
    "$$F(x) = -2x^3 -2$$"
   ]
  },
  {
   "cell_type": "code",
   "execution_count": 20,
   "id": "a31a64a9-7df9-4c9a-bcc0-50fdd374f288",
   "metadata": {},
   "outputs": [
    {
     "data": {
      "text/plain": [
       "Text(0.5, 1.0, \"Метод Лагранжа (від'ємні корені), $F_{neg}(x)$\")"
      ]
     },
     "execution_count": 20,
     "metadata": {},
     "output_type": "execute_result"
    },
    {
     "data": {
      "image/png": "[encoded data removed]",
      "text/plain": [
       "<Figure size 432x288 with 1 Axes>"
      ]
     },
     "metadata": {
      "needs_background": "light"
     },
     "output_type": "display_data"
    }
   ],
   "source": [
    "def F_neg(x):\n",
    "    return -2*x**3 - 2\n",
    "\n",
    "plt.scatter(X1, F_neg(X1), s=10)\n",
    "plt.gca().axhline(0, c='k', lw=1)\n",
    "plt.gca().axvline(-1.5, c='k', lw=1)\n",
    "plt.gca().set_title(\"Метод Лагранжа (від'ємні корені), $F_{neg}(x)$\") "
   ]
  },
  {
   "cell_type": "markdown",
   "id": "b5a0cfae-0c5f-4ffe-8e8e-5c1f469c5f5f",
   "metadata": {},
   "source": [
    "Бачимо, що  $F(x)$  більше нуля до $-1.5$ . Можемо взяти це число як нижню границю від'ємних коренів"
   ]
  },
  {
   "cell_type": "markdown",
   "id": "357c322a-b2bd-4bce-90df-d0340ff65a98",
   "metadata": {},
   "source": [
    "# 2. Уточнення коренів"
   ]
  },
  {
   "cell_type": "code",
   "execution_count": 21,
   "id": "477b85c7-0989-4cb4-be22-79805fede1f6",
   "metadata": {},
   "outputs": [],
   "source": [
    "def log(*args, **kwargs):\n",
    "    if LOG:\n",
    "        print(*args, **kwargs)\n",
    "\n",
    "LOG = True"
   ]
  },
  {
   "cell_type": "code",
   "execution_count": 22,
   "id": "ca2d0577-eead-4513-a8ca-b5ad234b1724",
   "metadata": {},
   "outputs": [],
   "source": [
    "def f(x):\n",
    "    return polyval(x,P)\n",
    "\n",
    "def df(x):\n",
    "    return polyval(x, P1)"
   ]
  },
  {
   "cell_type": "code",
   "execution_count": 23,
   "id": "62a9f8aa-a00f-4c04-ac65-8ee9bfd1a278",
   "metadata": {},
   "outputs": [],
   "source": [
    "EPS = 10e-8"
   ]
  },
  {
   "cell_type": "code",
   "execution_count": 24,
   "id": "3a036e6c-fe58-4c90-92eb-0c86aff56aec",
   "metadata": {},
   "outputs": [],
   "source": [
    "Results = dict()"
   ]
  },
  {
   "cell_type": "markdown",
   "id": "a68b1626-4008-4898-9ffc-3c729e738608",
   "metadata": {},
   "source": [
    "## 2.1. Метод Бісекції\n",
    "**Вхід:** \n",
    "- Кінці інтервалу з гарантовано одним коренем  \n",
    "    (Функція має в цьому корені змінювати знак)\n",
    "- Точність $\\varepsilon$\n",
    "\n",
    "**Вихід**:\n",
    "- Наближений корінь $x^*$ з точністю $|x^* - x_{true}| < \\varepsilon$"
   ]
  },
  {
   "cell_type": "code",
   "execution_count": 25,
   "id": "8a8e3475-5784-4879-9395-37fde59dc060",
   "metadata": {},
   "outputs": [],
   "source": [
    "def bisect(f, a, b, eps, timeout=1000):\n",
    "    a = float(a)\n",
    "    b = float(b)\n",
    "    n = 1\n",
    "    log(\"Bisection method.\")\n",
    "    while np.abs(a-b) > eps and n < timeout:\n",
    "        c = (a+b)/2\n",
    "        fc = f(c)\n",
    "        log(f\"it {n}: a={a}, b={b}, c={c}, f(c)={fc} \", end='')\n",
    "        sfc = np.sign(fc)\n",
    "        if np.sign(f(a)) * sfc < 0:\n",
    "            log(\"-> [a,c]\")\n",
    "            a, b = a, c\n",
    "        elif sfc * np.sign(f(b)) < 0:\n",
    "            log(\"-> [c,b]\")\n",
    "            a, b = c, b\n",
    "        elif -eps < fc < eps:\n",
    "            log(\"-> (|f(c)| < eps) -> root found!\")\n",
    "            return c\n",
    "        else:\n",
    "            log(\"; Something wrong. Let's shift boundaries a bit.\")\n",
    "            a = a+eps\n",
    "            b = b+eps\n",
    "        n += 1\n",
    "        \n",
    "    log(\"Finished. \", end='')\n",
    "    if np.abs(a-b) < eps:\n",
    "        log(\"|a-b|<eps\")\n",
    "    else:\n",
    "        log(\"timeout\")\n",
    "    return (a+b)/2"
   ]
  },
  {
   "cell_type": "code",
   "execution_count": 26,
   "id": "67bf56b1-ea14-4e97-9e53-50746343b603",
   "metadata": {},
   "outputs": [
    {
     "name": "stdout",
     "output_type": "stream",
     "text": [
      "Bisection method.\n",
      "it 1: a=-1.0, b=0.0, c=-0.5, f(c)=1.25 -> [a,c]\n",
      "it 2: a=-1.0, b=-0.5, c=-0.75, f(c)=-0.34375 -> [c,b]\n",
      "it 3: a=-0.75, b=-0.5, c=-0.625, f(c)=0.57421875 -> [a,c]\n",
      "it 4: a=-0.75, b=-0.625, c=-0.6875, f(c)=0.14697265625 -> [a,c]\n",
      "it 5: a=-0.75, b=-0.6875, c=-0.71875, f(c)=-0.09027099609375 -> [c,b]\n",
      "it 6: a=-0.71875, b=-0.6875, c=-0.703125, f(c)=0.03035736083984375 -> [a,c]\n",
      "it 7: a=-0.71875, b=-0.703125, c=-0.7109375, f(c)=-0.02945232391357422 -> [c,b]\n",
      "it 8: a=-0.7109375, b=-0.703125, c=-0.70703125, f(c)=0.0005782842636108398 -> [a,c]\n",
      "it 9: a=-0.7109375, b=-0.70703125, c=-0.708984375, f(c)=-0.01440553367137909 -> [c,b]\n",
      "it 10: a=-0.708984375, b=-0.70703125, c=-0.7080078125, f(c)=-0.006905758753418922 -> [c,b]\n",
      "it 11: a=-0.7080078125, b=-0.70703125, c=-0.70751953125, f(c)=-0.0031617714557796717 -> [c,b]\n",
      "it 12: a=-0.70751953125, b=-0.70703125, c=-0.707275390625, f(c)=-0.0012912522361148149 -> [c,b]\n",
      "it 13: a=-0.707275390625, b=-0.70703125, c=-0.7071533203125, f(c)=-0.0003563611571735237 -> [c,b]\n",
      "it 14: a=-0.7071533203125, b=-0.70703125, c=-0.70709228515625, f(c)=0.00011099225912403199 -> [a,c]\n",
      "it 15: a=-0.7071533203125, b=-0.70709228515625, c=-0.707122802734375, f(c)=-0.0001226767723778721 -> [c,b]\n",
      "it 16: a=-0.707122802734375, b=-0.70709228515625, c=-0.7071075439453125, f(c)=-5.84033748651791e-06 -> [c,b]\n",
      "it 17: a=-0.7071075439453125, b=-0.70709228515625, c=-0.7070999145507812, f(c)=5.257644060119304e-05 -> [a,c]\n",
      "it 18: a=-0.7071075439453125, b=-0.7070999145507812, c=-0.7071037292480469, f(c)=2.336817150316861e-05 -> [a,c]\n",
      "it 19: a=-0.7071075439453125, b=-0.7071037292480469, c=-0.7071056365966797, f(c)=8.763946995005156e-06 -> [a,c]\n",
      "it 20: a=-0.7071075439453125, b=-0.7071056365966797, c=-0.7071065902709961, f(c)=1.4618122508025522e-06 -> [a,c]\n",
      "it 21: a=-0.7071075439453125, b=-0.7071065902709961, c=-0.7071070671081543, f(c)=-2.1892607438012135e-06 -> [c,b]\n",
      "it 22: a=-0.7071070671081543, b=-0.7071065902709961, c=-0.7071068286895752, f(c)=-3.6372377776316966e-07 -> [c,b]\n",
      "it 23: a=-0.7071068286895752, b=-0.7071065902709961, c=-0.7071067094802856, f(c)=5.49044353537198e-07 -> [a,c]\n",
      "it 24: a=-0.7071068286895752, b=-0.7071067094802856, c=-0.7071067690849304, f(c)=9.266031719690204e-08 -> [a,c]\n",
      "Finished. |a-b|<eps\n",
      "Bisection method.\n",
      "it 1: a=0.0, b=1.0, c=0.5, f(c)=0.75 -> [c,b]\n",
      "it 2: a=0.5, b=1.0, c=0.75, f(c)=-0.15625 -> [a,c]\n",
      "it 3: a=0.5, b=0.75, c=0.625, f(c)=0.30078125 -> [c,b]\n",
      "it 4: a=0.625, b=0.75, c=0.6875, f(c)=0.07177734375 -> [c,b]\n",
      "it 5: a=0.6875, b=0.75, c=0.71875, f(c)=-0.04254150390625 -> [a,c]\n",
      "it 6: a=0.6875, b=0.71875, c=0.703125, f(c)=0.01456451416015625 -> [c,b]\n",
      "it 7: a=0.703125, b=0.71875, c=0.7109375, f(c)=-0.014004707336425781 -> [a,c]\n",
      "it 8: a=0.703125, b=0.7109375, c=0.70703125, f(c)=0.00027620792388916016 -> [c,b]\n",
      "it 9: a=0.70703125, b=0.7109375, c=0.708984375, f(c)=-0.006865218281745911 -> [a,c]\n",
      "it 10: a=0.70703125, b=0.708984375, c=0.7080078125, f(c)=-0.0032947417348623276 -> [a,c]\n",
      "it 11: a=0.70703125, b=0.7080078125, c=0.70751953125, f(c)=-0.0015093253459781408 -> [a,c]\n",
      "it 12: a=0.70703125, b=0.70751953125, c=0.707275390625, f(c)=-0.0006165732338558882 -> [a,c]\n",
      "it 13: a=0.70703125, b=0.707275390625, c=0.7071533203125, f(c)=-0.0001701862747722771 -> [a,c]\n",
      "it 14: a=0.70703125, b=0.7071533203125, c=0.70709228515625, f(c)=5.3009920975455316e-05 -> [c,b]\n",
      "it 15: a=0.70709228515625, b=0.7071533203125, c=0.707122802734375, f(c)=-5.85884029646877e-05 -> [a,c]\n",
      "it 16: a=0.70709228515625, b=0.707122802734375, c=0.7071075439453125, f(c)=-2.7892974898691136e-06 -> [a,c]\n",
      "it 17: a=0.70709228515625, b=0.7071075439453125, c=0.7070999145507812, f(c)=2.5110297621644406e-05 -> [c,b]\n",
      "it 18: a=0.7070999145507812, b=0.7071075439453125, c=0.7071037292480469, f(c)=1.1160496535378428e-05 -> [c,b]\n",
      "it 19: a=0.7071037292480469, b=0.7071075439453125, c=0.7071056365966797, f(c)=4.185598639905308e-06 -> [c,b]\n",
      "it 20: a=0.7071056365966797, b=0.7071075439453125, c=0.7071065902709961, f(c)=6.981503544167822e-07 -> [c,b]\n",
      "it 21: a=0.7071065902709961, b=0.7071075439453125, c=0.7071070671081543, f(c)=-1.0455736227932277e-06 -> [a,c]\n",
      "it 22: a=0.7071065902709961, b=0.7071070671081543, c=0.7071068286895752, f(c)=-1.7371164817703288e-07 -> [a,c]\n",
      "it 23: a=0.7071065902709961, b=0.7071068286895752, c=0.7071067094802856, f(c)=2.622193497892056e-07 -> [c,b]\n",
      "it 24: a=0.7071067094802856, b=0.7071068286895752, c=0.7071067690849304, f(c)=4.425384991790793e-08 -> [c,b]\n",
      "Finished. |a-b|<eps\n",
      "Bisection method.\n",
      "it 1: a=1.0, b=3.0, c=2.0, f(c)=0.0 -> (|f(c)| < eps) -> root found!\n",
      "\n",
      "Корені, уточнені методом Бісекції:  [-0.7071067988872528, 0.7071067988872528, 2.0]\n"
     ]
    }
   ],
   "source": [
    "roots = []\n",
    "for i in range(len(init_borders)-1):\n",
    "    roots.append(bisect(f, init_borders[i], init_borders[i+1], EPS))\n",
    "\n",
    "print(\"\\nКорені, уточнені методом Бісекції: \", roots)\n",
    "Results['bisection'] = roots"
   ]
  },
  {
   "cell_type": "markdown",
   "id": "0ab96658-903e-430d-9593-b6b2df979c45",
   "metadata": {},
   "source": [
    "## 2.2. Метод Хорд\n",
    "**Вхід:** \n",
    "- Кінці інтервалу з гарантовано одним коренем  \n",
    "    (Функція має в цьому корені змінювати знак)\n",
    "- Точність $\\varepsilon$\n",
    "\n",
    "*Рекомендовано:*\n",
    "- Монотонність\n",
    "- Знакосталість другої похідної\n",
    "\n",
    "**Вихід**:\n",
    "- Наближений корінь $x^*$ з точністю $|x^* - x_{true}| < \\varepsilon$"
   ]
  },
  {
   "cell_type": "code",
   "execution_count": 27,
   "id": "aa2fdb1e-3357-4b56-9cab-4dd1c733af4b",
   "metadata": {},
   "outputs": [],
   "source": [
    "def chord(f, a, b, eps, timeout=1000):\n",
    "    a = float(a)\n",
    "    b = float(b)\n",
    "    log(\"Chord method.\")\n",
    "    \n",
    "    def gen_c(a,b):\n",
    "        fa, fb = f(a), f(b)\n",
    "        c = (a*f(b) - b*f(a))/(f(b) - f(a))\n",
    "        return c, fa, f(c), fb\n",
    "    \n",
    "    n = 1\n",
    "    c_prev = np.inf\n",
    "    c, fa, fc, fb = gen_c(a,b)\n",
    "    while np.abs(fc) > eps and np.abs(c-c_prev) > eps and n < timeout:\n",
    "        log(f\"it {n}: a={a}, b={b}, c={c}, f(c)={fc} \", end='')\n",
    "        if np.sign(fa) * np.sign(fc) < 0:\n",
    "            a, b, c_prev = a, c, c\n",
    "            log(\"-> [a,c]\")\n",
    "        elif np.sign(fc) * np.sign(fb) < 0:\n",
    "            a, b, c_prev = c, b, c\n",
    "            log(\"-> [c,b]\")\n",
    "        c, fa, fc, fb = gen_c(a,b)\n",
    "        n += 1\n",
    "    log(\"Chord method finished. \", end='')\n",
    "    if np.abs(fc) < eps:\n",
    "        log(\"(|f(c)| < eps) - root found\")\n",
    "    elif np.abs(c-c_prev) < eps:\n",
    "        log(\"|c-c_prev| < eps\")\n",
    "    else:\n",
    "        log(\"timeout\")\n",
    "    \n",
    "    return c"
   ]
  },
  {
   "cell_type": "code",
   "execution_count": 28,
   "id": "0d6cda35-cb9d-4fcb-8771-a50419309a0a",
   "metadata": {},
   "outputs": [
    {
     "name": "stdout",
     "output_type": "stream",
     "text": [
      "Chord method.\n",
      "it 1: a=-1.0, b=0.0, c=-0.4, f(c)=1.6320000000000001 -> [a,c]\n",
      "it 2: a=-1.0, b=-0.4, c=-0.61139896373057, f(c)=0.6590716974423763 -> [a,c]\n",
      "it 3: a=-1.0, b=-0.61139896373057, c=-0.6813937508731615, f(c)=0.1914652225505351 -> [a,c]\n",
      "it 4: a=-1.0, b=-0.6813937508731615, c=-0.7005078605817768, f(c)=0.05016861598798705 -> [a,c]\n",
      "it 5: a=-1.0, b=-0.7005078605817768, c=-0.7054338525597733, f(c)=0.012786311431398634 -> [a,c]\n",
      "it 6: a=-1.0, b=-0.7054338525597733, c=-0.7066839958188645, f(c)=0.003235732739164998 -> [a,c]\n",
      "it 7: a=-1.0, b=-0.7066839958188645, c=-0.7070000190291985, f(c)=0.0008173683296937018 -> [a,c]\n",
      "it 8: a=-1.0, b=-0.7070000190291985, c=-0.7070798269200664, f(c)=0.00020637890134067582 -> [a,c]\n",
      "it 9: a=-1.0, b=-0.7070798269200664, c=-0.7070999763817586, f(c)=5.2103016787485856e-05 -> [a,c]\n",
      "it 10: a=-1.0, b=-0.7070999763817586, c=-0.7071050632850268, f(c)=1.3153697233869721e-05 -> [a,c]\n",
      "it 11: a=-1.0, b=-0.7071050632850268, c=-0.7071063474965023, f(c)=3.320699915709824e-06 -> [a,c]\n",
      "it 12: a=-1.0, b=-0.7071063474965023, c=-0.7071066717001191, f(c)=8.383215259755161e-07 -> [a,c]\n",
      "Chord method finished. |c-c_prev| < eps\n",
      "Chord method.\n",
      "it 1: a=0.0, b=1.0, c=0.6666666666666666, f(c)=0.14814814814814836 -> [c,b]\n",
      "it 2: a=0.6666666666666666, b=1.0, c=0.7096774193548387, f(c)=-0.009398811721661016 -> [a,c]\n",
      "it 3: a=0.6666666666666666, b=0.7096774193548387, c=0.7071115179445093, f(c)=-1.7321628036803816e-05 -> [a,c]\n",
      "Chord method finished. (|f(c)| < eps) - root found\n",
      "Chord method.\n",
      "it 1: a=1.0, b=3.0, c=1.1111111111111112, f(c)=-1.3058984910836764 -> [c,b]\n",
      "it 2: a=1.1111111111111112, b=3.0, c=1.245859872611465, f(c)=-1.5869624426308424 -> [c,b]\n",
      "it 3: a=1.245859872611465, b=3.0, c=1.3956290729242873, f(c)=-1.749992897084435 -> [c,b]\n",
      "it 4: a=1.3956290729242873, b=3.0, c=1.5453698084051974, f(c)=-1.716836218025779 -> [c,b]\n",
      "it 5: a=1.5453698084051974, b=3.0, c=1.67879843745729, f(c)=-1.4893244030605857 -> [c,b]\n",
      "it 6: a=1.67879843745729, b=3.0, c=1.7852218894754133, f(c)=-1.154224952033231 -> [c,b]\n",
      "it 7: a=1.7852218894754133, b=3.0, c=1.8624560985951049, f(c)=-0.8166649117306668 -> [c,b]\n",
      "it 8: a=1.8624560985951049, b=3.0, c=1.9145978543295874, f(c)=-0.54071257343467 -> [c,b]\n",
      "it 9: a=1.9145978543295874, b=3.0, c=1.948056619755446, f(c)=-0.34229904210296835 -> [c,b]\n",
      "it 10: a=1.948056619755446, b=3.0, c=1.9688196806696927, f(c)=-0.2105451645846177 -> [c,b]\n",
      "it 11: a=1.9688196806696927, b=3.0, c=1.9814346227283897, f(c)=-0.12721305301259545 -> [c,b]\n",
      "it 12: a=1.9814346227283897, b=3.0, c=1.9890000573927793, f(c)=-0.07603427030998056 -> [c,b]\n",
      "it 13: a=1.9890000573927793, b=3.0, c=1.993501725737005, f(c)=-0.04515064810643077 -> [c,b]\n",
      "it 14: a=1.993501725737005, b=3.0, c=1.9961678241681164, f(c)=-0.026707858805718576 -> [c,b]\n",
      "it 15: a=1.9961678241681164, b=3.0, c=1.9977424214560409, f(c)=-0.015762299532881663 -> [c,b]\n",
      "it 16: a=1.9977424214560409, b=3.0, c=1.998670847928156, f(c)=-0.009289936037347069 -> [c,b]\n",
      "it 17: a=1.998670847928156, b=3.0, c=1.999217742231802, f(c)=-0.005470909917028255 -> [c,b]\n",
      "it 18: a=1.999217742231802, b=3.0, c=1.9995397085923812, f(c)=-0.003220345102934896 -> [c,b]\n",
      "it 19: a=1.9995397085923812, b=3.0, c=1.9997291919569862, f(c)=-0.0018950696448478688 -> [c,b]\n",
      "it 20: a=1.9997291919569862, b=3.0, c=1.9998406844016332, f(c)=-0.0011150061449756166 -> [c,b]\n",
      "it 21: a=1.9998406844016332, b=3.0, c=1.999906279145416, f(c)=-0.0006559757149449119 -> [c,b]\n",
      "it 22: a=1.999906279145416, b=3.0, c=1.9999448680795422, f(c)=-0.00038589912731046283 -> [c,b]\n",
      "it 23: a=1.9999448680795422, b=3.0, c=1.9999675687643954, f(c)=-0.00022701023502014195 -> [c,b]\n",
      "it 24: a=1.9999675687643954, b=3.0, c=1.9999809225623835, f(c)=-0.00013353915174052489 -> [c,b]\n",
      "it 25: a=1.9999809225623835, b=3.0, c=1.9999887778947558, f(c)=-7.855372922715986e-05 -> [c,b]\n",
      "it 26: a=1.9999887778947558, b=3.0, c=1.9999933987328604, f(c)=-4.6208521363944044e-05 -> [c,b]\n",
      "it 27: a=1.9999933987328604, b=3.0, c=1.9999961168917306, f(c)=-2.718163725745626e-05 -> [c,b]\n",
      "it 28: a=1.9999961168917306, b=3.0, c=1.9999977158152216, f(c)=-1.598925170887e-05 -> [c,b]\n",
      "it 29: a=1.9999977158152216, b=3.0, c=1.999998656360704, f(c)=-9.405460629441365e-06 -> [c,b]\n",
      "it 30: a=1.999998656360704, b=3.0, c=1.999999209623531, f(c)=-5.532630285021156e-06 -> [c,b]\n",
      "it 31: a=1.999999209623531, b=3.0, c=1.9999995350725224, f(c)=-3.254490614335026e-06 -> [c,b]\n",
      "it 32: a=1.9999995350725224, b=3.0, c=1.999999726513199, f(c)=-1.914407008474228e-06 -> [c,b]\n",
      "it 33: a=1.999999726513199, b=3.0, c=1.9999998391253941, f(c)=-1.1261220338454336e-06 -> [c,b]\n",
      "Chord method finished. |c-c_prev| < eps\n",
      "\n",
      "Корені, уточнені методом Хорд:  [-0.7071067535463569, 0.7071067896453254, 1.9999999053678734]\n"
     ]
    }
   ],
   "source": [
    "roots = []\n",
    "for i in range(len(init_borders)-1):\n",
    "    roots.append(chord(f, init_borders[i], init_borders[i+1], EPS))\n",
    "\n",
    "print(\"\\nКорені, уточнені методом Хорд: \", roots)\n",
    "Results['chord'] = roots"
   ]
  },
  {
   "cell_type": "markdown",
   "id": "d33df56a-2515-4ced-9d12-cfa1a98982ad",
   "metadata": {},
   "source": [
    "Тут видно, що на третьому інтервалі методу Хорд працювати складно. \n",
    "\n",
    "Спробуємо трохи зменшити інтервал, щоб функція на ньому була монотонною"
   ]
  },
  {
   "cell_type": "code",
   "execution_count": 29,
   "id": "1baf6245-88bd-4d8f-a782-5953f883ee35",
   "metadata": {},
   "outputs": [
    {
     "data": {
      "text/plain": [
       "<matplotlib.collections.PathCollection at 0x1a265a1cca0>"
      ]
     },
     "execution_count": 29,
     "metadata": {},
     "output_type": "execute_result"
    },
    {
     "data": {
      "image/png": "[encoded data removed]",
      "text/plain": [
       "<Figure size 432x288 with 1 Axes>"
      ]
     },
     "metadata": {
      "needs_background": "light"
     },
     "output_type": "display_data"
    }
   ],
   "source": [
    "a, b = 1.6, 3\n",
    "plt.scatter(X, polyval(X, P))\n",
    "plt.gca().axhline(0, c='k', lw=1)\n",
    "plt.gca().axvline(a, c='b', lw=0.5)\n",
    "plt.gca().axvline(b, c='b', lw=0.5)\n",
    "\n",
    "fa, fb = polyval(a,P), polyval(b,P)\n",
    "c = (a*fb - b*fa)/(fb - fa)\n",
    "plt.plot([a,b], [polyval(a,P), polyval(b,P)], c='r', lw='1')\n",
    "plt.scatter([c], [0], c='k', s=30)"
   ]
  },
  {
   "cell_type": "code",
   "execution_count": 30,
   "id": "c386bc2a-16f3-445f-af3a-e63d8665dee4",
   "metadata": {},
   "outputs": [
    {
     "name": "stdout",
     "output_type": "stream",
     "text": [
      "Chord method.\n",
      "it 1: a=1.6, b=3.0, c=1.723723723723724, f(c)=-1.365480839441286 -> [c,b]\n",
      "it 2: a=1.723723723723724, b=3.0, c=1.8186153748775602, f(c)=-1.0184245650052546 -> [c,b]\n",
      "it 3: a=1.8186153748775602, b=3.0, c=1.885388755569285, f(c)=-0.7002038186237356 -> [c,b]\n",
      "it 4: a=1.885388755569285, b=3.0, c=1.9294817534595223, f(c)=-0.45454649055224605 -> [c,b]\n",
      "it 5: a=1.9294817534595223, b=3.0, c=1.9573598946819541, f(c)=-0.28409036322645553 -> [c,b]\n",
      "it 6: a=1.9573598946819541, b=3.0, c=1.9744972736246427, f(c)=-0.17334914559498138 -> [c,b]\n",
      "it 7: a=1.9744972736246427, b=3.0, c=1.984848779316128, f(c)=-0.10422902509434495 -> [c,b]\n",
      "it 8: a=1.984848779316128, b=3.0, c=1.9910348647514893, f(c)=-0.06211439866066781 -> [c,b]\n",
      "it 9: a=1.9910348647514893, b=3.0, c=1.9947079887958608, f(c)=-0.03682033177789368 -> [c,b]\n",
      "it 10: a=1.9947079887958608, b=3.0, c=1.9968806468779068, f(c)=-0.021757689648332246 -> [c,b]\n",
      "it 11: a=1.9968806468779068, b=3.0, c=1.9981628622615, f(c)=-0.01283297596989419 -> [c,b]\n",
      "it 12: a=1.9981628622615, b=3.0, c=1.9989185595596812, f(c)=-0.007560729504341612 -> [c,b]\n",
      "it 13: a=1.9989185595596812, b=3.0, c=1.9993635913960135, f(c)=-0.004451620616126917 -> [c,b]\n",
      "it 14: a=1.9993635913960135, b=3.0, c=1.9996255494858814, f(c)=-0.0026200319983353815 -> [c,b]\n",
      "it 15: a=1.9996255494858814, b=3.0, c=1.9997797029672701, f(c)=-0.0015416910042302945 -> [c,b]\n",
      "it 16: a=1.9997797029672701, b=3.0, c=1.9998704024263079, f(c)=-0.0009070486559497049 -> [c,b]\n",
      "it 17: a=1.9998704024263079, b=3.0, c=1.999923762297323, f(c)=-0.0005336174221270973 -> [c,b]\n",
      "it 18: a=1.999923762297323, b=3.0, c=1.999955152965163, f(c)=-0.000313913153987766 -> [c,b]\n",
      "it 19: a=1.999955152965163, b=3.0, c=1.9999736189319481, f(c)=-0.00018466190871402333 -> [c,b]\n",
      "it 20: a=1.9999736189319481, b=3.0, c=1.9999844815657348, f(c)=-0.00010862711328929464 -> [c,b]\n",
      "it 21: a=1.9999844815657348, b=3.0, c=1.9999908714542582, f(c)=-6.389915355109466e-05 -> [c,b]\n",
      "it 22: a=1.9999908714542582, b=3.0, c=1.9999946302481797, f(c)=-3.758803206865835e-05 -> [c,b]\n",
      "it 23: a=1.9999946302481797, b=3.0, c=1.9999968413158737, f(c)=-2.2110709065881196e-05 -> [c,b]\n",
      "it 24: a=1.9999968413158737, b=3.0, c=1.9999981419482358, f(c)=-1.3006334730558677e-05 -> [c,b]\n",
      "it 25: a=1.9999981419482358, b=3.0, c=1.9999989070275856, f(c)=-7.650797343661253e-06 -> [c,b]\n",
      "it 26: a=1.9999989070275856, b=3.0, c=1.9999993570747778, f(c)=-4.5004732482922805e-06 -> [c,b]\n",
      "it 27: a=1.9999993570747778, b=3.0, c=1.9999996218085985, f(c)=-2.647338666506016e-06 -> [c,b]\n",
      "it 28: a=1.9999996218085985, b=3.0, c=1.999999777534437, f(c)=-1.557258545670237e-06 -> [c,b]\n",
      "Chord method finished. |c-c_prev| < eps\n"
     ]
    },
    {
     "data": {
      "text/plain": [
       "1.9999998691378926"
      ]
     },
     "execution_count": 30,
     "metadata": {},
     "output_type": "execute_result"
    }
   ],
   "source": [
    "root = chord(f, a, b, EPS)\n",
    "root"
   ]
  },
  {
   "cell_type": "markdown",
   "id": "eb760103-7e02-4df8-855b-47a80d112034",
   "metadata": {},
   "source": [
    "Ітерацій трохи менше, ніж було, але все ще більше, ніж в інших випадках. "
   ]
  },
  {
   "cell_type": "code",
   "execution_count": null,
   "id": "91cf4fb4-8f6f-4d3b-b1ba-8bd7bdef4763",
   "metadata": {},
   "outputs": [],
   "source": []
  },
  {
   "cell_type": "markdown",
   "id": "3c868a64-f660-477b-9b1f-a05f00150972",
   "metadata": {},
   "source": [
    "## 2.3. Метод Ньютона!\n",
    "\n",
    "**Вхід:** \n",
    "- Початкове наближення $x_0$  \n",
    "    (Часто беруть один з кінців інтервалу, що містить гарантовано один корінь)\n",
    "- Точність $\\varepsilon$\n",
    "- Похідна $f'$\n",
    "\n",
    "*Рекомендовано:*\n",
    "- Монотонність\n",
    "- Знакосталість другої похідної\n",
    "- Відслідковувати щоб дотична, проведена у відповідній точці, не перетнула вісь абцис *поза* заданим інтервалом\n",
    "\n",
    "**Вихід**:\n",
    "- Наближений корінь $x^*$ з точністю $|x^* - x_{true}| < \\varepsilon$"
   ]
  },
  {
   "cell_type": "code",
   "execution_count": 31,
   "id": "5c9e9b7d-5b23-4828-bf0f-9e5edf1a0d1c",
   "metadata": {},
   "outputs": [],
   "source": [
    "def newton(f, df, a, b, x0, eps, timeout=1000):\n",
    "    a, b = float(a), float(b)\n",
    "    \n",
    "    x_old = fx = np.inf\n",
    "    x = float(x0)\n",
    "    n = 1\n",
    "    log(\"Newton method.\")\n",
    "    while np.abs(x-x_old) > eps and np.abs(fx) > eps and n < timeout:\n",
    "        x_old, fx = x, f(x)\n",
    "        x = x_old - f(x_old) / df(x_old)\n",
    "        log(f\"it {n}: x_old={x_old}, x={x}, f(x)={fx}\")\n",
    "        if x > b or x < a:\n",
    "            log(ValueError(f\"x out of [{a},{b}]! Terminating.\"))\n",
    "            return np.nan\n",
    "        n += 1\n",
    "    log(\"Finished. \", end='')\n",
    "    if np.abs(x-x_old) < eps:\n",
    "        log(\"|x-x_old| < eps\")\n",
    "    elif np.abs(fx) < eps:\n",
    "        log(\"|f(x)| < eps\")\n",
    "    else:\n",
    "        log(\"timeout :(\")\n",
    "    \n",
    "    return x\n",
    "        \n",
    "        "
   ]
  },
  {
   "cell_type": "code",
   "execution_count": 32,
   "id": "2cfe599a-381a-4a5f-a736-04378e46dc6e",
   "metadata": {},
   "outputs": [
    {
     "name": "stdout",
     "output_type": "stream",
     "text": [
      "Newton method.\n",
      "it 1: x_old=-1.0, x=-0.7692307692307692, f(x)=-3.0\n",
      "it 2: x_old=-0.7692307692307692, x=-0.7108717251477279, f(x)=-0.5079654073736908\n",
      "it 3: x_old=-0.7108717251477279, x=-0.7071219452226626, f(x)=-0.02894457171113629\n",
      "it 4: x_old=-0.7071219452226626, x=-0.7071067814340813, f(x)=-0.00011611070975270366\n",
      "it 5: x_old=-0.7071067814340813, x=-0.7071067811865475, f(x)=-1.8953305591651315e-09\n",
      "Finished. |x-x_old| < eps\n",
      "Newton method.\n",
      "it 1: x_old=0.0, x=2.0, f(x)=2.0\n",
      "x out of [0.0,1.0]! Terminating.\n",
      "Trying x0=b instead of a\n",
      "Newton method.\n",
      "it 1: x_old=1.0, x=0.6666666666666667, f(x)=-1.0\n",
      "it 2: x_old=0.6666666666666667, x=0.7070707070707071, f(x)=0.14814814814814792\n",
      "it 3: x_old=0.7070707070707071, x=0.7071067811002524, f(x)=0.000131918099472772\n",
      "it 4: x_old=0.7071067811002524, x=0.7071067811865476, f(x)=3.155689043410348e-10\n",
      "Finished. |x-x_old| < eps\n",
      "Newton method.\n",
      "it 1: x_old=1.0, x=0.6666666666666667, f(x)=-1.0\n",
      "x out of [1.0,3.0]! Terminating.\n",
      "Trying x0=b instead of a\n",
      "Newton method.\n",
      "it 1: x_old=3.0, x=2.413793103448276, f(x)=17.0\n",
      "it 2: x_old=2.413793103448276, x=2.112861825439257, f(x)=4.408052810693345\n",
      "it 3: x_old=2.112861825439257, x=2.0121200357344824, f(x)=0.8948103320400951\n",
      "it 4: x_old=2.0121200357344824, x=2.0001643246947522, f(x)=0.08601897302276917\n",
      "it 5: x_old=2.0001643246947522, x=2.0000000308510675, f(x)=0.0011504888929825263\n",
      "it 6: x_old=2.0000000308510675, x=2.000000000000001, f(x)=2.1595747989877623e-07\n",
      "Finished. |x-x_old| < eps\n",
      "\n",
      "Корені, уточнені методом Ньютона:  [-0.7071067811865475, 0.7071067811865476, 2.000000000000001]\n"
     ]
    }
   ],
   "source": [
    "roots = []\n",
    "for i in range(len(init_borders)-1):\n",
    "    r = newton(f, df, init_borders[i], init_borders[i+1], init_borders[i], EPS)\n",
    "    if r != r:\n",
    "        # r is nan. try other bound.\n",
    "        log(\"Trying x0=b instead of a\")\n",
    "        r = newton(f, df, init_borders[i], init_borders[i+1], init_borders[i+1], EPS)\n",
    "    roots.append(r)\n",
    "\n",
    "print(\"\\nКорені, уточнені методом Ньютона: \", roots)\n",
    "Results['newton'] = roots"
   ]
  },
  {
   "cell_type": "code",
   "execution_count": 33,
   "id": "cf7896e8-66f0-410c-b5df-d68b97a5bee6",
   "metadata": {},
   "outputs": [],
   "source": [
    "# a, b = 1, 3\n",
    "# plt.scatter(X, polyval(X, P))\n",
    "# plt.gca().axhline(0, c='k', lw=1)\n",
    "# plt.gca().axvline(a, c='b', lw=0.5)\n",
    "# plt.gca().axvline(b, c='b', lw=0.5)\n",
    "\n",
    "# fb, fpb = polyval(b,P), polyval(b,P1)\n",
    "# c = b - fb / fpb\n",
    "\n",
    "# plt.plot([1,2], [(polyval(2,P1))*(1-2)-fb,polyval(2,P)], c='r', lw='1')\n",
    "# plt.gca().axvline(b, c='b', lw=0.5)\n",
    "# plt.scatter([c], [0], c='k', s=30)"
   ]
  },
  {
   "cell_type": "markdown",
   "id": "4c69ffbb-78fe-4273-a399-717d1252aa09",
   "metadata": {},
   "source": [
    "# 3. Аналіз результатів\n",
    "\n",
    "## 3.1. Точність\n",
    "Можна знайти корені аналітично:\n",
    "$x_1 = -\\frac{\\sqrt{2}}{2}; \\; x_2 = \\frac{\\sqrt{2}}{2};\\; x_3 = 2 $"
   ]
  },
  {
   "cell_type": "code",
   "execution_count": 34,
   "id": "e81eafa0-e71f-4940-aae4-1f72048a7bcc",
   "metadata": {},
   "outputs": [
    {
     "name": "stdout",
     "output_type": "stream",
     "text": [
      "Існинні корені:\n",
      " [-0.70710678  0.70710678  2.        ]\n",
      "Результати: \n",
      " [[-0.7071068   0.7071068   2.        ]\n",
      " [-0.70710675  0.70710679  1.99999991]\n",
      " [-0.70710678  0.70710678  2.        ]]\n",
      "Відхилення: \n",
      " [[-1.77007052e-08  1.77007052e-08  0.00000000e+00]\n",
      " [ 2.76401907e-08  8.45877779e-09 -9.46321266e-08]\n",
      " [ 1.11022302e-16  0.00000000e+00  8.88178420e-16]]\n",
      "Відносні відхилення: \n",
      " [[-2.50325774e-08  2.50325774e-08  0.00000000e+00]\n",
      " [ 3.90891325e-08  1.19625183e-08 -4.73160633e-08]\n",
      " [ 1.57009246e-16  0.00000000e+00  4.44089210e-16]]\n"
     ]
    }
   ],
   "source": [
    "true_roots = np.array([-np.sqrt(2)/2, np.sqrt(2)/2, 2.0])\n",
    "\n",
    "np_results = np.array(list(Results.values()))\n",
    "Deltas = np_results - true_roots\n",
    "print(\"Існинні корені:\\n\", true_roots)\n",
    "print(\"Результати: \\n\", np_results)\n",
    "print(\"Відхилення: \\n\", Deltas)\n",
    "print(\"Відносні відхилення: \\n\", Deltas / np.abs(true_roots))"
   ]
  },
  {
   "cell_type": "markdown",
   "id": "c7211839-fc7d-4e5e-b58e-db42ef5a6b09",
   "metadata": {},
   "source": [
    "## 3.2. Кількість ітерацій\n",
    "- Ньютон збігався швидше за всіх\n",
    "- Метод Хорд в середньому працював швидше методу Бісекцій, але на третьому інтервалі збігався значно довше\n",
    "- Метод Бісекцій працював довше за всіх (крім третього інтервала в методі Хорд)"
   ]
  },
  {
   "cell_type": "markdown",
   "id": "463b7ff7-fd96-4ca6-8663-48fa6f21eff8",
   "metadata": {},
   "source": [
    "## Отже\n",
    "Метод Ньютона показав себе найшвидшим, проте він єдиний потребує похідної"
   ]
  },
  {
   "cell_type": "code",
   "execution_count": null,
   "id": "bbc24bbf-7e25-4228-880a-fccdca53f635",
   "metadata": {},
   "outputs": [],
   "source": []
  }
 ],
 "metadata": {
  "kernelspec": {
   "display_name": "Python 3 (ipykernel)",
   "language": "python",
   "name": "python3"
  },
  "language_info": {
   "codemirror_mode": {
    "name": "ipython",
    "version": 3
   },
   "file_extension": ".py",
   "mimetype": "text/x-python",
   "name": "python",
   "nbconvert_exporter": "python",
   "pygments_lexer": "ipython3",
   "version": "3.9.10"
  }
 },
 "nbformat": 4,
 "nbformat_minor": 5
}
