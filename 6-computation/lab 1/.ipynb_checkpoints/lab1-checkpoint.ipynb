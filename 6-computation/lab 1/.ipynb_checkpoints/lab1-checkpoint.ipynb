{
 "cells": [
  {
   "cell_type": "code",
   "execution_count": 110,
   "id": "7ff452ad-ee64-4fed-83f4-d48299262771",
   "metadata": {},
   "outputs": [],
   "source": [
    "import numpy as np\n",
    "import matplotlib.pyplot as plt\n",
    "import scipy as sp\n",
    "from numpy.polynomial.polynomial import polydiv, polyder, polymul, polyadd, polyval"
   ]
  },
  {
   "cell_type": "markdown",
   "id": "837c2ff7-6c80-435b-8326-89e220296438",
   "metadata": {},
   "source": [
    "# Lab 1\n",
    "**Михайло Корешков, ФІ-91**  \n",
    "(*Варіант 6*)\n",
    "\n",
    "$P(x) = 2 - x -4x^2 + 2x^3$"
   ]
  },
  {
   "cell_type": "code",
   "execution_count": 23,
   "id": "1acc9c76-5ec5-4d01-9fbd-639d7f78d417",
   "metadata": {},
   "outputs": [],
   "source": [
    "P = np.array([2.0,-1.0,-4.0,2.0])\n",
    "n = 3"
   ]
  },
  {
   "cell_type": "markdown",
   "id": "bd48150e-2289-49cd-add4-783b4c7f194e",
   "metadata": {
    "tags": []
   },
   "source": [
    "## 1. Передпрограмний етап\n",
    "### 1.1. Верхня межа додатніх коренів"
   ]
  },
  {
   "cell_type": "code",
   "execution_count": 87,
   "id": "2eb27b7e-c0d9-4f1e-9f54-c20b0b160a06",
   "metadata": {},
   "outputs": [
    {
     "name": "stdout",
     "output_type": "stream",
     "text": [
      "Верхня межа коренів:  3.0\n"
     ]
    }
   ],
   "source": [
    "B = -np.inf\n",
    "m = -np.inf\n",
    "for i,v in enumerate(P):\n",
    "    if np.abs(v) > B and v < 0:\n",
    "        B, B_i = np.abs(v), i\n",
    "    if i > m and v < 0:\n",
    "        m = i\n",
    "max_bound = 1 + np.power(B / P[n], 1/(n-m))\n",
    "print(\"Верхня межа коренів: \", max_bound) "
   ]
  },
  {
   "cell_type": "code",
   "execution_count": null,
   "id": "2184f656-432b-41fe-a6ae-36ed134d28b5",
   "metadata": {},
   "outputs": [],
   "source": []
  },
  {
   "cell_type": "markdown",
   "id": "3951019b-338d-45d3-9269-40d024c62a54",
   "metadata": {
    "tags": []
   },
   "source": [
    "### 1.2. Нижня межа додатніх коренів"
   ]
  },
  {
   "cell_type": "code",
   "execution_count": 88,
   "id": "dcb7b225-3e66-437b-ae4d-0bbcb564d96a",
   "metadata": {},
   "outputs": [
    {
     "name": "stdout",
     "output_type": "stream",
     "text": [
      "Нижня межа додатніх коренів:  0.3333333333333333\n"
     ]
    }
   ],
   "source": [
    "m = +np.inf\n",
    "for i,v in enumerate(P):\n",
    "    if v < 0:\n",
    "        m = i\n",
    "        break\n",
    "m = n-m\n",
    "min_positive_bound = 1/(1 + np.power(B / P[0], 1/(n-m)))\n",
    "print(\"Нижня межа додатніх коренів: \", min_positive_bound)"
   ]
  },
  {
   "cell_type": "code",
   "execution_count": null,
   "id": "6a2327a5-9f7f-4448-a06a-3d10501db888",
   "metadata": {},
   "outputs": [],
   "source": []
  },
  {
   "cell_type": "markdown",
   "id": "c0c4a78c-05e4-41ac-8a1b-e94f92bd7e2b",
   "metadata": {},
   "source": [
    "### 1.3. Нижня межа від'ємних коренів"
   ]
  },
  {
   "cell_type": "code",
   "execution_count": 89,
   "id": "a3bcff31-ccb7-4848-aa99-15b57b32c5de",
   "metadata": {},
   "outputs": [
    {
     "name": "stdout",
     "output_type": "stream",
     "text": [
      "Поліном після заміни x на -x:  [ 2.  1. -4. -2.]\n",
      "Нижня межа коренів:  -1.0\n"
     ]
    }
   ],
   "source": [
    "P_neg = P * (2 * (np.arange(1,n+2) % 2) - 1)\n",
    "print(\"Поліном після заміни x на -x: \", P_neg)\n",
    "B = -np.inf\n",
    "for i,v in enumerate(P_neg):\n",
    "    if np.abs(v) > B and v < 0:\n",
    "        B, m = np.abs(v), i\n",
    "min_bound = 1 + np.power(B / P_neg[n], 1/(n-m))\n",
    "print(\"Нижня межа коренів: \", min_bound) "
   ]
  },
  {
   "cell_type": "code",
   "execution_count": null,
   "id": "ece6835f-fe5a-4cc5-b855-6b0bc5f06ecc",
   "metadata": {},
   "outputs": [],
   "source": []
  },
  {
   "cell_type": "markdown",
   "id": "db7aa1d1-329e-4873-b950-16fbfe5dae86",
   "metadata": {
    "tags": []
   },
   "source": [
    "## 1.4. Верхня межа від'ємних коренів"
   ]
  },
  {
   "cell_type": "code",
   "execution_count": 91,
   "id": "d8073189-24e5-45bd-b2ee-44bd167b5e17",
   "metadata": {},
   "outputs": [
    {
     "name": "stdout",
     "output_type": "stream",
     "text": [
      "Верхня межа додатніх коренів:  -0.4142135623730951\n"
     ]
    }
   ],
   "source": [
    "m = +np.inf\n",
    "for i,v in enumerate(P_neg):\n",
    "    if v < 0:\n",
    "        m = i\n",
    "        break\n",
    "m = n-m\n",
    "max_negative_bound = -1/(1 + np.power(B / P[0], 1/(n-m)))\n",
    "print(\"Верхня межа додатніх коренів: \", max_negative_bound)"
   ]
  },
  {
   "cell_type": "code",
   "execution_count": null,
   "id": "f4fa8761-f6ab-4ea8-a3bc-7b63188deb5a",
   "metadata": {},
   "outputs": [],
   "source": []
  },
  {
   "cell_type": "markdown",
   "id": "141fb597-6f9c-4ec9-a19c-89c6c27fd5f7",
   "metadata": {},
   "source": [
    "## 1.5. Метод Штурма"
   ]
  },
  {
   "cell_type": "code",
   "execution_count": 95,
   "id": "5af1f97d-91d0-42f2-96da-8a18af1cd0a5",
   "metadata": {},
   "outputs": [
    {
     "data": {
      "text/plain": [
       "array([ 2., -1., -4.,  2.])"
      ]
     },
     "execution_count": 95,
     "metadata": {},
     "output_type": "execute_result"
    }
   ],
   "source": [
    "P0 = P; P0"
   ]
  },
  {
   "cell_type": "code",
   "execution_count": 97,
   "id": "be6e1e49-c084-4807-b969-93b70f6f5e1b",
   "metadata": {},
   "outputs": [
    {
     "data": {
      "text/plain": [
       "array([-1., -8.,  6.])"
      ]
     },
     "execution_count": 97,
     "metadata": {},
     "output_type": "execute_result"
    }
   ],
   "source": [
    "P1 = polyder(P); P1"
   ]
  },
  {
   "cell_type": "code",
   "execution_count": 105,
   "id": "c3246891-84d6-48ef-8348-67198cb9a131",
   "metadata": {},
   "outputs": [
    {
     "data": {
      "text/plain": [
       "array([-1.77777778,  2.44444444])"
      ]
     },
     "execution_count": 105,
     "metadata": {},
     "output_type": "execute_result"
    }
   ],
   "source": [
    "# polydiv(f, g) = q, r\n",
    "P2 = -polydiv(P0,P1)[1]; P2"
   ]
  },
  {
   "cell_type": "code",
   "execution_count": 106,
   "id": "2436a60b-dee7-43b1-8b37-1048ca94a936",
   "metadata": {},
   "outputs": [
    {
     "data": {
      "text/plain": [
       "array([3.6446281])"
      ]
     },
     "execution_count": 106,
     "metadata": {},
     "output_type": "execute_result"
    }
   ],
   "source": [
    "P3 = -polydiv(P1,P2)[1]; P3"
   ]
  },
  {
   "cell_type": "code",
   "execution_count": 116,
   "id": "0576c655-2181-42c1-9709-2367a2037985",
   "metadata": {},
   "outputs": [
    {
     "data": {
      "text/plain": [
       "array([0.])"
      ]
     },
     "execution_count": 116,
     "metadata": {},
     "output_type": "execute_result"
    }
   ],
   "source": [
    "P4 = -polydiv(P2,P3)[1]; P4"
   ]
  },
  {
   "cell_type": "code",
   "execution_count": 117,
   "id": "c5fb7299-d81c-4c33-920d-e433695f593f",
   "metadata": {},
   "outputs": [],
   "source": [
    "def sturm(x):\n",
    "    return polyval(x, P0),  polyval(x, P1), polyval(x, P2), polyval(x, P3)"
   ]
  },
  {
   "cell_type": "code",
   "execution_count": 118,
   "id": "517dfbdf-08c6-4e3e-884c-8fae82abb1a4",
   "metadata": {},
   "outputs": [
    {
     "data": {
      "text/plain": [
       "(-3.0, 13.0, -4.222222222222222, 3.644628099173554)"
      ]
     },
     "execution_count": 118,
     "metadata": {},
     "output_type": "execute_result"
    }
   ],
   "source": [
    "sturm(min_bound) # (1)"
   ]
  },
  {
   "cell_type": "code",
   "execution_count": 119,
   "id": "e9ae1edb-ed1f-487f-891b-b8e9002a2139",
   "metadata": {},
   "outputs": [
    {
     "data": {
      "text/plain": [
       "(17.0, 29.0, 5.555555555555556, 3.644628099173554)"
      ]
     },
     "execution_count": 119,
     "metadata": {},
     "output_type": "execute_result"
    }
   ],
   "source": [
    "sturm(max_bound) # (2)"
   ]
  },
  {
   "cell_type": "markdown",
   "id": "e9285fea-298e-4e15-b375-d7f46ce47716",
   "metadata": {},
   "source": [
    "Маємо 3 зміни знаку в (1) та 0 змін знаку в (2).  \n",
    "Отже, між нижньою та верхньою межами коренів - **3 дійсних кореня**.  \n",
    "\n",
    "Степінь полінома - також 3, отже маємо **0 комплексних коренів**"
   ]
  },
  {
   "cell_type": "code",
   "execution_count": 121,
   "id": "16931b11-007b-4e4d-a7a5-fd54b5669392",
   "metadata": {},
   "outputs": [
    {
     "data": {
      "text/plain": [
       "(2.0, -1.0, -1.7777777777777777, 3.644628099173554)"
      ]
     },
     "execution_count": 121,
     "metadata": {},
     "output_type": "execute_result"
    }
   ],
   "source": [
    "sturm(0) # (3)"
   ]
  },
  {
   "cell_type": "markdown",
   "id": "dcb1b3ca-d81b-447c-ab29-12e8477008fd",
   "metadata": {},
   "source": [
    "2 зміни знаку.  \n",
    "Отже **між нижньою межею та 0 маємо 1 корінь**"
   ]
  },
  {
   "cell_type": "code",
   "execution_count": 123,
   "id": "5731eeba-5468-4f16-9fa6-efc76a834c5b",
   "metadata": {},
   "outputs": [
    {
     "data": {
      "text/plain": [
       "(-1.0, -3.0, 0.666666666666667, 3.644628099173554)"
      ]
     },
     "execution_count": 123,
     "metadata": {},
     "output_type": "execute_result"
    }
   ],
   "source": [
    "sturm(1) # (4)"
   ]
  },
  {
   "cell_type": "markdown",
   "id": "aed0e47e-8571-4512-8080-78ebf39672b4",
   "metadata": {},
   "source": [
    "1 зміна знаку  \n",
    "Отже **між 0 та 1 маємо 1 корінь**"
   ]
  },
  {
   "cell_type": "code",
   "execution_count": 124,
   "id": "f647dc3a-bf1e-4688-b491-e5e591f250df",
   "metadata": {},
   "outputs": [
    {
     "name": "stdout",
     "output_type": "stream",
     "text": [
      "Початкові межі між коренями:  [-1.0, 0, 1, 3.0]\n"
     ]
    }
   ],
   "source": [
    "borders = [min_bound, 0, 1, max_bound]; \n",
    "print(\"Початкові межі між коренями: \", borders)"
   ]
  },
  {
   "cell_type": "markdown",
   "id": "357c322a-b2bd-4bce-90df-d0340ff65a98",
   "metadata": {},
   "source": [
    "# 2. Уточнення коренів"
   ]
  },
  {
   "cell_type": "code",
   "execution_count": null,
   "id": "af1ba5f4-3efd-4fcc-8de2-c9ccb097b739",
   "metadata": {},
   "outputs": [],
   "source": []
  }
 ],
 "metadata": {
  "kernelspec": {
   "display_name": "Python 3",
   "language": "python",
   "name": "python3"
  },
  "language_info": {
   "codemirror_mode": {
    "name": "ipython",
    "version": 3
   },
   "file_extension": ".py",
   "mimetype": "text/x-python",
   "name": "python",
   "nbconvert_exporter": "python",
   "pygments_lexer": "ipython3",
   "version": "3.9.2"
  }
 },
 "nbformat": 4,
 "nbformat_minor": 5
}
