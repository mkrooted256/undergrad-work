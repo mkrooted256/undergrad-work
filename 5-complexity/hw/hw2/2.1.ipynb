{
 "cells": [
  {
   "cell_type": "code",
   "execution_count": 12,
   "source": [
    "import itertools as it"
   ],
   "outputs": [],
   "metadata": {}
  },
  {
   "cell_type": "code",
   "execution_count": 43,
   "source": [
    "def add(x,y): return x+y\r\n",
    "def sub(x,y): return x-y\r\n",
    "def mul(x,y): return x*y\r\n",
    "def div(x,y): \r\n",
    "    if y==0: \r\n",
    "        return -1000\r\n",
    "    else: \r\n",
    "        return x/y\r\n",
    "ops = [add, sub, mul, div]\r\n",
    "ns = [1,1,5,8]"
   ],
   "outputs": [],
   "metadata": {}
  },
  {
   "cell_type": "code",
   "execution_count": 44,
   "source": [
    "exprs = [(a,b,c) for a in ops for b in ops for c in ops]\r\n",
    "vals = list(it.permutations(ns))"
   ],
   "outputs": [],
   "metadata": {}
  },
  {
   "cell_type": "code",
   "execution_count": 45,
   "source": [
    "def apply(expr, vals):\r\n",
    "    return expr[0](vals[0],expr[1](vals[1],expr[2](vals[2], vals[3])))"
   ],
   "outputs": [],
   "metadata": {}
  },
  {
   "cell_type": "code",
   "execution_count": 49,
   "source": [
    "for e in exprs: \r\n",
    "    for v in vals:\r\n",
    "        # print(e,v)\r\n",
    "        x = apply(e,v)\r\n",
    "        if x == 10:\r\n",
    "            print(\"Found!!!\")\r\n",
    "            print(f\"{e[0].__name__}({v[0]}, {e[1].__name__}({v[1]}, {e[2].__name__}({v[2]},{v[3]})))\")"
   ],
   "outputs": [
    {
     "output_type": "stream",
     "name": "stdout",
     "text": [
      "Found!!!\n",
      "div(8, sub(1, div(1,5)))\n",
      "Found!!!\n",
      "div(8, sub(1, div(1,5)))\n"
     ]
    }
   ],
   "metadata": {}
  },
  {
   "cell_type": "code",
   "execution_count": null,
   "source": [],
   "outputs": [],
   "metadata": {}
  }
 ],
 "metadata": {
  "orig_nbformat": 4,
  "language_info": {
   "name": "python",
   "version": "3.9.5",
   "mimetype": "text/x-python",
   "codemirror_mode": {
    "name": "ipython",
    "version": 3
   },
   "pygments_lexer": "ipython3",
   "nbconvert_exporter": "python",
   "file_extension": ".py"
  },
  "kernelspec": {
   "name": "python3",
   "display_name": "Python 3.9.5 64-bit ('sci': conda)"
  },
  "interpreter": {
   "hash": "3f7a9889b65ee3d6a00c9b687a9a8bff943d8bae5b6a5631d41cd057a4ec4502"
  }
 },
 "nbformat": 4,
 "nbformat_minor": 2
}