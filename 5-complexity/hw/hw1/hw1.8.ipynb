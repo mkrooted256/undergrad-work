{
 "cells": [
  {
   "cell_type": "code",
   "execution_count": 31,
   "id": "15bb1534-9598-4bd4-9f1a-2dce8f1c1a29",
   "metadata": {},
   "outputs": [],
   "source": [
    "from pyTM import *\n",
    "import itertools"
   ]
  },
  {
   "cell_type": "markdown",
   "id": "cfd80b71",
   "metadata": {},
   "source": [
    "## 1.8.а\n",
    "$\\Sigma = \\{a, b, c\\}$\n",
    "\n",
    "Замінити всі входження **a** на **bb**"
   ]
  },
  {
   "cell_type": "code",
   "execution_count": 9,
   "id": "a185a94b-c4c7-4112-86b8-24e2abf0cea8",
   "metadata": {},
   "outputs": [],
   "source": [
    "# States:\n",
    "q0, q1a, q1b, q1c, q2 = range(5)\n",
    "# Input/output alphabet:\n",
    "\"abc\"\n",
    "# Additional machine alphabet:\n",
    "\"#x\"\n",
    "\n",
    "def I(s_in): \n",
    "    return s_in\n",
    "\n",
    "tm_a = ( TMFactory()\n",
    "    .add_rule(q0 , 'b', q0 , 'b', R) # ignore, proceed\n",
    "    .add_rule(q0 , 'c', q0 , 'c', R) # ignore, proceed\n",
    "    .add_rule(q0 , 'a', q1b, 'x', L) # leave marker. start copying till left end\n",
    "\n",
    "    .add_rule(q1a, 'a', q1a, 'a', L) # copy a. paste a.\n",
    "    .add_rule(q1b, 'a', q1a, 'b', L) # copy a. paste b.\n",
    "    .add_rule(q1c, 'a', q1a, 'c', L) # copy a. paste c.\n",
    "\n",
    "    .add_rule(q1a, 'b', q1b, 'a', L) # copy b. paste a.\n",
    "    .add_rule(q1b, 'b', q1b, 'b', L) # copy b. paste b.\n",
    "    .add_rule(q1c, 'b', q1b, 'c', L) # copy b. paste c.\n",
    "\n",
    "    .add_rule(q1a, 'c', q1c, 'a', L) # copy c. paste a.\n",
    "    .add_rule(q1b, 'c', q1c, 'b', L) # copy c. paste b.\n",
    "    .add_rule(q1c, 'c', q1c, 'c', L) # copy c. paste c.\n",
    "\n",
    "    .add_rule(q1a, '#', q2 , 'a', R) # left end reached. paste a. start returning to marker \n",
    "    .add_rule(q1b, '#', q2 , 'b', R) # left end reached. paste a. start returning to marker \n",
    "    .add_rule(q1c, '#', q2 , 'c', R) # left end reached. paste a. start returning to marker \n",
    "\n",
    "    .add_rule(q2 , 'x', q0 , 'b', R) # marker reached. set it 'b'. proceed.\n",
    "    .add_rule(q2 , ANY, q2 ,  I , R) # any symbol except marker. do not change it. procceed.\n",
    "    .build(q0, []) \n",
    " )"
   ]
  },
  {
   "cell_type": "code",
   "execution_count": 10,
   "id": "9eae3397",
   "metadata": {},
   "outputs": [
    {
     "name": "stdout",
     "output_type": "stream",
     "text": [
      " -> ('', 1)\n",
      "a -> ('bb', 4)\n",
      "b -> ('b', 2)\n",
      "cab -> ('cbbb', 8)\n",
      "abc -> ('bbbc', 6)\n",
      "bca -> ('bcbb', 10)\n",
      "abcba -> ('bbbcbbb', 20)\n",
      "bcacb -> ('bcbbcb', 12)\n",
      "bbbcacacacbbb -> ('bbbcbbcbbcbbcbbb', 62)\n"
     ]
    }
   ],
   "source": [
    "for i in ['', 'a', 'b', 'c' 'ab', 'abc', 'bca', 'abcba', 'bcacb', 'bbbcacacacbbb']:\n",
    "    print(i, \"->\", tm_a.run(i, debug=False)) "
   ]
  },
  {
   "cell_type": "markdown",
   "id": "98ff2cfa",
   "metadata": {},
   "source": [
    "## 1.8.б\n",
    "$\\Sigma = \\{a, b, c\\}$\n",
    "\n",
    "Замінити всі входження **ab** на **c**"
   ]
  },
  {
   "cell_type": "code",
   "execution_count": 11,
   "id": "41109779",
   "metadata": {},
   "outputs": [],
   "source": [
    "# States:\n",
    "q0, q1, q2, q3, q3a, q3b, q3c = range(7)\n",
    "# Input/output alphabet:\n",
    "\"abc\"\n",
    "# Additional machine alphabet:\n",
    "\"#x\"\n",
    "\n",
    "def I(s_in): \n",
    "    return s_in\n",
    "\n",
    "tm_b = ( TMFactory()\n",
    "    .add_rule(q0 , 'b', q0 , 'b', R) # ignore, proceed\n",
    "    .add_rule(q0 , 'c', q0 , 'c', R) # ignore, proceed\n",
    "    .add_rule(q0 , 'a', q1 , 'a', R) # Possible \"ab\"\n",
    "        \n",
    "    .add_rule(q1 , 'a', q1 , 'a', R) # Possible \"ab\" again, but not yet\n",
    "    .add_rule(q1 , 'c', q0 , 'c', R) # ignore, proceed\n",
    "    .add_rule(q1 , 'b', q2 , 'x', L) # \"ab\" found! leave marker. go to leftmost character.\n",
    "        \n",
    "    .add_rule(q2 , '#', q3 , '#', R) # leftmost found. start deleting.\n",
    "    .add_rule(q2 , ANY, q2 ,  I , L) # nothing interesting. proceed moving left.\n",
    "        \n",
    "    .add_rule(q3 , 'a', q3a, '#', R) # copy a. paste #\n",
    "    .add_rule(q3 , 'b', q3b, '#', R) # copy b. paste #\n",
    "    .add_rule(q3 , 'c', q3c, '#', R) # copy c. paste #\n",
    "        \n",
    "    .add_rule(q3a, 'a', q3a, 'a', R) # copy a. paste a\n",
    "    .add_rule(q3a, 'b', q3b, 'a', R) # copy b. paste a\n",
    "    .add_rule(q3a, 'c', q3c, 'a', R) # copy c. paste a\n",
    "        \n",
    "    .add_rule(q3b, 'a', q3a, 'b', R) # copy a. paste b\n",
    "    .add_rule(q3b, 'b', q3b, 'b', R) # copy b. paste b\n",
    "    .add_rule(q3b, 'c', q3c, 'b', R) # copy c. paste b\n",
    "        \n",
    "    .add_rule(q3c, 'a', q3a, 'c', R) # copy a. paste c\n",
    "    .add_rule(q3c, 'b', q3b, 'c', R) # copy b. paste c\n",
    "    .add_rule(q3c, 'c', q3c, 'c', R) # copy c. paste c\n",
    "        \n",
    "#     .add_rule(q3 , 'x', q0 , '#', R) # marker found. paste #. proceed\n",
    "    .add_rule(q3a, 'x', q0 , 'c', R) # marker found. paste c. proceed\n",
    "    .add_rule(q3b, 'x', q0 , 'c', R) # marker found. paste c. proceed\n",
    "    .add_rule(q3c, 'x', q0 , 'c', R) # marker found. paste c. proceed\n",
    "        \n",
    "    .build(q0, []) \n",
    " )"
   ]
  },
  {
   "cell_type": "code",
   "execution_count": 12,
   "id": "56a2356c",
   "metadata": {},
   "outputs": [
    {
     "name": "stdout",
     "output_type": "stream",
     "text": [
      " -> ('', 1)\n",
      "a -> ('a', 2)\n",
      "b -> ('b', 2)\n",
      "c -> ('c', 2)\n",
      "ab -> ('c', 7)\n",
      "bc -> ('bc', 3)\n",
      "ac -> ('ac', 3)\n",
      "abc -> ('cc', 8)\n",
      "ba -> ('ba', 3)\n",
      "ca -> ('ca', 3)\n",
      "cb -> ('cb', 3)\n",
      "cabcacbcabab -> ('cccacbccc', 57)\n",
      "aaaabababababbbab -> ('aaacccccbbc', 112)\n",
      "aabb -> ('acb', 11)\n"
     ]
    }
   ],
   "source": [
    "for i in ['', 'a', 'b', 'c', 'ab', 'bc', 'ac', 'abc', 'ba', 'ca', 'cb', 'cabcacbcabab', 'aaa'+'ab'*5+'bbab', 'aabb']:\n",
    "    print(i, \"->\", tm_b.run(i, debug=False)) "
   ]
  },
  {
   "cell_type": "markdown",
   "id": "57f4f8f6",
   "metadata": {},
   "source": [
    "## 1.8.в\n",
    "$\\Sigma = \\{a, b\\}$\n",
    "\n",
    "Подвоїти все слово"
   ]
  },
  {
   "cell_type": "code",
   "execution_count": 13,
   "id": "3f2333d2",
   "metadata": {},
   "outputs": [],
   "source": [
    "# States:\n",
    "q0, q1a, q1b, q2a, q2b, q3, q4, q5 = range(8)\n",
    "# Input/output alphabet:\n",
    "\"ab\"\n",
    "# Additional machine alphabet:\n",
    "\"#xpqrs\"\n",
    "\n",
    "def I(s_in): \n",
    "    return s_in\n",
    "\n",
    "tm_c = ( TMFactory()\n",
    "    .add_rule(q0 , 'a', q1a, 'p', R) # save a. put left 'a' marker. go to the end first time.\n",
    "    .add_rule(q0 , 'b', q1b, 'q', R) # save b. put left 'b' marker. go to the end first time.\n",
    "    .add_rule(q1a, '#', q3 , 'r', L) # put right 'a' marker. proceed.\n",
    "    .add_rule(q1b, '#', q3 , 's', L) # put right 'b' marker. proceed.\n",
    "    .add_rule(q1a, ANY, q1a,  I , R) # ignore. going to the end first time\n",
    "    .add_rule(q1b, ANY, q1b,  I , R) # ignore. going to the end first time\n",
    "        \n",
    "    .add_rule(q2a, '#', q3 , 'a', L) # paste 'a'. start going back to the left marker\n",
    "    .add_rule(q2b, '#', q3 , 'b', L) # paste 'b'. start going back to the left marker\n",
    "    .add_rule(q2a, ANY, q2a,  I , R) # ignore. going to the end\n",
    "    .add_rule(q2b, ANY, q2b,  I , R) # ignore. going to the end\n",
    "        \n",
    "    .add_rule(q3 , 'p', q4 , 'a', R) # put 'a' back. go to the next uncopied symbol \n",
    "    .add_rule(q3 , 'q', q4 , 'b', R) # put 'b' back. go to the next uncopied symbol \n",
    "    .add_rule(q3 , ANY, q3 ,  I , L) # ignore. going to the left marker.\n",
    "        \n",
    "    .add_rule(q4 , 'a', q2a, 'p', R) # replace 'a' with left 'a' marker. start going to the end\n",
    "    .add_rule(q4 , 'b', q2b, 'q', R) # replace 'b' with left 'b' marker. start going to the end\n",
    "    .add_rule(q4 , 'r', q5 , 'a', S) # right 'a' marker reached. replace with 'a'. finish.\n",
    "    .add_rule(q4 , 's', q5 , 'b', S) # right 'b' marker reached. replace with 'b'. finish.\n",
    "\n",
    "    .build(q0, []) \n",
    " )"
   ]
  },
  {
   "cell_type": "code",
   "execution_count": 15,
   "id": "4e7ef667",
   "metadata": {},
   "outputs": [
    {
     "name": "stdout",
     "output_type": "stream",
     "text": [
      "passed\n"
     ]
    }
   ],
   "source": [
    "passed = True\n",
    "for i in ['', 'a', 'b', 'aaa', 'ababab', 'bbaa', 'abbababbaaababba', 'bab', 'aba', 'abab', 'baba', 'aaabaaa', 'bbbabbb']:\n",
    "    ans, steps = tm_c.run(i, debug=False)\n",
    "    if ans != i*2:\n",
    "        print(\"Error!\",i,\" -> \",ans,steps)\n",
    "        passed = False\n",
    "if passed:\n",
    "    print(\"passed\")"
   ]
  },
  {
   "cell_type": "markdown",
   "id": "61e49516",
   "metadata": {},
   "source": [
    "## 1.8.г\n",
    "$\\Sigma = \\{a, b\\}$\n",
    "\n",
    "$x \\to x^R$"
   ]
  },
  {
   "cell_type": "code",
   "execution_count": 18,
   "id": "d538390a",
   "metadata": {},
   "outputs": [],
   "source": [
    "# States:\n",
    "q0, q1a, q1b, q2, q3 = range(5)\n",
    "# Input/output alphabet:\n",
    "\"ab\"\n",
    "# Additional machine alphabet:\n",
    "\"#x\"\n",
    "\n",
    "def I(s_in): \n",
    "    return s_in\n",
    "\n",
    "tm_d = ( TMFactory()\n",
    "    .add_rule(q0 , 'a', q1a, 'x', L) \n",
    "    .add_rule(q0 , 'b', q1b, 'x', L)\n",
    "    .add_rule(q1a, '#', q2 , 'a', R) \n",
    "    .add_rule(q1b, '#', q2 , 'b', R) \n",
    "    .add_rule(q1a, ANY, q1a,  I , L) \n",
    "    .add_rule(q1b, ANY, q1b,  I , L) \n",
    "    .add_rule(q2 , 'x', q0 , 'x', R) \n",
    "    .add_rule(q2 , ANY, q2 ,  I , R) \n",
    "    .add_rule(q0 , 'x', q0 , 'x', R) \n",
    "    .add_rule(q0 , '#', q3 , '#', L) \n",
    "    .add_rule(q3 , 'x', q3 , '#', L)\n",
    "    .build(q0, []) \n",
    " )"
   ]
  },
  {
   "cell_type": "code",
   "execution_count": 29,
   "id": "9516af79",
   "metadata": {},
   "outputs": [
    {
     "name": "stdout",
     "output_type": "stream",
     "text": [
      "# : step 0\n",
      "^ (0)\n",
      "## : step 1\n",
      "^ (4)\n",
      "Finished in 2 steps. \n",
      "  []\n"
     ]
    },
    {
     "data": {
      "text/plain": [
       "('', 2)"
      ]
     },
     "execution_count": 29,
     "metadata": {},
     "output_type": "execute_result"
    }
   ],
   "source": [
    "tm_d.run('', debug=True)"
   ]
  },
  {
   "cell_type": "markdown",
   "id": "35260676",
   "metadata": {},
   "source": [
    "## 1.8.д\n",
    "$\\Sigma = \\{0, 1, 2\\}$\n",
    "\n",
    "Вхід: <двійкове число>2<двійкове число>\n",
    "\n",
    "Вихід: сума двох чисел в двійковому записі"
   ]
  },
  {
   "cell_type": "code",
   "execution_count": 69,
   "id": "bbb96e65",
   "metadata": {},
   "outputs": [],
   "source": [
    "# States:\n",
    "q0, q00, q1, q2, s00, s01, s02, s10, s11, s12, s20, s21, s22, e00, e01, e02, e12, f0, f1, f2, f3 = \\\n",
    "\"q0, q00, q1, q2, s00, s01, s02, s10, s11, s12, s20, s21, s22, e00, e01, e02, e12, f0, f1, f2, f3\".split(\", \")\n",
    "\n",
    "# Input/output alphabet:\n",
    "\"012\"\n",
    "# Additional machine alphabet:\n",
    "\"#x3+\"\n",
    "\n",
    "def I(s_in): \n",
    "    return s_in\n",
    "\n",
    "#x 10010110 2 101010110#\n",
    "\n",
    "tm_c = ( TMFactory()\n",
    "    .add_rule(q0 , ANY, q00,  I , L) \n",
    "    .add_rule(q00, ANY, q1 , '3', R)\n",
    "        \n",
    "    .add_rule(q1 , '#', q2 , '#', L) \n",
    "    .add_rule(q1 , ANY, q1 ,  I , R) \n",
    "    .add_rule(q2 , 'x', q2 , 'x', L) \n",
    "    .add_rule(q2 , '0', s00, 'x', L) \n",
    "    .add_rule(q2 , '1', s01, 'x', L) \n",
    "    .add_rule(q2 , '2', f0 , '2', R) \n",
    "    .add_rule(s00, '2', s10, '2', L) \n",
    "    .add_rule(s01, '2', s11, '2', L) \n",
    "    .add_rule(s00, ANY, s00,  I , L) \n",
    "    .add_rule(s01, ANY, s01,  I , L) \n",
    "    .add_rule(s02, ANY, s02,  I , L) \n",
    "        \n",
    "    .add_rule(s10, 'x', s10, 'x', L) \n",
    "    .add_rule(s11, 'x', s11, 'x', L) \n",
    "    .add_rule(s10, '0', s20, 'x', L)\n",
    "    .add_rule(s10, '1', s21, 'x', L) \n",
    "    .add_rule(s11, '0', s21, 'x', L)\n",
    "    .add_rule(s11, '1', s22, 'x', L)\n",
    "    .add_rule(s11, '3', s22, 'x', L)\n",
    "        \n",
    "    .add_rule(s20, '3', e00, '3', L)\n",
    "    .add_rule(s21, '3', e01, '3', L)\n",
    "    .add_rule(s22, '3', e02, '3', L)\n",
    "    .add_rule(s20, ANY, s20,  I , L)\n",
    "    .add_rule(s21, ANY, s21,  I , L)\n",
    "    .add_rule(s22, ANY, s22,  I , L)\n",
    "        \n",
    "    .add_rule(e00, '#', q1 , '0', R)\n",
    "    .add_rule(e00, '+', q1 , '1', R)\n",
    "    .add_rule(e01, '#', q1 , '1', R)\n",
    "    .add_rule(e01, '+', e12, '0', L)\n",
    "    .add_rule(e02, '#', e12, '0', L)\n",
    "    .add_rule(e02, '+', e12, '1', L)\n",
    "    .add_rule(e12, '#', q1 , '+', R)\n",
    "    \n",
    "    .add_rule(e00, ANY, e00,  I , L)\n",
    "    .add_rule(e01, ANY, e01,  I , L)\n",
    "    .add_rule(e02, ANY, e02,  I , L)\n",
    "        \n",
    "    .add_rule(f0 , '#', f1 , '#', L) \n",
    "    .add_rule(f0 , ANY, f0 ,  I , R) \n",
    "    .add_rule(f1 , '3', f2 , '#', L) \n",
    "    .add_rule(f1 , ANY, f1 , '#', L) \n",
    "    .add_rule(f2 , '+', f3 , '1', S) \n",
    "    .add_rule(f2 , '#', f3 , '#', S) \n",
    "    .add_rule(f2 , ANY, f2 ,  I , L) \n",
    "    \n",
    "        \n",
    "    .build(q0, []) \n",
    " )"
   ]
  },
  {
   "cell_type": "code",
   "execution_count": 74,
   "id": "563045d9",
   "metadata": {},
   "outputs": [
    {
     "data": {
      "text/plain": [
       "True"
      ]
     },
     "execution_count": 74,
     "metadata": {},
     "output_type": "execute_result"
    }
   ],
   "source": [
    "passed = True\n",
    "nums = [(a,b) for a in range(60) for b in range(60)]\n",
    "for a, b in nums:\n",
    "    x = f\"{a:b}\".rjust(10, '0')\n",
    "    y = f\"{b:b}\".rjust(10, '0')\n",
    "    inpt = x + '2' + y\n",
    "    outpt = tm_c.run(inpt, debug=False)[0]\n",
    "    if int(outpt, base=2) != a+b:\n",
    "        print(\"error:\",inpt,\"->\",outpt)\n",
    "        passed = False\n",
    "passed"
   ]
  }
 ],
 "metadata": {
  "kernelspec": {
   "display_name": "Python [conda env:sci]",
   "language": "python",
   "name": "conda-env-sci-py"
  },
  "language_info": {
   "codemirror_mode": {
    "name": "ipython",
    "version": 3
   },
   "file_extension": ".py",
   "mimetype": "text/x-python",
   "name": "python",
   "nbconvert_exporter": "python",
   "pygments_lexer": "ipython3",
   "version": "3.9.5"
  }
 },
 "nbformat": 4,
 "nbformat_minor": 5
}
